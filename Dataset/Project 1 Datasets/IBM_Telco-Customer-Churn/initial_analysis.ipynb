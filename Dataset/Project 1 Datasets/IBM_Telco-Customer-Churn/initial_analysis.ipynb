{
 "cells": [
  {
   "cell_type": "code",
   "execution_count": 129,
   "id": "729aad11",
   "metadata": {},
   "outputs": [],
   "source": [
    "#!pip install statsmodels\n"
   ]
  },
  {
   "cell_type": "code",
   "execution_count": 130,
   "id": "4d7910c0",
   "metadata": {},
   "outputs": [],
   "source": [
    "import pandas as pd\n",
    "import matplotlib.pyplot as plt\n",
    "import seaborn as sns\n",
    "import plotly.express as px"
   ]
  },
  {
   "cell_type": "code",
   "execution_count": 131,
   "id": "80013efd",
   "metadata": {},
   "outputs": [
    {
     "data": {
      "text/html": [
       "<div>\n",
       "<style scoped>\n",
       "    .dataframe tbody tr th:only-of-type {\n",
       "        vertical-align: middle;\n",
       "    }\n",
       "\n",
       "    .dataframe tbody tr th {\n",
       "        vertical-align: top;\n",
       "    }\n",
       "\n",
       "    .dataframe thead th {\n",
       "        text-align: right;\n",
       "    }\n",
       "</style>\n",
       "<table border=\"1\" class=\"dataframe\">\n",
       "  <thead>\n",
       "    <tr style=\"text-align: right;\">\n",
       "      <th></th>\n",
       "      <th>CustomerID</th>\n",
       "      <th>Count</th>\n",
       "      <th>Country</th>\n",
       "      <th>State</th>\n",
       "      <th>City</th>\n",
       "      <th>Zip Code</th>\n",
       "      <th>Lat Long</th>\n",
       "      <th>Latitude</th>\n",
       "      <th>Longitude</th>\n",
       "      <th>Gender</th>\n",
       "      <th>...</th>\n",
       "      <th>Contract</th>\n",
       "      <th>Paperless Billing</th>\n",
       "      <th>Payment Method</th>\n",
       "      <th>Monthly Charges</th>\n",
       "      <th>Total Charges</th>\n",
       "      <th>Churn Label</th>\n",
       "      <th>Churn Value</th>\n",
       "      <th>Churn Score</th>\n",
       "      <th>CLTV</th>\n",
       "      <th>Churn Reason</th>\n",
       "    </tr>\n",
       "  </thead>\n",
       "  <tbody>\n",
       "    <tr>\n",
       "      <th>0</th>\n",
       "      <td>3668-QPYBK</td>\n",
       "      <td>1</td>\n",
       "      <td>United States</td>\n",
       "      <td>California</td>\n",
       "      <td>Los Angeles</td>\n",
       "      <td>90003</td>\n",
       "      <td>33.964131, -118.272783</td>\n",
       "      <td>33.964131</td>\n",
       "      <td>-118.272783</td>\n",
       "      <td>Male</td>\n",
       "      <td>...</td>\n",
       "      <td>Month-to-month</td>\n",
       "      <td>Yes</td>\n",
       "      <td>Mailed check</td>\n",
       "      <td>53.85</td>\n",
       "      <td>108.15</td>\n",
       "      <td>Yes</td>\n",
       "      <td>1</td>\n",
       "      <td>86</td>\n",
       "      <td>3239</td>\n",
       "      <td>Competitor made better offer</td>\n",
       "    </tr>\n",
       "    <tr>\n",
       "      <th>1</th>\n",
       "      <td>9237-HQITU</td>\n",
       "      <td>1</td>\n",
       "      <td>United States</td>\n",
       "      <td>California</td>\n",
       "      <td>Los Angeles</td>\n",
       "      <td>90005</td>\n",
       "      <td>34.059281, -118.30742</td>\n",
       "      <td>34.059281</td>\n",
       "      <td>-118.307420</td>\n",
       "      <td>Female</td>\n",
       "      <td>...</td>\n",
       "      <td>Month-to-month</td>\n",
       "      <td>Yes</td>\n",
       "      <td>Electronic check</td>\n",
       "      <td>70.70</td>\n",
       "      <td>151.65</td>\n",
       "      <td>Yes</td>\n",
       "      <td>1</td>\n",
       "      <td>67</td>\n",
       "      <td>2701</td>\n",
       "      <td>Moved</td>\n",
       "    </tr>\n",
       "    <tr>\n",
       "      <th>2</th>\n",
       "      <td>9305-CDSKC</td>\n",
       "      <td>1</td>\n",
       "      <td>United States</td>\n",
       "      <td>California</td>\n",
       "      <td>Los Angeles</td>\n",
       "      <td>90006</td>\n",
       "      <td>34.048013, -118.293953</td>\n",
       "      <td>34.048013</td>\n",
       "      <td>-118.293953</td>\n",
       "      <td>Female</td>\n",
       "      <td>...</td>\n",
       "      <td>Month-to-month</td>\n",
       "      <td>Yes</td>\n",
       "      <td>Electronic check</td>\n",
       "      <td>99.65</td>\n",
       "      <td>820.5</td>\n",
       "      <td>Yes</td>\n",
       "      <td>1</td>\n",
       "      <td>86</td>\n",
       "      <td>5372</td>\n",
       "      <td>Moved</td>\n",
       "    </tr>\n",
       "    <tr>\n",
       "      <th>3</th>\n",
       "      <td>7892-POOKP</td>\n",
       "      <td>1</td>\n",
       "      <td>United States</td>\n",
       "      <td>California</td>\n",
       "      <td>Los Angeles</td>\n",
       "      <td>90010</td>\n",
       "      <td>34.062125, -118.315709</td>\n",
       "      <td>34.062125</td>\n",
       "      <td>-118.315709</td>\n",
       "      <td>Female</td>\n",
       "      <td>...</td>\n",
       "      <td>Month-to-month</td>\n",
       "      <td>Yes</td>\n",
       "      <td>Electronic check</td>\n",
       "      <td>104.80</td>\n",
       "      <td>3046.05</td>\n",
       "      <td>Yes</td>\n",
       "      <td>1</td>\n",
       "      <td>84</td>\n",
       "      <td>5003</td>\n",
       "      <td>Moved</td>\n",
       "    </tr>\n",
       "    <tr>\n",
       "      <th>4</th>\n",
       "      <td>0280-XJGEX</td>\n",
       "      <td>1</td>\n",
       "      <td>United States</td>\n",
       "      <td>California</td>\n",
       "      <td>Los Angeles</td>\n",
       "      <td>90015</td>\n",
       "      <td>34.039224, -118.266293</td>\n",
       "      <td>34.039224</td>\n",
       "      <td>-118.266293</td>\n",
       "      <td>Male</td>\n",
       "      <td>...</td>\n",
       "      <td>Month-to-month</td>\n",
       "      <td>Yes</td>\n",
       "      <td>Bank transfer (automatic)</td>\n",
       "      <td>103.70</td>\n",
       "      <td>5036.3</td>\n",
       "      <td>Yes</td>\n",
       "      <td>1</td>\n",
       "      <td>89</td>\n",
       "      <td>5340</td>\n",
       "      <td>Competitor had better devices</td>\n",
       "    </tr>\n",
       "    <tr>\n",
       "      <th>...</th>\n",
       "      <td>...</td>\n",
       "      <td>...</td>\n",
       "      <td>...</td>\n",
       "      <td>...</td>\n",
       "      <td>...</td>\n",
       "      <td>...</td>\n",
       "      <td>...</td>\n",
       "      <td>...</td>\n",
       "      <td>...</td>\n",
       "      <td>...</td>\n",
       "      <td>...</td>\n",
       "      <td>...</td>\n",
       "      <td>...</td>\n",
       "      <td>...</td>\n",
       "      <td>...</td>\n",
       "      <td>...</td>\n",
       "      <td>...</td>\n",
       "      <td>...</td>\n",
       "      <td>...</td>\n",
       "      <td>...</td>\n",
       "      <td>...</td>\n",
       "    </tr>\n",
       "    <tr>\n",
       "      <th>7038</th>\n",
       "      <td>2569-WGERO</td>\n",
       "      <td>1</td>\n",
       "      <td>United States</td>\n",
       "      <td>California</td>\n",
       "      <td>Landers</td>\n",
       "      <td>92285</td>\n",
       "      <td>34.341737, -116.539416</td>\n",
       "      <td>34.341737</td>\n",
       "      <td>-116.539416</td>\n",
       "      <td>Female</td>\n",
       "      <td>...</td>\n",
       "      <td>Two year</td>\n",
       "      <td>Yes</td>\n",
       "      <td>Bank transfer (automatic)</td>\n",
       "      <td>21.15</td>\n",
       "      <td>1419.4</td>\n",
       "      <td>No</td>\n",
       "      <td>0</td>\n",
       "      <td>45</td>\n",
       "      <td>5306</td>\n",
       "      <td>NaN</td>\n",
       "    </tr>\n",
       "    <tr>\n",
       "      <th>7039</th>\n",
       "      <td>6840-RESVB</td>\n",
       "      <td>1</td>\n",
       "      <td>United States</td>\n",
       "      <td>California</td>\n",
       "      <td>Adelanto</td>\n",
       "      <td>92301</td>\n",
       "      <td>34.667815, -117.536183</td>\n",
       "      <td>34.667815</td>\n",
       "      <td>-117.536183</td>\n",
       "      <td>Male</td>\n",
       "      <td>...</td>\n",
       "      <td>One year</td>\n",
       "      <td>Yes</td>\n",
       "      <td>Mailed check</td>\n",
       "      <td>84.80</td>\n",
       "      <td>1990.5</td>\n",
       "      <td>No</td>\n",
       "      <td>0</td>\n",
       "      <td>59</td>\n",
       "      <td>2140</td>\n",
       "      <td>NaN</td>\n",
       "    </tr>\n",
       "    <tr>\n",
       "      <th>7040</th>\n",
       "      <td>2234-XADUH</td>\n",
       "      <td>1</td>\n",
       "      <td>United States</td>\n",
       "      <td>California</td>\n",
       "      <td>Amboy</td>\n",
       "      <td>92304</td>\n",
       "      <td>34.559882, -115.637164</td>\n",
       "      <td>34.559882</td>\n",
       "      <td>-115.637164</td>\n",
       "      <td>Female</td>\n",
       "      <td>...</td>\n",
       "      <td>One year</td>\n",
       "      <td>Yes</td>\n",
       "      <td>Credit card (automatic)</td>\n",
       "      <td>103.20</td>\n",
       "      <td>7362.9</td>\n",
       "      <td>No</td>\n",
       "      <td>0</td>\n",
       "      <td>71</td>\n",
       "      <td>5560</td>\n",
       "      <td>NaN</td>\n",
       "    </tr>\n",
       "    <tr>\n",
       "      <th>7041</th>\n",
       "      <td>4801-JZAZL</td>\n",
       "      <td>1</td>\n",
       "      <td>United States</td>\n",
       "      <td>California</td>\n",
       "      <td>Angelus Oaks</td>\n",
       "      <td>92305</td>\n",
       "      <td>34.1678, -116.86433</td>\n",
       "      <td>34.167800</td>\n",
       "      <td>-116.864330</td>\n",
       "      <td>Female</td>\n",
       "      <td>...</td>\n",
       "      <td>Month-to-month</td>\n",
       "      <td>Yes</td>\n",
       "      <td>Electronic check</td>\n",
       "      <td>29.60</td>\n",
       "      <td>346.45</td>\n",
       "      <td>No</td>\n",
       "      <td>0</td>\n",
       "      <td>59</td>\n",
       "      <td>2793</td>\n",
       "      <td>NaN</td>\n",
       "    </tr>\n",
       "    <tr>\n",
       "      <th>7042</th>\n",
       "      <td>3186-AJIEK</td>\n",
       "      <td>1</td>\n",
       "      <td>United States</td>\n",
       "      <td>California</td>\n",
       "      <td>Apple Valley</td>\n",
       "      <td>92308</td>\n",
       "      <td>34.424926, -117.184503</td>\n",
       "      <td>34.424926</td>\n",
       "      <td>-117.184503</td>\n",
       "      <td>Male</td>\n",
       "      <td>...</td>\n",
       "      <td>Two year</td>\n",
       "      <td>Yes</td>\n",
       "      <td>Bank transfer (automatic)</td>\n",
       "      <td>105.65</td>\n",
       "      <td>6844.5</td>\n",
       "      <td>No</td>\n",
       "      <td>0</td>\n",
       "      <td>38</td>\n",
       "      <td>5097</td>\n",
       "      <td>NaN</td>\n",
       "    </tr>\n",
       "  </tbody>\n",
       "</table>\n",
       "<p>7043 rows × 33 columns</p>\n",
       "</div>"
      ],
      "text/plain": [
       "      CustomerID  Count        Country       State          City  Zip Code  \\\n",
       "0     3668-QPYBK      1  United States  California   Los Angeles     90003   \n",
       "1     9237-HQITU      1  United States  California   Los Angeles     90005   \n",
       "2     9305-CDSKC      1  United States  California   Los Angeles     90006   \n",
       "3     7892-POOKP      1  United States  California   Los Angeles     90010   \n",
       "4     0280-XJGEX      1  United States  California   Los Angeles     90015   \n",
       "...          ...    ...            ...         ...           ...       ...   \n",
       "7038  2569-WGERO      1  United States  California       Landers     92285   \n",
       "7039  6840-RESVB      1  United States  California      Adelanto     92301   \n",
       "7040  2234-XADUH      1  United States  California         Amboy     92304   \n",
       "7041  4801-JZAZL      1  United States  California  Angelus Oaks     92305   \n",
       "7042  3186-AJIEK      1  United States  California  Apple Valley     92308   \n",
       "\n",
       "                    Lat Long   Latitude   Longitude  Gender  ...  \\\n",
       "0     33.964131, -118.272783  33.964131 -118.272783    Male  ...   \n",
       "1      34.059281, -118.30742  34.059281 -118.307420  Female  ...   \n",
       "2     34.048013, -118.293953  34.048013 -118.293953  Female  ...   \n",
       "3     34.062125, -118.315709  34.062125 -118.315709  Female  ...   \n",
       "4     34.039224, -118.266293  34.039224 -118.266293    Male  ...   \n",
       "...                      ...        ...         ...     ...  ...   \n",
       "7038  34.341737, -116.539416  34.341737 -116.539416  Female  ...   \n",
       "7039  34.667815, -117.536183  34.667815 -117.536183    Male  ...   \n",
       "7040  34.559882, -115.637164  34.559882 -115.637164  Female  ...   \n",
       "7041     34.1678, -116.86433  34.167800 -116.864330  Female  ...   \n",
       "7042  34.424926, -117.184503  34.424926 -117.184503    Male  ...   \n",
       "\n",
       "            Contract Paperless Billing             Payment Method  \\\n",
       "0     Month-to-month               Yes               Mailed check   \n",
       "1     Month-to-month               Yes           Electronic check   \n",
       "2     Month-to-month               Yes           Electronic check   \n",
       "3     Month-to-month               Yes           Electronic check   \n",
       "4     Month-to-month               Yes  Bank transfer (automatic)   \n",
       "...              ...               ...                        ...   \n",
       "7038        Two year               Yes  Bank transfer (automatic)   \n",
       "7039        One year               Yes               Mailed check   \n",
       "7040        One year               Yes    Credit card (automatic)   \n",
       "7041  Month-to-month               Yes           Electronic check   \n",
       "7042        Two year               Yes  Bank transfer (automatic)   \n",
       "\n",
       "      Monthly Charges Total Charges Churn Label Churn Value Churn Score  CLTV  \\\n",
       "0               53.85        108.15         Yes           1          86  3239   \n",
       "1               70.70        151.65         Yes           1          67  2701   \n",
       "2               99.65         820.5         Yes           1          86  5372   \n",
       "3              104.80       3046.05         Yes           1          84  5003   \n",
       "4              103.70        5036.3         Yes           1          89  5340   \n",
       "...               ...           ...         ...         ...         ...   ...   \n",
       "7038            21.15        1419.4          No           0          45  5306   \n",
       "7039            84.80        1990.5          No           0          59  2140   \n",
       "7040           103.20        7362.9          No           0          71  5560   \n",
       "7041            29.60        346.45          No           0          59  2793   \n",
       "7042           105.65        6844.5          No           0          38  5097   \n",
       "\n",
       "                       Churn Reason  \n",
       "0      Competitor made better offer  \n",
       "1                             Moved  \n",
       "2                             Moved  \n",
       "3                             Moved  \n",
       "4     Competitor had better devices  \n",
       "...                             ...  \n",
       "7038                            NaN  \n",
       "7039                            NaN  \n",
       "7040                            NaN  \n",
       "7041                            NaN  \n",
       "7042                            NaN  \n",
       "\n",
       "[7043 rows x 33 columns]"
      ]
     },
     "execution_count": 131,
     "metadata": {},
     "output_type": "execute_result"
    }
   ],
   "source": [
    "#df = pd.read_csv(\"Telco-Customer-Churn-2019.csv\")\n",
    "df = pd.read_excel(\"Telco_customer_churn-11.1.3.xlsx\")\n",
    "df"
   ]
  },
  {
   "cell_type": "code",
   "execution_count": 132,
   "id": "8a4784de",
   "metadata": {},
   "outputs": [
    {
     "name": "stdout",
     "output_type": "stream",
     "text": [
      "<class 'pandas.core.frame.DataFrame'>\n",
      "RangeIndex: 7043 entries, 0 to 7042\n",
      "Data columns (total 33 columns):\n",
      " #   Column             Non-Null Count  Dtype  \n",
      "---  ------             --------------  -----  \n",
      " 0   CustomerID         7043 non-null   object \n",
      " 1   Count              7043 non-null   int64  \n",
      " 2   Country            7043 non-null   object \n",
      " 3   State              7043 non-null   object \n",
      " 4   City               7043 non-null   object \n",
      " 5   Zip Code           7043 non-null   int64  \n",
      " 6   Lat Long           7043 non-null   object \n",
      " 7   Latitude           7043 non-null   float64\n",
      " 8   Longitude          7043 non-null   float64\n",
      " 9   Gender             7043 non-null   object \n",
      " 10  Senior Citizen     7043 non-null   object \n",
      " 11  Partner            7043 non-null   object \n",
      " 12  Dependents         7043 non-null   object \n",
      " 13  Tenure Months      7043 non-null   int64  \n",
      " 14  Phone Service      7043 non-null   object \n",
      " 15  Multiple Lines     7043 non-null   object \n",
      " 16  Internet Service   7043 non-null   object \n",
      " 17  Online Security    7043 non-null   object \n",
      " 18  Online Backup      7043 non-null   object \n",
      " 19  Device Protection  7043 non-null   object \n",
      " 20  Tech Support       7043 non-null   object \n",
      " 21  Streaming TV       7043 non-null   object \n",
      " 22  Streaming Movies   7043 non-null   object \n",
      " 23  Contract           7043 non-null   object \n",
      " 24  Paperless Billing  7043 non-null   object \n",
      " 25  Payment Method     7043 non-null   object \n",
      " 26  Monthly Charges    7043 non-null   float64\n",
      " 27  Total Charges      7043 non-null   object \n",
      " 28  Churn Label        7043 non-null   object \n",
      " 29  Churn Value        7043 non-null   int64  \n",
      " 30  Churn Score        7043 non-null   int64  \n",
      " 31  CLTV               7043 non-null   int64  \n",
      " 32  Churn Reason       1869 non-null   object \n",
      "dtypes: float64(3), int64(6), object(24)\n",
      "memory usage: 1.8+ MB\n"
     ]
    }
   ],
   "source": [
    "df.info()"
   ]
  },
  {
   "cell_type": "code",
   "execution_count": 133,
   "id": "6890aa0c",
   "metadata": {},
   "outputs": [
    {
     "data": {
      "text/html": [
       "<div>\n",
       "<style scoped>\n",
       "    .dataframe tbody tr th:only-of-type {\n",
       "        vertical-align: middle;\n",
       "    }\n",
       "\n",
       "    .dataframe tbody tr th {\n",
       "        vertical-align: top;\n",
       "    }\n",
       "\n",
       "    .dataframe thead th {\n",
       "        text-align: right;\n",
       "    }\n",
       "</style>\n",
       "<table border=\"1\" class=\"dataframe\">\n",
       "  <thead>\n",
       "    <tr style=\"text-align: right;\">\n",
       "      <th></th>\n",
       "      <th>CustomerID</th>\n",
       "      <th>Count</th>\n",
       "      <th>Country</th>\n",
       "      <th>State</th>\n",
       "      <th>City</th>\n",
       "      <th>Zip Code</th>\n",
       "      <th>Lat Long</th>\n",
       "      <th>Latitude</th>\n",
       "      <th>Longitude</th>\n",
       "      <th>Gender</th>\n",
       "      <th>...</th>\n",
       "      <th>Contract</th>\n",
       "      <th>Paperless Billing</th>\n",
       "      <th>Payment Method</th>\n",
       "      <th>Monthly Charges</th>\n",
       "      <th>Total Charges</th>\n",
       "      <th>Churn Label</th>\n",
       "      <th>Churn Value</th>\n",
       "      <th>Churn Score</th>\n",
       "      <th>CLTV</th>\n",
       "      <th>Churn Reason</th>\n",
       "    </tr>\n",
       "  </thead>\n",
       "  <tbody>\n",
       "    <tr>\n",
       "      <th>count</th>\n",
       "      <td>7043</td>\n",
       "      <td>7043.0</td>\n",
       "      <td>7043</td>\n",
       "      <td>7043</td>\n",
       "      <td>7043</td>\n",
       "      <td>7043.000000</td>\n",
       "      <td>7043</td>\n",
       "      <td>7043.000000</td>\n",
       "      <td>7043.000000</td>\n",
       "      <td>7043</td>\n",
       "      <td>...</td>\n",
       "      <td>7043</td>\n",
       "      <td>7043</td>\n",
       "      <td>7043</td>\n",
       "      <td>7043.000000</td>\n",
       "      <td>7043.0</td>\n",
       "      <td>7043</td>\n",
       "      <td>7043.000000</td>\n",
       "      <td>7043.000000</td>\n",
       "      <td>7043.000000</td>\n",
       "      <td>1869</td>\n",
       "    </tr>\n",
       "    <tr>\n",
       "      <th>unique</th>\n",
       "      <td>7043</td>\n",
       "      <td>NaN</td>\n",
       "      <td>1</td>\n",
       "      <td>1</td>\n",
       "      <td>1129</td>\n",
       "      <td>NaN</td>\n",
       "      <td>1652</td>\n",
       "      <td>NaN</td>\n",
       "      <td>NaN</td>\n",
       "      <td>2</td>\n",
       "      <td>...</td>\n",
       "      <td>3</td>\n",
       "      <td>2</td>\n",
       "      <td>4</td>\n",
       "      <td>NaN</td>\n",
       "      <td>6531.0</td>\n",
       "      <td>2</td>\n",
       "      <td>NaN</td>\n",
       "      <td>NaN</td>\n",
       "      <td>NaN</td>\n",
       "      <td>20</td>\n",
       "    </tr>\n",
       "    <tr>\n",
       "      <th>top</th>\n",
       "      <td>3668-QPYBK</td>\n",
       "      <td>NaN</td>\n",
       "      <td>United States</td>\n",
       "      <td>California</td>\n",
       "      <td>Los Angeles</td>\n",
       "      <td>NaN</td>\n",
       "      <td>33.964131, -118.272783</td>\n",
       "      <td>NaN</td>\n",
       "      <td>NaN</td>\n",
       "      <td>Male</td>\n",
       "      <td>...</td>\n",
       "      <td>Month-to-month</td>\n",
       "      <td>Yes</td>\n",
       "      <td>Electronic check</td>\n",
       "      <td>NaN</td>\n",
       "      <td>20.2</td>\n",
       "      <td>No</td>\n",
       "      <td>NaN</td>\n",
       "      <td>NaN</td>\n",
       "      <td>NaN</td>\n",
       "      <td>Attitude of support person</td>\n",
       "    </tr>\n",
       "    <tr>\n",
       "      <th>freq</th>\n",
       "      <td>1</td>\n",
       "      <td>NaN</td>\n",
       "      <td>7043</td>\n",
       "      <td>7043</td>\n",
       "      <td>305</td>\n",
       "      <td>NaN</td>\n",
       "      <td>5</td>\n",
       "      <td>NaN</td>\n",
       "      <td>NaN</td>\n",
       "      <td>3555</td>\n",
       "      <td>...</td>\n",
       "      <td>3875</td>\n",
       "      <td>4171</td>\n",
       "      <td>2365</td>\n",
       "      <td>NaN</td>\n",
       "      <td>11.0</td>\n",
       "      <td>5174</td>\n",
       "      <td>NaN</td>\n",
       "      <td>NaN</td>\n",
       "      <td>NaN</td>\n",
       "      <td>192</td>\n",
       "    </tr>\n",
       "    <tr>\n",
       "      <th>mean</th>\n",
       "      <td>NaN</td>\n",
       "      <td>1.0</td>\n",
       "      <td>NaN</td>\n",
       "      <td>NaN</td>\n",
       "      <td>NaN</td>\n",
       "      <td>93521.964646</td>\n",
       "      <td>NaN</td>\n",
       "      <td>36.282441</td>\n",
       "      <td>-119.798880</td>\n",
       "      <td>NaN</td>\n",
       "      <td>...</td>\n",
       "      <td>NaN</td>\n",
       "      <td>NaN</td>\n",
       "      <td>NaN</td>\n",
       "      <td>64.761692</td>\n",
       "      <td>NaN</td>\n",
       "      <td>NaN</td>\n",
       "      <td>0.265370</td>\n",
       "      <td>58.699418</td>\n",
       "      <td>4400.295755</td>\n",
       "      <td>NaN</td>\n",
       "    </tr>\n",
       "    <tr>\n",
       "      <th>std</th>\n",
       "      <td>NaN</td>\n",
       "      <td>0.0</td>\n",
       "      <td>NaN</td>\n",
       "      <td>NaN</td>\n",
       "      <td>NaN</td>\n",
       "      <td>1865.794555</td>\n",
       "      <td>NaN</td>\n",
       "      <td>2.455723</td>\n",
       "      <td>2.157889</td>\n",
       "      <td>NaN</td>\n",
       "      <td>...</td>\n",
       "      <td>NaN</td>\n",
       "      <td>NaN</td>\n",
       "      <td>NaN</td>\n",
       "      <td>30.090047</td>\n",
       "      <td>NaN</td>\n",
       "      <td>NaN</td>\n",
       "      <td>0.441561</td>\n",
       "      <td>21.525131</td>\n",
       "      <td>1183.057152</td>\n",
       "      <td>NaN</td>\n",
       "    </tr>\n",
       "    <tr>\n",
       "      <th>min</th>\n",
       "      <td>NaN</td>\n",
       "      <td>1.0</td>\n",
       "      <td>NaN</td>\n",
       "      <td>NaN</td>\n",
       "      <td>NaN</td>\n",
       "      <td>90001.000000</td>\n",
       "      <td>NaN</td>\n",
       "      <td>32.555828</td>\n",
       "      <td>-124.301372</td>\n",
       "      <td>NaN</td>\n",
       "      <td>...</td>\n",
       "      <td>NaN</td>\n",
       "      <td>NaN</td>\n",
       "      <td>NaN</td>\n",
       "      <td>18.250000</td>\n",
       "      <td>NaN</td>\n",
       "      <td>NaN</td>\n",
       "      <td>0.000000</td>\n",
       "      <td>5.000000</td>\n",
       "      <td>2003.000000</td>\n",
       "      <td>NaN</td>\n",
       "    </tr>\n",
       "    <tr>\n",
       "      <th>25%</th>\n",
       "      <td>NaN</td>\n",
       "      <td>1.0</td>\n",
       "      <td>NaN</td>\n",
       "      <td>NaN</td>\n",
       "      <td>NaN</td>\n",
       "      <td>92102.000000</td>\n",
       "      <td>NaN</td>\n",
       "      <td>34.030915</td>\n",
       "      <td>-121.815412</td>\n",
       "      <td>NaN</td>\n",
       "      <td>...</td>\n",
       "      <td>NaN</td>\n",
       "      <td>NaN</td>\n",
       "      <td>NaN</td>\n",
       "      <td>35.500000</td>\n",
       "      <td>NaN</td>\n",
       "      <td>NaN</td>\n",
       "      <td>0.000000</td>\n",
       "      <td>40.000000</td>\n",
       "      <td>3469.000000</td>\n",
       "      <td>NaN</td>\n",
       "    </tr>\n",
       "    <tr>\n",
       "      <th>50%</th>\n",
       "      <td>NaN</td>\n",
       "      <td>1.0</td>\n",
       "      <td>NaN</td>\n",
       "      <td>NaN</td>\n",
       "      <td>NaN</td>\n",
       "      <td>93552.000000</td>\n",
       "      <td>NaN</td>\n",
       "      <td>36.391777</td>\n",
       "      <td>-119.730885</td>\n",
       "      <td>NaN</td>\n",
       "      <td>...</td>\n",
       "      <td>NaN</td>\n",
       "      <td>NaN</td>\n",
       "      <td>NaN</td>\n",
       "      <td>70.350000</td>\n",
       "      <td>NaN</td>\n",
       "      <td>NaN</td>\n",
       "      <td>0.000000</td>\n",
       "      <td>61.000000</td>\n",
       "      <td>4527.000000</td>\n",
       "      <td>NaN</td>\n",
       "    </tr>\n",
       "    <tr>\n",
       "      <th>75%</th>\n",
       "      <td>NaN</td>\n",
       "      <td>1.0</td>\n",
       "      <td>NaN</td>\n",
       "      <td>NaN</td>\n",
       "      <td>NaN</td>\n",
       "      <td>95351.000000</td>\n",
       "      <td>NaN</td>\n",
       "      <td>38.224869</td>\n",
       "      <td>-118.043237</td>\n",
       "      <td>NaN</td>\n",
       "      <td>...</td>\n",
       "      <td>NaN</td>\n",
       "      <td>NaN</td>\n",
       "      <td>NaN</td>\n",
       "      <td>89.850000</td>\n",
       "      <td>NaN</td>\n",
       "      <td>NaN</td>\n",
       "      <td>1.000000</td>\n",
       "      <td>75.000000</td>\n",
       "      <td>5380.500000</td>\n",
       "      <td>NaN</td>\n",
       "    </tr>\n",
       "    <tr>\n",
       "      <th>max</th>\n",
       "      <td>NaN</td>\n",
       "      <td>1.0</td>\n",
       "      <td>NaN</td>\n",
       "      <td>NaN</td>\n",
       "      <td>NaN</td>\n",
       "      <td>96161.000000</td>\n",
       "      <td>NaN</td>\n",
       "      <td>41.962127</td>\n",
       "      <td>-114.192901</td>\n",
       "      <td>NaN</td>\n",
       "      <td>...</td>\n",
       "      <td>NaN</td>\n",
       "      <td>NaN</td>\n",
       "      <td>NaN</td>\n",
       "      <td>118.750000</td>\n",
       "      <td>NaN</td>\n",
       "      <td>NaN</td>\n",
       "      <td>1.000000</td>\n",
       "      <td>100.000000</td>\n",
       "      <td>6500.000000</td>\n",
       "      <td>NaN</td>\n",
       "    </tr>\n",
       "  </tbody>\n",
       "</table>\n",
       "<p>11 rows × 33 columns</p>\n",
       "</div>"
      ],
      "text/plain": [
       "        CustomerID   Count        Country       State         City  \\\n",
       "count         7043  7043.0           7043        7043         7043   \n",
       "unique        7043     NaN              1           1         1129   \n",
       "top     3668-QPYBK     NaN  United States  California  Los Angeles   \n",
       "freq             1     NaN           7043        7043          305   \n",
       "mean           NaN     1.0            NaN         NaN          NaN   \n",
       "std            NaN     0.0            NaN         NaN          NaN   \n",
       "min            NaN     1.0            NaN         NaN          NaN   \n",
       "25%            NaN     1.0            NaN         NaN          NaN   \n",
       "50%            NaN     1.0            NaN         NaN          NaN   \n",
       "75%            NaN     1.0            NaN         NaN          NaN   \n",
       "max            NaN     1.0            NaN         NaN          NaN   \n",
       "\n",
       "            Zip Code                Lat Long     Latitude    Longitude Gender  \\\n",
       "count    7043.000000                    7043  7043.000000  7043.000000   7043   \n",
       "unique           NaN                    1652          NaN          NaN      2   \n",
       "top              NaN  33.964131, -118.272783          NaN          NaN   Male   \n",
       "freq             NaN                       5          NaN          NaN   3555   \n",
       "mean    93521.964646                     NaN    36.282441  -119.798880    NaN   \n",
       "std      1865.794555                     NaN     2.455723     2.157889    NaN   \n",
       "min     90001.000000                     NaN    32.555828  -124.301372    NaN   \n",
       "25%     92102.000000                     NaN    34.030915  -121.815412    NaN   \n",
       "50%     93552.000000                     NaN    36.391777  -119.730885    NaN   \n",
       "75%     95351.000000                     NaN    38.224869  -118.043237    NaN   \n",
       "max     96161.000000                     NaN    41.962127  -114.192901    NaN   \n",
       "\n",
       "        ...        Contract Paperless Billing    Payment Method  \\\n",
       "count   ...            7043              7043              7043   \n",
       "unique  ...               3                 2                 4   \n",
       "top     ...  Month-to-month               Yes  Electronic check   \n",
       "freq    ...            3875              4171              2365   \n",
       "mean    ...             NaN               NaN               NaN   \n",
       "std     ...             NaN               NaN               NaN   \n",
       "min     ...             NaN               NaN               NaN   \n",
       "25%     ...             NaN               NaN               NaN   \n",
       "50%     ...             NaN               NaN               NaN   \n",
       "75%     ...             NaN               NaN               NaN   \n",
       "max     ...             NaN               NaN               NaN   \n",
       "\n",
       "        Monthly Charges Total Charges Churn Label  Churn Value  Churn Score  \\\n",
       "count       7043.000000        7043.0        7043  7043.000000  7043.000000   \n",
       "unique              NaN        6531.0           2          NaN          NaN   \n",
       "top                 NaN          20.2          No          NaN          NaN   \n",
       "freq                NaN          11.0        5174          NaN          NaN   \n",
       "mean          64.761692           NaN         NaN     0.265370    58.699418   \n",
       "std           30.090047           NaN         NaN     0.441561    21.525131   \n",
       "min           18.250000           NaN         NaN     0.000000     5.000000   \n",
       "25%           35.500000           NaN         NaN     0.000000    40.000000   \n",
       "50%           70.350000           NaN         NaN     0.000000    61.000000   \n",
       "75%           89.850000           NaN         NaN     1.000000    75.000000   \n",
       "max          118.750000           NaN         NaN     1.000000   100.000000   \n",
       "\n",
       "               CLTV                Churn Reason  \n",
       "count   7043.000000                        1869  \n",
       "unique          NaN                          20  \n",
       "top             NaN  Attitude of support person  \n",
       "freq            NaN                         192  \n",
       "mean    4400.295755                         NaN  \n",
       "std     1183.057152                         NaN  \n",
       "min     2003.000000                         NaN  \n",
       "25%     3469.000000                         NaN  \n",
       "50%     4527.000000                         NaN  \n",
       "75%     5380.500000                         NaN  \n",
       "max     6500.000000                         NaN  \n",
       "\n",
       "[11 rows x 33 columns]"
      ]
     },
     "execution_count": 133,
     "metadata": {},
     "output_type": "execute_result"
    }
   ],
   "source": [
    "df.describe(include='all')"
   ]
  },
  {
   "cell_type": "code",
   "execution_count": 134,
   "id": "0f0d2a7a",
   "metadata": {},
   "outputs": [
    {
     "data": {
      "text/plain": [
       "CustomerID              0\n",
       "Count                   0\n",
       "Country                 0\n",
       "State                   0\n",
       "City                    0\n",
       "Zip Code                0\n",
       "Lat Long                0\n",
       "Latitude                0\n",
       "Longitude               0\n",
       "Gender                  0\n",
       "Senior Citizen          0\n",
       "Partner                 0\n",
       "Dependents              0\n",
       "Tenure Months           0\n",
       "Phone Service           0\n",
       "Multiple Lines          0\n",
       "Internet Service        0\n",
       "Online Security         0\n",
       "Online Backup           0\n",
       "Device Protection       0\n",
       "Tech Support            0\n",
       "Streaming TV            0\n",
       "Streaming Movies        0\n",
       "Contract                0\n",
       "Paperless Billing       0\n",
       "Payment Method          0\n",
       "Monthly Charges         0\n",
       "Total Charges           0\n",
       "Churn Label             0\n",
       "Churn Value             0\n",
       "Churn Score             0\n",
       "CLTV                    0\n",
       "Churn Reason         5174\n",
       "dtype: int64"
      ]
     },
     "execution_count": 134,
     "metadata": {},
     "output_type": "execute_result"
    }
   ],
   "source": [
    "df.isna().sum()"
   ]
  },
  {
   "cell_type": "code",
   "execution_count": 135,
   "id": "c8a1460f",
   "metadata": {},
   "outputs": [],
   "source": [
    "to_drop = [\n",
    "    'CustomerID', \n",
    "    'Count',             # calculated column\n",
    "    'Lat Long', 'Latitude', 'Longitude',   # useless\n",
    "    'Country', 'State', 'City', 'Zip Code', # useless\n",
    "    'Churn Value',       # already have churn label\n",
    "    'Churn Score',       # calculated column(may cause leak)\n",
    "    'CLTV',           # calculated column (may cause leak)\n",
    "    'Churn Reason'     # calculated column (may cause leak)\n",
    "]\n",
    "\n",
    "df = df.drop(columns=to_drop)"
   ]
  },
  {
   "cell_type": "code",
   "execution_count": 136,
   "id": "fd69e936",
   "metadata": {},
   "outputs": [
    {
     "name": "stdout",
     "output_type": "stream",
     "text": [
      "Numeric columns: ['Tenure Months', 'Monthly Charges']\n",
      "Categorical columns: ['Gender', 'Senior Citizen', 'Partner', 'Dependents', 'Phone Service', 'Multiple Lines', 'Internet Service', 'Online Security', 'Online Backup', 'Device Protection', 'Tech Support', 'Streaming TV', 'Streaming Movies', 'Contract', 'Paperless Billing', 'Payment Method', 'Total Charges', 'Churn Label']\n"
     ]
    },
    {
     "data": {
      "application/vnd.plotly.v1+json": {
       "config": {
        "plotlyServerURL": "https://plot.ly"
       },
       "data": [
        {
         "bingroup": "x",
         "hovertemplate": "Tenure Months=%{x}<br>count=%{y}<extra></extra>",
         "legendgroup": "",
         "marker": {
          "color": "#636efa",
          "line": {
           "color": "black",
           "width": 1.2
          },
          "pattern": {
           "shape": ""
          }
         },
         "name": "",
         "nbinsx": 30,
         "orientation": "v",
         "showlegend": false,
         "textposition": "outside",
         "texttemplate": "%{y}",
         "type": "histogram",
         "x": {
          "bdata": "AgIIHDEKAQEvAREFIgsCDwgSCQEHDAUZRDclCgMbGQECAQgBBxQEOgI1DwcBCA0BBgETAgQEAQECCw8BAgECAw07EAEBBTQSAQgKGAEEIAUmGDYCBwJEKz8CBBUKGwUCGQEBCzciRQEBAxYBPQw8ARwEBw0BARgFDzAIAQIWBQwUAgYFKBsXIgEKDScgIzgMAQQBDEEJCQcxK0E4CisBFAECAwEIAgQCBAE0AgECAwMZAQQDIR4tChQPFgMPAQUhAgIBLj4KBigBOkYCFRAHPDIEATcMAT4BFAMWBDs8DwoGPzIBDAkRCQoBAw0EBgMjAgEBCAcCASxHAT4BISMiBAcbEgIgEgwIGgMIJg4gAQwFKAUKAhcXMQICBykCDQsRGQMEJRMnBw4LAQINAwEMPAEGDxUBBzUBARELEwMYAgEQIgMQAQ8LAQEHAi5EOwcIBgsPRhASIi8nAQQBOwECAUIDDgoSCQ0EBDsKAQUBFiIpQAQSAQIPCQ8BDAIFBBABBQQlDRg9KRYCEwgPAREBAh0CDggFPwE1ARABCgNCEQcMKgIBHg8NQxcjOAkRMBEiKgsBAQMyBTMuASkdGgEDQhUBBAkBAQkBAQIDDikNAhIBBCYMEwoBFyAgHxM5ARgBQQoCAQEBJhM0AQMBAiMQAQEeBTgsATEvHwMIAkEBARhFBwsBOg4MGToQAQECFzkYMQUCBAUvCgFDBUMPARoWFS8CFgcBMSsBAQEgEQQBASUIAwEFKAEzASEeAgIdDQceAhgBAQdDOQcBDhwRCiIBAwIGDAEDFwFBEEIBNUUNBAwBNjACHQ8ROBUBAQEjICEBCAUCKig5ASYCCAcfEg4cDwUBAQQ1Oy4OHw0jAgEZEAEkAQkILRkNLhkSPB4BJwEfAwEHPScKAUMGASECBwE0Fi8hEhgBBAIBExYEBAQHEwUIAQIDDRwPCgUCAQUBBB8BAQoPETUQCRkEMgkDCiAJQgMdASkIDAEEAQcGDhkWPUYBAS8BFjABGRQSAQkcCww1KRQHBxYDMwU+HApFDBsBDiADFhAFFwEyAUcuAgEgAwUxERcGBgIEBAMIAQEeBQFIDSAQHSYRAQICAQQFCRIZETQDAQgrFjYBAQcMNgEXAwolHyIdDAEhBCMTAQEfBAEKAgkEJjMBKQwFCgsBEAEEAQ0BFQsCAgEGBAwEBAM1RAEKATMYEkgEARoHBSoEAggJASsBA0YLMgUBEA8uCB8gARQaBQEOJAkFCQIBCAIDMwInDBoSAgQBCQIdAQkyATYqAQEJLgENEwEYQwYUFC4LAgEQAzkFBAcBAgQBBwQBAQEBKUIjCjYCGg8fEj0BGAMBKwQZOQQkASMEOh4VAykVAQsBSAMBLxIBFAYBMAMCAQEDCTEGBhAHGRQEHAELBDYcAgEBDgEEFA4eAygCAQoBDjoWATFEAQcJARgCGzkBDQE/GSNHBg8JJQIdBRwLNxgBBgQDAQsBBQgWHQ0rAwJCPhE4HwJCAwEfDiMlBxgBIAEREwIIAQEBCQMxAjcVRQEnBhEBOgETAwMDHg8KASYBEAEMBA8pAQEHKgEMNxEBSAsIARcnCQ8eAQNDAQEMFgIbCgEWARUGSDYDCAUBAgFBIQ8eAgQCGRkrCgIJG0UWOEIYASQBAQEnBRgCBQsEAQECAywYEgFBNQEPBAkWJjUBCBABBwklBQMfAiUmMAoIAgMEJQEFHB4kAQQRAwQEGgUEAQEIATIaBgMDAQ49KDoSBwITCycPBQEKBhACAhMBQiQnFQIEIyEtBwYDCwEoLwcBBw8LQwgsGA8RAQkHJAMiARYvGDUIAggwKxAIFAIbBTQlRSgGCwYDBQgBHAEdEwYBAQYPGQoNMQElGgwKBRIDNgoBAiAkNQEMAQUGGgFADQkKAhQJIEYBAQENBwEHNgUBITcGCAsxAQ8QLAUEHgEJAQE9OwMDAQ0SAwEBRkQaCwEBLgQWCQcBKB0DAQMXDQEnAQ4BAQEBASoHAQoRAQgBJzoGFkYVRwEUBCAGGwENARMKDQFEJwEBJA8FDQUCEQEJAQEBCRRGAxQVEQIVBRgBCgE1Ay4xCy0lMQ4BLw0FAxoICQEMKiEfEioEDA8HDgMQQSoGNQVEAwwrRBlCRhsBAx0kAQIMAQE7AwEBAh00Ag0TLwU0KhkJEAUDHwEBCgQrBAsvAQQRKxUqLgUGAQcCAQUWAQEDAQEhAQICAxpDRwEFCRo2AgEeBBE8AQ0mATJBAQcCLQEBDQoEASlHA0UgM0gGAQEfOi8sAgEBAQUBAQEBKAEDDToqAR0BAQIKMQYCI0YCDyoJARUCARAODwECNwcNA0ImARYBASsBAgEMBiIBChAHGwEJMAMCAg4DOQNAAgwoDDYEATMEIwEmJQM9CwETOAIOBA8BQAE3EiBCBwYNCwkBNhklDgQDAQ0tAQYDDAgGAwEBKQkrIQE4AwEFAUYwDRgbGRYBBBI4EB4IMikDAygDFwEEAQwJAUMEASItFgo+DRA6GUU0RxUMOjEeSEcCGwEBSC4KRhE/DTECNEUrGTw/QiJILzxIEgMvHzIKATRAPgM4LggeLQsqMQkjMC4dHgFCQUhHNAEBJkIFSCArSDQrQAMkKRs4BgcEIUgBRw1DKxdAOUg9QEdBAx4PCEY+Bg4WFhAKDQI1C0VIECsOICIPPQEhFAMNKCtFSDsUGDtIARsORw0sIUhAAT0dFzlIQkEIRwEMGB8eLzYySB0KEhBISClBDQQpKjMgCkM9Mh05Hy09MhNHORQVDgUGCgFEFhQjFwYMAUcjKBcERCY0HSYwARYrBTNHI0gBCUU0CxwRIwguRCQgR0I/KQFGF0AlEQcQQCoFKTovEhcBR0ghGDglKwE9ESlIMCosARsbAhMqQiEhFyALRBRIPCAuHTMwEEYoBQcdLAo3NAoSREgCKRokSCMBEDE2EiQ0CEhAFjw9GBweAgEGGEhGQEgsEQkYIwcLFEhID0gAPwI9ARxGIkdGNEULARQ9OB4cBQxDHTc0SDojOBhGAkQMPyFFPEgLASJBMg9ISDcXOAEmCwE4Awc7B0cPRws8LwscPR8JIwIBAzQFSEdILj8eARAEM0EQAkIuIEgmM0hCLDIPCEI5Bwo+KBQZF0JILkgKKB9ERDEPMhgjEQpELSUKAUE5AzFGNTUWQTADLT0DKAEBMzQzAR8vFgFIL0hCIx0CBEEbHR0UOg5ILkcgGkQCPQkWBUEFGUgbIB5GKkgvAj0FSEgDMD8bRgcAAkIDSAFIQQsWDikRC0gDO0cFGz9IIhhIPEQIIgYCHxQBRicuSBJHKiIFGTdGPSsvBT4OIiZGJTw+JCxIDQ9BDEhISDQCBURIQkgaQD4FA0g5Qi0DMzwhGkMxAQcbJR8gPx5HNTICOEMEEwhHD0gMSBdIGhU8DBA/FiBEHhAhSAwEAEEPGA0YSDYEICMIFg8WRwQZIAcRCDgDRzE6OwsjFCgnSAwBGyI4OhYKDUgCBCUVNRcDRwkBR0AEFyccBS0lPC8yGz5HQkQNOBAOCCs0Ax0QKCQaSCIKDi8YFBYBOzo7AyAuADQgEDMdRkcpAQdDBQ8UNioJP0VFKDxHICcmNDBGFDIZDBcbLxoCGkg/RwsODQYLEiAdAykBBzQtRjU+PBdDRxkFGgFGSCAODS4rJzk1EjpHIwMmIy8OFEIPKhElDDwSAwk4B0U2Pj4RCUBIHjE9LxRGNj0NAxkeFRctGDgBN0gtLwICDEU4BEA+PzUFMT43R0gkGUgkAUg7AR5AP0g+Q0YUBRhIQi1FHCQqMAsHAwggPApHKxdIFgFFMg8fAAhAHDkTM0MLSEIJCTAKSDM9NiEbFwEtJ0g6Rj0CLjBASAxIHSEBPgQYDgMII0IIRysdQSNAOhJDPzxGMAxHLC0XKyMJQRsoCDo0AykUARcGCBI0Hx0kKjwWJAkBDBc+CB8tRQIsJ0gNM0c4ARdCAQs0AzNAJQ0xLRJENhdHQw4/KRE4BQMlCD8HA0gTOyMORQdFSAQ/SC4ePzwZBhYfJxoMAicHBDdICgsPFwEvD0QVFTgGQSpEMDIHPxEEPgIwG0YuRUFIETMzSCJDMTUbRQIuNhQLHkQmAT8DMEJEB0gdJTs8GxE6ATUjRC9BCQgOLQhCSBcEBkMHOEhIFyMbDCgHRjwnSDY/RyovCzdFAx4FRx00RC4ISBEDAjMGAxEeHy1APQFIB0IoEEMpOEg2NDIbSD4MLDZEFDI6IwI/OhtHP0dEAUFIHEgCPBpEKjk2LCpIRxceIwEWByQiSCRHFxEBDEgBSDw9BkggQS0qCCAWAQE2BDgtRztFEzcmLy5BRzQGGjBAAUgBMylIK0gvSAMaHRsYQxcOBBAuRCYRBAxIAykoB0UHBUgsQQMYSBgWRhklFjsBAzUBFDMzDQEBPwMuAUc3RkMOFDFILhgFISoXCEIYNTwUF0gVHzktCg4bRSMtERZDQwkFNkY1Hw0cJjQ+EAxIRxgPAgUpKwEBRwccEAdFAQNFR0UwLTNIJUdCMx4iQEEvQycOOA4QRkgXFSQyMDJIChIJAihFEgs3IS4iAx4hLShHSBYuNwEMH0MBKSoXATgPDDYHEBUeAws+EgYuFUQBGRgzOQ9IHEYNOz4VAgEEE0NINQVHMjgCLkcdRUc4OBwTQhE0EyRIIghFMgoMRkBCRxRIRyYhFzpGBC0kNhcpBRsBQ0g4LEJFKB4LDwtASEgBDzw4CDFGNEgoKAEeLAdICAMIBUg2SAFFMAhHQyIDCUc5SDASK0gjBDFHCz9BMQRIGiM5HBkvORAFSDBEHgMOBEcIPUgFMQgDCUMuQzchPjEBDhJIQEUBR0ICRwsvPAsdFTADKwUBRwgIFEcfJgIMCQsGRyotHCs8BxkbChsLBEQBEhoROx4yCQMOHwcRIAJIGwcLSARHLzkyCDBGAQg8MR1DQwYvNUUDBDg9AgwcGEQnKgYmEgQbKTJIRiwiSEdASB0XNEAYAiI1L0hIB0cpQ0VGSCJBRkgjDD4ZNAgCOAwvAhIILQMmSEdCDUEPSCpHIzUwHgoMOTolLBsIGTkMPkFHFUcHSAFIQEgdDR8OSBkSRxwCETg8IQE/N0E/RiQWBQE4AiNADwFGJx0OPQ1COz4hQkgzPxsEKh0eRy5FSBxIBxZICDRERwIiIz0BNUgpGAgBNikTSD44IBU+AhsZMT8EAQs0PEArPUJDKh8HIgMTAy5FBQEaGUAeDUAuDA1DGAYKDQcmKxkbSEcYOQ8EHDc3FD4rPDoHAiVBJ0Q+SCkENSc/Dw0BATwoQipCMSkpFwMENAsCGhgMPEBCPBEqAS8KRkMBBEIMGBo5KkATFgwfC0RIQzw6ASUNKwZHSAYMFQYrIyA0IEgzRAgxSDYyRQFEKB8hN0QMRyhANUguKAwJMzE4BBQaMwQBGwwiGA47A0E7SAMTARg5SEM0RxojNyFIASUMAT4BEgITCRsYCwEmCTYdLDsSQyEFAkgJQwgRRBlDIENIATA9AkclQUMyGUAZGCUVAQozCgYvPTQjRy0CMzwJES5EBBwnC0cCETc6CRoySCs4AUgkBSxGLEVEEEQEGgVGGEgBRiQpDg0GDy8IEQ8aFwQdGQNFDhMnHxgOQDI0HBUROjNIGwNALUc6Ig9CDDoDCQMoRDIBSChIBgUwQBEoKTMpAkQYRgMCAw0HDDU/DyQEGD0QQRoQBRMKSAoLESQRQj0WAQZENApILxhBBCIODUEXNzE8RShDDSkEGAUFSBgqBEQhRSYDMA8ZMAEBJUIaPxJAHAFCARIADAw3B0QxKBBIAhdHDDZEGxVAORMfNC4LNTlHAURIAilIOgdBATgEOj4aPjpEPSoSOAQjQB9DRgIdLwwINkUaSEYcFTU1Rj0LAhkpRyIdKCQuOic0RkEBRh1DAR4wNyUfBEgBDwgjOEECQRIXRgQTEiYvNAkaLAMCGQI6OyxCRAkTBEYBCDUzCzwRASsQOSVIAhEQCkABGUdIMR1IMkdGRz1EPgcGIRwbBx4/NRURECMgHAE7SCgoPwMoCCIJHzIJGQEtNyYmIkYNPSkVN0VFL0ghSCU+RxcQCREYAUhICzwxHjUnCScIM0dHRiYcIDElCkMHMwkERxgWLCEBHgEQRysyKSgDJSAgOx4bCURFGkULAQo3LEULHTkcKhcSPkM+AhcZSAIIIxgCSCkaBDAMPDcBASoBA0gPCwVINyg5NCsvAzcdDEIbOgkGCQgMKypCAQoSAzIBAhFFSDI1Oi5IBkgENAACQTMMGEAaD0AbCAoCMy4BLjI1PQUvNhMaRhEBExoyRAkzCRZHGkcEDBIDSA0qEQdEOCZIMDQjQwE1IhM8CzxIJzsCRxhDJQsSMkMZCQpGCQQCEwcBCQU4EkZIER0/OwMIREQ0SCBIASotKyU/A0IIR0gQQjMIDkZGGEUqJy1IJkhINzM/ARcCNCQBHAdICioHSD84BUhEQwg0Ejs8BzsuBTtGLEA6LjpICyI2SDYOAThEDkQ3EAk1Rg4KHR5ICgEUAR0BAxRABjIGB0gIQ0ghRhY7JDM1FD8oIxo1IhMrBjgiCjg3JC8MGCNDFQ1HHQc5QRtIAQsnOxoCSEFIBiAyPUgBDD0SFUQMPgEBPiRFPxcKRy1GFjRBSAoHBRhIFUUsPUhIDgcwNwEtA0cIRUhHIRA4ATk4ASguP0RFOAo/GBMWRjEqOUguSCNIHC0BBjAZQDI0BCAtCTZADEMtCh0YQjMtMR0oGRZIIRdFAzhBRw4CKAEHD0c2HwsSSEcFJgU0REUqMiEHQDsGAw8NFx8dMTg/PxgkFQ0BGUdCLRZDRAAEPxUBER4WCQETSEZCBy4gGCUISEcQOUIVQhEIGyIeIQ4QMUYgEiUEEBETPDMcKyoBP0Q8LUYERBYSHR8wMgdEGjkDEwM7KkMBQj0EQDYBNhIDSDwLPSclSEgIFiYRRhwPSDkuHgogDSwJQ0cBEQEgKQE+EUg4CUgUEzUGCQhHR0QiGgcUPEhIBBA+Ch9HOkZHRUgaIQo5CicLRBISNDgtQwNBPwsBNxlIQQdIFQIESAY0RQg/PAwNFkgCKCxHGgEDDQEEAkglFyogFioIQUYWQxkUAjMuDRoTSBIYLkhGAh8QNA0jO0gxAhU2AQYxODgGIDI6QUBCJhRAPDJIPC5FHxNHDCw4SAsPSDhAIiMWCRdEIR84QkgiOiVHAUcjBkU1BQI+Ewk1BUcBSAQ7HwMxAjdIJApIHCY9NEMiNgEuNwFAOjhISBYnDDYSIClDQRlDKxhFJRQHKTZFNRJAFDk/DTA5RwcQIhAwOkgHHh8uMhxCKUgHJiwvNQQUOSwYDxghOkhHM0gOSBYCDzNGRyc9NEA+Hj8BDxsESC0tJAEQRwoUBB0CHQ07EhEvE0QCBxJHDUhCGDgWKkgMRxoHBjNILz4QBkVAGQZCPSsMF0ciKUgOKRdHSAYXSAcJDAEwFAoUFBMWIwEnNjgSEEQ1SAkeEjchLB5HARcWMSoHQw9DNRUoFicCOQgHMUE3RyMRSBwSNC8XQghHMi5CKgUdGxk5Lw1HAQI3RzIBBUIxA0ILHEE+AgI3KR4REEgJARcIEwc9OQ8BDDYEFBo1REgMRDIpHgEdFzxISEJIM0YJOwMmJSUOSEgRCgABHUEIPS1IDAcJOgIoCSkaIURBNxMtRgxIDEcjRh8eITY7N0VCJQlFCg1FQi44RiFIE0cBPUdELiE1Mjk2PAorDSsBRT0rOEYxIEglRRo6GAUeNywvQAEUJR4mNEdCSBlFNRoVATAaPBIEQUY+QkEiEDJHEgQ6ODgECgQzBj8wIwIyIR8JNi4iRz8zQD0PEjkOEkhGJkRBHjMfSCU3IS4BEz0aLT4DKUNHJTwGCwoiPkAZGgo1IUcdGBQBSDQJAUUBNiEtCwYVQSs8ESMMARxGEkYJQwESRwE3OwctNjNILAJCRB8VFTdHFkMOFQRGFRQWP0YFSA09ATgEI0gxLCU9RilGMyowMBsuGQ0fFwJBNyMGEQoPDTotSEQmAgsUSCg+FgsHAzoGFkAGJxRALhwhJwFGQQESGD8sBCUiIwQnKz0xBEADASgiAS0rKQVIBAlIIUgPHQ9IEwECCwxGFzECRRggGzoSL0YkQwoTR0gwARJDRUgmKD0gFTsvRQIWDzUcFhAwHgM5F0EsRyUMRSMFOkhIATUbEi5IBBkoPw5IJy8TESIqRxM5SAY9MBADQUY8RSMWQiJIHx4TQR4GAjUHPQ0jAgM+SD8jPg83Cz1HIxEvAwMsASwSQQMhIg4NFy8RO0UKDCdHRyFDCTRGAQE0BgcaGUVIBDtDGhtIBj4UBjM9PkgNJiISOCQ5RkQBJQQBFEgLIT4BEBYxJB8FQkAKHTkuNREmDxY5CwEMJAJIPgYwIzQBR0M8FycPGCUyNgMFISkiDRQzKQ0jBAwHNT8FJQwmCQ0vPRApKwY6EwsnCBo1RjsHOz1IDUAKQT43GQFAJD0aREhHOQQBSBVHRUAQBAESAhMoQhUISDBFSA4GCBFBOTgONDpDAgZHLkMDAzIXQydFASA8SBoCAiQHPBMtBC8BOyMgNkI9SCwpMggSSCoSDURFGTsFRQ00PR0ZDxMsOj5GChpCM0hBRkgBAzohNkhISDY7Njw8A0UBMjg8RQM8DT4tGSwCFiMdGzY5Pg9GFRcGBBcaCAI7JxUwH0AuNENDR0cgAkc8NwYwPww2HigJPhxGLhcvREMOOTcBFy8mAg8aIwMqCj1ECkg3BwIJG0BGQxgELEhCQQEmFwpIIzpGJjwaCCQ2N0g2SDQ8Jw8rPwJIKDpDH0UgFTRINCkpQxARIzo0RhMjIBFDCQQ6PAEbQg8pOzIRBjMxOzI7EgoOIwgSPAYTNUg8DQUNJUA9GhgRGjQBFUMsRjguPwsPSAY/EisPN0Y/GRIcNQEaIhM+GEQfPz0SBiE4FwkFPUYPCAgEIkQtCRYCRgpIMTZHFjIrLUAXRBoOR0A5SCgOAgUdA0cJMBoJLkA7B0gQGRgKRTkyHBkDPQIzRxQGBh0kHD8wMUhILwEkKxsmIwA7GwIHJCkNEzxFKwstSAxDJScpGQhHBR4oNkgcEjsWAUgyMDEcRA0LSEYxQy4lDUhEDxgYG0dDPwEENApENEYrNAw4ACoWGzMBR0UOOUgwBB8BOT4DSB0NCxUTIxlDSCs3Gw1GExQrBUYoBictOUhIAzsEGwQ8CAgjNRIPQwYBBQ0dARICHkImLAIqOjpHMAhDMTQ/RB9APhVIIEciIwMDNQQwNj4WMx44I0AeGQFGOQlFSCxINhs2AzUPBTAZOgpHQRxDI0g9RAMwRC8gBTEPDEMJDSYqCTE9MjUzGD4YRgEISBcfJSMXFCRHKzkbDUNAGiYXSD4oKSIBMycMSD8sEg1EBgI3JhMMSBhIC0I=",
          "dtype": "i1"
         },
         "xaxis": "x",
         "yaxis": "y"
        }
       ],
       "layout": {
        "bargap": 0.1,
        "barmode": "relative",
        "legend": {
         "tracegroupgap": 0
        },
        "template": {
         "data": {
          "bar": [
           {
            "error_x": {
             "color": "#2a3f5f"
            },
            "error_y": {
             "color": "#2a3f5f"
            },
            "marker": {
             "line": {
              "color": "#E5ECF6",
              "width": 0.5
             },
             "pattern": {
              "fillmode": "overlay",
              "size": 10,
              "solidity": 0.2
             }
            },
            "type": "bar"
           }
          ],
          "barpolar": [
           {
            "marker": {
             "line": {
              "color": "#E5ECF6",
              "width": 0.5
             },
             "pattern": {
              "fillmode": "overlay",
              "size": 10,
              "solidity": 0.2
             }
            },
            "type": "barpolar"
           }
          ],
          "carpet": [
           {
            "aaxis": {
             "endlinecolor": "#2a3f5f",
             "gridcolor": "white",
             "linecolor": "white",
             "minorgridcolor": "white",
             "startlinecolor": "#2a3f5f"
            },
            "baxis": {
             "endlinecolor": "#2a3f5f",
             "gridcolor": "white",
             "linecolor": "white",
             "minorgridcolor": "white",
             "startlinecolor": "#2a3f5f"
            },
            "type": "carpet"
           }
          ],
          "choropleth": [
           {
            "colorbar": {
             "outlinewidth": 0,
             "ticks": ""
            },
            "type": "choropleth"
           }
          ],
          "contour": [
           {
            "colorbar": {
             "outlinewidth": 0,
             "ticks": ""
            },
            "colorscale": [
             [
              0,
              "#0d0887"
             ],
             [
              0.1111111111111111,
              "#46039f"
             ],
             [
              0.2222222222222222,
              "#7201a8"
             ],
             [
              0.3333333333333333,
              "#9c179e"
             ],
             [
              0.4444444444444444,
              "#bd3786"
             ],
             [
              0.5555555555555556,
              "#d8576b"
             ],
             [
              0.6666666666666666,
              "#ed7953"
             ],
             [
              0.7777777777777778,
              "#fb9f3a"
             ],
             [
              0.8888888888888888,
              "#fdca26"
             ],
             [
              1,
              "#f0f921"
             ]
            ],
            "type": "contour"
           }
          ],
          "contourcarpet": [
           {
            "colorbar": {
             "outlinewidth": 0,
             "ticks": ""
            },
            "type": "contourcarpet"
           }
          ],
          "heatmap": [
           {
            "colorbar": {
             "outlinewidth": 0,
             "ticks": ""
            },
            "colorscale": [
             [
              0,
              "#0d0887"
             ],
             [
              0.1111111111111111,
              "#46039f"
             ],
             [
              0.2222222222222222,
              "#7201a8"
             ],
             [
              0.3333333333333333,
              "#9c179e"
             ],
             [
              0.4444444444444444,
              "#bd3786"
             ],
             [
              0.5555555555555556,
              "#d8576b"
             ],
             [
              0.6666666666666666,
              "#ed7953"
             ],
             [
              0.7777777777777778,
              "#fb9f3a"
             ],
             [
              0.8888888888888888,
              "#fdca26"
             ],
             [
              1,
              "#f0f921"
             ]
            ],
            "type": "heatmap"
           }
          ],
          "histogram": [
           {
            "marker": {
             "pattern": {
              "fillmode": "overlay",
              "size": 10,
              "solidity": 0.2
             }
            },
            "type": "histogram"
           }
          ],
          "histogram2d": [
           {
            "colorbar": {
             "outlinewidth": 0,
             "ticks": ""
            },
            "colorscale": [
             [
              0,
              "#0d0887"
             ],
             [
              0.1111111111111111,
              "#46039f"
             ],
             [
              0.2222222222222222,
              "#7201a8"
             ],
             [
              0.3333333333333333,
              "#9c179e"
             ],
             [
              0.4444444444444444,
              "#bd3786"
             ],
             [
              0.5555555555555556,
              "#d8576b"
             ],
             [
              0.6666666666666666,
              "#ed7953"
             ],
             [
              0.7777777777777778,
              "#fb9f3a"
             ],
             [
              0.8888888888888888,
              "#fdca26"
             ],
             [
              1,
              "#f0f921"
             ]
            ],
            "type": "histogram2d"
           }
          ],
          "histogram2dcontour": [
           {
            "colorbar": {
             "outlinewidth": 0,
             "ticks": ""
            },
            "colorscale": [
             [
              0,
              "#0d0887"
             ],
             [
              0.1111111111111111,
              "#46039f"
             ],
             [
              0.2222222222222222,
              "#7201a8"
             ],
             [
              0.3333333333333333,
              "#9c179e"
             ],
             [
              0.4444444444444444,
              "#bd3786"
             ],
             [
              0.5555555555555556,
              "#d8576b"
             ],
             [
              0.6666666666666666,
              "#ed7953"
             ],
             [
              0.7777777777777778,
              "#fb9f3a"
             ],
             [
              0.8888888888888888,
              "#fdca26"
             ],
             [
              1,
              "#f0f921"
             ]
            ],
            "type": "histogram2dcontour"
           }
          ],
          "mesh3d": [
           {
            "colorbar": {
             "outlinewidth": 0,
             "ticks": ""
            },
            "type": "mesh3d"
           }
          ],
          "parcoords": [
           {
            "line": {
             "colorbar": {
              "outlinewidth": 0,
              "ticks": ""
             }
            },
            "type": "parcoords"
           }
          ],
          "pie": [
           {
            "automargin": true,
            "type": "pie"
           }
          ],
          "scatter": [
           {
            "fillpattern": {
             "fillmode": "overlay",
             "size": 10,
             "solidity": 0.2
            },
            "type": "scatter"
           }
          ],
          "scatter3d": [
           {
            "line": {
             "colorbar": {
              "outlinewidth": 0,
              "ticks": ""
             }
            },
            "marker": {
             "colorbar": {
              "outlinewidth": 0,
              "ticks": ""
             }
            },
            "type": "scatter3d"
           }
          ],
          "scattercarpet": [
           {
            "marker": {
             "colorbar": {
              "outlinewidth": 0,
              "ticks": ""
             }
            },
            "type": "scattercarpet"
           }
          ],
          "scattergeo": [
           {
            "marker": {
             "colorbar": {
              "outlinewidth": 0,
              "ticks": ""
             }
            },
            "type": "scattergeo"
           }
          ],
          "scattergl": [
           {
            "marker": {
             "colorbar": {
              "outlinewidth": 0,
              "ticks": ""
             }
            },
            "type": "scattergl"
           }
          ],
          "scattermap": [
           {
            "marker": {
             "colorbar": {
              "outlinewidth": 0,
              "ticks": ""
             }
            },
            "type": "scattermap"
           }
          ],
          "scattermapbox": [
           {
            "marker": {
             "colorbar": {
              "outlinewidth": 0,
              "ticks": ""
             }
            },
            "type": "scattermapbox"
           }
          ],
          "scatterpolar": [
           {
            "marker": {
             "colorbar": {
              "outlinewidth": 0,
              "ticks": ""
             }
            },
            "type": "scatterpolar"
           }
          ],
          "scatterpolargl": [
           {
            "marker": {
             "colorbar": {
              "outlinewidth": 0,
              "ticks": ""
             }
            },
            "type": "scatterpolargl"
           }
          ],
          "scatterternary": [
           {
            "marker": {
             "colorbar": {
              "outlinewidth": 0,
              "ticks": ""
             }
            },
            "type": "scatterternary"
           }
          ],
          "surface": [
           {
            "colorbar": {
             "outlinewidth": 0,
             "ticks": ""
            },
            "colorscale": [
             [
              0,
              "#0d0887"
             ],
             [
              0.1111111111111111,
              "#46039f"
             ],
             [
              0.2222222222222222,
              "#7201a8"
             ],
             [
              0.3333333333333333,
              "#9c179e"
             ],
             [
              0.4444444444444444,
              "#bd3786"
             ],
             [
              0.5555555555555556,
              "#d8576b"
             ],
             [
              0.6666666666666666,
              "#ed7953"
             ],
             [
              0.7777777777777778,
              "#fb9f3a"
             ],
             [
              0.8888888888888888,
              "#fdca26"
             ],
             [
              1,
              "#f0f921"
             ]
            ],
            "type": "surface"
           }
          ],
          "table": [
           {
            "cells": {
             "fill": {
              "color": "#EBF0F8"
             },
             "line": {
              "color": "white"
             }
            },
            "header": {
             "fill": {
              "color": "#C8D4E3"
             },
             "line": {
              "color": "white"
             }
            },
            "type": "table"
           }
          ]
         },
         "layout": {
          "annotationdefaults": {
           "arrowcolor": "#2a3f5f",
           "arrowhead": 0,
           "arrowwidth": 1
          },
          "autotypenumbers": "strict",
          "coloraxis": {
           "colorbar": {
            "outlinewidth": 0,
            "ticks": ""
           }
          },
          "colorscale": {
           "diverging": [
            [
             0,
             "#8e0152"
            ],
            [
             0.1,
             "#c51b7d"
            ],
            [
             0.2,
             "#de77ae"
            ],
            [
             0.3,
             "#f1b6da"
            ],
            [
             0.4,
             "#fde0ef"
            ],
            [
             0.5,
             "#f7f7f7"
            ],
            [
             0.6,
             "#e6f5d0"
            ],
            [
             0.7,
             "#b8e186"
            ],
            [
             0.8,
             "#7fbc41"
            ],
            [
             0.9,
             "#4d9221"
            ],
            [
             1,
             "#276419"
            ]
           ],
           "sequential": [
            [
             0,
             "#0d0887"
            ],
            [
             0.1111111111111111,
             "#46039f"
            ],
            [
             0.2222222222222222,
             "#7201a8"
            ],
            [
             0.3333333333333333,
             "#9c179e"
            ],
            [
             0.4444444444444444,
             "#bd3786"
            ],
            [
             0.5555555555555556,
             "#d8576b"
            ],
            [
             0.6666666666666666,
             "#ed7953"
            ],
            [
             0.7777777777777778,
             "#fb9f3a"
            ],
            [
             0.8888888888888888,
             "#fdca26"
            ],
            [
             1,
             "#f0f921"
            ]
           ],
           "sequentialminus": [
            [
             0,
             "#0d0887"
            ],
            [
             0.1111111111111111,
             "#46039f"
            ],
            [
             0.2222222222222222,
             "#7201a8"
            ],
            [
             0.3333333333333333,
             "#9c179e"
            ],
            [
             0.4444444444444444,
             "#bd3786"
            ],
            [
             0.5555555555555556,
             "#d8576b"
            ],
            [
             0.6666666666666666,
             "#ed7953"
            ],
            [
             0.7777777777777778,
             "#fb9f3a"
            ],
            [
             0.8888888888888888,
             "#fdca26"
            ],
            [
             1,
             "#f0f921"
            ]
           ]
          },
          "colorway": [
           "#636efa",
           "#EF553B",
           "#00cc96",
           "#ab63fa",
           "#FFA15A",
           "#19d3f3",
           "#FF6692",
           "#B6E880",
           "#FF97FF",
           "#FECB52"
          ],
          "font": {
           "color": "#2a3f5f"
          },
          "geo": {
           "bgcolor": "white",
           "lakecolor": "white",
           "landcolor": "#E5ECF6",
           "showlakes": true,
           "showland": true,
           "subunitcolor": "white"
          },
          "hoverlabel": {
           "align": "left"
          },
          "hovermode": "closest",
          "mapbox": {
           "style": "light"
          },
          "paper_bgcolor": "white",
          "plot_bgcolor": "#E5ECF6",
          "polar": {
           "angularaxis": {
            "gridcolor": "white",
            "linecolor": "white",
            "ticks": ""
           },
           "bgcolor": "#E5ECF6",
           "radialaxis": {
            "gridcolor": "white",
            "linecolor": "white",
            "ticks": ""
           }
          },
          "scene": {
           "xaxis": {
            "backgroundcolor": "#E5ECF6",
            "gridcolor": "white",
            "gridwidth": 2,
            "linecolor": "white",
            "showbackground": true,
            "ticks": "",
            "zerolinecolor": "white"
           },
           "yaxis": {
            "backgroundcolor": "#E5ECF6",
            "gridcolor": "white",
            "gridwidth": 2,
            "linecolor": "white",
            "showbackground": true,
            "ticks": "",
            "zerolinecolor": "white"
           },
           "zaxis": {
            "backgroundcolor": "#E5ECF6",
            "gridcolor": "white",
            "gridwidth": 2,
            "linecolor": "white",
            "showbackground": true,
            "ticks": "",
            "zerolinecolor": "white"
           }
          },
          "shapedefaults": {
           "line": {
            "color": "#2a3f5f"
           }
          },
          "ternary": {
           "aaxis": {
            "gridcolor": "white",
            "linecolor": "white",
            "ticks": ""
           },
           "baxis": {
            "gridcolor": "white",
            "linecolor": "white",
            "ticks": ""
           },
           "bgcolor": "#E5ECF6",
           "caxis": {
            "gridcolor": "white",
            "linecolor": "white",
            "ticks": ""
           }
          },
          "title": {
           "x": 0.05
          },
          "xaxis": {
           "automargin": true,
           "gridcolor": "white",
           "linecolor": "white",
           "ticks": "",
           "title": {
            "standoff": 15
           },
           "zerolinecolor": "white",
           "zerolinewidth": 2
          },
          "yaxis": {
           "automargin": true,
           "gridcolor": "white",
           "linecolor": "white",
           "ticks": "",
           "title": {
            "standoff": 15
           },
           "zerolinecolor": "white",
           "zerolinewidth": 2
          }
         }
        },
        "title": {
         "text": "Distribution of Tenure Months",
         "x": 0.5
        },
        "xaxis": {
         "anchor": "y",
         "domain": [
          0,
          1
         ],
         "title": {
          "text": "Tenure Months"
         }
        },
        "yaxis": {
         "anchor": "x",
         "domain": [
          0,
          1
         ],
         "title": {
          "text": "count"
         }
        }
       }
      }
     },
     "metadata": {},
     "output_type": "display_data"
    },
    {
     "data": {
      "application/vnd.plotly.v1+json": {
       "config": {
        "plotlyServerURL": "https://plot.ly"
       },
       "data": [
        {
         "bingroup": "x",
         "hovertemplate": "Monthly Charges=%{x}<br>count=%{y}<extra></extra>",
         "legendgroup": "",
         "marker": {
          "color": "#636efa",
          "line": {
           "color": "black",
           "width": 1.2
          },
          "pattern": {
           "shape": ""
          }
         },
         "name": "",
         "nbinsx": 30,
         "orientation": "v",
         "showlegend": false,
         "textposition": "outside",
         "texttemplate": "%{y}",
         "type": "histogram",
         "x": {
          "bdata": "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",
          "dtype": "f8"
         },
         "xaxis": "x",
         "yaxis": "y"
        }
       ],
       "layout": {
        "bargap": 0.1,
        "barmode": "relative",
        "legend": {
         "tracegroupgap": 0
        },
        "template": {
         "data": {
          "bar": [
           {
            "error_x": {
             "color": "#2a3f5f"
            },
            "error_y": {
             "color": "#2a3f5f"
            },
            "marker": {
             "line": {
              "color": "#E5ECF6",
              "width": 0.5
             },
             "pattern": {
              "fillmode": "overlay",
              "size": 10,
              "solidity": 0.2
             }
            },
            "type": "bar"
           }
          ],
          "barpolar": [
           {
            "marker": {
             "line": {
              "color": "#E5ECF6",
              "width": 0.5
             },
             "pattern": {
              "fillmode": "overlay",
              "size": 10,
              "solidity": 0.2
             }
            },
            "type": "barpolar"
           }
          ],
          "carpet": [
           {
            "aaxis": {
             "endlinecolor": "#2a3f5f",
             "gridcolor": "white",
             "linecolor": "white",
             "minorgridcolor": "white",
             "startlinecolor": "#2a3f5f"
            },
            "baxis": {
             "endlinecolor": "#2a3f5f",
             "gridcolor": "white",
             "linecolor": "white",
             "minorgridcolor": "white",
             "startlinecolor": "#2a3f5f"
            },
            "type": "carpet"
           }
          ],
          "choropleth": [
           {
            "colorbar": {
             "outlinewidth": 0,
             "ticks": ""
            },
            "type": "choropleth"
           }
          ],
          "contour": [
           {
            "colorbar": {
             "outlinewidth": 0,
             "ticks": ""
            },
            "colorscale": [
             [
              0,
              "#0d0887"
             ],
             [
              0.1111111111111111,
              "#46039f"
             ],
             [
              0.2222222222222222,
              "#7201a8"
             ],
             [
              0.3333333333333333,
              "#9c179e"
             ],
             [
              0.4444444444444444,
              "#bd3786"
             ],
             [
              0.5555555555555556,
              "#d8576b"
             ],
             [
              0.6666666666666666,
              "#ed7953"
             ],
             [
              0.7777777777777778,
              "#fb9f3a"
             ],
             [
              0.8888888888888888,
              "#fdca26"
             ],
             [
              1,
              "#f0f921"
             ]
            ],
            "type": "contour"
           }
          ],
          "contourcarpet": [
           {
            "colorbar": {
             "outlinewidth": 0,
             "ticks": ""
            },
            "type": "contourcarpet"
           }
          ],
          "heatmap": [
           {
            "colorbar": {
             "outlinewidth": 0,
             "ticks": ""
            },
            "colorscale": [
             [
              0,
              "#0d0887"
             ],
             [
              0.1111111111111111,
              "#46039f"
             ],
             [
              0.2222222222222222,
              "#7201a8"
             ],
             [
              0.3333333333333333,
              "#9c179e"
             ],
             [
              0.4444444444444444,
              "#bd3786"
             ],
             [
              0.5555555555555556,
              "#d8576b"
             ],
             [
              0.6666666666666666,
              "#ed7953"
             ],
             [
              0.7777777777777778,
              "#fb9f3a"
             ],
             [
              0.8888888888888888,
              "#fdca26"
             ],
             [
              1,
              "#f0f921"
             ]
            ],
            "type": "heatmap"
           }
          ],
          "histogram": [
           {
            "marker": {
             "pattern": {
              "fillmode": "overlay",
              "size": 10,
              "solidity": 0.2
             }
            },
            "type": "histogram"
           }
          ],
          "histogram2d": [
           {
            "colorbar": {
             "outlinewidth": 0,
             "ticks": ""
            },
            "colorscale": [
             [
              0,
              "#0d0887"
             ],
             [
              0.1111111111111111,
              "#46039f"
             ],
             [
              0.2222222222222222,
              "#7201a8"
             ],
             [
              0.3333333333333333,
              "#9c179e"
             ],
             [
              0.4444444444444444,
              "#bd3786"
             ],
             [
              0.5555555555555556,
              "#d8576b"
             ],
             [
              0.6666666666666666,
              "#ed7953"
             ],
             [
              0.7777777777777778,
              "#fb9f3a"
             ],
             [
              0.8888888888888888,
              "#fdca26"
             ],
             [
              1,
              "#f0f921"
             ]
            ],
            "type": "histogram2d"
           }
          ],
          "histogram2dcontour": [
           {
            "colorbar": {
             "outlinewidth": 0,
             "ticks": ""
            },
            "colorscale": [
             [
              0,
              "#0d0887"
             ],
             [
              0.1111111111111111,
              "#46039f"
             ],
             [
              0.2222222222222222,
              "#7201a8"
             ],
             [
              0.3333333333333333,
              "#9c179e"
             ],
             [
              0.4444444444444444,
              "#bd3786"
             ],
             [
              0.5555555555555556,
              "#d8576b"
             ],
             [
              0.6666666666666666,
              "#ed7953"
             ],
             [
              0.7777777777777778,
              "#fb9f3a"
             ],
             [
              0.8888888888888888,
              "#fdca26"
             ],
             [
              1,
              "#f0f921"
             ]
            ],
            "type": "histogram2dcontour"
           }
          ],
          "mesh3d": [
           {
            "colorbar": {
             "outlinewidth": 0,
             "ticks": ""
            },
            "type": "mesh3d"
           }
          ],
          "parcoords": [
           {
            "line": {
             "colorbar": {
              "outlinewidth": 0,
              "ticks": ""
             }
            },
            "type": "parcoords"
           }
          ],
          "pie": [
           {
            "automargin": true,
            "type": "pie"
           }
          ],
          "scatter": [
           {
            "fillpattern": {
             "fillmode": "overlay",
             "size": 10,
             "solidity": 0.2
            },
            "type": "scatter"
           }
          ],
          "scatter3d": [
           {
            "line": {
             "colorbar": {
              "outlinewidth": 0,
              "ticks": ""
             }
            },
            "marker": {
             "colorbar": {
              "outlinewidth": 0,
              "ticks": ""
             }
            },
            "type": "scatter3d"
           }
          ],
          "scattercarpet": [
           {
            "marker": {
             "colorbar": {
              "outlinewidth": 0,
              "ticks": ""
             }
            },
            "type": "scattercarpet"
           }
          ],
          "scattergeo": [
           {
            "marker": {
             "colorbar": {
              "outlinewidth": 0,
              "ticks": ""
             }
            },
            "type": "scattergeo"
           }
          ],
          "scattergl": [
           {
            "marker": {
             "colorbar": {
              "outlinewidth": 0,
              "ticks": ""
             }
            },
            "type": "scattergl"
           }
          ],
          "scattermap": [
           {
            "marker": {
             "colorbar": {
              "outlinewidth": 0,
              "ticks": ""
             }
            },
            "type": "scattermap"
           }
          ],
          "scattermapbox": [
           {
            "marker": {
             "colorbar": {
              "outlinewidth": 0,
              "ticks": ""
             }
            },
            "type": "scattermapbox"
           }
          ],
          "scatterpolar": [
           {
            "marker": {
             "colorbar": {
              "outlinewidth": 0,
              "ticks": ""
             }
            },
            "type": "scatterpolar"
           }
          ],
          "scatterpolargl": [
           {
            "marker": {
             "colorbar": {
              "outlinewidth": 0,
              "ticks": ""
             }
            },
            "type": "scatterpolargl"
           }
          ],
          "scatterternary": [
           {
            "marker": {
             "colorbar": {
              "outlinewidth": 0,
              "ticks": ""
             }
            },
            "type": "scatterternary"
           }
          ],
          "surface": [
           {
            "colorbar": {
             "outlinewidth": 0,
             "ticks": ""
            },
            "colorscale": [
             [
              0,
              "#0d0887"
             ],
             [
              0.1111111111111111,
              "#46039f"
             ],
             [
              0.2222222222222222,
              "#7201a8"
             ],
             [
              0.3333333333333333,
              "#9c179e"
             ],
             [
              0.4444444444444444,
              "#bd3786"
             ],
             [
              0.5555555555555556,
              "#d8576b"
             ],
             [
              0.6666666666666666,
              "#ed7953"
             ],
             [
              0.7777777777777778,
              "#fb9f3a"
             ],
             [
              0.8888888888888888,
              "#fdca26"
             ],
             [
              1,
              "#f0f921"
             ]
            ],
            "type": "surface"
           }
          ],
          "table": [
           {
            "cells": {
             "fill": {
              "color": "#EBF0F8"
             },
             "line": {
              "color": "white"
             }
            },
            "header": {
             "fill": {
              "color": "#C8D4E3"
             },
             "line": {
              "color": "white"
             }
            },
            "type": "table"
           }
          ]
         },
         "layout": {
          "annotationdefaults": {
           "arrowcolor": "#2a3f5f",
           "arrowhead": 0,
           "arrowwidth": 1
          },
          "autotypenumbers": "strict",
          "coloraxis": {
           "colorbar": {
            "outlinewidth": 0,
            "ticks": ""
           }
          },
          "colorscale": {
           "diverging": [
            [
             0,
             "#8e0152"
            ],
            [
             0.1,
             "#c51b7d"
            ],
            [
             0.2,
             "#de77ae"
            ],
            [
             0.3,
             "#f1b6da"
            ],
            [
             0.4,
             "#fde0ef"
            ],
            [
             0.5,
             "#f7f7f7"
            ],
            [
             0.6,
             "#e6f5d0"
            ],
            [
             0.7,
             "#b8e186"
            ],
            [
             0.8,
             "#7fbc41"
            ],
            [
             0.9,
             "#4d9221"
            ],
            [
             1,
             "#276419"
            ]
           ],
           "sequential": [
            [
             0,
             "#0d0887"
            ],
            [
             0.1111111111111111,
             "#46039f"
            ],
            [
             0.2222222222222222,
             "#7201a8"
            ],
            [
             0.3333333333333333,
             "#9c179e"
            ],
            [
             0.4444444444444444,
             "#bd3786"
            ],
            [
             0.5555555555555556,
             "#d8576b"
            ],
            [
             0.6666666666666666,
             "#ed7953"
            ],
            [
             0.7777777777777778,
             "#fb9f3a"
            ],
            [
             0.8888888888888888,
             "#fdca26"
            ],
            [
             1,
             "#f0f921"
            ]
           ],
           "sequentialminus": [
            [
             0,
             "#0d0887"
            ],
            [
             0.1111111111111111,
             "#46039f"
            ],
            [
             0.2222222222222222,
             "#7201a8"
            ],
            [
             0.3333333333333333,
             "#9c179e"
            ],
            [
             0.4444444444444444,
             "#bd3786"
            ],
            [
             0.5555555555555556,
             "#d8576b"
            ],
            [
             0.6666666666666666,
             "#ed7953"
            ],
            [
             0.7777777777777778,
             "#fb9f3a"
            ],
            [
             0.8888888888888888,
             "#fdca26"
            ],
            [
             1,
             "#f0f921"
            ]
           ]
          },
          "colorway": [
           "#636efa",
           "#EF553B",
           "#00cc96",
           "#ab63fa",
           "#FFA15A",
           "#19d3f3",
           "#FF6692",
           "#B6E880",
           "#FF97FF",
           "#FECB52"
          ],
          "font": {
           "color": "#2a3f5f"
          },
          "geo": {
           "bgcolor": "white",
           "lakecolor": "white",
           "landcolor": "#E5ECF6",
           "showlakes": true,
           "showland": true,
           "subunitcolor": "white"
          },
          "hoverlabel": {
           "align": "left"
          },
          "hovermode": "closest",
          "mapbox": {
           "style": "light"
          },
          "paper_bgcolor": "white",
          "plot_bgcolor": "#E5ECF6",
          "polar": {
           "angularaxis": {
            "gridcolor": "white",
            "linecolor": "white",
            "ticks": ""
           },
           "bgcolor": "#E5ECF6",
           "radialaxis": {
            "gridcolor": "white",
            "linecolor": "white",
            "ticks": ""
           }
          },
          "scene": {
           "xaxis": {
            "backgroundcolor": "#E5ECF6",
            "gridcolor": "white",
            "gridwidth": 2,
            "linecolor": "white",
            "showbackground": true,
            "ticks": "",
            "zerolinecolor": "white"
           },
           "yaxis": {
            "backgroundcolor": "#E5ECF6",
            "gridcolor": "white",
            "gridwidth": 2,
            "linecolor": "white",
            "showbackground": true,
            "ticks": "",
            "zerolinecolor": "white"
           },
           "zaxis": {
            "backgroundcolor": "#E5ECF6",
            "gridcolor": "white",
            "gridwidth": 2,
            "linecolor": "white",
            "showbackground": true,
            "ticks": "",
            "zerolinecolor": "white"
           }
          },
          "shapedefaults": {
           "line": {
            "color": "#2a3f5f"
           }
          },
          "ternary": {
           "aaxis": {
            "gridcolor": "white",
            "linecolor": "white",
            "ticks": ""
           },
           "baxis": {
            "gridcolor": "white",
            "linecolor": "white",
            "ticks": ""
           },
           "bgcolor": "#E5ECF6",
           "caxis": {
            "gridcolor": "white",
            "linecolor": "white",
            "ticks": ""
           }
          },
          "title": {
           "x": 0.05
          },
          "xaxis": {
           "automargin": true,
           "gridcolor": "white",
           "linecolor": "white",
           "ticks": "",
           "title": {
            "standoff": 15
           },
           "zerolinecolor": "white",
           "zerolinewidth": 2
          },
          "yaxis": {
           "automargin": true,
           "gridcolor": "white",
           "linecolor": "white",
           "ticks": "",
           "title": {
            "standoff": 15
           },
           "zerolinecolor": "white",
           "zerolinewidth": 2
          }
         }
        },
        "title": {
         "text": "Distribution of Monthly Charges",
         "x": 0.5
        },
        "xaxis": {
         "anchor": "y",
         "domain": [
          0,
          1
         ],
         "title": {
          "text": "Monthly Charges"
         }
        },
        "yaxis": {
         "anchor": "x",
         "domain": [
          0,
          1
         ],
         "title": {
          "text": "count"
         }
        }
       }
      }
     },
     "metadata": {},
     "output_type": "display_data"
    }
   ],
   "source": [
    "numeric_cols = df.select_dtypes(include=['int64', 'float64']).columns\n",
    "categorical_cols = df.select_dtypes(include=['object', 'category']).columns\n",
    "\n",
    "print(\"Numeric columns:\", list(numeric_cols))\n",
    "print(\"Categorical columns:\", list(categorical_cols))\n",
    "\n",
    "for col in numeric_cols:\n",
    "    fig = px.histogram(\n",
    "        df,\n",
    "        x=col,\n",
    "        nbins=30,\n",
    "        title=f\"Distribution of {col}\",\n",
    "        histnorm=None\n",
    "    )\n",
    "    fig.update_traces(\n",
    "        marker_line_color='black',   \n",
    "        marker_line_width=1.2,        \n",
    "        texttemplate=\"%{y}\",         \n",
    "        textposition=\"outside\"\n",
    "    )\n",
    "    fig.update_layout(\n",
    "        bargap=0.1,  \n",
    "        title_x=0.5,\n",
    "    )\n",
    "    fig.show()"
   ]
  },
  {
   "cell_type": "code",
   "execution_count": 137,
   "id": "13333a85",
   "metadata": {},
   "outputs": [
    {
     "data": {
      "application/vnd.plotly.v1+json": {
       "config": {
        "plotlyServerURL": "https://plot.ly"
       },
       "data": [
        {
         "hovertemplate": "Gender=%{x}<br>count=%{text}<extra></extra>",
         "legendgroup": "Male",
         "marker": {
          "color": "#636efa",
          "pattern": {
           "shape": ""
          }
         },
         "name": "Male",
         "orientation": "v",
         "showlegend": true,
         "text": {
          "bdata": "AAAAAADGq0A=",
          "dtype": "f8"
         },
         "textposition": "outside",
         "texttemplate": "%{text}",
         "type": "bar",
         "x": [
          "Male"
         ],
         "xaxis": "x",
         "y": {
          "bdata": "4w0=",
          "dtype": "i2"
         },
         "yaxis": "y"
        },
        {
         "hovertemplate": "Gender=%{x}<br>count=%{text}<extra></extra>",
         "legendgroup": "Female",
         "marker": {
          "color": "#EF553B",
          "pattern": {
           "shape": ""
          }
         },
         "name": "Female",
         "orientation": "v",
         "showlegend": true,
         "text": {
          "bdata": "AAAAAABAq0A=",
          "dtype": "f8"
         },
         "textposition": "outside",
         "texttemplate": "%{text}",
         "type": "bar",
         "x": [
          "Female"
         ],
         "xaxis": "x",
         "y": {
          "bdata": "oA0=",
          "dtype": "i2"
         },
         "yaxis": "y"
        }
       ],
       "layout": {
        "barmode": "relative",
        "legend": {
         "title": {
          "text": "Gender"
         },
         "tracegroupgap": 0
        },
        "showlegend": true,
        "template": {
         "data": {
          "bar": [
           {
            "error_x": {
             "color": "#2a3f5f"
            },
            "error_y": {
             "color": "#2a3f5f"
            },
            "marker": {
             "line": {
              "color": "#E5ECF6",
              "width": 0.5
             },
             "pattern": {
              "fillmode": "overlay",
              "size": 10,
              "solidity": 0.2
             }
            },
            "type": "bar"
           }
          ],
          "barpolar": [
           {
            "marker": {
             "line": {
              "color": "#E5ECF6",
              "width": 0.5
             },
             "pattern": {
              "fillmode": "overlay",
              "size": 10,
              "solidity": 0.2
             }
            },
            "type": "barpolar"
           }
          ],
          "carpet": [
           {
            "aaxis": {
             "endlinecolor": "#2a3f5f",
             "gridcolor": "white",
             "linecolor": "white",
             "minorgridcolor": "white",
             "startlinecolor": "#2a3f5f"
            },
            "baxis": {
             "endlinecolor": "#2a3f5f",
             "gridcolor": "white",
             "linecolor": "white",
             "minorgridcolor": "white",
             "startlinecolor": "#2a3f5f"
            },
            "type": "carpet"
           }
          ],
          "choropleth": [
           {
            "colorbar": {
             "outlinewidth": 0,
             "ticks": ""
            },
            "type": "choropleth"
           }
          ],
          "contour": [
           {
            "colorbar": {
             "outlinewidth": 0,
             "ticks": ""
            },
            "colorscale": [
             [
              0,
              "#0d0887"
             ],
             [
              0.1111111111111111,
              "#46039f"
             ],
             [
              0.2222222222222222,
              "#7201a8"
             ],
             [
              0.3333333333333333,
              "#9c179e"
             ],
             [
              0.4444444444444444,
              "#bd3786"
             ],
             [
              0.5555555555555556,
              "#d8576b"
             ],
             [
              0.6666666666666666,
              "#ed7953"
             ],
             [
              0.7777777777777778,
              "#fb9f3a"
             ],
             [
              0.8888888888888888,
              "#fdca26"
             ],
             [
              1,
              "#f0f921"
             ]
            ],
            "type": "contour"
           }
          ],
          "contourcarpet": [
           {
            "colorbar": {
             "outlinewidth": 0,
             "ticks": ""
            },
            "type": "contourcarpet"
           }
          ],
          "heatmap": [
           {
            "colorbar": {
             "outlinewidth": 0,
             "ticks": ""
            },
            "colorscale": [
             [
              0,
              "#0d0887"
             ],
             [
              0.1111111111111111,
              "#46039f"
             ],
             [
              0.2222222222222222,
              "#7201a8"
             ],
             [
              0.3333333333333333,
              "#9c179e"
             ],
             [
              0.4444444444444444,
              "#bd3786"
             ],
             [
              0.5555555555555556,
              "#d8576b"
             ],
             [
              0.6666666666666666,
              "#ed7953"
             ],
             [
              0.7777777777777778,
              "#fb9f3a"
             ],
             [
              0.8888888888888888,
              "#fdca26"
             ],
             [
              1,
              "#f0f921"
             ]
            ],
            "type": "heatmap"
           }
          ],
          "histogram": [
           {
            "marker": {
             "pattern": {
              "fillmode": "overlay",
              "size": 10,
              "solidity": 0.2
             }
            },
            "type": "histogram"
           }
          ],
          "histogram2d": [
           {
            "colorbar": {
             "outlinewidth": 0,
             "ticks": ""
            },
            "colorscale": [
             [
              0,
              "#0d0887"
             ],
             [
              0.1111111111111111,
              "#46039f"
             ],
             [
              0.2222222222222222,
              "#7201a8"
             ],
             [
              0.3333333333333333,
              "#9c179e"
             ],
             [
              0.4444444444444444,
              "#bd3786"
             ],
             [
              0.5555555555555556,
              "#d8576b"
             ],
             [
              0.6666666666666666,
              "#ed7953"
             ],
             [
              0.7777777777777778,
              "#fb9f3a"
             ],
             [
              0.8888888888888888,
              "#fdca26"
             ],
             [
              1,
              "#f0f921"
             ]
            ],
            "type": "histogram2d"
           }
          ],
          "histogram2dcontour": [
           {
            "colorbar": {
             "outlinewidth": 0,
             "ticks": ""
            },
            "colorscale": [
             [
              0,
              "#0d0887"
             ],
             [
              0.1111111111111111,
              "#46039f"
             ],
             [
              0.2222222222222222,
              "#7201a8"
             ],
             [
              0.3333333333333333,
              "#9c179e"
             ],
             [
              0.4444444444444444,
              "#bd3786"
             ],
             [
              0.5555555555555556,
              "#d8576b"
             ],
             [
              0.6666666666666666,
              "#ed7953"
             ],
             [
              0.7777777777777778,
              "#fb9f3a"
             ],
             [
              0.8888888888888888,
              "#fdca26"
             ],
             [
              1,
              "#f0f921"
             ]
            ],
            "type": "histogram2dcontour"
           }
          ],
          "mesh3d": [
           {
            "colorbar": {
             "outlinewidth": 0,
             "ticks": ""
            },
            "type": "mesh3d"
           }
          ],
          "parcoords": [
           {
            "line": {
             "colorbar": {
              "outlinewidth": 0,
              "ticks": ""
             }
            },
            "type": "parcoords"
           }
          ],
          "pie": [
           {
            "automargin": true,
            "type": "pie"
           }
          ],
          "scatter": [
           {
            "fillpattern": {
             "fillmode": "overlay",
             "size": 10,
             "solidity": 0.2
            },
            "type": "scatter"
           }
          ],
          "scatter3d": [
           {
            "line": {
             "colorbar": {
              "outlinewidth": 0,
              "ticks": ""
             }
            },
            "marker": {
             "colorbar": {
              "outlinewidth": 0,
              "ticks": ""
             }
            },
            "type": "scatter3d"
           }
          ],
          "scattercarpet": [
           {
            "marker": {
             "colorbar": {
              "outlinewidth": 0,
              "ticks": ""
             }
            },
            "type": "scattercarpet"
           }
          ],
          "scattergeo": [
           {
            "marker": {
             "colorbar": {
              "outlinewidth": 0,
              "ticks": ""
             }
            },
            "type": "scattergeo"
           }
          ],
          "scattergl": [
           {
            "marker": {
             "colorbar": {
              "outlinewidth": 0,
              "ticks": ""
             }
            },
            "type": "scattergl"
           }
          ],
          "scattermap": [
           {
            "marker": {
             "colorbar": {
              "outlinewidth": 0,
              "ticks": ""
             }
            },
            "type": "scattermap"
           }
          ],
          "scattermapbox": [
           {
            "marker": {
             "colorbar": {
              "outlinewidth": 0,
              "ticks": ""
             }
            },
            "type": "scattermapbox"
           }
          ],
          "scatterpolar": [
           {
            "marker": {
             "colorbar": {
              "outlinewidth": 0,
              "ticks": ""
             }
            },
            "type": "scatterpolar"
           }
          ],
          "scatterpolargl": [
           {
            "marker": {
             "colorbar": {
              "outlinewidth": 0,
              "ticks": ""
             }
            },
            "type": "scatterpolargl"
           }
          ],
          "scatterternary": [
           {
            "marker": {
             "colorbar": {
              "outlinewidth": 0,
              "ticks": ""
             }
            },
            "type": "scatterternary"
           }
          ],
          "surface": [
           {
            "colorbar": {
             "outlinewidth": 0,
             "ticks": ""
            },
            "colorscale": [
             [
              0,
              "#0d0887"
             ],
             [
              0.1111111111111111,
              "#46039f"
             ],
             [
              0.2222222222222222,
              "#7201a8"
             ],
             [
              0.3333333333333333,
              "#9c179e"
             ],
             [
              0.4444444444444444,
              "#bd3786"
             ],
             [
              0.5555555555555556,
              "#d8576b"
             ],
             [
              0.6666666666666666,
              "#ed7953"
             ],
             [
              0.7777777777777778,
              "#fb9f3a"
             ],
             [
              0.8888888888888888,
              "#fdca26"
             ],
             [
              1,
              "#f0f921"
             ]
            ],
            "type": "surface"
           }
          ],
          "table": [
           {
            "cells": {
             "fill": {
              "color": "#EBF0F8"
             },
             "line": {
              "color": "white"
             }
            },
            "header": {
             "fill": {
              "color": "#C8D4E3"
             },
             "line": {
              "color": "white"
             }
            },
            "type": "table"
           }
          ]
         },
         "layout": {
          "annotationdefaults": {
           "arrowcolor": "#2a3f5f",
           "arrowhead": 0,
           "arrowwidth": 1
          },
          "autotypenumbers": "strict",
          "coloraxis": {
           "colorbar": {
            "outlinewidth": 0,
            "ticks": ""
           }
          },
          "colorscale": {
           "diverging": [
            [
             0,
             "#8e0152"
            ],
            [
             0.1,
             "#c51b7d"
            ],
            [
             0.2,
             "#de77ae"
            ],
            [
             0.3,
             "#f1b6da"
            ],
            [
             0.4,
             "#fde0ef"
            ],
            [
             0.5,
             "#f7f7f7"
            ],
            [
             0.6,
             "#e6f5d0"
            ],
            [
             0.7,
             "#b8e186"
            ],
            [
             0.8,
             "#7fbc41"
            ],
            [
             0.9,
             "#4d9221"
            ],
            [
             1,
             "#276419"
            ]
           ],
           "sequential": [
            [
             0,
             "#0d0887"
            ],
            [
             0.1111111111111111,
             "#46039f"
            ],
            [
             0.2222222222222222,
             "#7201a8"
            ],
            [
             0.3333333333333333,
             "#9c179e"
            ],
            [
             0.4444444444444444,
             "#bd3786"
            ],
            [
             0.5555555555555556,
             "#d8576b"
            ],
            [
             0.6666666666666666,
             "#ed7953"
            ],
            [
             0.7777777777777778,
             "#fb9f3a"
            ],
            [
             0.8888888888888888,
             "#fdca26"
            ],
            [
             1,
             "#f0f921"
            ]
           ],
           "sequentialminus": [
            [
             0,
             "#0d0887"
            ],
            [
             0.1111111111111111,
             "#46039f"
            ],
            [
             0.2222222222222222,
             "#7201a8"
            ],
            [
             0.3333333333333333,
             "#9c179e"
            ],
            [
             0.4444444444444444,
             "#bd3786"
            ],
            [
             0.5555555555555556,
             "#d8576b"
            ],
            [
             0.6666666666666666,
             "#ed7953"
            ],
            [
             0.7777777777777778,
             "#fb9f3a"
            ],
            [
             0.8888888888888888,
             "#fdca26"
            ],
            [
             1,
             "#f0f921"
            ]
           ]
          },
          "colorway": [
           "#636efa",
           "#EF553B",
           "#00cc96",
           "#ab63fa",
           "#FFA15A",
           "#19d3f3",
           "#FF6692",
           "#B6E880",
           "#FF97FF",
           "#FECB52"
          ],
          "font": {
           "color": "#2a3f5f"
          },
          "geo": {
           "bgcolor": "white",
           "lakecolor": "white",
           "landcolor": "#E5ECF6",
           "showlakes": true,
           "showland": true,
           "subunitcolor": "white"
          },
          "hoverlabel": {
           "align": "left"
          },
          "hovermode": "closest",
          "mapbox": {
           "style": "light"
          },
          "paper_bgcolor": "white",
          "plot_bgcolor": "#E5ECF6",
          "polar": {
           "angularaxis": {
            "gridcolor": "white",
            "linecolor": "white",
            "ticks": ""
           },
           "bgcolor": "#E5ECF6",
           "radialaxis": {
            "gridcolor": "white",
            "linecolor": "white",
            "ticks": ""
           }
          },
          "scene": {
           "xaxis": {
            "backgroundcolor": "#E5ECF6",
            "gridcolor": "white",
            "gridwidth": 2,
            "linecolor": "white",
            "showbackground": true,
            "ticks": "",
            "zerolinecolor": "white"
           },
           "yaxis": {
            "backgroundcolor": "#E5ECF6",
            "gridcolor": "white",
            "gridwidth": 2,
            "linecolor": "white",
            "showbackground": true,
            "ticks": "",
            "zerolinecolor": "white"
           },
           "zaxis": {
            "backgroundcolor": "#E5ECF6",
            "gridcolor": "white",
            "gridwidth": 2,
            "linecolor": "white",
            "showbackground": true,
            "ticks": "",
            "zerolinecolor": "white"
           }
          },
          "shapedefaults": {
           "line": {
            "color": "#2a3f5f"
           }
          },
          "ternary": {
           "aaxis": {
            "gridcolor": "white",
            "linecolor": "white",
            "ticks": ""
           },
           "baxis": {
            "gridcolor": "white",
            "linecolor": "white",
            "ticks": ""
           },
           "bgcolor": "#E5ECF6",
           "caxis": {
            "gridcolor": "white",
            "linecolor": "white",
            "ticks": ""
           }
          },
          "title": {
           "x": 0.05
          },
          "xaxis": {
           "automargin": true,
           "gridcolor": "white",
           "linecolor": "white",
           "ticks": "",
           "title": {
            "standoff": 15
           },
           "zerolinecolor": "white",
           "zerolinewidth": 2
          },
          "yaxis": {
           "automargin": true,
           "gridcolor": "white",
           "linecolor": "white",
           "ticks": "",
           "title": {
            "standoff": 15
           },
           "zerolinecolor": "white",
           "zerolinewidth": 2
          }
         }
        },
        "title": {
         "text": "Distribution of Gender",
         "x": 0.5
        },
        "uniformtext": {
         "minsize": 8,
         "mode": "hide"
        },
        "xaxis": {
         "anchor": "y",
         "categoryarray": [
          "Male",
          "Female"
         ],
         "categoryorder": "array",
         "domain": [
          0,
          1
         ],
         "tickangle": -45,
         "title": {
          "text": "Gender"
         }
        },
        "yaxis": {
         "anchor": "x",
         "domain": [
          0,
          1
         ],
         "title": {
          "text": "Count"
         }
        }
       }
      }
     },
     "metadata": {},
     "output_type": "display_data"
    },
    {
     "data": {
      "application/vnd.plotly.v1+json": {
       "config": {
        "plotlyServerURL": "https://plot.ly"
       },
       "data": [
        {
         "hovertemplate": "Senior Citizen=%{x}<br>count=%{text}<extra></extra>",
         "legendgroup": "No",
         "marker": {
          "color": "#636efa",
          "pattern": {
           "shape": ""
          }
         },
         "name": "No",
         "orientation": "v",
         "showlegend": true,
         "text": {
          "bdata": "AAAAAAANt0A=",
          "dtype": "f8"
         },
         "textposition": "outside",
         "texttemplate": "%{text}",
         "type": "bar",
         "x": [
          "No"
         ],
         "xaxis": "x",
         "y": {
          "bdata": "DRc=",
          "dtype": "i2"
         },
         "yaxis": "y"
        },
        {
         "hovertemplate": "Senior Citizen=%{x}<br>count=%{text}<extra></extra>",
         "legendgroup": "Yes",
         "marker": {
          "color": "#EF553B",
          "pattern": {
           "shape": ""
          }
         },
         "name": "Yes",
         "orientation": "v",
         "showlegend": true,
         "text": {
          "bdata": "AAAAAADYkUA=",
          "dtype": "f8"
         },
         "textposition": "outside",
         "texttemplate": "%{text}",
         "type": "bar",
         "x": [
          "Yes"
         ],
         "xaxis": "x",
         "y": {
          "bdata": "dgQ=",
          "dtype": "i2"
         },
         "yaxis": "y"
        }
       ],
       "layout": {
        "barmode": "relative",
        "legend": {
         "title": {
          "text": "Senior Citizen"
         },
         "tracegroupgap": 0
        },
        "showlegend": true,
        "template": {
         "data": {
          "bar": [
           {
            "error_x": {
             "color": "#2a3f5f"
            },
            "error_y": {
             "color": "#2a3f5f"
            },
            "marker": {
             "line": {
              "color": "#E5ECF6",
              "width": 0.5
             },
             "pattern": {
              "fillmode": "overlay",
              "size": 10,
              "solidity": 0.2
             }
            },
            "type": "bar"
           }
          ],
          "barpolar": [
           {
            "marker": {
             "line": {
              "color": "#E5ECF6",
              "width": 0.5
             },
             "pattern": {
              "fillmode": "overlay",
              "size": 10,
              "solidity": 0.2
             }
            },
            "type": "barpolar"
           }
          ],
          "carpet": [
           {
            "aaxis": {
             "endlinecolor": "#2a3f5f",
             "gridcolor": "white",
             "linecolor": "white",
             "minorgridcolor": "white",
             "startlinecolor": "#2a3f5f"
            },
            "baxis": {
             "endlinecolor": "#2a3f5f",
             "gridcolor": "white",
             "linecolor": "white",
             "minorgridcolor": "white",
             "startlinecolor": "#2a3f5f"
            },
            "type": "carpet"
           }
          ],
          "choropleth": [
           {
            "colorbar": {
             "outlinewidth": 0,
             "ticks": ""
            },
            "type": "choropleth"
           }
          ],
          "contour": [
           {
            "colorbar": {
             "outlinewidth": 0,
             "ticks": ""
            },
            "colorscale": [
             [
              0,
              "#0d0887"
             ],
             [
              0.1111111111111111,
              "#46039f"
             ],
             [
              0.2222222222222222,
              "#7201a8"
             ],
             [
              0.3333333333333333,
              "#9c179e"
             ],
             [
              0.4444444444444444,
              "#bd3786"
             ],
             [
              0.5555555555555556,
              "#d8576b"
             ],
             [
              0.6666666666666666,
              "#ed7953"
             ],
             [
              0.7777777777777778,
              "#fb9f3a"
             ],
             [
              0.8888888888888888,
              "#fdca26"
             ],
             [
              1,
              "#f0f921"
             ]
            ],
            "type": "contour"
           }
          ],
          "contourcarpet": [
           {
            "colorbar": {
             "outlinewidth": 0,
             "ticks": ""
            },
            "type": "contourcarpet"
           }
          ],
          "heatmap": [
           {
            "colorbar": {
             "outlinewidth": 0,
             "ticks": ""
            },
            "colorscale": [
             [
              0,
              "#0d0887"
             ],
             [
              0.1111111111111111,
              "#46039f"
             ],
             [
              0.2222222222222222,
              "#7201a8"
             ],
             [
              0.3333333333333333,
              "#9c179e"
             ],
             [
              0.4444444444444444,
              "#bd3786"
             ],
             [
              0.5555555555555556,
              "#d8576b"
             ],
             [
              0.6666666666666666,
              "#ed7953"
             ],
             [
              0.7777777777777778,
              "#fb9f3a"
             ],
             [
              0.8888888888888888,
              "#fdca26"
             ],
             [
              1,
              "#f0f921"
             ]
            ],
            "type": "heatmap"
           }
          ],
          "histogram": [
           {
            "marker": {
             "pattern": {
              "fillmode": "overlay",
              "size": 10,
              "solidity": 0.2
             }
            },
            "type": "histogram"
           }
          ],
          "histogram2d": [
           {
            "colorbar": {
             "outlinewidth": 0,
             "ticks": ""
            },
            "colorscale": [
             [
              0,
              "#0d0887"
             ],
             [
              0.1111111111111111,
              "#46039f"
             ],
             [
              0.2222222222222222,
              "#7201a8"
             ],
             [
              0.3333333333333333,
              "#9c179e"
             ],
             [
              0.4444444444444444,
              "#bd3786"
             ],
             [
              0.5555555555555556,
              "#d8576b"
             ],
             [
              0.6666666666666666,
              "#ed7953"
             ],
             [
              0.7777777777777778,
              "#fb9f3a"
             ],
             [
              0.8888888888888888,
              "#fdca26"
             ],
             [
              1,
              "#f0f921"
             ]
            ],
            "type": "histogram2d"
           }
          ],
          "histogram2dcontour": [
           {
            "colorbar": {
             "outlinewidth": 0,
             "ticks": ""
            },
            "colorscale": [
             [
              0,
              "#0d0887"
             ],
             [
              0.1111111111111111,
              "#46039f"
             ],
             [
              0.2222222222222222,
              "#7201a8"
             ],
             [
              0.3333333333333333,
              "#9c179e"
             ],
             [
              0.4444444444444444,
              "#bd3786"
             ],
             [
              0.5555555555555556,
              "#d8576b"
             ],
             [
              0.6666666666666666,
              "#ed7953"
             ],
             [
              0.7777777777777778,
              "#fb9f3a"
             ],
             [
              0.8888888888888888,
              "#fdca26"
             ],
             [
              1,
              "#f0f921"
             ]
            ],
            "type": "histogram2dcontour"
           }
          ],
          "mesh3d": [
           {
            "colorbar": {
             "outlinewidth": 0,
             "ticks": ""
            },
            "type": "mesh3d"
           }
          ],
          "parcoords": [
           {
            "line": {
             "colorbar": {
              "outlinewidth": 0,
              "ticks": ""
             }
            },
            "type": "parcoords"
           }
          ],
          "pie": [
           {
            "automargin": true,
            "type": "pie"
           }
          ],
          "scatter": [
           {
            "fillpattern": {
             "fillmode": "overlay",
             "size": 10,
             "solidity": 0.2
            },
            "type": "scatter"
           }
          ],
          "scatter3d": [
           {
            "line": {
             "colorbar": {
              "outlinewidth": 0,
              "ticks": ""
             }
            },
            "marker": {
             "colorbar": {
              "outlinewidth": 0,
              "ticks": ""
             }
            },
            "type": "scatter3d"
           }
          ],
          "scattercarpet": [
           {
            "marker": {
             "colorbar": {
              "outlinewidth": 0,
              "ticks": ""
             }
            },
            "type": "scattercarpet"
           }
          ],
          "scattergeo": [
           {
            "marker": {
             "colorbar": {
              "outlinewidth": 0,
              "ticks": ""
             }
            },
            "type": "scattergeo"
           }
          ],
          "scattergl": [
           {
            "marker": {
             "colorbar": {
              "outlinewidth": 0,
              "ticks": ""
             }
            },
            "type": "scattergl"
           }
          ],
          "scattermap": [
           {
            "marker": {
             "colorbar": {
              "outlinewidth": 0,
              "ticks": ""
             }
            },
            "type": "scattermap"
           }
          ],
          "scattermapbox": [
           {
            "marker": {
             "colorbar": {
              "outlinewidth": 0,
              "ticks": ""
             }
            },
            "type": "scattermapbox"
           }
          ],
          "scatterpolar": [
           {
            "marker": {
             "colorbar": {
              "outlinewidth": 0,
              "ticks": ""
             }
            },
            "type": "scatterpolar"
           }
          ],
          "scatterpolargl": [
           {
            "marker": {
             "colorbar": {
              "outlinewidth": 0,
              "ticks": ""
             }
            },
            "type": "scatterpolargl"
           }
          ],
          "scatterternary": [
           {
            "marker": {
             "colorbar": {
              "outlinewidth": 0,
              "ticks": ""
             }
            },
            "type": "scatterternary"
           }
          ],
          "surface": [
           {
            "colorbar": {
             "outlinewidth": 0,
             "ticks": ""
            },
            "colorscale": [
             [
              0,
              "#0d0887"
             ],
             [
              0.1111111111111111,
              "#46039f"
             ],
             [
              0.2222222222222222,
              "#7201a8"
             ],
             [
              0.3333333333333333,
              "#9c179e"
             ],
             [
              0.4444444444444444,
              "#bd3786"
             ],
             [
              0.5555555555555556,
              "#d8576b"
             ],
             [
              0.6666666666666666,
              "#ed7953"
             ],
             [
              0.7777777777777778,
              "#fb9f3a"
             ],
             [
              0.8888888888888888,
              "#fdca26"
             ],
             [
              1,
              "#f0f921"
             ]
            ],
            "type": "surface"
           }
          ],
          "table": [
           {
            "cells": {
             "fill": {
              "color": "#EBF0F8"
             },
             "line": {
              "color": "white"
             }
            },
            "header": {
             "fill": {
              "color": "#C8D4E3"
             },
             "line": {
              "color": "white"
             }
            },
            "type": "table"
           }
          ]
         },
         "layout": {
          "annotationdefaults": {
           "arrowcolor": "#2a3f5f",
           "arrowhead": 0,
           "arrowwidth": 1
          },
          "autotypenumbers": "strict",
          "coloraxis": {
           "colorbar": {
            "outlinewidth": 0,
            "ticks": ""
           }
          },
          "colorscale": {
           "diverging": [
            [
             0,
             "#8e0152"
            ],
            [
             0.1,
             "#c51b7d"
            ],
            [
             0.2,
             "#de77ae"
            ],
            [
             0.3,
             "#f1b6da"
            ],
            [
             0.4,
             "#fde0ef"
            ],
            [
             0.5,
             "#f7f7f7"
            ],
            [
             0.6,
             "#e6f5d0"
            ],
            [
             0.7,
             "#b8e186"
            ],
            [
             0.8,
             "#7fbc41"
            ],
            [
             0.9,
             "#4d9221"
            ],
            [
             1,
             "#276419"
            ]
           ],
           "sequential": [
            [
             0,
             "#0d0887"
            ],
            [
             0.1111111111111111,
             "#46039f"
            ],
            [
             0.2222222222222222,
             "#7201a8"
            ],
            [
             0.3333333333333333,
             "#9c179e"
            ],
            [
             0.4444444444444444,
             "#bd3786"
            ],
            [
             0.5555555555555556,
             "#d8576b"
            ],
            [
             0.6666666666666666,
             "#ed7953"
            ],
            [
             0.7777777777777778,
             "#fb9f3a"
            ],
            [
             0.8888888888888888,
             "#fdca26"
            ],
            [
             1,
             "#f0f921"
            ]
           ],
           "sequentialminus": [
            [
             0,
             "#0d0887"
            ],
            [
             0.1111111111111111,
             "#46039f"
            ],
            [
             0.2222222222222222,
             "#7201a8"
            ],
            [
             0.3333333333333333,
             "#9c179e"
            ],
            [
             0.4444444444444444,
             "#bd3786"
            ],
            [
             0.5555555555555556,
             "#d8576b"
            ],
            [
             0.6666666666666666,
             "#ed7953"
            ],
            [
             0.7777777777777778,
             "#fb9f3a"
            ],
            [
             0.8888888888888888,
             "#fdca26"
            ],
            [
             1,
             "#f0f921"
            ]
           ]
          },
          "colorway": [
           "#636efa",
           "#EF553B",
           "#00cc96",
           "#ab63fa",
           "#FFA15A",
           "#19d3f3",
           "#FF6692",
           "#B6E880",
           "#FF97FF",
           "#FECB52"
          ],
          "font": {
           "color": "#2a3f5f"
          },
          "geo": {
           "bgcolor": "white",
           "lakecolor": "white",
           "landcolor": "#E5ECF6",
           "showlakes": true,
           "showland": true,
           "subunitcolor": "white"
          },
          "hoverlabel": {
           "align": "left"
          },
          "hovermode": "closest",
          "mapbox": {
           "style": "light"
          },
          "paper_bgcolor": "white",
          "plot_bgcolor": "#E5ECF6",
          "polar": {
           "angularaxis": {
            "gridcolor": "white",
            "linecolor": "white",
            "ticks": ""
           },
           "bgcolor": "#E5ECF6",
           "radialaxis": {
            "gridcolor": "white",
            "linecolor": "white",
            "ticks": ""
           }
          },
          "scene": {
           "xaxis": {
            "backgroundcolor": "#E5ECF6",
            "gridcolor": "white",
            "gridwidth": 2,
            "linecolor": "white",
            "showbackground": true,
            "ticks": "",
            "zerolinecolor": "white"
           },
           "yaxis": {
            "backgroundcolor": "#E5ECF6",
            "gridcolor": "white",
            "gridwidth": 2,
            "linecolor": "white",
            "showbackground": true,
            "ticks": "",
            "zerolinecolor": "white"
           },
           "zaxis": {
            "backgroundcolor": "#E5ECF6",
            "gridcolor": "white",
            "gridwidth": 2,
            "linecolor": "white",
            "showbackground": true,
            "ticks": "",
            "zerolinecolor": "white"
           }
          },
          "shapedefaults": {
           "line": {
            "color": "#2a3f5f"
           }
          },
          "ternary": {
           "aaxis": {
            "gridcolor": "white",
            "linecolor": "white",
            "ticks": ""
           },
           "baxis": {
            "gridcolor": "white",
            "linecolor": "white",
            "ticks": ""
           },
           "bgcolor": "#E5ECF6",
           "caxis": {
            "gridcolor": "white",
            "linecolor": "white",
            "ticks": ""
           }
          },
          "title": {
           "x": 0.05
          },
          "xaxis": {
           "automargin": true,
           "gridcolor": "white",
           "linecolor": "white",
           "ticks": "",
           "title": {
            "standoff": 15
           },
           "zerolinecolor": "white",
           "zerolinewidth": 2
          },
          "yaxis": {
           "automargin": true,
           "gridcolor": "white",
           "linecolor": "white",
           "ticks": "",
           "title": {
            "standoff": 15
           },
           "zerolinecolor": "white",
           "zerolinewidth": 2
          }
         }
        },
        "title": {
         "text": "Distribution of Senior Citizen",
         "x": 0.5
        },
        "uniformtext": {
         "minsize": 8,
         "mode": "hide"
        },
        "xaxis": {
         "anchor": "y",
         "categoryarray": [
          "No",
          "Yes"
         ],
         "categoryorder": "array",
         "domain": [
          0,
          1
         ],
         "tickangle": -45,
         "title": {
          "text": "Senior Citizen"
         }
        },
        "yaxis": {
         "anchor": "x",
         "domain": [
          0,
          1
         ],
         "title": {
          "text": "Count"
         }
        }
       }
      }
     },
     "metadata": {},
     "output_type": "display_data"
    },
    {
     "data": {
      "application/vnd.plotly.v1+json": {
       "config": {
        "plotlyServerURL": "https://plot.ly"
       },
       "data": [
        {
         "hovertemplate": "Partner=%{x}<br>count=%{text}<extra></extra>",
         "legendgroup": "No",
         "marker": {
          "color": "#636efa",
          "pattern": {
           "shape": ""
          }
         },
         "name": "No",
         "orientation": "v",
         "showlegend": true,
         "text": {
          "bdata": "AAAAAAByrEA=",
          "dtype": "f8"
         },
         "textposition": "outside",
         "texttemplate": "%{text}",
         "type": "bar",
         "x": [
          "No"
         ],
         "xaxis": "x",
         "y": {
          "bdata": "OQ4=",
          "dtype": "i2"
         },
         "yaxis": "y"
        },
        {
         "hovertemplate": "Partner=%{x}<br>count=%{text}<extra></extra>",
         "legendgroup": "Yes",
         "marker": {
          "color": "#EF553B",
          "pattern": {
           "shape": ""
          }
         },
         "name": "Yes",
         "orientation": "v",
         "showlegend": true,
         "text": {
          "bdata": "AAAAAACUqkA=",
          "dtype": "f8"
         },
         "textposition": "outside",
         "texttemplate": "%{text}",
         "type": "bar",
         "x": [
          "Yes"
         ],
         "xaxis": "x",
         "y": {
          "bdata": "Sg0=",
          "dtype": "i2"
         },
         "yaxis": "y"
        }
       ],
       "layout": {
        "barmode": "relative",
        "legend": {
         "title": {
          "text": "Partner"
         },
         "tracegroupgap": 0
        },
        "showlegend": true,
        "template": {
         "data": {
          "bar": [
           {
            "error_x": {
             "color": "#2a3f5f"
            },
            "error_y": {
             "color": "#2a3f5f"
            },
            "marker": {
             "line": {
              "color": "#E5ECF6",
              "width": 0.5
             },
             "pattern": {
              "fillmode": "overlay",
              "size": 10,
              "solidity": 0.2
             }
            },
            "type": "bar"
           }
          ],
          "barpolar": [
           {
            "marker": {
             "line": {
              "color": "#E5ECF6",
              "width": 0.5
             },
             "pattern": {
              "fillmode": "overlay",
              "size": 10,
              "solidity": 0.2
             }
            },
            "type": "barpolar"
           }
          ],
          "carpet": [
           {
            "aaxis": {
             "endlinecolor": "#2a3f5f",
             "gridcolor": "white",
             "linecolor": "white",
             "minorgridcolor": "white",
             "startlinecolor": "#2a3f5f"
            },
            "baxis": {
             "endlinecolor": "#2a3f5f",
             "gridcolor": "white",
             "linecolor": "white",
             "minorgridcolor": "white",
             "startlinecolor": "#2a3f5f"
            },
            "type": "carpet"
           }
          ],
          "choropleth": [
           {
            "colorbar": {
             "outlinewidth": 0,
             "ticks": ""
            },
            "type": "choropleth"
           }
          ],
          "contour": [
           {
            "colorbar": {
             "outlinewidth": 0,
             "ticks": ""
            },
            "colorscale": [
             [
              0,
              "#0d0887"
             ],
             [
              0.1111111111111111,
              "#46039f"
             ],
             [
              0.2222222222222222,
              "#7201a8"
             ],
             [
              0.3333333333333333,
              "#9c179e"
             ],
             [
              0.4444444444444444,
              "#bd3786"
             ],
             [
              0.5555555555555556,
              "#d8576b"
             ],
             [
              0.6666666666666666,
              "#ed7953"
             ],
             [
              0.7777777777777778,
              "#fb9f3a"
             ],
             [
              0.8888888888888888,
              "#fdca26"
             ],
             [
              1,
              "#f0f921"
             ]
            ],
            "type": "contour"
           }
          ],
          "contourcarpet": [
           {
            "colorbar": {
             "outlinewidth": 0,
             "ticks": ""
            },
            "type": "contourcarpet"
           }
          ],
          "heatmap": [
           {
            "colorbar": {
             "outlinewidth": 0,
             "ticks": ""
            },
            "colorscale": [
             [
              0,
              "#0d0887"
             ],
             [
              0.1111111111111111,
              "#46039f"
             ],
             [
              0.2222222222222222,
              "#7201a8"
             ],
             [
              0.3333333333333333,
              "#9c179e"
             ],
             [
              0.4444444444444444,
              "#bd3786"
             ],
             [
              0.5555555555555556,
              "#d8576b"
             ],
             [
              0.6666666666666666,
              "#ed7953"
             ],
             [
              0.7777777777777778,
              "#fb9f3a"
             ],
             [
              0.8888888888888888,
              "#fdca26"
             ],
             [
              1,
              "#f0f921"
             ]
            ],
            "type": "heatmap"
           }
          ],
          "histogram": [
           {
            "marker": {
             "pattern": {
              "fillmode": "overlay",
              "size": 10,
              "solidity": 0.2
             }
            },
            "type": "histogram"
           }
          ],
          "histogram2d": [
           {
            "colorbar": {
             "outlinewidth": 0,
             "ticks": ""
            },
            "colorscale": [
             [
              0,
              "#0d0887"
             ],
             [
              0.1111111111111111,
              "#46039f"
             ],
             [
              0.2222222222222222,
              "#7201a8"
             ],
             [
              0.3333333333333333,
              "#9c179e"
             ],
             [
              0.4444444444444444,
              "#bd3786"
             ],
             [
              0.5555555555555556,
              "#d8576b"
             ],
             [
              0.6666666666666666,
              "#ed7953"
             ],
             [
              0.7777777777777778,
              "#fb9f3a"
             ],
             [
              0.8888888888888888,
              "#fdca26"
             ],
             [
              1,
              "#f0f921"
             ]
            ],
            "type": "histogram2d"
           }
          ],
          "histogram2dcontour": [
           {
            "colorbar": {
             "outlinewidth": 0,
             "ticks": ""
            },
            "colorscale": [
             [
              0,
              "#0d0887"
             ],
             [
              0.1111111111111111,
              "#46039f"
             ],
             [
              0.2222222222222222,
              "#7201a8"
             ],
             [
              0.3333333333333333,
              "#9c179e"
             ],
             [
              0.4444444444444444,
              "#bd3786"
             ],
             [
              0.5555555555555556,
              "#d8576b"
             ],
             [
              0.6666666666666666,
              "#ed7953"
             ],
             [
              0.7777777777777778,
              "#fb9f3a"
             ],
             [
              0.8888888888888888,
              "#fdca26"
             ],
             [
              1,
              "#f0f921"
             ]
            ],
            "type": "histogram2dcontour"
           }
          ],
          "mesh3d": [
           {
            "colorbar": {
             "outlinewidth": 0,
             "ticks": ""
            },
            "type": "mesh3d"
           }
          ],
          "parcoords": [
           {
            "line": {
             "colorbar": {
              "outlinewidth": 0,
              "ticks": ""
             }
            },
            "type": "parcoords"
           }
          ],
          "pie": [
           {
            "automargin": true,
            "type": "pie"
           }
          ],
          "scatter": [
           {
            "fillpattern": {
             "fillmode": "overlay",
             "size": 10,
             "solidity": 0.2
            },
            "type": "scatter"
           }
          ],
          "scatter3d": [
           {
            "line": {
             "colorbar": {
              "outlinewidth": 0,
              "ticks": ""
             }
            },
            "marker": {
             "colorbar": {
              "outlinewidth": 0,
              "ticks": ""
             }
            },
            "type": "scatter3d"
           }
          ],
          "scattercarpet": [
           {
            "marker": {
             "colorbar": {
              "outlinewidth": 0,
              "ticks": ""
             }
            },
            "type": "scattercarpet"
           }
          ],
          "scattergeo": [
           {
            "marker": {
             "colorbar": {
              "outlinewidth": 0,
              "ticks": ""
             }
            },
            "type": "scattergeo"
           }
          ],
          "scattergl": [
           {
            "marker": {
             "colorbar": {
              "outlinewidth": 0,
              "ticks": ""
             }
            },
            "type": "scattergl"
           }
          ],
          "scattermap": [
           {
            "marker": {
             "colorbar": {
              "outlinewidth": 0,
              "ticks": ""
             }
            },
            "type": "scattermap"
           }
          ],
          "scattermapbox": [
           {
            "marker": {
             "colorbar": {
              "outlinewidth": 0,
              "ticks": ""
             }
            },
            "type": "scattermapbox"
           }
          ],
          "scatterpolar": [
           {
            "marker": {
             "colorbar": {
              "outlinewidth": 0,
              "ticks": ""
             }
            },
            "type": "scatterpolar"
           }
          ],
          "scatterpolargl": [
           {
            "marker": {
             "colorbar": {
              "outlinewidth": 0,
              "ticks": ""
             }
            },
            "type": "scatterpolargl"
           }
          ],
          "scatterternary": [
           {
            "marker": {
             "colorbar": {
              "outlinewidth": 0,
              "ticks": ""
             }
            },
            "type": "scatterternary"
           }
          ],
          "surface": [
           {
            "colorbar": {
             "outlinewidth": 0,
             "ticks": ""
            },
            "colorscale": [
             [
              0,
              "#0d0887"
             ],
             [
              0.1111111111111111,
              "#46039f"
             ],
             [
              0.2222222222222222,
              "#7201a8"
             ],
             [
              0.3333333333333333,
              "#9c179e"
             ],
             [
              0.4444444444444444,
              "#bd3786"
             ],
             [
              0.5555555555555556,
              "#d8576b"
             ],
             [
              0.6666666666666666,
              "#ed7953"
             ],
             [
              0.7777777777777778,
              "#fb9f3a"
             ],
             [
              0.8888888888888888,
              "#fdca26"
             ],
             [
              1,
              "#f0f921"
             ]
            ],
            "type": "surface"
           }
          ],
          "table": [
           {
            "cells": {
             "fill": {
              "color": "#EBF0F8"
             },
             "line": {
              "color": "white"
             }
            },
            "header": {
             "fill": {
              "color": "#C8D4E3"
             },
             "line": {
              "color": "white"
             }
            },
            "type": "table"
           }
          ]
         },
         "layout": {
          "annotationdefaults": {
           "arrowcolor": "#2a3f5f",
           "arrowhead": 0,
           "arrowwidth": 1
          },
          "autotypenumbers": "strict",
          "coloraxis": {
           "colorbar": {
            "outlinewidth": 0,
            "ticks": ""
           }
          },
          "colorscale": {
           "diverging": [
            [
             0,
             "#8e0152"
            ],
            [
             0.1,
             "#c51b7d"
            ],
            [
             0.2,
             "#de77ae"
            ],
            [
             0.3,
             "#f1b6da"
            ],
            [
             0.4,
             "#fde0ef"
            ],
            [
             0.5,
             "#f7f7f7"
            ],
            [
             0.6,
             "#e6f5d0"
            ],
            [
             0.7,
             "#b8e186"
            ],
            [
             0.8,
             "#7fbc41"
            ],
            [
             0.9,
             "#4d9221"
            ],
            [
             1,
             "#276419"
            ]
           ],
           "sequential": [
            [
             0,
             "#0d0887"
            ],
            [
             0.1111111111111111,
             "#46039f"
            ],
            [
             0.2222222222222222,
             "#7201a8"
            ],
            [
             0.3333333333333333,
             "#9c179e"
            ],
            [
             0.4444444444444444,
             "#bd3786"
            ],
            [
             0.5555555555555556,
             "#d8576b"
            ],
            [
             0.6666666666666666,
             "#ed7953"
            ],
            [
             0.7777777777777778,
             "#fb9f3a"
            ],
            [
             0.8888888888888888,
             "#fdca26"
            ],
            [
             1,
             "#f0f921"
            ]
           ],
           "sequentialminus": [
            [
             0,
             "#0d0887"
            ],
            [
             0.1111111111111111,
             "#46039f"
            ],
            [
             0.2222222222222222,
             "#7201a8"
            ],
            [
             0.3333333333333333,
             "#9c179e"
            ],
            [
             0.4444444444444444,
             "#bd3786"
            ],
            [
             0.5555555555555556,
             "#d8576b"
            ],
            [
             0.6666666666666666,
             "#ed7953"
            ],
            [
             0.7777777777777778,
             "#fb9f3a"
            ],
            [
             0.8888888888888888,
             "#fdca26"
            ],
            [
             1,
             "#f0f921"
            ]
           ]
          },
          "colorway": [
           "#636efa",
           "#EF553B",
           "#00cc96",
           "#ab63fa",
           "#FFA15A",
           "#19d3f3",
           "#FF6692",
           "#B6E880",
           "#FF97FF",
           "#FECB52"
          ],
          "font": {
           "color": "#2a3f5f"
          },
          "geo": {
           "bgcolor": "white",
           "lakecolor": "white",
           "landcolor": "#E5ECF6",
           "showlakes": true,
           "showland": true,
           "subunitcolor": "white"
          },
          "hoverlabel": {
           "align": "left"
          },
          "hovermode": "closest",
          "mapbox": {
           "style": "light"
          },
          "paper_bgcolor": "white",
          "plot_bgcolor": "#E5ECF6",
          "polar": {
           "angularaxis": {
            "gridcolor": "white",
            "linecolor": "white",
            "ticks": ""
           },
           "bgcolor": "#E5ECF6",
           "radialaxis": {
            "gridcolor": "white",
            "linecolor": "white",
            "ticks": ""
           }
          },
          "scene": {
           "xaxis": {
            "backgroundcolor": "#E5ECF6",
            "gridcolor": "white",
            "gridwidth": 2,
            "linecolor": "white",
            "showbackground": true,
            "ticks": "",
            "zerolinecolor": "white"
           },
           "yaxis": {
            "backgroundcolor": "#E5ECF6",
            "gridcolor": "white",
            "gridwidth": 2,
            "linecolor": "white",
            "showbackground": true,
            "ticks": "",
            "zerolinecolor": "white"
           },
           "zaxis": {
            "backgroundcolor": "#E5ECF6",
            "gridcolor": "white",
            "gridwidth": 2,
            "linecolor": "white",
            "showbackground": true,
            "ticks": "",
            "zerolinecolor": "white"
           }
          },
          "shapedefaults": {
           "line": {
            "color": "#2a3f5f"
           }
          },
          "ternary": {
           "aaxis": {
            "gridcolor": "white",
            "linecolor": "white",
            "ticks": ""
           },
           "baxis": {
            "gridcolor": "white",
            "linecolor": "white",
            "ticks": ""
           },
           "bgcolor": "#E5ECF6",
           "caxis": {
            "gridcolor": "white",
            "linecolor": "white",
            "ticks": ""
           }
          },
          "title": {
           "x": 0.05
          },
          "xaxis": {
           "automargin": true,
           "gridcolor": "white",
           "linecolor": "white",
           "ticks": "",
           "title": {
            "standoff": 15
           },
           "zerolinecolor": "white",
           "zerolinewidth": 2
          },
          "yaxis": {
           "automargin": true,
           "gridcolor": "white",
           "linecolor": "white",
           "ticks": "",
           "title": {
            "standoff": 15
           },
           "zerolinecolor": "white",
           "zerolinewidth": 2
          }
         }
        },
        "title": {
         "text": "Distribution of Partner",
         "x": 0.5
        },
        "uniformtext": {
         "minsize": 8,
         "mode": "hide"
        },
        "xaxis": {
         "anchor": "y",
         "categoryarray": [
          "No",
          "Yes"
         ],
         "categoryorder": "array",
         "domain": [
          0,
          1
         ],
         "tickangle": -45,
         "title": {
          "text": "Partner"
         }
        },
        "yaxis": {
         "anchor": "x",
         "domain": [
          0,
          1
         ],
         "title": {
          "text": "Count"
         }
        }
       }
      }
     },
     "metadata": {},
     "output_type": "display_data"
    },
    {
     "data": {
      "application/vnd.plotly.v1+json": {
       "config": {
        "plotlyServerURL": "https://plot.ly"
       },
       "data": [
        {
         "hovertemplate": "Dependents=%{x}<br>count=%{text}<extra></extra>",
         "legendgroup": "No",
         "marker": {
          "color": "#636efa",
          "pattern": {
           "shape": ""
          }
         },
         "name": "No",
         "orientation": "v",
         "showlegend": true,
         "text": {
          "bdata": "AAAAAAAotUA=",
          "dtype": "f8"
         },
         "textposition": "outside",
         "texttemplate": "%{text}",
         "type": "bar",
         "x": [
          "No"
         ],
         "xaxis": "x",
         "y": {
          "bdata": "KBU=",
          "dtype": "i2"
         },
         "yaxis": "y"
        },
        {
         "hovertemplate": "Dependents=%{x}<br>count=%{text}<extra></extra>",
         "legendgroup": "Yes",
         "marker": {
          "color": "#EF553B",
          "pattern": {
           "shape": ""
          }
         },
         "name": "Yes",
         "orientation": "v",
         "showlegend": true,
         "text": {
          "bdata": "AAAAAABsmUA=",
          "dtype": "f8"
         },
         "textposition": "outside",
         "texttemplate": "%{text}",
         "type": "bar",
         "x": [
          "Yes"
         ],
         "xaxis": "x",
         "y": {
          "bdata": "WwY=",
          "dtype": "i2"
         },
         "yaxis": "y"
        }
       ],
       "layout": {
        "barmode": "relative",
        "legend": {
         "title": {
          "text": "Dependents"
         },
         "tracegroupgap": 0
        },
        "showlegend": true,
        "template": {
         "data": {
          "bar": [
           {
            "error_x": {
             "color": "#2a3f5f"
            },
            "error_y": {
             "color": "#2a3f5f"
            },
            "marker": {
             "line": {
              "color": "#E5ECF6",
              "width": 0.5
             },
             "pattern": {
              "fillmode": "overlay",
              "size": 10,
              "solidity": 0.2
             }
            },
            "type": "bar"
           }
          ],
          "barpolar": [
           {
            "marker": {
             "line": {
              "color": "#E5ECF6",
              "width": 0.5
             },
             "pattern": {
              "fillmode": "overlay",
              "size": 10,
              "solidity": 0.2
             }
            },
            "type": "barpolar"
           }
          ],
          "carpet": [
           {
            "aaxis": {
             "endlinecolor": "#2a3f5f",
             "gridcolor": "white",
             "linecolor": "white",
             "minorgridcolor": "white",
             "startlinecolor": "#2a3f5f"
            },
            "baxis": {
             "endlinecolor": "#2a3f5f",
             "gridcolor": "white",
             "linecolor": "white",
             "minorgridcolor": "white",
             "startlinecolor": "#2a3f5f"
            },
            "type": "carpet"
           }
          ],
          "choropleth": [
           {
            "colorbar": {
             "outlinewidth": 0,
             "ticks": ""
            },
            "type": "choropleth"
           }
          ],
          "contour": [
           {
            "colorbar": {
             "outlinewidth": 0,
             "ticks": ""
            },
            "colorscale": [
             [
              0,
              "#0d0887"
             ],
             [
              0.1111111111111111,
              "#46039f"
             ],
             [
              0.2222222222222222,
              "#7201a8"
             ],
             [
              0.3333333333333333,
              "#9c179e"
             ],
             [
              0.4444444444444444,
              "#bd3786"
             ],
             [
              0.5555555555555556,
              "#d8576b"
             ],
             [
              0.6666666666666666,
              "#ed7953"
             ],
             [
              0.7777777777777778,
              "#fb9f3a"
             ],
             [
              0.8888888888888888,
              "#fdca26"
             ],
             [
              1,
              "#f0f921"
             ]
            ],
            "type": "contour"
           }
          ],
          "contourcarpet": [
           {
            "colorbar": {
             "outlinewidth": 0,
             "ticks": ""
            },
            "type": "contourcarpet"
           }
          ],
          "heatmap": [
           {
            "colorbar": {
             "outlinewidth": 0,
             "ticks": ""
            },
            "colorscale": [
             [
              0,
              "#0d0887"
             ],
             [
              0.1111111111111111,
              "#46039f"
             ],
             [
              0.2222222222222222,
              "#7201a8"
             ],
             [
              0.3333333333333333,
              "#9c179e"
             ],
             [
              0.4444444444444444,
              "#bd3786"
             ],
             [
              0.5555555555555556,
              "#d8576b"
             ],
             [
              0.6666666666666666,
              "#ed7953"
             ],
             [
              0.7777777777777778,
              "#fb9f3a"
             ],
             [
              0.8888888888888888,
              "#fdca26"
             ],
             [
              1,
              "#f0f921"
             ]
            ],
            "type": "heatmap"
           }
          ],
          "histogram": [
           {
            "marker": {
             "pattern": {
              "fillmode": "overlay",
              "size": 10,
              "solidity": 0.2
             }
            },
            "type": "histogram"
           }
          ],
          "histogram2d": [
           {
            "colorbar": {
             "outlinewidth": 0,
             "ticks": ""
            },
            "colorscale": [
             [
              0,
              "#0d0887"
             ],
             [
              0.1111111111111111,
              "#46039f"
             ],
             [
              0.2222222222222222,
              "#7201a8"
             ],
             [
              0.3333333333333333,
              "#9c179e"
             ],
             [
              0.4444444444444444,
              "#bd3786"
             ],
             [
              0.5555555555555556,
              "#d8576b"
             ],
             [
              0.6666666666666666,
              "#ed7953"
             ],
             [
              0.7777777777777778,
              "#fb9f3a"
             ],
             [
              0.8888888888888888,
              "#fdca26"
             ],
             [
              1,
              "#f0f921"
             ]
            ],
            "type": "histogram2d"
           }
          ],
          "histogram2dcontour": [
           {
            "colorbar": {
             "outlinewidth": 0,
             "ticks": ""
            },
            "colorscale": [
             [
              0,
              "#0d0887"
             ],
             [
              0.1111111111111111,
              "#46039f"
             ],
             [
              0.2222222222222222,
              "#7201a8"
             ],
             [
              0.3333333333333333,
              "#9c179e"
             ],
             [
              0.4444444444444444,
              "#bd3786"
             ],
             [
              0.5555555555555556,
              "#d8576b"
             ],
             [
              0.6666666666666666,
              "#ed7953"
             ],
             [
              0.7777777777777778,
              "#fb9f3a"
             ],
             [
              0.8888888888888888,
              "#fdca26"
             ],
             [
              1,
              "#f0f921"
             ]
            ],
            "type": "histogram2dcontour"
           }
          ],
          "mesh3d": [
           {
            "colorbar": {
             "outlinewidth": 0,
             "ticks": ""
            },
            "type": "mesh3d"
           }
          ],
          "parcoords": [
           {
            "line": {
             "colorbar": {
              "outlinewidth": 0,
              "ticks": ""
             }
            },
            "type": "parcoords"
           }
          ],
          "pie": [
           {
            "automargin": true,
            "type": "pie"
           }
          ],
          "scatter": [
           {
            "fillpattern": {
             "fillmode": "overlay",
             "size": 10,
             "solidity": 0.2
            },
            "type": "scatter"
           }
          ],
          "scatter3d": [
           {
            "line": {
             "colorbar": {
              "outlinewidth": 0,
              "ticks": ""
             }
            },
            "marker": {
             "colorbar": {
              "outlinewidth": 0,
              "ticks": ""
             }
            },
            "type": "scatter3d"
           }
          ],
          "scattercarpet": [
           {
            "marker": {
             "colorbar": {
              "outlinewidth": 0,
              "ticks": ""
             }
            },
            "type": "scattercarpet"
           }
          ],
          "scattergeo": [
           {
            "marker": {
             "colorbar": {
              "outlinewidth": 0,
              "ticks": ""
             }
            },
            "type": "scattergeo"
           }
          ],
          "scattergl": [
           {
            "marker": {
             "colorbar": {
              "outlinewidth": 0,
              "ticks": ""
             }
            },
            "type": "scattergl"
           }
          ],
          "scattermap": [
           {
            "marker": {
             "colorbar": {
              "outlinewidth": 0,
              "ticks": ""
             }
            },
            "type": "scattermap"
           }
          ],
          "scattermapbox": [
           {
            "marker": {
             "colorbar": {
              "outlinewidth": 0,
              "ticks": ""
             }
            },
            "type": "scattermapbox"
           }
          ],
          "scatterpolar": [
           {
            "marker": {
             "colorbar": {
              "outlinewidth": 0,
              "ticks": ""
             }
            },
            "type": "scatterpolar"
           }
          ],
          "scatterpolargl": [
           {
            "marker": {
             "colorbar": {
              "outlinewidth": 0,
              "ticks": ""
             }
            },
            "type": "scatterpolargl"
           }
          ],
          "scatterternary": [
           {
            "marker": {
             "colorbar": {
              "outlinewidth": 0,
              "ticks": ""
             }
            },
            "type": "scatterternary"
           }
          ],
          "surface": [
           {
            "colorbar": {
             "outlinewidth": 0,
             "ticks": ""
            },
            "colorscale": [
             [
              0,
              "#0d0887"
             ],
             [
              0.1111111111111111,
              "#46039f"
             ],
             [
              0.2222222222222222,
              "#7201a8"
             ],
             [
              0.3333333333333333,
              "#9c179e"
             ],
             [
              0.4444444444444444,
              "#bd3786"
             ],
             [
              0.5555555555555556,
              "#d8576b"
             ],
             [
              0.6666666666666666,
              "#ed7953"
             ],
             [
              0.7777777777777778,
              "#fb9f3a"
             ],
             [
              0.8888888888888888,
              "#fdca26"
             ],
             [
              1,
              "#f0f921"
             ]
            ],
            "type": "surface"
           }
          ],
          "table": [
           {
            "cells": {
             "fill": {
              "color": "#EBF0F8"
             },
             "line": {
              "color": "white"
             }
            },
            "header": {
             "fill": {
              "color": "#C8D4E3"
             },
             "line": {
              "color": "white"
             }
            },
            "type": "table"
           }
          ]
         },
         "layout": {
          "annotationdefaults": {
           "arrowcolor": "#2a3f5f",
           "arrowhead": 0,
           "arrowwidth": 1
          },
          "autotypenumbers": "strict",
          "coloraxis": {
           "colorbar": {
            "outlinewidth": 0,
            "ticks": ""
           }
          },
          "colorscale": {
           "diverging": [
            [
             0,
             "#8e0152"
            ],
            [
             0.1,
             "#c51b7d"
            ],
            [
             0.2,
             "#de77ae"
            ],
            [
             0.3,
             "#f1b6da"
            ],
            [
             0.4,
             "#fde0ef"
            ],
            [
             0.5,
             "#f7f7f7"
            ],
            [
             0.6,
             "#e6f5d0"
            ],
            [
             0.7,
             "#b8e186"
            ],
            [
             0.8,
             "#7fbc41"
            ],
            [
             0.9,
             "#4d9221"
            ],
            [
             1,
             "#276419"
            ]
           ],
           "sequential": [
            [
             0,
             "#0d0887"
            ],
            [
             0.1111111111111111,
             "#46039f"
            ],
            [
             0.2222222222222222,
             "#7201a8"
            ],
            [
             0.3333333333333333,
             "#9c179e"
            ],
            [
             0.4444444444444444,
             "#bd3786"
            ],
            [
             0.5555555555555556,
             "#d8576b"
            ],
            [
             0.6666666666666666,
             "#ed7953"
            ],
            [
             0.7777777777777778,
             "#fb9f3a"
            ],
            [
             0.8888888888888888,
             "#fdca26"
            ],
            [
             1,
             "#f0f921"
            ]
           ],
           "sequentialminus": [
            [
             0,
             "#0d0887"
            ],
            [
             0.1111111111111111,
             "#46039f"
            ],
            [
             0.2222222222222222,
             "#7201a8"
            ],
            [
             0.3333333333333333,
             "#9c179e"
            ],
            [
             0.4444444444444444,
             "#bd3786"
            ],
            [
             0.5555555555555556,
             "#d8576b"
            ],
            [
             0.6666666666666666,
             "#ed7953"
            ],
            [
             0.7777777777777778,
             "#fb9f3a"
            ],
            [
             0.8888888888888888,
             "#fdca26"
            ],
            [
             1,
             "#f0f921"
            ]
           ]
          },
          "colorway": [
           "#636efa",
           "#EF553B",
           "#00cc96",
           "#ab63fa",
           "#FFA15A",
           "#19d3f3",
           "#FF6692",
           "#B6E880",
           "#FF97FF",
           "#FECB52"
          ],
          "font": {
           "color": "#2a3f5f"
          },
          "geo": {
           "bgcolor": "white",
           "lakecolor": "white",
           "landcolor": "#E5ECF6",
           "showlakes": true,
           "showland": true,
           "subunitcolor": "white"
          },
          "hoverlabel": {
           "align": "left"
          },
          "hovermode": "closest",
          "mapbox": {
           "style": "light"
          },
          "paper_bgcolor": "white",
          "plot_bgcolor": "#E5ECF6",
          "polar": {
           "angularaxis": {
            "gridcolor": "white",
            "linecolor": "white",
            "ticks": ""
           },
           "bgcolor": "#E5ECF6",
           "radialaxis": {
            "gridcolor": "white",
            "linecolor": "white",
            "ticks": ""
           }
          },
          "scene": {
           "xaxis": {
            "backgroundcolor": "#E5ECF6",
            "gridcolor": "white",
            "gridwidth": 2,
            "linecolor": "white",
            "showbackground": true,
            "ticks": "",
            "zerolinecolor": "white"
           },
           "yaxis": {
            "backgroundcolor": "#E5ECF6",
            "gridcolor": "white",
            "gridwidth": 2,
            "linecolor": "white",
            "showbackground": true,
            "ticks": "",
            "zerolinecolor": "white"
           },
           "zaxis": {
            "backgroundcolor": "#E5ECF6",
            "gridcolor": "white",
            "gridwidth": 2,
            "linecolor": "white",
            "showbackground": true,
            "ticks": "",
            "zerolinecolor": "white"
           }
          },
          "shapedefaults": {
           "line": {
            "color": "#2a3f5f"
           }
          },
          "ternary": {
           "aaxis": {
            "gridcolor": "white",
            "linecolor": "white",
            "ticks": ""
           },
           "baxis": {
            "gridcolor": "white",
            "linecolor": "white",
            "ticks": ""
           },
           "bgcolor": "#E5ECF6",
           "caxis": {
            "gridcolor": "white",
            "linecolor": "white",
            "ticks": ""
           }
          },
          "title": {
           "x": 0.05
          },
          "xaxis": {
           "automargin": true,
           "gridcolor": "white",
           "linecolor": "white",
           "ticks": "",
           "title": {
            "standoff": 15
           },
           "zerolinecolor": "white",
           "zerolinewidth": 2
          },
          "yaxis": {
           "automargin": true,
           "gridcolor": "white",
           "linecolor": "white",
           "ticks": "",
           "title": {
            "standoff": 15
           },
           "zerolinecolor": "white",
           "zerolinewidth": 2
          }
         }
        },
        "title": {
         "text": "Distribution of Dependents",
         "x": 0.5
        },
        "uniformtext": {
         "minsize": 8,
         "mode": "hide"
        },
        "xaxis": {
         "anchor": "y",
         "categoryarray": [
          "No",
          "Yes"
         ],
         "categoryorder": "array",
         "domain": [
          0,
          1
         ],
         "tickangle": -45,
         "title": {
          "text": "Dependents"
         }
        },
        "yaxis": {
         "anchor": "x",
         "domain": [
          0,
          1
         ],
         "title": {
          "text": "Count"
         }
        }
       }
      }
     },
     "metadata": {},
     "output_type": "display_data"
    },
    {
     "data": {
      "application/vnd.plotly.v1+json": {
       "config": {
        "plotlyServerURL": "https://plot.ly"
       },
       "data": [
        {
         "hovertemplate": "Phone Service=%{x}<br>count=%{text}<extra></extra>",
         "legendgroup": "Yes",
         "marker": {
          "color": "#636efa",
          "pattern": {
           "shape": ""
          }
         },
         "name": "Yes",
         "orientation": "v",
         "showlegend": true,
         "text": {
          "bdata": "AAAAAADZuEA=",
          "dtype": "f8"
         },
         "textposition": "outside",
         "texttemplate": "%{text}",
         "type": "bar",
         "x": [
          "Yes"
         ],
         "xaxis": "x",
         "y": {
          "bdata": "2Rg=",
          "dtype": "i2"
         },
         "yaxis": "y"
        },
        {
         "hovertemplate": "Phone Service=%{x}<br>count=%{text}<extra></extra>",
         "legendgroup": "No",
         "marker": {
          "color": "#EF553B",
          "pattern": {
           "shape": ""
          }
         },
         "name": "No",
         "orientation": "v",
         "showlegend": true,
         "text": {
          "bdata": "AAAAAABQhUA=",
          "dtype": "f8"
         },
         "textposition": "outside",
         "texttemplate": "%{text}",
         "type": "bar",
         "x": [
          "No"
         ],
         "xaxis": "x",
         "y": {
          "bdata": "qgI=",
          "dtype": "i2"
         },
         "yaxis": "y"
        }
       ],
       "layout": {
        "barmode": "relative",
        "legend": {
         "title": {
          "text": "Phone Service"
         },
         "tracegroupgap": 0
        },
        "showlegend": true,
        "template": {
         "data": {
          "bar": [
           {
            "error_x": {
             "color": "#2a3f5f"
            },
            "error_y": {
             "color": "#2a3f5f"
            },
            "marker": {
             "line": {
              "color": "#E5ECF6",
              "width": 0.5
             },
             "pattern": {
              "fillmode": "overlay",
              "size": 10,
              "solidity": 0.2
             }
            },
            "type": "bar"
           }
          ],
          "barpolar": [
           {
            "marker": {
             "line": {
              "color": "#E5ECF6",
              "width": 0.5
             },
             "pattern": {
              "fillmode": "overlay",
              "size": 10,
              "solidity": 0.2
             }
            },
            "type": "barpolar"
           }
          ],
          "carpet": [
           {
            "aaxis": {
             "endlinecolor": "#2a3f5f",
             "gridcolor": "white",
             "linecolor": "white",
             "minorgridcolor": "white",
             "startlinecolor": "#2a3f5f"
            },
            "baxis": {
             "endlinecolor": "#2a3f5f",
             "gridcolor": "white",
             "linecolor": "white",
             "minorgridcolor": "white",
             "startlinecolor": "#2a3f5f"
            },
            "type": "carpet"
           }
          ],
          "choropleth": [
           {
            "colorbar": {
             "outlinewidth": 0,
             "ticks": ""
            },
            "type": "choropleth"
           }
          ],
          "contour": [
           {
            "colorbar": {
             "outlinewidth": 0,
             "ticks": ""
            },
            "colorscale": [
             [
              0,
              "#0d0887"
             ],
             [
              0.1111111111111111,
              "#46039f"
             ],
             [
              0.2222222222222222,
              "#7201a8"
             ],
             [
              0.3333333333333333,
              "#9c179e"
             ],
             [
              0.4444444444444444,
              "#bd3786"
             ],
             [
              0.5555555555555556,
              "#d8576b"
             ],
             [
              0.6666666666666666,
              "#ed7953"
             ],
             [
              0.7777777777777778,
              "#fb9f3a"
             ],
             [
              0.8888888888888888,
              "#fdca26"
             ],
             [
              1,
              "#f0f921"
             ]
            ],
            "type": "contour"
           }
          ],
          "contourcarpet": [
           {
            "colorbar": {
             "outlinewidth": 0,
             "ticks": ""
            },
            "type": "contourcarpet"
           }
          ],
          "heatmap": [
           {
            "colorbar": {
             "outlinewidth": 0,
             "ticks": ""
            },
            "colorscale": [
             [
              0,
              "#0d0887"
             ],
             [
              0.1111111111111111,
              "#46039f"
             ],
             [
              0.2222222222222222,
              "#7201a8"
             ],
             [
              0.3333333333333333,
              "#9c179e"
             ],
             [
              0.4444444444444444,
              "#bd3786"
             ],
             [
              0.5555555555555556,
              "#d8576b"
             ],
             [
              0.6666666666666666,
              "#ed7953"
             ],
             [
              0.7777777777777778,
              "#fb9f3a"
             ],
             [
              0.8888888888888888,
              "#fdca26"
             ],
             [
              1,
              "#f0f921"
             ]
            ],
            "type": "heatmap"
           }
          ],
          "histogram": [
           {
            "marker": {
             "pattern": {
              "fillmode": "overlay",
              "size": 10,
              "solidity": 0.2
             }
            },
            "type": "histogram"
           }
          ],
          "histogram2d": [
           {
            "colorbar": {
             "outlinewidth": 0,
             "ticks": ""
            },
            "colorscale": [
             [
              0,
              "#0d0887"
             ],
             [
              0.1111111111111111,
              "#46039f"
             ],
             [
              0.2222222222222222,
              "#7201a8"
             ],
             [
              0.3333333333333333,
              "#9c179e"
             ],
             [
              0.4444444444444444,
              "#bd3786"
             ],
             [
              0.5555555555555556,
              "#d8576b"
             ],
             [
              0.6666666666666666,
              "#ed7953"
             ],
             [
              0.7777777777777778,
              "#fb9f3a"
             ],
             [
              0.8888888888888888,
              "#fdca26"
             ],
             [
              1,
              "#f0f921"
             ]
            ],
            "type": "histogram2d"
           }
          ],
          "histogram2dcontour": [
           {
            "colorbar": {
             "outlinewidth": 0,
             "ticks": ""
            },
            "colorscale": [
             [
              0,
              "#0d0887"
             ],
             [
              0.1111111111111111,
              "#46039f"
             ],
             [
              0.2222222222222222,
              "#7201a8"
             ],
             [
              0.3333333333333333,
              "#9c179e"
             ],
             [
              0.4444444444444444,
              "#bd3786"
             ],
             [
              0.5555555555555556,
              "#d8576b"
             ],
             [
              0.6666666666666666,
              "#ed7953"
             ],
             [
              0.7777777777777778,
              "#fb9f3a"
             ],
             [
              0.8888888888888888,
              "#fdca26"
             ],
             [
              1,
              "#f0f921"
             ]
            ],
            "type": "histogram2dcontour"
           }
          ],
          "mesh3d": [
           {
            "colorbar": {
             "outlinewidth": 0,
             "ticks": ""
            },
            "type": "mesh3d"
           }
          ],
          "parcoords": [
           {
            "line": {
             "colorbar": {
              "outlinewidth": 0,
              "ticks": ""
             }
            },
            "type": "parcoords"
           }
          ],
          "pie": [
           {
            "automargin": true,
            "type": "pie"
           }
          ],
          "scatter": [
           {
            "fillpattern": {
             "fillmode": "overlay",
             "size": 10,
             "solidity": 0.2
            },
            "type": "scatter"
           }
          ],
          "scatter3d": [
           {
            "line": {
             "colorbar": {
              "outlinewidth": 0,
              "ticks": ""
             }
            },
            "marker": {
             "colorbar": {
              "outlinewidth": 0,
              "ticks": ""
             }
            },
            "type": "scatter3d"
           }
          ],
          "scattercarpet": [
           {
            "marker": {
             "colorbar": {
              "outlinewidth": 0,
              "ticks": ""
             }
            },
            "type": "scattercarpet"
           }
          ],
          "scattergeo": [
           {
            "marker": {
             "colorbar": {
              "outlinewidth": 0,
              "ticks": ""
             }
            },
            "type": "scattergeo"
           }
          ],
          "scattergl": [
           {
            "marker": {
             "colorbar": {
              "outlinewidth": 0,
              "ticks": ""
             }
            },
            "type": "scattergl"
           }
          ],
          "scattermap": [
           {
            "marker": {
             "colorbar": {
              "outlinewidth": 0,
              "ticks": ""
             }
            },
            "type": "scattermap"
           }
          ],
          "scattermapbox": [
           {
            "marker": {
             "colorbar": {
              "outlinewidth": 0,
              "ticks": ""
             }
            },
            "type": "scattermapbox"
           }
          ],
          "scatterpolar": [
           {
            "marker": {
             "colorbar": {
              "outlinewidth": 0,
              "ticks": ""
             }
            },
            "type": "scatterpolar"
           }
          ],
          "scatterpolargl": [
           {
            "marker": {
             "colorbar": {
              "outlinewidth": 0,
              "ticks": ""
             }
            },
            "type": "scatterpolargl"
           }
          ],
          "scatterternary": [
           {
            "marker": {
             "colorbar": {
              "outlinewidth": 0,
              "ticks": ""
             }
            },
            "type": "scatterternary"
           }
          ],
          "surface": [
           {
            "colorbar": {
             "outlinewidth": 0,
             "ticks": ""
            },
            "colorscale": [
             [
              0,
              "#0d0887"
             ],
             [
              0.1111111111111111,
              "#46039f"
             ],
             [
              0.2222222222222222,
              "#7201a8"
             ],
             [
              0.3333333333333333,
              "#9c179e"
             ],
             [
              0.4444444444444444,
              "#bd3786"
             ],
             [
              0.5555555555555556,
              "#d8576b"
             ],
             [
              0.6666666666666666,
              "#ed7953"
             ],
             [
              0.7777777777777778,
              "#fb9f3a"
             ],
             [
              0.8888888888888888,
              "#fdca26"
             ],
             [
              1,
              "#f0f921"
             ]
            ],
            "type": "surface"
           }
          ],
          "table": [
           {
            "cells": {
             "fill": {
              "color": "#EBF0F8"
             },
             "line": {
              "color": "white"
             }
            },
            "header": {
             "fill": {
              "color": "#C8D4E3"
             },
             "line": {
              "color": "white"
             }
            },
            "type": "table"
           }
          ]
         },
         "layout": {
          "annotationdefaults": {
           "arrowcolor": "#2a3f5f",
           "arrowhead": 0,
           "arrowwidth": 1
          },
          "autotypenumbers": "strict",
          "coloraxis": {
           "colorbar": {
            "outlinewidth": 0,
            "ticks": ""
           }
          },
          "colorscale": {
           "diverging": [
            [
             0,
             "#8e0152"
            ],
            [
             0.1,
             "#c51b7d"
            ],
            [
             0.2,
             "#de77ae"
            ],
            [
             0.3,
             "#f1b6da"
            ],
            [
             0.4,
             "#fde0ef"
            ],
            [
             0.5,
             "#f7f7f7"
            ],
            [
             0.6,
             "#e6f5d0"
            ],
            [
             0.7,
             "#b8e186"
            ],
            [
             0.8,
             "#7fbc41"
            ],
            [
             0.9,
             "#4d9221"
            ],
            [
             1,
             "#276419"
            ]
           ],
           "sequential": [
            [
             0,
             "#0d0887"
            ],
            [
             0.1111111111111111,
             "#46039f"
            ],
            [
             0.2222222222222222,
             "#7201a8"
            ],
            [
             0.3333333333333333,
             "#9c179e"
            ],
            [
             0.4444444444444444,
             "#bd3786"
            ],
            [
             0.5555555555555556,
             "#d8576b"
            ],
            [
             0.6666666666666666,
             "#ed7953"
            ],
            [
             0.7777777777777778,
             "#fb9f3a"
            ],
            [
             0.8888888888888888,
             "#fdca26"
            ],
            [
             1,
             "#f0f921"
            ]
           ],
           "sequentialminus": [
            [
             0,
             "#0d0887"
            ],
            [
             0.1111111111111111,
             "#46039f"
            ],
            [
             0.2222222222222222,
             "#7201a8"
            ],
            [
             0.3333333333333333,
             "#9c179e"
            ],
            [
             0.4444444444444444,
             "#bd3786"
            ],
            [
             0.5555555555555556,
             "#d8576b"
            ],
            [
             0.6666666666666666,
             "#ed7953"
            ],
            [
             0.7777777777777778,
             "#fb9f3a"
            ],
            [
             0.8888888888888888,
             "#fdca26"
            ],
            [
             1,
             "#f0f921"
            ]
           ]
          },
          "colorway": [
           "#636efa",
           "#EF553B",
           "#00cc96",
           "#ab63fa",
           "#FFA15A",
           "#19d3f3",
           "#FF6692",
           "#B6E880",
           "#FF97FF",
           "#FECB52"
          ],
          "font": {
           "color": "#2a3f5f"
          },
          "geo": {
           "bgcolor": "white",
           "lakecolor": "white",
           "landcolor": "#E5ECF6",
           "showlakes": true,
           "showland": true,
           "subunitcolor": "white"
          },
          "hoverlabel": {
           "align": "left"
          },
          "hovermode": "closest",
          "mapbox": {
           "style": "light"
          },
          "paper_bgcolor": "white",
          "plot_bgcolor": "#E5ECF6",
          "polar": {
           "angularaxis": {
            "gridcolor": "white",
            "linecolor": "white",
            "ticks": ""
           },
           "bgcolor": "#E5ECF6",
           "radialaxis": {
            "gridcolor": "white",
            "linecolor": "white",
            "ticks": ""
           }
          },
          "scene": {
           "xaxis": {
            "backgroundcolor": "#E5ECF6",
            "gridcolor": "white",
            "gridwidth": 2,
            "linecolor": "white",
            "showbackground": true,
            "ticks": "",
            "zerolinecolor": "white"
           },
           "yaxis": {
            "backgroundcolor": "#E5ECF6",
            "gridcolor": "white",
            "gridwidth": 2,
            "linecolor": "white",
            "showbackground": true,
            "ticks": "",
            "zerolinecolor": "white"
           },
           "zaxis": {
            "backgroundcolor": "#E5ECF6",
            "gridcolor": "white",
            "gridwidth": 2,
            "linecolor": "white",
            "showbackground": true,
            "ticks": "",
            "zerolinecolor": "white"
           }
          },
          "shapedefaults": {
           "line": {
            "color": "#2a3f5f"
           }
          },
          "ternary": {
           "aaxis": {
            "gridcolor": "white",
            "linecolor": "white",
            "ticks": ""
           },
           "baxis": {
            "gridcolor": "white",
            "linecolor": "white",
            "ticks": ""
           },
           "bgcolor": "#E5ECF6",
           "caxis": {
            "gridcolor": "white",
            "linecolor": "white",
            "ticks": ""
           }
          },
          "title": {
           "x": 0.05
          },
          "xaxis": {
           "automargin": true,
           "gridcolor": "white",
           "linecolor": "white",
           "ticks": "",
           "title": {
            "standoff": 15
           },
           "zerolinecolor": "white",
           "zerolinewidth": 2
          },
          "yaxis": {
           "automargin": true,
           "gridcolor": "white",
           "linecolor": "white",
           "ticks": "",
           "title": {
            "standoff": 15
           },
           "zerolinecolor": "white",
           "zerolinewidth": 2
          }
         }
        },
        "title": {
         "text": "Distribution of Phone Service",
         "x": 0.5
        },
        "uniformtext": {
         "minsize": 8,
         "mode": "hide"
        },
        "xaxis": {
         "anchor": "y",
         "categoryarray": [
          "Yes",
          "No"
         ],
         "categoryorder": "array",
         "domain": [
          0,
          1
         ],
         "tickangle": -45,
         "title": {
          "text": "Phone Service"
         }
        },
        "yaxis": {
         "anchor": "x",
         "domain": [
          0,
          1
         ],
         "title": {
          "text": "Count"
         }
        }
       }
      }
     },
     "metadata": {},
     "output_type": "display_data"
    },
    {
     "data": {
      "application/vnd.plotly.v1+json": {
       "config": {
        "plotlyServerURL": "https://plot.ly"
       },
       "data": [
        {
         "hovertemplate": "Multiple Lines=%{x}<br>count=%{text}<extra></extra>",
         "legendgroup": "No",
         "marker": {
          "color": "#636efa",
          "pattern": {
           "shape": ""
          }
         },
         "name": "No",
         "orientation": "v",
         "showlegend": true,
         "text": {
          "bdata": "AAAAAAB8qkA=",
          "dtype": "f8"
         },
         "textposition": "outside",
         "texttemplate": "%{text}",
         "type": "bar",
         "x": [
          "No"
         ],
         "xaxis": "x",
         "y": {
          "bdata": "Pg0=",
          "dtype": "i2"
         },
         "yaxis": "y"
        },
        {
         "hovertemplate": "Multiple Lines=%{x}<br>count=%{text}<extra></extra>",
         "legendgroup": "Yes",
         "marker": {
          "color": "#EF553B",
          "pattern": {
           "shape": ""
          }
         },
         "name": "Yes",
         "orientation": "v",
         "showlegend": true,
         "text": {
          "bdata": "AAAAAAA2p0A=",
          "dtype": "f8"
         },
         "textposition": "outside",
         "texttemplate": "%{text}",
         "type": "bar",
         "x": [
          "Yes"
         ],
         "xaxis": "x",
         "y": {
          "bdata": "mws=",
          "dtype": "i2"
         },
         "yaxis": "y"
        },
        {
         "hovertemplate": "Multiple Lines=%{x}<br>count=%{text}<extra></extra>",
         "legendgroup": "No phone service",
         "marker": {
          "color": "#00cc96",
          "pattern": {
           "shape": ""
          }
         },
         "name": "No phone service",
         "orientation": "v",
         "showlegend": true,
         "text": {
          "bdata": "AAAAAABQhUA=",
          "dtype": "f8"
         },
         "textposition": "outside",
         "texttemplate": "%{text}",
         "type": "bar",
         "x": [
          "No phone service"
         ],
         "xaxis": "x",
         "y": {
          "bdata": "qgI=",
          "dtype": "i2"
         },
         "yaxis": "y"
        }
       ],
       "layout": {
        "barmode": "relative",
        "legend": {
         "title": {
          "text": "Multiple Lines"
         },
         "tracegroupgap": 0
        },
        "showlegend": true,
        "template": {
         "data": {
          "bar": [
           {
            "error_x": {
             "color": "#2a3f5f"
            },
            "error_y": {
             "color": "#2a3f5f"
            },
            "marker": {
             "line": {
              "color": "#E5ECF6",
              "width": 0.5
             },
             "pattern": {
              "fillmode": "overlay",
              "size": 10,
              "solidity": 0.2
             }
            },
            "type": "bar"
           }
          ],
          "barpolar": [
           {
            "marker": {
             "line": {
              "color": "#E5ECF6",
              "width": 0.5
             },
             "pattern": {
              "fillmode": "overlay",
              "size": 10,
              "solidity": 0.2
             }
            },
            "type": "barpolar"
           }
          ],
          "carpet": [
           {
            "aaxis": {
             "endlinecolor": "#2a3f5f",
             "gridcolor": "white",
             "linecolor": "white",
             "minorgridcolor": "white",
             "startlinecolor": "#2a3f5f"
            },
            "baxis": {
             "endlinecolor": "#2a3f5f",
             "gridcolor": "white",
             "linecolor": "white",
             "minorgridcolor": "white",
             "startlinecolor": "#2a3f5f"
            },
            "type": "carpet"
           }
          ],
          "choropleth": [
           {
            "colorbar": {
             "outlinewidth": 0,
             "ticks": ""
            },
            "type": "choropleth"
           }
          ],
          "contour": [
           {
            "colorbar": {
             "outlinewidth": 0,
             "ticks": ""
            },
            "colorscale": [
             [
              0,
              "#0d0887"
             ],
             [
              0.1111111111111111,
              "#46039f"
             ],
             [
              0.2222222222222222,
              "#7201a8"
             ],
             [
              0.3333333333333333,
              "#9c179e"
             ],
             [
              0.4444444444444444,
              "#bd3786"
             ],
             [
              0.5555555555555556,
              "#d8576b"
             ],
             [
              0.6666666666666666,
              "#ed7953"
             ],
             [
              0.7777777777777778,
              "#fb9f3a"
             ],
             [
              0.8888888888888888,
              "#fdca26"
             ],
             [
              1,
              "#f0f921"
             ]
            ],
            "type": "contour"
           }
          ],
          "contourcarpet": [
           {
            "colorbar": {
             "outlinewidth": 0,
             "ticks": ""
            },
            "type": "contourcarpet"
           }
          ],
          "heatmap": [
           {
            "colorbar": {
             "outlinewidth": 0,
             "ticks": ""
            },
            "colorscale": [
             [
              0,
              "#0d0887"
             ],
             [
              0.1111111111111111,
              "#46039f"
             ],
             [
              0.2222222222222222,
              "#7201a8"
             ],
             [
              0.3333333333333333,
              "#9c179e"
             ],
             [
              0.4444444444444444,
              "#bd3786"
             ],
             [
              0.5555555555555556,
              "#d8576b"
             ],
             [
              0.6666666666666666,
              "#ed7953"
             ],
             [
              0.7777777777777778,
              "#fb9f3a"
             ],
             [
              0.8888888888888888,
              "#fdca26"
             ],
             [
              1,
              "#f0f921"
             ]
            ],
            "type": "heatmap"
           }
          ],
          "histogram": [
           {
            "marker": {
             "pattern": {
              "fillmode": "overlay",
              "size": 10,
              "solidity": 0.2
             }
            },
            "type": "histogram"
           }
          ],
          "histogram2d": [
           {
            "colorbar": {
             "outlinewidth": 0,
             "ticks": ""
            },
            "colorscale": [
             [
              0,
              "#0d0887"
             ],
             [
              0.1111111111111111,
              "#46039f"
             ],
             [
              0.2222222222222222,
              "#7201a8"
             ],
             [
              0.3333333333333333,
              "#9c179e"
             ],
             [
              0.4444444444444444,
              "#bd3786"
             ],
             [
              0.5555555555555556,
              "#d8576b"
             ],
             [
              0.6666666666666666,
              "#ed7953"
             ],
             [
              0.7777777777777778,
              "#fb9f3a"
             ],
             [
              0.8888888888888888,
              "#fdca26"
             ],
             [
              1,
              "#f0f921"
             ]
            ],
            "type": "histogram2d"
           }
          ],
          "histogram2dcontour": [
           {
            "colorbar": {
             "outlinewidth": 0,
             "ticks": ""
            },
            "colorscale": [
             [
              0,
              "#0d0887"
             ],
             [
              0.1111111111111111,
              "#46039f"
             ],
             [
              0.2222222222222222,
              "#7201a8"
             ],
             [
              0.3333333333333333,
              "#9c179e"
             ],
             [
              0.4444444444444444,
              "#bd3786"
             ],
             [
              0.5555555555555556,
              "#d8576b"
             ],
             [
              0.6666666666666666,
              "#ed7953"
             ],
             [
              0.7777777777777778,
              "#fb9f3a"
             ],
             [
              0.8888888888888888,
              "#fdca26"
             ],
             [
              1,
              "#f0f921"
             ]
            ],
            "type": "histogram2dcontour"
           }
          ],
          "mesh3d": [
           {
            "colorbar": {
             "outlinewidth": 0,
             "ticks": ""
            },
            "type": "mesh3d"
           }
          ],
          "parcoords": [
           {
            "line": {
             "colorbar": {
              "outlinewidth": 0,
              "ticks": ""
             }
            },
            "type": "parcoords"
           }
          ],
          "pie": [
           {
            "automargin": true,
            "type": "pie"
           }
          ],
          "scatter": [
           {
            "fillpattern": {
             "fillmode": "overlay",
             "size": 10,
             "solidity": 0.2
            },
            "type": "scatter"
           }
          ],
          "scatter3d": [
           {
            "line": {
             "colorbar": {
              "outlinewidth": 0,
              "ticks": ""
             }
            },
            "marker": {
             "colorbar": {
              "outlinewidth": 0,
              "ticks": ""
             }
            },
            "type": "scatter3d"
           }
          ],
          "scattercarpet": [
           {
            "marker": {
             "colorbar": {
              "outlinewidth": 0,
              "ticks": ""
             }
            },
            "type": "scattercarpet"
           }
          ],
          "scattergeo": [
           {
            "marker": {
             "colorbar": {
              "outlinewidth": 0,
              "ticks": ""
             }
            },
            "type": "scattergeo"
           }
          ],
          "scattergl": [
           {
            "marker": {
             "colorbar": {
              "outlinewidth": 0,
              "ticks": ""
             }
            },
            "type": "scattergl"
           }
          ],
          "scattermap": [
           {
            "marker": {
             "colorbar": {
              "outlinewidth": 0,
              "ticks": ""
             }
            },
            "type": "scattermap"
           }
          ],
          "scattermapbox": [
           {
            "marker": {
             "colorbar": {
              "outlinewidth": 0,
              "ticks": ""
             }
            },
            "type": "scattermapbox"
           }
          ],
          "scatterpolar": [
           {
            "marker": {
             "colorbar": {
              "outlinewidth": 0,
              "ticks": ""
             }
            },
            "type": "scatterpolar"
           }
          ],
          "scatterpolargl": [
           {
            "marker": {
             "colorbar": {
              "outlinewidth": 0,
              "ticks": ""
             }
            },
            "type": "scatterpolargl"
           }
          ],
          "scatterternary": [
           {
            "marker": {
             "colorbar": {
              "outlinewidth": 0,
              "ticks": ""
             }
            },
            "type": "scatterternary"
           }
          ],
          "surface": [
           {
            "colorbar": {
             "outlinewidth": 0,
             "ticks": ""
            },
            "colorscale": [
             [
              0,
              "#0d0887"
             ],
             [
              0.1111111111111111,
              "#46039f"
             ],
             [
              0.2222222222222222,
              "#7201a8"
             ],
             [
              0.3333333333333333,
              "#9c179e"
             ],
             [
              0.4444444444444444,
              "#bd3786"
             ],
             [
              0.5555555555555556,
              "#d8576b"
             ],
             [
              0.6666666666666666,
              "#ed7953"
             ],
             [
              0.7777777777777778,
              "#fb9f3a"
             ],
             [
              0.8888888888888888,
              "#fdca26"
             ],
             [
              1,
              "#f0f921"
             ]
            ],
            "type": "surface"
           }
          ],
          "table": [
           {
            "cells": {
             "fill": {
              "color": "#EBF0F8"
             },
             "line": {
              "color": "white"
             }
            },
            "header": {
             "fill": {
              "color": "#C8D4E3"
             },
             "line": {
              "color": "white"
             }
            },
            "type": "table"
           }
          ]
         },
         "layout": {
          "annotationdefaults": {
           "arrowcolor": "#2a3f5f",
           "arrowhead": 0,
           "arrowwidth": 1
          },
          "autotypenumbers": "strict",
          "coloraxis": {
           "colorbar": {
            "outlinewidth": 0,
            "ticks": ""
           }
          },
          "colorscale": {
           "diverging": [
            [
             0,
             "#8e0152"
            ],
            [
             0.1,
             "#c51b7d"
            ],
            [
             0.2,
             "#de77ae"
            ],
            [
             0.3,
             "#f1b6da"
            ],
            [
             0.4,
             "#fde0ef"
            ],
            [
             0.5,
             "#f7f7f7"
            ],
            [
             0.6,
             "#e6f5d0"
            ],
            [
             0.7,
             "#b8e186"
            ],
            [
             0.8,
             "#7fbc41"
            ],
            [
             0.9,
             "#4d9221"
            ],
            [
             1,
             "#276419"
            ]
           ],
           "sequential": [
            [
             0,
             "#0d0887"
            ],
            [
             0.1111111111111111,
             "#46039f"
            ],
            [
             0.2222222222222222,
             "#7201a8"
            ],
            [
             0.3333333333333333,
             "#9c179e"
            ],
            [
             0.4444444444444444,
             "#bd3786"
            ],
            [
             0.5555555555555556,
             "#d8576b"
            ],
            [
             0.6666666666666666,
             "#ed7953"
            ],
            [
             0.7777777777777778,
             "#fb9f3a"
            ],
            [
             0.8888888888888888,
             "#fdca26"
            ],
            [
             1,
             "#f0f921"
            ]
           ],
           "sequentialminus": [
            [
             0,
             "#0d0887"
            ],
            [
             0.1111111111111111,
             "#46039f"
            ],
            [
             0.2222222222222222,
             "#7201a8"
            ],
            [
             0.3333333333333333,
             "#9c179e"
            ],
            [
             0.4444444444444444,
             "#bd3786"
            ],
            [
             0.5555555555555556,
             "#d8576b"
            ],
            [
             0.6666666666666666,
             "#ed7953"
            ],
            [
             0.7777777777777778,
             "#fb9f3a"
            ],
            [
             0.8888888888888888,
             "#fdca26"
            ],
            [
             1,
             "#f0f921"
            ]
           ]
          },
          "colorway": [
           "#636efa",
           "#EF553B",
           "#00cc96",
           "#ab63fa",
           "#FFA15A",
           "#19d3f3",
           "#FF6692",
           "#B6E880",
           "#FF97FF",
           "#FECB52"
          ],
          "font": {
           "color": "#2a3f5f"
          },
          "geo": {
           "bgcolor": "white",
           "lakecolor": "white",
           "landcolor": "#E5ECF6",
           "showlakes": true,
           "showland": true,
           "subunitcolor": "white"
          },
          "hoverlabel": {
           "align": "left"
          },
          "hovermode": "closest",
          "mapbox": {
           "style": "light"
          },
          "paper_bgcolor": "white",
          "plot_bgcolor": "#E5ECF6",
          "polar": {
           "angularaxis": {
            "gridcolor": "white",
            "linecolor": "white",
            "ticks": ""
           },
           "bgcolor": "#E5ECF6",
           "radialaxis": {
            "gridcolor": "white",
            "linecolor": "white",
            "ticks": ""
           }
          },
          "scene": {
           "xaxis": {
            "backgroundcolor": "#E5ECF6",
            "gridcolor": "white",
            "gridwidth": 2,
            "linecolor": "white",
            "showbackground": true,
            "ticks": "",
            "zerolinecolor": "white"
           },
           "yaxis": {
            "backgroundcolor": "#E5ECF6",
            "gridcolor": "white",
            "gridwidth": 2,
            "linecolor": "white",
            "showbackground": true,
            "ticks": "",
            "zerolinecolor": "white"
           },
           "zaxis": {
            "backgroundcolor": "#E5ECF6",
            "gridcolor": "white",
            "gridwidth": 2,
            "linecolor": "white",
            "showbackground": true,
            "ticks": "",
            "zerolinecolor": "white"
           }
          },
          "shapedefaults": {
           "line": {
            "color": "#2a3f5f"
           }
          },
          "ternary": {
           "aaxis": {
            "gridcolor": "white",
            "linecolor": "white",
            "ticks": ""
           },
           "baxis": {
            "gridcolor": "white",
            "linecolor": "white",
            "ticks": ""
           },
           "bgcolor": "#E5ECF6",
           "caxis": {
            "gridcolor": "white",
            "linecolor": "white",
            "ticks": ""
           }
          },
          "title": {
           "x": 0.05
          },
          "xaxis": {
           "automargin": true,
           "gridcolor": "white",
           "linecolor": "white",
           "ticks": "",
           "title": {
            "standoff": 15
           },
           "zerolinecolor": "white",
           "zerolinewidth": 2
          },
          "yaxis": {
           "automargin": true,
           "gridcolor": "white",
           "linecolor": "white",
           "ticks": "",
           "title": {
            "standoff": 15
           },
           "zerolinecolor": "white",
           "zerolinewidth": 2
          }
         }
        },
        "title": {
         "text": "Distribution of Multiple Lines",
         "x": 0.5
        },
        "uniformtext": {
         "minsize": 8,
         "mode": "hide"
        },
        "xaxis": {
         "anchor": "y",
         "categoryarray": [
          "No",
          "Yes",
          "No phone service"
         ],
         "categoryorder": "array",
         "domain": [
          0,
          1
         ],
         "tickangle": -45,
         "title": {
          "text": "Multiple Lines"
         }
        },
        "yaxis": {
         "anchor": "x",
         "domain": [
          0,
          1
         ],
         "title": {
          "text": "Count"
         }
        }
       }
      }
     },
     "metadata": {},
     "output_type": "display_data"
    },
    {
     "data": {
      "application/vnd.plotly.v1+json": {
       "config": {
        "plotlyServerURL": "https://plot.ly"
       },
       "data": [
        {
         "hovertemplate": "Internet Service=%{x}<br>count=%{text}<extra></extra>",
         "legendgroup": "Fiber optic",
         "marker": {
          "color": "#636efa",
          "pattern": {
           "shape": ""
          }
         },
         "name": "Fiber optic",
         "orientation": "v",
         "showlegend": true,
         "text": {
          "bdata": "AAAAAAAwqEA=",
          "dtype": "f8"
         },
         "textposition": "outside",
         "texttemplate": "%{text}",
         "type": "bar",
         "x": [
          "Fiber optic"
         ],
         "xaxis": "x",
         "y": {
          "bdata": "GAw=",
          "dtype": "i2"
         },
         "yaxis": "y"
        },
        {
         "hovertemplate": "Internet Service=%{x}<br>count=%{text}<extra></extra>",
         "legendgroup": "DSL",
         "marker": {
          "color": "#EF553B",
          "pattern": {
           "shape": ""
          }
         },
         "name": "DSL",
         "orientation": "v",
         "showlegend": true,
         "text": {
          "bdata": "AAAAAADqokA=",
          "dtype": "f8"
         },
         "textposition": "outside",
         "texttemplate": "%{text}",
         "type": "bar",
         "x": [
          "DSL"
         ],
         "xaxis": "x",
         "y": {
          "bdata": "dQk=",
          "dtype": "i2"
         },
         "yaxis": "y"
        },
        {
         "hovertemplate": "Internet Service=%{x}<br>count=%{text}<extra></extra>",
         "legendgroup": "No",
         "marker": {
          "color": "#00cc96",
          "pattern": {
           "shape": ""
          }
         },
         "name": "No",
         "orientation": "v",
         "showlegend": true,
         "text": {
          "bdata": "AAAAAADYl0A=",
          "dtype": "f8"
         },
         "textposition": "outside",
         "texttemplate": "%{text}",
         "type": "bar",
         "x": [
          "No"
         ],
         "xaxis": "x",
         "y": {
          "bdata": "9gU=",
          "dtype": "i2"
         },
         "yaxis": "y"
        }
       ],
       "layout": {
        "barmode": "relative",
        "legend": {
         "title": {
          "text": "Internet Service"
         },
         "tracegroupgap": 0
        },
        "showlegend": true,
        "template": {
         "data": {
          "bar": [
           {
            "error_x": {
             "color": "#2a3f5f"
            },
            "error_y": {
             "color": "#2a3f5f"
            },
            "marker": {
             "line": {
              "color": "#E5ECF6",
              "width": 0.5
             },
             "pattern": {
              "fillmode": "overlay",
              "size": 10,
              "solidity": 0.2
             }
            },
            "type": "bar"
           }
          ],
          "barpolar": [
           {
            "marker": {
             "line": {
              "color": "#E5ECF6",
              "width": 0.5
             },
             "pattern": {
              "fillmode": "overlay",
              "size": 10,
              "solidity": 0.2
             }
            },
            "type": "barpolar"
           }
          ],
          "carpet": [
           {
            "aaxis": {
             "endlinecolor": "#2a3f5f",
             "gridcolor": "white",
             "linecolor": "white",
             "minorgridcolor": "white",
             "startlinecolor": "#2a3f5f"
            },
            "baxis": {
             "endlinecolor": "#2a3f5f",
             "gridcolor": "white",
             "linecolor": "white",
             "minorgridcolor": "white",
             "startlinecolor": "#2a3f5f"
            },
            "type": "carpet"
           }
          ],
          "choropleth": [
           {
            "colorbar": {
             "outlinewidth": 0,
             "ticks": ""
            },
            "type": "choropleth"
           }
          ],
          "contour": [
           {
            "colorbar": {
             "outlinewidth": 0,
             "ticks": ""
            },
            "colorscale": [
             [
              0,
              "#0d0887"
             ],
             [
              0.1111111111111111,
              "#46039f"
             ],
             [
              0.2222222222222222,
              "#7201a8"
             ],
             [
              0.3333333333333333,
              "#9c179e"
             ],
             [
              0.4444444444444444,
              "#bd3786"
             ],
             [
              0.5555555555555556,
              "#d8576b"
             ],
             [
              0.6666666666666666,
              "#ed7953"
             ],
             [
              0.7777777777777778,
              "#fb9f3a"
             ],
             [
              0.8888888888888888,
              "#fdca26"
             ],
             [
              1,
              "#f0f921"
             ]
            ],
            "type": "contour"
           }
          ],
          "contourcarpet": [
           {
            "colorbar": {
             "outlinewidth": 0,
             "ticks": ""
            },
            "type": "contourcarpet"
           }
          ],
          "heatmap": [
           {
            "colorbar": {
             "outlinewidth": 0,
             "ticks": ""
            },
            "colorscale": [
             [
              0,
              "#0d0887"
             ],
             [
              0.1111111111111111,
              "#46039f"
             ],
             [
              0.2222222222222222,
              "#7201a8"
             ],
             [
              0.3333333333333333,
              "#9c179e"
             ],
             [
              0.4444444444444444,
              "#bd3786"
             ],
             [
              0.5555555555555556,
              "#d8576b"
             ],
             [
              0.6666666666666666,
              "#ed7953"
             ],
             [
              0.7777777777777778,
              "#fb9f3a"
             ],
             [
              0.8888888888888888,
              "#fdca26"
             ],
             [
              1,
              "#f0f921"
             ]
            ],
            "type": "heatmap"
           }
          ],
          "histogram": [
           {
            "marker": {
             "pattern": {
              "fillmode": "overlay",
              "size": 10,
              "solidity": 0.2
             }
            },
            "type": "histogram"
           }
          ],
          "histogram2d": [
           {
            "colorbar": {
             "outlinewidth": 0,
             "ticks": ""
            },
            "colorscale": [
             [
              0,
              "#0d0887"
             ],
             [
              0.1111111111111111,
              "#46039f"
             ],
             [
              0.2222222222222222,
              "#7201a8"
             ],
             [
              0.3333333333333333,
              "#9c179e"
             ],
             [
              0.4444444444444444,
              "#bd3786"
             ],
             [
              0.5555555555555556,
              "#d8576b"
             ],
             [
              0.6666666666666666,
              "#ed7953"
             ],
             [
              0.7777777777777778,
              "#fb9f3a"
             ],
             [
              0.8888888888888888,
              "#fdca26"
             ],
             [
              1,
              "#f0f921"
             ]
            ],
            "type": "histogram2d"
           }
          ],
          "histogram2dcontour": [
           {
            "colorbar": {
             "outlinewidth": 0,
             "ticks": ""
            },
            "colorscale": [
             [
              0,
              "#0d0887"
             ],
             [
              0.1111111111111111,
              "#46039f"
             ],
             [
              0.2222222222222222,
              "#7201a8"
             ],
             [
              0.3333333333333333,
              "#9c179e"
             ],
             [
              0.4444444444444444,
              "#bd3786"
             ],
             [
              0.5555555555555556,
              "#d8576b"
             ],
             [
              0.6666666666666666,
              "#ed7953"
             ],
             [
              0.7777777777777778,
              "#fb9f3a"
             ],
             [
              0.8888888888888888,
              "#fdca26"
             ],
             [
              1,
              "#f0f921"
             ]
            ],
            "type": "histogram2dcontour"
           }
          ],
          "mesh3d": [
           {
            "colorbar": {
             "outlinewidth": 0,
             "ticks": ""
            },
            "type": "mesh3d"
           }
          ],
          "parcoords": [
           {
            "line": {
             "colorbar": {
              "outlinewidth": 0,
              "ticks": ""
             }
            },
            "type": "parcoords"
           }
          ],
          "pie": [
           {
            "automargin": true,
            "type": "pie"
           }
          ],
          "scatter": [
           {
            "fillpattern": {
             "fillmode": "overlay",
             "size": 10,
             "solidity": 0.2
            },
            "type": "scatter"
           }
          ],
          "scatter3d": [
           {
            "line": {
             "colorbar": {
              "outlinewidth": 0,
              "ticks": ""
             }
            },
            "marker": {
             "colorbar": {
              "outlinewidth": 0,
              "ticks": ""
             }
            },
            "type": "scatter3d"
           }
          ],
          "scattercarpet": [
           {
            "marker": {
             "colorbar": {
              "outlinewidth": 0,
              "ticks": ""
             }
            },
            "type": "scattercarpet"
           }
          ],
          "scattergeo": [
           {
            "marker": {
             "colorbar": {
              "outlinewidth": 0,
              "ticks": ""
             }
            },
            "type": "scattergeo"
           }
          ],
          "scattergl": [
           {
            "marker": {
             "colorbar": {
              "outlinewidth": 0,
              "ticks": ""
             }
            },
            "type": "scattergl"
           }
          ],
          "scattermap": [
           {
            "marker": {
             "colorbar": {
              "outlinewidth": 0,
              "ticks": ""
             }
            },
            "type": "scattermap"
           }
          ],
          "scattermapbox": [
           {
            "marker": {
             "colorbar": {
              "outlinewidth": 0,
              "ticks": ""
             }
            },
            "type": "scattermapbox"
           }
          ],
          "scatterpolar": [
           {
            "marker": {
             "colorbar": {
              "outlinewidth": 0,
              "ticks": ""
             }
            },
            "type": "scatterpolar"
           }
          ],
          "scatterpolargl": [
           {
            "marker": {
             "colorbar": {
              "outlinewidth": 0,
              "ticks": ""
             }
            },
            "type": "scatterpolargl"
           }
          ],
          "scatterternary": [
           {
            "marker": {
             "colorbar": {
              "outlinewidth": 0,
              "ticks": ""
             }
            },
            "type": "scatterternary"
           }
          ],
          "surface": [
           {
            "colorbar": {
             "outlinewidth": 0,
             "ticks": ""
            },
            "colorscale": [
             [
              0,
              "#0d0887"
             ],
             [
              0.1111111111111111,
              "#46039f"
             ],
             [
              0.2222222222222222,
              "#7201a8"
             ],
             [
              0.3333333333333333,
              "#9c179e"
             ],
             [
              0.4444444444444444,
              "#bd3786"
             ],
             [
              0.5555555555555556,
              "#d8576b"
             ],
             [
              0.6666666666666666,
              "#ed7953"
             ],
             [
              0.7777777777777778,
              "#fb9f3a"
             ],
             [
              0.8888888888888888,
              "#fdca26"
             ],
             [
              1,
              "#f0f921"
             ]
            ],
            "type": "surface"
           }
          ],
          "table": [
           {
            "cells": {
             "fill": {
              "color": "#EBF0F8"
             },
             "line": {
              "color": "white"
             }
            },
            "header": {
             "fill": {
              "color": "#C8D4E3"
             },
             "line": {
              "color": "white"
             }
            },
            "type": "table"
           }
          ]
         },
         "layout": {
          "annotationdefaults": {
           "arrowcolor": "#2a3f5f",
           "arrowhead": 0,
           "arrowwidth": 1
          },
          "autotypenumbers": "strict",
          "coloraxis": {
           "colorbar": {
            "outlinewidth": 0,
            "ticks": ""
           }
          },
          "colorscale": {
           "diverging": [
            [
             0,
             "#8e0152"
            ],
            [
             0.1,
             "#c51b7d"
            ],
            [
             0.2,
             "#de77ae"
            ],
            [
             0.3,
             "#f1b6da"
            ],
            [
             0.4,
             "#fde0ef"
            ],
            [
             0.5,
             "#f7f7f7"
            ],
            [
             0.6,
             "#e6f5d0"
            ],
            [
             0.7,
             "#b8e186"
            ],
            [
             0.8,
             "#7fbc41"
            ],
            [
             0.9,
             "#4d9221"
            ],
            [
             1,
             "#276419"
            ]
           ],
           "sequential": [
            [
             0,
             "#0d0887"
            ],
            [
             0.1111111111111111,
             "#46039f"
            ],
            [
             0.2222222222222222,
             "#7201a8"
            ],
            [
             0.3333333333333333,
             "#9c179e"
            ],
            [
             0.4444444444444444,
             "#bd3786"
            ],
            [
             0.5555555555555556,
             "#d8576b"
            ],
            [
             0.6666666666666666,
             "#ed7953"
            ],
            [
             0.7777777777777778,
             "#fb9f3a"
            ],
            [
             0.8888888888888888,
             "#fdca26"
            ],
            [
             1,
             "#f0f921"
            ]
           ],
           "sequentialminus": [
            [
             0,
             "#0d0887"
            ],
            [
             0.1111111111111111,
             "#46039f"
            ],
            [
             0.2222222222222222,
             "#7201a8"
            ],
            [
             0.3333333333333333,
             "#9c179e"
            ],
            [
             0.4444444444444444,
             "#bd3786"
            ],
            [
             0.5555555555555556,
             "#d8576b"
            ],
            [
             0.6666666666666666,
             "#ed7953"
            ],
            [
             0.7777777777777778,
             "#fb9f3a"
            ],
            [
             0.8888888888888888,
             "#fdca26"
            ],
            [
             1,
             "#f0f921"
            ]
           ]
          },
          "colorway": [
           "#636efa",
           "#EF553B",
           "#00cc96",
           "#ab63fa",
           "#FFA15A",
           "#19d3f3",
           "#FF6692",
           "#B6E880",
           "#FF97FF",
           "#FECB52"
          ],
          "font": {
           "color": "#2a3f5f"
          },
          "geo": {
           "bgcolor": "white",
           "lakecolor": "white",
           "landcolor": "#E5ECF6",
           "showlakes": true,
           "showland": true,
           "subunitcolor": "white"
          },
          "hoverlabel": {
           "align": "left"
          },
          "hovermode": "closest",
          "mapbox": {
           "style": "light"
          },
          "paper_bgcolor": "white",
          "plot_bgcolor": "#E5ECF6",
          "polar": {
           "angularaxis": {
            "gridcolor": "white",
            "linecolor": "white",
            "ticks": ""
           },
           "bgcolor": "#E5ECF6",
           "radialaxis": {
            "gridcolor": "white",
            "linecolor": "white",
            "ticks": ""
           }
          },
          "scene": {
           "xaxis": {
            "backgroundcolor": "#E5ECF6",
            "gridcolor": "white",
            "gridwidth": 2,
            "linecolor": "white",
            "showbackground": true,
            "ticks": "",
            "zerolinecolor": "white"
           },
           "yaxis": {
            "backgroundcolor": "#E5ECF6",
            "gridcolor": "white",
            "gridwidth": 2,
            "linecolor": "white",
            "showbackground": true,
            "ticks": "",
            "zerolinecolor": "white"
           },
           "zaxis": {
            "backgroundcolor": "#E5ECF6",
            "gridcolor": "white",
            "gridwidth": 2,
            "linecolor": "white",
            "showbackground": true,
            "ticks": "",
            "zerolinecolor": "white"
           }
          },
          "shapedefaults": {
           "line": {
            "color": "#2a3f5f"
           }
          },
          "ternary": {
           "aaxis": {
            "gridcolor": "white",
            "linecolor": "white",
            "ticks": ""
           },
           "baxis": {
            "gridcolor": "white",
            "linecolor": "white",
            "ticks": ""
           },
           "bgcolor": "#E5ECF6",
           "caxis": {
            "gridcolor": "white",
            "linecolor": "white",
            "ticks": ""
           }
          },
          "title": {
           "x": 0.05
          },
          "xaxis": {
           "automargin": true,
           "gridcolor": "white",
           "linecolor": "white",
           "ticks": "",
           "title": {
            "standoff": 15
           },
           "zerolinecolor": "white",
           "zerolinewidth": 2
          },
          "yaxis": {
           "automargin": true,
           "gridcolor": "white",
           "linecolor": "white",
           "ticks": "",
           "title": {
            "standoff": 15
           },
           "zerolinecolor": "white",
           "zerolinewidth": 2
          }
         }
        },
        "title": {
         "text": "Distribution of Internet Service",
         "x": 0.5
        },
        "uniformtext": {
         "minsize": 8,
         "mode": "hide"
        },
        "xaxis": {
         "anchor": "y",
         "categoryarray": [
          "Fiber optic",
          "DSL",
          "No"
         ],
         "categoryorder": "array",
         "domain": [
          0,
          1
         ],
         "tickangle": -45,
         "title": {
          "text": "Internet Service"
         }
        },
        "yaxis": {
         "anchor": "x",
         "domain": [
          0,
          1
         ],
         "title": {
          "text": "Count"
         }
        }
       }
      }
     },
     "metadata": {},
     "output_type": "display_data"
    },
    {
     "data": {
      "application/vnd.plotly.v1+json": {
       "config": {
        "plotlyServerURL": "https://plot.ly"
       },
       "data": [
        {
         "hovertemplate": "Online Security=%{x}<br>count=%{text}<extra></extra>",
         "legendgroup": "No",
         "marker": {
          "color": "#636efa",
          "pattern": {
           "shape": ""
          }
         },
         "name": "No",
         "orientation": "v",
         "showlegend": true,
         "text": {
          "bdata": "AAAAAABUq0A=",
          "dtype": "f8"
         },
         "textposition": "outside",
         "texttemplate": "%{text}",
         "type": "bar",
         "x": [
          "No"
         ],
         "xaxis": "x",
         "y": {
          "bdata": "qg0=",
          "dtype": "i2"
         },
         "yaxis": "y"
        },
        {
         "hovertemplate": "Online Security=%{x}<br>count=%{text}<extra></extra>",
         "legendgroup": "Yes",
         "marker": {
          "color": "#EF553B",
          "pattern": {
           "shape": ""
          }
         },
         "name": "Yes",
         "orientation": "v",
         "showlegend": true,
         "text": {
          "bdata": "AAAAAACMn0A=",
          "dtype": "f8"
         },
         "textposition": "outside",
         "texttemplate": "%{text}",
         "type": "bar",
         "x": [
          "Yes"
         ],
         "xaxis": "x",
         "y": {
          "bdata": "4wc=",
          "dtype": "i2"
         },
         "yaxis": "y"
        },
        {
         "hovertemplate": "Online Security=%{x}<br>count=%{text}<extra></extra>",
         "legendgroup": "No internet service",
         "marker": {
          "color": "#00cc96",
          "pattern": {
           "shape": ""
          }
         },
         "name": "No internet service",
         "orientation": "v",
         "showlegend": true,
         "text": {
          "bdata": "AAAAAADYl0A=",
          "dtype": "f8"
         },
         "textposition": "outside",
         "texttemplate": "%{text}",
         "type": "bar",
         "x": [
          "No internet service"
         ],
         "xaxis": "x",
         "y": {
          "bdata": "9gU=",
          "dtype": "i2"
         },
         "yaxis": "y"
        }
       ],
       "layout": {
        "barmode": "relative",
        "legend": {
         "title": {
          "text": "Online Security"
         },
         "tracegroupgap": 0
        },
        "showlegend": true,
        "template": {
         "data": {
          "bar": [
           {
            "error_x": {
             "color": "#2a3f5f"
            },
            "error_y": {
             "color": "#2a3f5f"
            },
            "marker": {
             "line": {
              "color": "#E5ECF6",
              "width": 0.5
             },
             "pattern": {
              "fillmode": "overlay",
              "size": 10,
              "solidity": 0.2
             }
            },
            "type": "bar"
           }
          ],
          "barpolar": [
           {
            "marker": {
             "line": {
              "color": "#E5ECF6",
              "width": 0.5
             },
             "pattern": {
              "fillmode": "overlay",
              "size": 10,
              "solidity": 0.2
             }
            },
            "type": "barpolar"
           }
          ],
          "carpet": [
           {
            "aaxis": {
             "endlinecolor": "#2a3f5f",
             "gridcolor": "white",
             "linecolor": "white",
             "minorgridcolor": "white",
             "startlinecolor": "#2a3f5f"
            },
            "baxis": {
             "endlinecolor": "#2a3f5f",
             "gridcolor": "white",
             "linecolor": "white",
             "minorgridcolor": "white",
             "startlinecolor": "#2a3f5f"
            },
            "type": "carpet"
           }
          ],
          "choropleth": [
           {
            "colorbar": {
             "outlinewidth": 0,
             "ticks": ""
            },
            "type": "choropleth"
           }
          ],
          "contour": [
           {
            "colorbar": {
             "outlinewidth": 0,
             "ticks": ""
            },
            "colorscale": [
             [
              0,
              "#0d0887"
             ],
             [
              0.1111111111111111,
              "#46039f"
             ],
             [
              0.2222222222222222,
              "#7201a8"
             ],
             [
              0.3333333333333333,
              "#9c179e"
             ],
             [
              0.4444444444444444,
              "#bd3786"
             ],
             [
              0.5555555555555556,
              "#d8576b"
             ],
             [
              0.6666666666666666,
              "#ed7953"
             ],
             [
              0.7777777777777778,
              "#fb9f3a"
             ],
             [
              0.8888888888888888,
              "#fdca26"
             ],
             [
              1,
              "#f0f921"
             ]
            ],
            "type": "contour"
           }
          ],
          "contourcarpet": [
           {
            "colorbar": {
             "outlinewidth": 0,
             "ticks": ""
            },
            "type": "contourcarpet"
           }
          ],
          "heatmap": [
           {
            "colorbar": {
             "outlinewidth": 0,
             "ticks": ""
            },
            "colorscale": [
             [
              0,
              "#0d0887"
             ],
             [
              0.1111111111111111,
              "#46039f"
             ],
             [
              0.2222222222222222,
              "#7201a8"
             ],
             [
              0.3333333333333333,
              "#9c179e"
             ],
             [
              0.4444444444444444,
              "#bd3786"
             ],
             [
              0.5555555555555556,
              "#d8576b"
             ],
             [
              0.6666666666666666,
              "#ed7953"
             ],
             [
              0.7777777777777778,
              "#fb9f3a"
             ],
             [
              0.8888888888888888,
              "#fdca26"
             ],
             [
              1,
              "#f0f921"
             ]
            ],
            "type": "heatmap"
           }
          ],
          "histogram": [
           {
            "marker": {
             "pattern": {
              "fillmode": "overlay",
              "size": 10,
              "solidity": 0.2
             }
            },
            "type": "histogram"
           }
          ],
          "histogram2d": [
           {
            "colorbar": {
             "outlinewidth": 0,
             "ticks": ""
            },
            "colorscale": [
             [
              0,
              "#0d0887"
             ],
             [
              0.1111111111111111,
              "#46039f"
             ],
             [
              0.2222222222222222,
              "#7201a8"
             ],
             [
              0.3333333333333333,
              "#9c179e"
             ],
             [
              0.4444444444444444,
              "#bd3786"
             ],
             [
              0.5555555555555556,
              "#d8576b"
             ],
             [
              0.6666666666666666,
              "#ed7953"
             ],
             [
              0.7777777777777778,
              "#fb9f3a"
             ],
             [
              0.8888888888888888,
              "#fdca26"
             ],
             [
              1,
              "#f0f921"
             ]
            ],
            "type": "histogram2d"
           }
          ],
          "histogram2dcontour": [
           {
            "colorbar": {
             "outlinewidth": 0,
             "ticks": ""
            },
            "colorscale": [
             [
              0,
              "#0d0887"
             ],
             [
              0.1111111111111111,
              "#46039f"
             ],
             [
              0.2222222222222222,
              "#7201a8"
             ],
             [
              0.3333333333333333,
              "#9c179e"
             ],
             [
              0.4444444444444444,
              "#bd3786"
             ],
             [
              0.5555555555555556,
              "#d8576b"
             ],
             [
              0.6666666666666666,
              "#ed7953"
             ],
             [
              0.7777777777777778,
              "#fb9f3a"
             ],
             [
              0.8888888888888888,
              "#fdca26"
             ],
             [
              1,
              "#f0f921"
             ]
            ],
            "type": "histogram2dcontour"
           }
          ],
          "mesh3d": [
           {
            "colorbar": {
             "outlinewidth": 0,
             "ticks": ""
            },
            "type": "mesh3d"
           }
          ],
          "parcoords": [
           {
            "line": {
             "colorbar": {
              "outlinewidth": 0,
              "ticks": ""
             }
            },
            "type": "parcoords"
           }
          ],
          "pie": [
           {
            "automargin": true,
            "type": "pie"
           }
          ],
          "scatter": [
           {
            "fillpattern": {
             "fillmode": "overlay",
             "size": 10,
             "solidity": 0.2
            },
            "type": "scatter"
           }
          ],
          "scatter3d": [
           {
            "line": {
             "colorbar": {
              "outlinewidth": 0,
              "ticks": ""
             }
            },
            "marker": {
             "colorbar": {
              "outlinewidth": 0,
              "ticks": ""
             }
            },
            "type": "scatter3d"
           }
          ],
          "scattercarpet": [
           {
            "marker": {
             "colorbar": {
              "outlinewidth": 0,
              "ticks": ""
             }
            },
            "type": "scattercarpet"
           }
          ],
          "scattergeo": [
           {
            "marker": {
             "colorbar": {
              "outlinewidth": 0,
              "ticks": ""
             }
            },
            "type": "scattergeo"
           }
          ],
          "scattergl": [
           {
            "marker": {
             "colorbar": {
              "outlinewidth": 0,
              "ticks": ""
             }
            },
            "type": "scattergl"
           }
          ],
          "scattermap": [
           {
            "marker": {
             "colorbar": {
              "outlinewidth": 0,
              "ticks": ""
             }
            },
            "type": "scattermap"
           }
          ],
          "scattermapbox": [
           {
            "marker": {
             "colorbar": {
              "outlinewidth": 0,
              "ticks": ""
             }
            },
            "type": "scattermapbox"
           }
          ],
          "scatterpolar": [
           {
            "marker": {
             "colorbar": {
              "outlinewidth": 0,
              "ticks": ""
             }
            },
            "type": "scatterpolar"
           }
          ],
          "scatterpolargl": [
           {
            "marker": {
             "colorbar": {
              "outlinewidth": 0,
              "ticks": ""
             }
            },
            "type": "scatterpolargl"
           }
          ],
          "scatterternary": [
           {
            "marker": {
             "colorbar": {
              "outlinewidth": 0,
              "ticks": ""
             }
            },
            "type": "scatterternary"
           }
          ],
          "surface": [
           {
            "colorbar": {
             "outlinewidth": 0,
             "ticks": ""
            },
            "colorscale": [
             [
              0,
              "#0d0887"
             ],
             [
              0.1111111111111111,
              "#46039f"
             ],
             [
              0.2222222222222222,
              "#7201a8"
             ],
             [
              0.3333333333333333,
              "#9c179e"
             ],
             [
              0.4444444444444444,
              "#bd3786"
             ],
             [
              0.5555555555555556,
              "#d8576b"
             ],
             [
              0.6666666666666666,
              "#ed7953"
             ],
             [
              0.7777777777777778,
              "#fb9f3a"
             ],
             [
              0.8888888888888888,
              "#fdca26"
             ],
             [
              1,
              "#f0f921"
             ]
            ],
            "type": "surface"
           }
          ],
          "table": [
           {
            "cells": {
             "fill": {
              "color": "#EBF0F8"
             },
             "line": {
              "color": "white"
             }
            },
            "header": {
             "fill": {
              "color": "#C8D4E3"
             },
             "line": {
              "color": "white"
             }
            },
            "type": "table"
           }
          ]
         },
         "layout": {
          "annotationdefaults": {
           "arrowcolor": "#2a3f5f",
           "arrowhead": 0,
           "arrowwidth": 1
          },
          "autotypenumbers": "strict",
          "coloraxis": {
           "colorbar": {
            "outlinewidth": 0,
            "ticks": ""
           }
          },
          "colorscale": {
           "diverging": [
            [
             0,
             "#8e0152"
            ],
            [
             0.1,
             "#c51b7d"
            ],
            [
             0.2,
             "#de77ae"
            ],
            [
             0.3,
             "#f1b6da"
            ],
            [
             0.4,
             "#fde0ef"
            ],
            [
             0.5,
             "#f7f7f7"
            ],
            [
             0.6,
             "#e6f5d0"
            ],
            [
             0.7,
             "#b8e186"
            ],
            [
             0.8,
             "#7fbc41"
            ],
            [
             0.9,
             "#4d9221"
            ],
            [
             1,
             "#276419"
            ]
           ],
           "sequential": [
            [
             0,
             "#0d0887"
            ],
            [
             0.1111111111111111,
             "#46039f"
            ],
            [
             0.2222222222222222,
             "#7201a8"
            ],
            [
             0.3333333333333333,
             "#9c179e"
            ],
            [
             0.4444444444444444,
             "#bd3786"
            ],
            [
             0.5555555555555556,
             "#d8576b"
            ],
            [
             0.6666666666666666,
             "#ed7953"
            ],
            [
             0.7777777777777778,
             "#fb9f3a"
            ],
            [
             0.8888888888888888,
             "#fdca26"
            ],
            [
             1,
             "#f0f921"
            ]
           ],
           "sequentialminus": [
            [
             0,
             "#0d0887"
            ],
            [
             0.1111111111111111,
             "#46039f"
            ],
            [
             0.2222222222222222,
             "#7201a8"
            ],
            [
             0.3333333333333333,
             "#9c179e"
            ],
            [
             0.4444444444444444,
             "#bd3786"
            ],
            [
             0.5555555555555556,
             "#d8576b"
            ],
            [
             0.6666666666666666,
             "#ed7953"
            ],
            [
             0.7777777777777778,
             "#fb9f3a"
            ],
            [
             0.8888888888888888,
             "#fdca26"
            ],
            [
             1,
             "#f0f921"
            ]
           ]
          },
          "colorway": [
           "#636efa",
           "#EF553B",
           "#00cc96",
           "#ab63fa",
           "#FFA15A",
           "#19d3f3",
           "#FF6692",
           "#B6E880",
           "#FF97FF",
           "#FECB52"
          ],
          "font": {
           "color": "#2a3f5f"
          },
          "geo": {
           "bgcolor": "white",
           "lakecolor": "white",
           "landcolor": "#E5ECF6",
           "showlakes": true,
           "showland": true,
           "subunitcolor": "white"
          },
          "hoverlabel": {
           "align": "left"
          },
          "hovermode": "closest",
          "mapbox": {
           "style": "light"
          },
          "paper_bgcolor": "white",
          "plot_bgcolor": "#E5ECF6",
          "polar": {
           "angularaxis": {
            "gridcolor": "white",
            "linecolor": "white",
            "ticks": ""
           },
           "bgcolor": "#E5ECF6",
           "radialaxis": {
            "gridcolor": "white",
            "linecolor": "white",
            "ticks": ""
           }
          },
          "scene": {
           "xaxis": {
            "backgroundcolor": "#E5ECF6",
            "gridcolor": "white",
            "gridwidth": 2,
            "linecolor": "white",
            "showbackground": true,
            "ticks": "",
            "zerolinecolor": "white"
           },
           "yaxis": {
            "backgroundcolor": "#E5ECF6",
            "gridcolor": "white",
            "gridwidth": 2,
            "linecolor": "white",
            "showbackground": true,
            "ticks": "",
            "zerolinecolor": "white"
           },
           "zaxis": {
            "backgroundcolor": "#E5ECF6",
            "gridcolor": "white",
            "gridwidth": 2,
            "linecolor": "white",
            "showbackground": true,
            "ticks": "",
            "zerolinecolor": "white"
           }
          },
          "shapedefaults": {
           "line": {
            "color": "#2a3f5f"
           }
          },
          "ternary": {
           "aaxis": {
            "gridcolor": "white",
            "linecolor": "white",
            "ticks": ""
           },
           "baxis": {
            "gridcolor": "white",
            "linecolor": "white",
            "ticks": ""
           },
           "bgcolor": "#E5ECF6",
           "caxis": {
            "gridcolor": "white",
            "linecolor": "white",
            "ticks": ""
           }
          },
          "title": {
           "x": 0.05
          },
          "xaxis": {
           "automargin": true,
           "gridcolor": "white",
           "linecolor": "white",
           "ticks": "",
           "title": {
            "standoff": 15
           },
           "zerolinecolor": "white",
           "zerolinewidth": 2
          },
          "yaxis": {
           "automargin": true,
           "gridcolor": "white",
           "linecolor": "white",
           "ticks": "",
           "title": {
            "standoff": 15
           },
           "zerolinecolor": "white",
           "zerolinewidth": 2
          }
         }
        },
        "title": {
         "text": "Distribution of Online Security",
         "x": 0.5
        },
        "uniformtext": {
         "minsize": 8,
         "mode": "hide"
        },
        "xaxis": {
         "anchor": "y",
         "categoryarray": [
          "No",
          "Yes",
          "No internet service"
         ],
         "categoryorder": "array",
         "domain": [
          0,
          1
         ],
         "tickangle": -45,
         "title": {
          "text": "Online Security"
         }
        },
        "yaxis": {
         "anchor": "x",
         "domain": [
          0,
          1
         ],
         "title": {
          "text": "Count"
         }
        }
       }
      }
     },
     "metadata": {},
     "output_type": "display_data"
    },
    {
     "data": {
      "application/vnd.plotly.v1+json": {
       "config": {
        "plotlyServerURL": "https://plot.ly"
       },
       "data": [
        {
         "hovertemplate": "Online Backup=%{x}<br>count=%{text}<extra></extra>",
         "legendgroup": "No",
         "marker": {
          "color": "#636efa",
          "pattern": {
           "shape": ""
          }
         },
         "name": "No",
         "orientation": "v",
         "showlegend": true,
         "text": {
          "bdata": "AAAAAAAgqEA=",
          "dtype": "f8"
         },
         "textposition": "outside",
         "texttemplate": "%{text}",
         "type": "bar",
         "x": [
          "No"
         ],
         "xaxis": "x",
         "y": {
          "bdata": "EAw=",
          "dtype": "i2"
         },
         "yaxis": "y"
        },
        {
         "hovertemplate": "Online Backup=%{x}<br>count=%{text}<extra></extra>",
         "legendgroup": "Yes",
         "marker": {
          "color": "#EF553B",
          "pattern": {
           "shape": ""
          }
         },
         "name": "Yes",
         "orientation": "v",
         "showlegend": true,
         "text": {
          "bdata": "AAAAAAD6okA=",
          "dtype": "f8"
         },
         "textposition": "outside",
         "texttemplate": "%{text}",
         "type": "bar",
         "x": [
          "Yes"
         ],
         "xaxis": "x",
         "y": {
          "bdata": "fQk=",
          "dtype": "i2"
         },
         "yaxis": "y"
        },
        {
         "hovertemplate": "Online Backup=%{x}<br>count=%{text}<extra></extra>",
         "legendgroup": "No internet service",
         "marker": {
          "color": "#00cc96",
          "pattern": {
           "shape": ""
          }
         },
         "name": "No internet service",
         "orientation": "v",
         "showlegend": true,
         "text": {
          "bdata": "AAAAAADYl0A=",
          "dtype": "f8"
         },
         "textposition": "outside",
         "texttemplate": "%{text}",
         "type": "bar",
         "x": [
          "No internet service"
         ],
         "xaxis": "x",
         "y": {
          "bdata": "9gU=",
          "dtype": "i2"
         },
         "yaxis": "y"
        }
       ],
       "layout": {
        "barmode": "relative",
        "legend": {
         "title": {
          "text": "Online Backup"
         },
         "tracegroupgap": 0
        },
        "showlegend": true,
        "template": {
         "data": {
          "bar": [
           {
            "error_x": {
             "color": "#2a3f5f"
            },
            "error_y": {
             "color": "#2a3f5f"
            },
            "marker": {
             "line": {
              "color": "#E5ECF6",
              "width": 0.5
             },
             "pattern": {
              "fillmode": "overlay",
              "size": 10,
              "solidity": 0.2
             }
            },
            "type": "bar"
           }
          ],
          "barpolar": [
           {
            "marker": {
             "line": {
              "color": "#E5ECF6",
              "width": 0.5
             },
             "pattern": {
              "fillmode": "overlay",
              "size": 10,
              "solidity": 0.2
             }
            },
            "type": "barpolar"
           }
          ],
          "carpet": [
           {
            "aaxis": {
             "endlinecolor": "#2a3f5f",
             "gridcolor": "white",
             "linecolor": "white",
             "minorgridcolor": "white",
             "startlinecolor": "#2a3f5f"
            },
            "baxis": {
             "endlinecolor": "#2a3f5f",
             "gridcolor": "white",
             "linecolor": "white",
             "minorgridcolor": "white",
             "startlinecolor": "#2a3f5f"
            },
            "type": "carpet"
           }
          ],
          "choropleth": [
           {
            "colorbar": {
             "outlinewidth": 0,
             "ticks": ""
            },
            "type": "choropleth"
           }
          ],
          "contour": [
           {
            "colorbar": {
             "outlinewidth": 0,
             "ticks": ""
            },
            "colorscale": [
             [
              0,
              "#0d0887"
             ],
             [
              0.1111111111111111,
              "#46039f"
             ],
             [
              0.2222222222222222,
              "#7201a8"
             ],
             [
              0.3333333333333333,
              "#9c179e"
             ],
             [
              0.4444444444444444,
              "#bd3786"
             ],
             [
              0.5555555555555556,
              "#d8576b"
             ],
             [
              0.6666666666666666,
              "#ed7953"
             ],
             [
              0.7777777777777778,
              "#fb9f3a"
             ],
             [
              0.8888888888888888,
              "#fdca26"
             ],
             [
              1,
              "#f0f921"
             ]
            ],
            "type": "contour"
           }
          ],
          "contourcarpet": [
           {
            "colorbar": {
             "outlinewidth": 0,
             "ticks": ""
            },
            "type": "contourcarpet"
           }
          ],
          "heatmap": [
           {
            "colorbar": {
             "outlinewidth": 0,
             "ticks": ""
            },
            "colorscale": [
             [
              0,
              "#0d0887"
             ],
             [
              0.1111111111111111,
              "#46039f"
             ],
             [
              0.2222222222222222,
              "#7201a8"
             ],
             [
              0.3333333333333333,
              "#9c179e"
             ],
             [
              0.4444444444444444,
              "#bd3786"
             ],
             [
              0.5555555555555556,
              "#d8576b"
             ],
             [
              0.6666666666666666,
              "#ed7953"
             ],
             [
              0.7777777777777778,
              "#fb9f3a"
             ],
             [
              0.8888888888888888,
              "#fdca26"
             ],
             [
              1,
              "#f0f921"
             ]
            ],
            "type": "heatmap"
           }
          ],
          "histogram": [
           {
            "marker": {
             "pattern": {
              "fillmode": "overlay",
              "size": 10,
              "solidity": 0.2
             }
            },
            "type": "histogram"
           }
          ],
          "histogram2d": [
           {
            "colorbar": {
             "outlinewidth": 0,
             "ticks": ""
            },
            "colorscale": [
             [
              0,
              "#0d0887"
             ],
             [
              0.1111111111111111,
              "#46039f"
             ],
             [
              0.2222222222222222,
              "#7201a8"
             ],
             [
              0.3333333333333333,
              "#9c179e"
             ],
             [
              0.4444444444444444,
              "#bd3786"
             ],
             [
              0.5555555555555556,
              "#d8576b"
             ],
             [
              0.6666666666666666,
              "#ed7953"
             ],
             [
              0.7777777777777778,
              "#fb9f3a"
             ],
             [
              0.8888888888888888,
              "#fdca26"
             ],
             [
              1,
              "#f0f921"
             ]
            ],
            "type": "histogram2d"
           }
          ],
          "histogram2dcontour": [
           {
            "colorbar": {
             "outlinewidth": 0,
             "ticks": ""
            },
            "colorscale": [
             [
              0,
              "#0d0887"
             ],
             [
              0.1111111111111111,
              "#46039f"
             ],
             [
              0.2222222222222222,
              "#7201a8"
             ],
             [
              0.3333333333333333,
              "#9c179e"
             ],
             [
              0.4444444444444444,
              "#bd3786"
             ],
             [
              0.5555555555555556,
              "#d8576b"
             ],
             [
              0.6666666666666666,
              "#ed7953"
             ],
             [
              0.7777777777777778,
              "#fb9f3a"
             ],
             [
              0.8888888888888888,
              "#fdca26"
             ],
             [
              1,
              "#f0f921"
             ]
            ],
            "type": "histogram2dcontour"
           }
          ],
          "mesh3d": [
           {
            "colorbar": {
             "outlinewidth": 0,
             "ticks": ""
            },
            "type": "mesh3d"
           }
          ],
          "parcoords": [
           {
            "line": {
             "colorbar": {
              "outlinewidth": 0,
              "ticks": ""
             }
            },
            "type": "parcoords"
           }
          ],
          "pie": [
           {
            "automargin": true,
            "type": "pie"
           }
          ],
          "scatter": [
           {
            "fillpattern": {
             "fillmode": "overlay",
             "size": 10,
             "solidity": 0.2
            },
            "type": "scatter"
           }
          ],
          "scatter3d": [
           {
            "line": {
             "colorbar": {
              "outlinewidth": 0,
              "ticks": ""
             }
            },
            "marker": {
             "colorbar": {
              "outlinewidth": 0,
              "ticks": ""
             }
            },
            "type": "scatter3d"
           }
          ],
          "scattercarpet": [
           {
            "marker": {
             "colorbar": {
              "outlinewidth": 0,
              "ticks": ""
             }
            },
            "type": "scattercarpet"
           }
          ],
          "scattergeo": [
           {
            "marker": {
             "colorbar": {
              "outlinewidth": 0,
              "ticks": ""
             }
            },
            "type": "scattergeo"
           }
          ],
          "scattergl": [
           {
            "marker": {
             "colorbar": {
              "outlinewidth": 0,
              "ticks": ""
             }
            },
            "type": "scattergl"
           }
          ],
          "scattermap": [
           {
            "marker": {
             "colorbar": {
              "outlinewidth": 0,
              "ticks": ""
             }
            },
            "type": "scattermap"
           }
          ],
          "scattermapbox": [
           {
            "marker": {
             "colorbar": {
              "outlinewidth": 0,
              "ticks": ""
             }
            },
            "type": "scattermapbox"
           }
          ],
          "scatterpolar": [
           {
            "marker": {
             "colorbar": {
              "outlinewidth": 0,
              "ticks": ""
             }
            },
            "type": "scatterpolar"
           }
          ],
          "scatterpolargl": [
           {
            "marker": {
             "colorbar": {
              "outlinewidth": 0,
              "ticks": ""
             }
            },
            "type": "scatterpolargl"
           }
          ],
          "scatterternary": [
           {
            "marker": {
             "colorbar": {
              "outlinewidth": 0,
              "ticks": ""
             }
            },
            "type": "scatterternary"
           }
          ],
          "surface": [
           {
            "colorbar": {
             "outlinewidth": 0,
             "ticks": ""
            },
            "colorscale": [
             [
              0,
              "#0d0887"
             ],
             [
              0.1111111111111111,
              "#46039f"
             ],
             [
              0.2222222222222222,
              "#7201a8"
             ],
             [
              0.3333333333333333,
              "#9c179e"
             ],
             [
              0.4444444444444444,
              "#bd3786"
             ],
             [
              0.5555555555555556,
              "#d8576b"
             ],
             [
              0.6666666666666666,
              "#ed7953"
             ],
             [
              0.7777777777777778,
              "#fb9f3a"
             ],
             [
              0.8888888888888888,
              "#fdca26"
             ],
             [
              1,
              "#f0f921"
             ]
            ],
            "type": "surface"
           }
          ],
          "table": [
           {
            "cells": {
             "fill": {
              "color": "#EBF0F8"
             },
             "line": {
              "color": "white"
             }
            },
            "header": {
             "fill": {
              "color": "#C8D4E3"
             },
             "line": {
              "color": "white"
             }
            },
            "type": "table"
           }
          ]
         },
         "layout": {
          "annotationdefaults": {
           "arrowcolor": "#2a3f5f",
           "arrowhead": 0,
           "arrowwidth": 1
          },
          "autotypenumbers": "strict",
          "coloraxis": {
           "colorbar": {
            "outlinewidth": 0,
            "ticks": ""
           }
          },
          "colorscale": {
           "diverging": [
            [
             0,
             "#8e0152"
            ],
            [
             0.1,
             "#c51b7d"
            ],
            [
             0.2,
             "#de77ae"
            ],
            [
             0.3,
             "#f1b6da"
            ],
            [
             0.4,
             "#fde0ef"
            ],
            [
             0.5,
             "#f7f7f7"
            ],
            [
             0.6,
             "#e6f5d0"
            ],
            [
             0.7,
             "#b8e186"
            ],
            [
             0.8,
             "#7fbc41"
            ],
            [
             0.9,
             "#4d9221"
            ],
            [
             1,
             "#276419"
            ]
           ],
           "sequential": [
            [
             0,
             "#0d0887"
            ],
            [
             0.1111111111111111,
             "#46039f"
            ],
            [
             0.2222222222222222,
             "#7201a8"
            ],
            [
             0.3333333333333333,
             "#9c179e"
            ],
            [
             0.4444444444444444,
             "#bd3786"
            ],
            [
             0.5555555555555556,
             "#d8576b"
            ],
            [
             0.6666666666666666,
             "#ed7953"
            ],
            [
             0.7777777777777778,
             "#fb9f3a"
            ],
            [
             0.8888888888888888,
             "#fdca26"
            ],
            [
             1,
             "#f0f921"
            ]
           ],
           "sequentialminus": [
            [
             0,
             "#0d0887"
            ],
            [
             0.1111111111111111,
             "#46039f"
            ],
            [
             0.2222222222222222,
             "#7201a8"
            ],
            [
             0.3333333333333333,
             "#9c179e"
            ],
            [
             0.4444444444444444,
             "#bd3786"
            ],
            [
             0.5555555555555556,
             "#d8576b"
            ],
            [
             0.6666666666666666,
             "#ed7953"
            ],
            [
             0.7777777777777778,
             "#fb9f3a"
            ],
            [
             0.8888888888888888,
             "#fdca26"
            ],
            [
             1,
             "#f0f921"
            ]
           ]
          },
          "colorway": [
           "#636efa",
           "#EF553B",
           "#00cc96",
           "#ab63fa",
           "#FFA15A",
           "#19d3f3",
           "#FF6692",
           "#B6E880",
           "#FF97FF",
           "#FECB52"
          ],
          "font": {
           "color": "#2a3f5f"
          },
          "geo": {
           "bgcolor": "white",
           "lakecolor": "white",
           "landcolor": "#E5ECF6",
           "showlakes": true,
           "showland": true,
           "subunitcolor": "white"
          },
          "hoverlabel": {
           "align": "left"
          },
          "hovermode": "closest",
          "mapbox": {
           "style": "light"
          },
          "paper_bgcolor": "white",
          "plot_bgcolor": "#E5ECF6",
          "polar": {
           "angularaxis": {
            "gridcolor": "white",
            "linecolor": "white",
            "ticks": ""
           },
           "bgcolor": "#E5ECF6",
           "radialaxis": {
            "gridcolor": "white",
            "linecolor": "white",
            "ticks": ""
           }
          },
          "scene": {
           "xaxis": {
            "backgroundcolor": "#E5ECF6",
            "gridcolor": "white",
            "gridwidth": 2,
            "linecolor": "white",
            "showbackground": true,
            "ticks": "",
            "zerolinecolor": "white"
           },
           "yaxis": {
            "backgroundcolor": "#E5ECF6",
            "gridcolor": "white",
            "gridwidth": 2,
            "linecolor": "white",
            "showbackground": true,
            "ticks": "",
            "zerolinecolor": "white"
           },
           "zaxis": {
            "backgroundcolor": "#E5ECF6",
            "gridcolor": "white",
            "gridwidth": 2,
            "linecolor": "white",
            "showbackground": true,
            "ticks": "",
            "zerolinecolor": "white"
           }
          },
          "shapedefaults": {
           "line": {
            "color": "#2a3f5f"
           }
          },
          "ternary": {
           "aaxis": {
            "gridcolor": "white",
            "linecolor": "white",
            "ticks": ""
           },
           "baxis": {
            "gridcolor": "white",
            "linecolor": "white",
            "ticks": ""
           },
           "bgcolor": "#E5ECF6",
           "caxis": {
            "gridcolor": "white",
            "linecolor": "white",
            "ticks": ""
           }
          },
          "title": {
           "x": 0.05
          },
          "xaxis": {
           "automargin": true,
           "gridcolor": "white",
           "linecolor": "white",
           "ticks": "",
           "title": {
            "standoff": 15
           },
           "zerolinecolor": "white",
           "zerolinewidth": 2
          },
          "yaxis": {
           "automargin": true,
           "gridcolor": "white",
           "linecolor": "white",
           "ticks": "",
           "title": {
            "standoff": 15
           },
           "zerolinecolor": "white",
           "zerolinewidth": 2
          }
         }
        },
        "title": {
         "text": "Distribution of Online Backup",
         "x": 0.5
        },
        "uniformtext": {
         "minsize": 8,
         "mode": "hide"
        },
        "xaxis": {
         "anchor": "y",
         "categoryarray": [
          "No",
          "Yes",
          "No internet service"
         ],
         "categoryorder": "array",
         "domain": [
          0,
          1
         ],
         "tickangle": -45,
         "title": {
          "text": "Online Backup"
         }
        },
        "yaxis": {
         "anchor": "x",
         "domain": [
          0,
          1
         ],
         "title": {
          "text": "Count"
         }
        }
       }
      }
     },
     "metadata": {},
     "output_type": "display_data"
    },
    {
     "data": {
      "application/vnd.plotly.v1+json": {
       "config": {
        "plotlyServerURL": "https://plot.ly"
       },
       "data": [
        {
         "hovertemplate": "Device Protection=%{x}<br>count=%{text}<extra></extra>",
         "legendgroup": "No",
         "marker": {
          "color": "#636efa",
          "pattern": {
           "shape": ""
          }
         },
         "name": "No",
         "orientation": "v",
         "showlegend": true,
         "text": {
          "bdata": "AAAAAAAuqEA=",
          "dtype": "f8"
         },
         "textposition": "outside",
         "texttemplate": "%{text}",
         "type": "bar",
         "x": [
          "No"
         ],
         "xaxis": "x",
         "y": {
          "bdata": "Fww=",
          "dtype": "i2"
         },
         "yaxis": "y"
        },
        {
         "hovertemplate": "Device Protection=%{x}<br>count=%{text}<extra></extra>",
         "legendgroup": "Yes",
         "marker": {
          "color": "#EF553B",
          "pattern": {
           "shape": ""
          }
         },
         "name": "Yes",
         "orientation": "v",
         "showlegend": true,
         "text": {
          "bdata": "AAAAAADsokA=",
          "dtype": "f8"
         },
         "textposition": "outside",
         "texttemplate": "%{text}",
         "type": "bar",
         "x": [
          "Yes"
         ],
         "xaxis": "x",
         "y": {
          "bdata": "dgk=",
          "dtype": "i2"
         },
         "yaxis": "y"
        },
        {
         "hovertemplate": "Device Protection=%{x}<br>count=%{text}<extra></extra>",
         "legendgroup": "No internet service",
         "marker": {
          "color": "#00cc96",
          "pattern": {
           "shape": ""
          }
         },
         "name": "No internet service",
         "orientation": "v",
         "showlegend": true,
         "text": {
          "bdata": "AAAAAADYl0A=",
          "dtype": "f8"
         },
         "textposition": "outside",
         "texttemplate": "%{text}",
         "type": "bar",
         "x": [
          "No internet service"
         ],
         "xaxis": "x",
         "y": {
          "bdata": "9gU=",
          "dtype": "i2"
         },
         "yaxis": "y"
        }
       ],
       "layout": {
        "barmode": "relative",
        "legend": {
         "title": {
          "text": "Device Protection"
         },
         "tracegroupgap": 0
        },
        "showlegend": true,
        "template": {
         "data": {
          "bar": [
           {
            "error_x": {
             "color": "#2a3f5f"
            },
            "error_y": {
             "color": "#2a3f5f"
            },
            "marker": {
             "line": {
              "color": "#E5ECF6",
              "width": 0.5
             },
             "pattern": {
              "fillmode": "overlay",
              "size": 10,
              "solidity": 0.2
             }
            },
            "type": "bar"
           }
          ],
          "barpolar": [
           {
            "marker": {
             "line": {
              "color": "#E5ECF6",
              "width": 0.5
             },
             "pattern": {
              "fillmode": "overlay",
              "size": 10,
              "solidity": 0.2
             }
            },
            "type": "barpolar"
           }
          ],
          "carpet": [
           {
            "aaxis": {
             "endlinecolor": "#2a3f5f",
             "gridcolor": "white",
             "linecolor": "white",
             "minorgridcolor": "white",
             "startlinecolor": "#2a3f5f"
            },
            "baxis": {
             "endlinecolor": "#2a3f5f",
             "gridcolor": "white",
             "linecolor": "white",
             "minorgridcolor": "white",
             "startlinecolor": "#2a3f5f"
            },
            "type": "carpet"
           }
          ],
          "choropleth": [
           {
            "colorbar": {
             "outlinewidth": 0,
             "ticks": ""
            },
            "type": "choropleth"
           }
          ],
          "contour": [
           {
            "colorbar": {
             "outlinewidth": 0,
             "ticks": ""
            },
            "colorscale": [
             [
              0,
              "#0d0887"
             ],
             [
              0.1111111111111111,
              "#46039f"
             ],
             [
              0.2222222222222222,
              "#7201a8"
             ],
             [
              0.3333333333333333,
              "#9c179e"
             ],
             [
              0.4444444444444444,
              "#bd3786"
             ],
             [
              0.5555555555555556,
              "#d8576b"
             ],
             [
              0.6666666666666666,
              "#ed7953"
             ],
             [
              0.7777777777777778,
              "#fb9f3a"
             ],
             [
              0.8888888888888888,
              "#fdca26"
             ],
             [
              1,
              "#f0f921"
             ]
            ],
            "type": "contour"
           }
          ],
          "contourcarpet": [
           {
            "colorbar": {
             "outlinewidth": 0,
             "ticks": ""
            },
            "type": "contourcarpet"
           }
          ],
          "heatmap": [
           {
            "colorbar": {
             "outlinewidth": 0,
             "ticks": ""
            },
            "colorscale": [
             [
              0,
              "#0d0887"
             ],
             [
              0.1111111111111111,
              "#46039f"
             ],
             [
              0.2222222222222222,
              "#7201a8"
             ],
             [
              0.3333333333333333,
              "#9c179e"
             ],
             [
              0.4444444444444444,
              "#bd3786"
             ],
             [
              0.5555555555555556,
              "#d8576b"
             ],
             [
              0.6666666666666666,
              "#ed7953"
             ],
             [
              0.7777777777777778,
              "#fb9f3a"
             ],
             [
              0.8888888888888888,
              "#fdca26"
             ],
             [
              1,
              "#f0f921"
             ]
            ],
            "type": "heatmap"
           }
          ],
          "histogram": [
           {
            "marker": {
             "pattern": {
              "fillmode": "overlay",
              "size": 10,
              "solidity": 0.2
             }
            },
            "type": "histogram"
           }
          ],
          "histogram2d": [
           {
            "colorbar": {
             "outlinewidth": 0,
             "ticks": ""
            },
            "colorscale": [
             [
              0,
              "#0d0887"
             ],
             [
              0.1111111111111111,
              "#46039f"
             ],
             [
              0.2222222222222222,
              "#7201a8"
             ],
             [
              0.3333333333333333,
              "#9c179e"
             ],
             [
              0.4444444444444444,
              "#bd3786"
             ],
             [
              0.5555555555555556,
              "#d8576b"
             ],
             [
              0.6666666666666666,
              "#ed7953"
             ],
             [
              0.7777777777777778,
              "#fb9f3a"
             ],
             [
              0.8888888888888888,
              "#fdca26"
             ],
             [
              1,
              "#f0f921"
             ]
            ],
            "type": "histogram2d"
           }
          ],
          "histogram2dcontour": [
           {
            "colorbar": {
             "outlinewidth": 0,
             "ticks": ""
            },
            "colorscale": [
             [
              0,
              "#0d0887"
             ],
             [
              0.1111111111111111,
              "#46039f"
             ],
             [
              0.2222222222222222,
              "#7201a8"
             ],
             [
              0.3333333333333333,
              "#9c179e"
             ],
             [
              0.4444444444444444,
              "#bd3786"
             ],
             [
              0.5555555555555556,
              "#d8576b"
             ],
             [
              0.6666666666666666,
              "#ed7953"
             ],
             [
              0.7777777777777778,
              "#fb9f3a"
             ],
             [
              0.8888888888888888,
              "#fdca26"
             ],
             [
              1,
              "#f0f921"
             ]
            ],
            "type": "histogram2dcontour"
           }
          ],
          "mesh3d": [
           {
            "colorbar": {
             "outlinewidth": 0,
             "ticks": ""
            },
            "type": "mesh3d"
           }
          ],
          "parcoords": [
           {
            "line": {
             "colorbar": {
              "outlinewidth": 0,
              "ticks": ""
             }
            },
            "type": "parcoords"
           }
          ],
          "pie": [
           {
            "automargin": true,
            "type": "pie"
           }
          ],
          "scatter": [
           {
            "fillpattern": {
             "fillmode": "overlay",
             "size": 10,
             "solidity": 0.2
            },
            "type": "scatter"
           }
          ],
          "scatter3d": [
           {
            "line": {
             "colorbar": {
              "outlinewidth": 0,
              "ticks": ""
             }
            },
            "marker": {
             "colorbar": {
              "outlinewidth": 0,
              "ticks": ""
             }
            },
            "type": "scatter3d"
           }
          ],
          "scattercarpet": [
           {
            "marker": {
             "colorbar": {
              "outlinewidth": 0,
              "ticks": ""
             }
            },
            "type": "scattercarpet"
           }
          ],
          "scattergeo": [
           {
            "marker": {
             "colorbar": {
              "outlinewidth": 0,
              "ticks": ""
             }
            },
            "type": "scattergeo"
           }
          ],
          "scattergl": [
           {
            "marker": {
             "colorbar": {
              "outlinewidth": 0,
              "ticks": ""
             }
            },
            "type": "scattergl"
           }
          ],
          "scattermap": [
           {
            "marker": {
             "colorbar": {
              "outlinewidth": 0,
              "ticks": ""
             }
            },
            "type": "scattermap"
           }
          ],
          "scattermapbox": [
           {
            "marker": {
             "colorbar": {
              "outlinewidth": 0,
              "ticks": ""
             }
            },
            "type": "scattermapbox"
           }
          ],
          "scatterpolar": [
           {
            "marker": {
             "colorbar": {
              "outlinewidth": 0,
              "ticks": ""
             }
            },
            "type": "scatterpolar"
           }
          ],
          "scatterpolargl": [
           {
            "marker": {
             "colorbar": {
              "outlinewidth": 0,
              "ticks": ""
             }
            },
            "type": "scatterpolargl"
           }
          ],
          "scatterternary": [
           {
            "marker": {
             "colorbar": {
              "outlinewidth": 0,
              "ticks": ""
             }
            },
            "type": "scatterternary"
           }
          ],
          "surface": [
           {
            "colorbar": {
             "outlinewidth": 0,
             "ticks": ""
            },
            "colorscale": [
             [
              0,
              "#0d0887"
             ],
             [
              0.1111111111111111,
              "#46039f"
             ],
             [
              0.2222222222222222,
              "#7201a8"
             ],
             [
              0.3333333333333333,
              "#9c179e"
             ],
             [
              0.4444444444444444,
              "#bd3786"
             ],
             [
              0.5555555555555556,
              "#d8576b"
             ],
             [
              0.6666666666666666,
              "#ed7953"
             ],
             [
              0.7777777777777778,
              "#fb9f3a"
             ],
             [
              0.8888888888888888,
              "#fdca26"
             ],
             [
              1,
              "#f0f921"
             ]
            ],
            "type": "surface"
           }
          ],
          "table": [
           {
            "cells": {
             "fill": {
              "color": "#EBF0F8"
             },
             "line": {
              "color": "white"
             }
            },
            "header": {
             "fill": {
              "color": "#C8D4E3"
             },
             "line": {
              "color": "white"
             }
            },
            "type": "table"
           }
          ]
         },
         "layout": {
          "annotationdefaults": {
           "arrowcolor": "#2a3f5f",
           "arrowhead": 0,
           "arrowwidth": 1
          },
          "autotypenumbers": "strict",
          "coloraxis": {
           "colorbar": {
            "outlinewidth": 0,
            "ticks": ""
           }
          },
          "colorscale": {
           "diverging": [
            [
             0,
             "#8e0152"
            ],
            [
             0.1,
             "#c51b7d"
            ],
            [
             0.2,
             "#de77ae"
            ],
            [
             0.3,
             "#f1b6da"
            ],
            [
             0.4,
             "#fde0ef"
            ],
            [
             0.5,
             "#f7f7f7"
            ],
            [
             0.6,
             "#e6f5d0"
            ],
            [
             0.7,
             "#b8e186"
            ],
            [
             0.8,
             "#7fbc41"
            ],
            [
             0.9,
             "#4d9221"
            ],
            [
             1,
             "#276419"
            ]
           ],
           "sequential": [
            [
             0,
             "#0d0887"
            ],
            [
             0.1111111111111111,
             "#46039f"
            ],
            [
             0.2222222222222222,
             "#7201a8"
            ],
            [
             0.3333333333333333,
             "#9c179e"
            ],
            [
             0.4444444444444444,
             "#bd3786"
            ],
            [
             0.5555555555555556,
             "#d8576b"
            ],
            [
             0.6666666666666666,
             "#ed7953"
            ],
            [
             0.7777777777777778,
             "#fb9f3a"
            ],
            [
             0.8888888888888888,
             "#fdca26"
            ],
            [
             1,
             "#f0f921"
            ]
           ],
           "sequentialminus": [
            [
             0,
             "#0d0887"
            ],
            [
             0.1111111111111111,
             "#46039f"
            ],
            [
             0.2222222222222222,
             "#7201a8"
            ],
            [
             0.3333333333333333,
             "#9c179e"
            ],
            [
             0.4444444444444444,
             "#bd3786"
            ],
            [
             0.5555555555555556,
             "#d8576b"
            ],
            [
             0.6666666666666666,
             "#ed7953"
            ],
            [
             0.7777777777777778,
             "#fb9f3a"
            ],
            [
             0.8888888888888888,
             "#fdca26"
            ],
            [
             1,
             "#f0f921"
            ]
           ]
          },
          "colorway": [
           "#636efa",
           "#EF553B",
           "#00cc96",
           "#ab63fa",
           "#FFA15A",
           "#19d3f3",
           "#FF6692",
           "#B6E880",
           "#FF97FF",
           "#FECB52"
          ],
          "font": {
           "color": "#2a3f5f"
          },
          "geo": {
           "bgcolor": "white",
           "lakecolor": "white",
           "landcolor": "#E5ECF6",
           "showlakes": true,
           "showland": true,
           "subunitcolor": "white"
          },
          "hoverlabel": {
           "align": "left"
          },
          "hovermode": "closest",
          "mapbox": {
           "style": "light"
          },
          "paper_bgcolor": "white",
          "plot_bgcolor": "#E5ECF6",
          "polar": {
           "angularaxis": {
            "gridcolor": "white",
            "linecolor": "white",
            "ticks": ""
           },
           "bgcolor": "#E5ECF6",
           "radialaxis": {
            "gridcolor": "white",
            "linecolor": "white",
            "ticks": ""
           }
          },
          "scene": {
           "xaxis": {
            "backgroundcolor": "#E5ECF6",
            "gridcolor": "white",
            "gridwidth": 2,
            "linecolor": "white",
            "showbackground": true,
            "ticks": "",
            "zerolinecolor": "white"
           },
           "yaxis": {
            "backgroundcolor": "#E5ECF6",
            "gridcolor": "white",
            "gridwidth": 2,
            "linecolor": "white",
            "showbackground": true,
            "ticks": "",
            "zerolinecolor": "white"
           },
           "zaxis": {
            "backgroundcolor": "#E5ECF6",
            "gridcolor": "white",
            "gridwidth": 2,
            "linecolor": "white",
            "showbackground": true,
            "ticks": "",
            "zerolinecolor": "white"
           }
          },
          "shapedefaults": {
           "line": {
            "color": "#2a3f5f"
           }
          },
          "ternary": {
           "aaxis": {
            "gridcolor": "white",
            "linecolor": "white",
            "ticks": ""
           },
           "baxis": {
            "gridcolor": "white",
            "linecolor": "white",
            "ticks": ""
           },
           "bgcolor": "#E5ECF6",
           "caxis": {
            "gridcolor": "white",
            "linecolor": "white",
            "ticks": ""
           }
          },
          "title": {
           "x": 0.05
          },
          "xaxis": {
           "automargin": true,
           "gridcolor": "white",
           "linecolor": "white",
           "ticks": "",
           "title": {
            "standoff": 15
           },
           "zerolinecolor": "white",
           "zerolinewidth": 2
          },
          "yaxis": {
           "automargin": true,
           "gridcolor": "white",
           "linecolor": "white",
           "ticks": "",
           "title": {
            "standoff": 15
           },
           "zerolinecolor": "white",
           "zerolinewidth": 2
          }
         }
        },
        "title": {
         "text": "Distribution of Device Protection",
         "x": 0.5
        },
        "uniformtext": {
         "minsize": 8,
         "mode": "hide"
        },
        "xaxis": {
         "anchor": "y",
         "categoryarray": [
          "No",
          "Yes",
          "No internet service"
         ],
         "categoryorder": "array",
         "domain": [
          0,
          1
         ],
         "tickangle": -45,
         "title": {
          "text": "Device Protection"
         }
        },
        "yaxis": {
         "anchor": "x",
         "domain": [
          0,
          1
         ],
         "title": {
          "text": "Count"
         }
        }
       }
      }
     },
     "metadata": {},
     "output_type": "display_data"
    },
    {
     "data": {
      "application/vnd.plotly.v1+json": {
       "config": {
        "plotlyServerURL": "https://plot.ly"
       },
       "data": [
        {
         "hovertemplate": "Tech Support=%{x}<br>count=%{text}<extra></extra>",
         "legendgroup": "No",
         "marker": {
          "color": "#636efa",
          "pattern": {
           "shape": ""
          }
         },
         "name": "No",
         "orientation": "v",
         "showlegend": true,
         "text": {
          "bdata": "AAAAAAAiq0A=",
          "dtype": "f8"
         },
         "textposition": "outside",
         "texttemplate": "%{text}",
         "type": "bar",
         "x": [
          "No"
         ],
         "xaxis": "x",
         "y": {
          "bdata": "kQ0=",
          "dtype": "i2"
         },
         "yaxis": "y"
        },
        {
         "hovertemplate": "Tech Support=%{x}<br>count=%{text}<extra></extra>",
         "legendgroup": "Yes",
         "marker": {
          "color": "#EF553B",
          "pattern": {
           "shape": ""
          }
         },
         "name": "Yes",
         "orientation": "v",
         "showlegend": true,
         "text": {
          "bdata": "AAAAAADwn0A=",
          "dtype": "f8"
         },
         "textposition": "outside",
         "texttemplate": "%{text}",
         "type": "bar",
         "x": [
          "Yes"
         ],
         "xaxis": "x",
         "y": {
          "bdata": "/Ac=",
          "dtype": "i2"
         },
         "yaxis": "y"
        },
        {
         "hovertemplate": "Tech Support=%{x}<br>count=%{text}<extra></extra>",
         "legendgroup": "No internet service",
         "marker": {
          "color": "#00cc96",
          "pattern": {
           "shape": ""
          }
         },
         "name": "No internet service",
         "orientation": "v",
         "showlegend": true,
         "text": {
          "bdata": "AAAAAADYl0A=",
          "dtype": "f8"
         },
         "textposition": "outside",
         "texttemplate": "%{text}",
         "type": "bar",
         "x": [
          "No internet service"
         ],
         "xaxis": "x",
         "y": {
          "bdata": "9gU=",
          "dtype": "i2"
         },
         "yaxis": "y"
        }
       ],
       "layout": {
        "barmode": "relative",
        "legend": {
         "title": {
          "text": "Tech Support"
         },
         "tracegroupgap": 0
        },
        "showlegend": true,
        "template": {
         "data": {
          "bar": [
           {
            "error_x": {
             "color": "#2a3f5f"
            },
            "error_y": {
             "color": "#2a3f5f"
            },
            "marker": {
             "line": {
              "color": "#E5ECF6",
              "width": 0.5
             },
             "pattern": {
              "fillmode": "overlay",
              "size": 10,
              "solidity": 0.2
             }
            },
            "type": "bar"
           }
          ],
          "barpolar": [
           {
            "marker": {
             "line": {
              "color": "#E5ECF6",
              "width": 0.5
             },
             "pattern": {
              "fillmode": "overlay",
              "size": 10,
              "solidity": 0.2
             }
            },
            "type": "barpolar"
           }
          ],
          "carpet": [
           {
            "aaxis": {
             "endlinecolor": "#2a3f5f",
             "gridcolor": "white",
             "linecolor": "white",
             "minorgridcolor": "white",
             "startlinecolor": "#2a3f5f"
            },
            "baxis": {
             "endlinecolor": "#2a3f5f",
             "gridcolor": "white",
             "linecolor": "white",
             "minorgridcolor": "white",
             "startlinecolor": "#2a3f5f"
            },
            "type": "carpet"
           }
          ],
          "choropleth": [
           {
            "colorbar": {
             "outlinewidth": 0,
             "ticks": ""
            },
            "type": "choropleth"
           }
          ],
          "contour": [
           {
            "colorbar": {
             "outlinewidth": 0,
             "ticks": ""
            },
            "colorscale": [
             [
              0,
              "#0d0887"
             ],
             [
              0.1111111111111111,
              "#46039f"
             ],
             [
              0.2222222222222222,
              "#7201a8"
             ],
             [
              0.3333333333333333,
              "#9c179e"
             ],
             [
              0.4444444444444444,
              "#bd3786"
             ],
             [
              0.5555555555555556,
              "#d8576b"
             ],
             [
              0.6666666666666666,
              "#ed7953"
             ],
             [
              0.7777777777777778,
              "#fb9f3a"
             ],
             [
              0.8888888888888888,
              "#fdca26"
             ],
             [
              1,
              "#f0f921"
             ]
            ],
            "type": "contour"
           }
          ],
          "contourcarpet": [
           {
            "colorbar": {
             "outlinewidth": 0,
             "ticks": ""
            },
            "type": "contourcarpet"
           }
          ],
          "heatmap": [
           {
            "colorbar": {
             "outlinewidth": 0,
             "ticks": ""
            },
            "colorscale": [
             [
              0,
              "#0d0887"
             ],
             [
              0.1111111111111111,
              "#46039f"
             ],
             [
              0.2222222222222222,
              "#7201a8"
             ],
             [
              0.3333333333333333,
              "#9c179e"
             ],
             [
              0.4444444444444444,
              "#bd3786"
             ],
             [
              0.5555555555555556,
              "#d8576b"
             ],
             [
              0.6666666666666666,
              "#ed7953"
             ],
             [
              0.7777777777777778,
              "#fb9f3a"
             ],
             [
              0.8888888888888888,
              "#fdca26"
             ],
             [
              1,
              "#f0f921"
             ]
            ],
            "type": "heatmap"
           }
          ],
          "histogram": [
           {
            "marker": {
             "pattern": {
              "fillmode": "overlay",
              "size": 10,
              "solidity": 0.2
             }
            },
            "type": "histogram"
           }
          ],
          "histogram2d": [
           {
            "colorbar": {
             "outlinewidth": 0,
             "ticks": ""
            },
            "colorscale": [
             [
              0,
              "#0d0887"
             ],
             [
              0.1111111111111111,
              "#46039f"
             ],
             [
              0.2222222222222222,
              "#7201a8"
             ],
             [
              0.3333333333333333,
              "#9c179e"
             ],
             [
              0.4444444444444444,
              "#bd3786"
             ],
             [
              0.5555555555555556,
              "#d8576b"
             ],
             [
              0.6666666666666666,
              "#ed7953"
             ],
             [
              0.7777777777777778,
              "#fb9f3a"
             ],
             [
              0.8888888888888888,
              "#fdca26"
             ],
             [
              1,
              "#f0f921"
             ]
            ],
            "type": "histogram2d"
           }
          ],
          "histogram2dcontour": [
           {
            "colorbar": {
             "outlinewidth": 0,
             "ticks": ""
            },
            "colorscale": [
             [
              0,
              "#0d0887"
             ],
             [
              0.1111111111111111,
              "#46039f"
             ],
             [
              0.2222222222222222,
              "#7201a8"
             ],
             [
              0.3333333333333333,
              "#9c179e"
             ],
             [
              0.4444444444444444,
              "#bd3786"
             ],
             [
              0.5555555555555556,
              "#d8576b"
             ],
             [
              0.6666666666666666,
              "#ed7953"
             ],
             [
              0.7777777777777778,
              "#fb9f3a"
             ],
             [
              0.8888888888888888,
              "#fdca26"
             ],
             [
              1,
              "#f0f921"
             ]
            ],
            "type": "histogram2dcontour"
           }
          ],
          "mesh3d": [
           {
            "colorbar": {
             "outlinewidth": 0,
             "ticks": ""
            },
            "type": "mesh3d"
           }
          ],
          "parcoords": [
           {
            "line": {
             "colorbar": {
              "outlinewidth": 0,
              "ticks": ""
             }
            },
            "type": "parcoords"
           }
          ],
          "pie": [
           {
            "automargin": true,
            "type": "pie"
           }
          ],
          "scatter": [
           {
            "fillpattern": {
             "fillmode": "overlay",
             "size": 10,
             "solidity": 0.2
            },
            "type": "scatter"
           }
          ],
          "scatter3d": [
           {
            "line": {
             "colorbar": {
              "outlinewidth": 0,
              "ticks": ""
             }
            },
            "marker": {
             "colorbar": {
              "outlinewidth": 0,
              "ticks": ""
             }
            },
            "type": "scatter3d"
           }
          ],
          "scattercarpet": [
           {
            "marker": {
             "colorbar": {
              "outlinewidth": 0,
              "ticks": ""
             }
            },
            "type": "scattercarpet"
           }
          ],
          "scattergeo": [
           {
            "marker": {
             "colorbar": {
              "outlinewidth": 0,
              "ticks": ""
             }
            },
            "type": "scattergeo"
           }
          ],
          "scattergl": [
           {
            "marker": {
             "colorbar": {
              "outlinewidth": 0,
              "ticks": ""
             }
            },
            "type": "scattergl"
           }
          ],
          "scattermap": [
           {
            "marker": {
             "colorbar": {
              "outlinewidth": 0,
              "ticks": ""
             }
            },
            "type": "scattermap"
           }
          ],
          "scattermapbox": [
           {
            "marker": {
             "colorbar": {
              "outlinewidth": 0,
              "ticks": ""
             }
            },
            "type": "scattermapbox"
           }
          ],
          "scatterpolar": [
           {
            "marker": {
             "colorbar": {
              "outlinewidth": 0,
              "ticks": ""
             }
            },
            "type": "scatterpolar"
           }
          ],
          "scatterpolargl": [
           {
            "marker": {
             "colorbar": {
              "outlinewidth": 0,
              "ticks": ""
             }
            },
            "type": "scatterpolargl"
           }
          ],
          "scatterternary": [
           {
            "marker": {
             "colorbar": {
              "outlinewidth": 0,
              "ticks": ""
             }
            },
            "type": "scatterternary"
           }
          ],
          "surface": [
           {
            "colorbar": {
             "outlinewidth": 0,
             "ticks": ""
            },
            "colorscale": [
             [
              0,
              "#0d0887"
             ],
             [
              0.1111111111111111,
              "#46039f"
             ],
             [
              0.2222222222222222,
              "#7201a8"
             ],
             [
              0.3333333333333333,
              "#9c179e"
             ],
             [
              0.4444444444444444,
              "#bd3786"
             ],
             [
              0.5555555555555556,
              "#d8576b"
             ],
             [
              0.6666666666666666,
              "#ed7953"
             ],
             [
              0.7777777777777778,
              "#fb9f3a"
             ],
             [
              0.8888888888888888,
              "#fdca26"
             ],
             [
              1,
              "#f0f921"
             ]
            ],
            "type": "surface"
           }
          ],
          "table": [
           {
            "cells": {
             "fill": {
              "color": "#EBF0F8"
             },
             "line": {
              "color": "white"
             }
            },
            "header": {
             "fill": {
              "color": "#C8D4E3"
             },
             "line": {
              "color": "white"
             }
            },
            "type": "table"
           }
          ]
         },
         "layout": {
          "annotationdefaults": {
           "arrowcolor": "#2a3f5f",
           "arrowhead": 0,
           "arrowwidth": 1
          },
          "autotypenumbers": "strict",
          "coloraxis": {
           "colorbar": {
            "outlinewidth": 0,
            "ticks": ""
           }
          },
          "colorscale": {
           "diverging": [
            [
             0,
             "#8e0152"
            ],
            [
             0.1,
             "#c51b7d"
            ],
            [
             0.2,
             "#de77ae"
            ],
            [
             0.3,
             "#f1b6da"
            ],
            [
             0.4,
             "#fde0ef"
            ],
            [
             0.5,
             "#f7f7f7"
            ],
            [
             0.6,
             "#e6f5d0"
            ],
            [
             0.7,
             "#b8e186"
            ],
            [
             0.8,
             "#7fbc41"
            ],
            [
             0.9,
             "#4d9221"
            ],
            [
             1,
             "#276419"
            ]
           ],
           "sequential": [
            [
             0,
             "#0d0887"
            ],
            [
             0.1111111111111111,
             "#46039f"
            ],
            [
             0.2222222222222222,
             "#7201a8"
            ],
            [
             0.3333333333333333,
             "#9c179e"
            ],
            [
             0.4444444444444444,
             "#bd3786"
            ],
            [
             0.5555555555555556,
             "#d8576b"
            ],
            [
             0.6666666666666666,
             "#ed7953"
            ],
            [
             0.7777777777777778,
             "#fb9f3a"
            ],
            [
             0.8888888888888888,
             "#fdca26"
            ],
            [
             1,
             "#f0f921"
            ]
           ],
           "sequentialminus": [
            [
             0,
             "#0d0887"
            ],
            [
             0.1111111111111111,
             "#46039f"
            ],
            [
             0.2222222222222222,
             "#7201a8"
            ],
            [
             0.3333333333333333,
             "#9c179e"
            ],
            [
             0.4444444444444444,
             "#bd3786"
            ],
            [
             0.5555555555555556,
             "#d8576b"
            ],
            [
             0.6666666666666666,
             "#ed7953"
            ],
            [
             0.7777777777777778,
             "#fb9f3a"
            ],
            [
             0.8888888888888888,
             "#fdca26"
            ],
            [
             1,
             "#f0f921"
            ]
           ]
          },
          "colorway": [
           "#636efa",
           "#EF553B",
           "#00cc96",
           "#ab63fa",
           "#FFA15A",
           "#19d3f3",
           "#FF6692",
           "#B6E880",
           "#FF97FF",
           "#FECB52"
          ],
          "font": {
           "color": "#2a3f5f"
          },
          "geo": {
           "bgcolor": "white",
           "lakecolor": "white",
           "landcolor": "#E5ECF6",
           "showlakes": true,
           "showland": true,
           "subunitcolor": "white"
          },
          "hoverlabel": {
           "align": "left"
          },
          "hovermode": "closest",
          "mapbox": {
           "style": "light"
          },
          "paper_bgcolor": "white",
          "plot_bgcolor": "#E5ECF6",
          "polar": {
           "angularaxis": {
            "gridcolor": "white",
            "linecolor": "white",
            "ticks": ""
           },
           "bgcolor": "#E5ECF6",
           "radialaxis": {
            "gridcolor": "white",
            "linecolor": "white",
            "ticks": ""
           }
          },
          "scene": {
           "xaxis": {
            "backgroundcolor": "#E5ECF6",
            "gridcolor": "white",
            "gridwidth": 2,
            "linecolor": "white",
            "showbackground": true,
            "ticks": "",
            "zerolinecolor": "white"
           },
           "yaxis": {
            "backgroundcolor": "#E5ECF6",
            "gridcolor": "white",
            "gridwidth": 2,
            "linecolor": "white",
            "showbackground": true,
            "ticks": "",
            "zerolinecolor": "white"
           },
           "zaxis": {
            "backgroundcolor": "#E5ECF6",
            "gridcolor": "white",
            "gridwidth": 2,
            "linecolor": "white",
            "showbackground": true,
            "ticks": "",
            "zerolinecolor": "white"
           }
          },
          "shapedefaults": {
           "line": {
            "color": "#2a3f5f"
           }
          },
          "ternary": {
           "aaxis": {
            "gridcolor": "white",
            "linecolor": "white",
            "ticks": ""
           },
           "baxis": {
            "gridcolor": "white",
            "linecolor": "white",
            "ticks": ""
           },
           "bgcolor": "#E5ECF6",
           "caxis": {
            "gridcolor": "white",
            "linecolor": "white",
            "ticks": ""
           }
          },
          "title": {
           "x": 0.05
          },
          "xaxis": {
           "automargin": true,
           "gridcolor": "white",
           "linecolor": "white",
           "ticks": "",
           "title": {
            "standoff": 15
           },
           "zerolinecolor": "white",
           "zerolinewidth": 2
          },
          "yaxis": {
           "automargin": true,
           "gridcolor": "white",
           "linecolor": "white",
           "ticks": "",
           "title": {
            "standoff": 15
           },
           "zerolinecolor": "white",
           "zerolinewidth": 2
          }
         }
        },
        "title": {
         "text": "Distribution of Tech Support",
         "x": 0.5
        },
        "uniformtext": {
         "minsize": 8,
         "mode": "hide"
        },
        "xaxis": {
         "anchor": "y",
         "categoryarray": [
          "No",
          "Yes",
          "No internet service"
         ],
         "categoryorder": "array",
         "domain": [
          0,
          1
         ],
         "tickangle": -45,
         "title": {
          "text": "Tech Support"
         }
        },
        "yaxis": {
         "anchor": "x",
         "domain": [
          0,
          1
         ],
         "title": {
          "text": "Count"
         }
        }
       }
      }
     },
     "metadata": {},
     "output_type": "display_data"
    },
    {
     "data": {
      "application/vnd.plotly.v1+json": {
       "config": {
        "plotlyServerURL": "https://plot.ly"
       },
       "data": [
        {
         "hovertemplate": "Streaming TV=%{x}<br>count=%{text}<extra></extra>",
         "legendgroup": "No",
         "marker": {
          "color": "#636efa",
          "pattern": {
           "shape": ""
          }
         },
         "name": "No",
         "orientation": "v",
         "showlegend": true,
         "text": {
          "bdata": "AAAAAAD0pUA=",
          "dtype": "f8"
         },
         "textposition": "outside",
         "texttemplate": "%{text}",
         "type": "bar",
         "x": [
          "No"
         ],
         "xaxis": "x",
         "y": {
          "bdata": "+go=",
          "dtype": "i2"
         },
         "yaxis": "y"
        },
        {
         "hovertemplate": "Streaming TV=%{x}<br>count=%{text}<extra></extra>",
         "legendgroup": "Yes",
         "marker": {
          "color": "#EF553B",
          "pattern": {
           "shape": ""
          }
         },
         "name": "Yes",
         "orientation": "v",
         "showlegend": true,
         "text": {
          "bdata": "AAAAAAAmpUA=",
          "dtype": "f8"
         },
         "textposition": "outside",
         "texttemplate": "%{text}",
         "type": "bar",
         "x": [
          "Yes"
         ],
         "xaxis": "x",
         "y": {
          "bdata": "kwo=",
          "dtype": "i2"
         },
         "yaxis": "y"
        },
        {
         "hovertemplate": "Streaming TV=%{x}<br>count=%{text}<extra></extra>",
         "legendgroup": "No internet service",
         "marker": {
          "color": "#00cc96",
          "pattern": {
           "shape": ""
          }
         },
         "name": "No internet service",
         "orientation": "v",
         "showlegend": true,
         "text": {
          "bdata": "AAAAAADYl0A=",
          "dtype": "f8"
         },
         "textposition": "outside",
         "texttemplate": "%{text}",
         "type": "bar",
         "x": [
          "No internet service"
         ],
         "xaxis": "x",
         "y": {
          "bdata": "9gU=",
          "dtype": "i2"
         },
         "yaxis": "y"
        }
       ],
       "layout": {
        "barmode": "relative",
        "legend": {
         "title": {
          "text": "Streaming TV"
         },
         "tracegroupgap": 0
        },
        "showlegend": true,
        "template": {
         "data": {
          "bar": [
           {
            "error_x": {
             "color": "#2a3f5f"
            },
            "error_y": {
             "color": "#2a3f5f"
            },
            "marker": {
             "line": {
              "color": "#E5ECF6",
              "width": 0.5
             },
             "pattern": {
              "fillmode": "overlay",
              "size": 10,
              "solidity": 0.2
             }
            },
            "type": "bar"
           }
          ],
          "barpolar": [
           {
            "marker": {
             "line": {
              "color": "#E5ECF6",
              "width": 0.5
             },
             "pattern": {
              "fillmode": "overlay",
              "size": 10,
              "solidity": 0.2
             }
            },
            "type": "barpolar"
           }
          ],
          "carpet": [
           {
            "aaxis": {
             "endlinecolor": "#2a3f5f",
             "gridcolor": "white",
             "linecolor": "white",
             "minorgridcolor": "white",
             "startlinecolor": "#2a3f5f"
            },
            "baxis": {
             "endlinecolor": "#2a3f5f",
             "gridcolor": "white",
             "linecolor": "white",
             "minorgridcolor": "white",
             "startlinecolor": "#2a3f5f"
            },
            "type": "carpet"
           }
          ],
          "choropleth": [
           {
            "colorbar": {
             "outlinewidth": 0,
             "ticks": ""
            },
            "type": "choropleth"
           }
          ],
          "contour": [
           {
            "colorbar": {
             "outlinewidth": 0,
             "ticks": ""
            },
            "colorscale": [
             [
              0,
              "#0d0887"
             ],
             [
              0.1111111111111111,
              "#46039f"
             ],
             [
              0.2222222222222222,
              "#7201a8"
             ],
             [
              0.3333333333333333,
              "#9c179e"
             ],
             [
              0.4444444444444444,
              "#bd3786"
             ],
             [
              0.5555555555555556,
              "#d8576b"
             ],
             [
              0.6666666666666666,
              "#ed7953"
             ],
             [
              0.7777777777777778,
              "#fb9f3a"
             ],
             [
              0.8888888888888888,
              "#fdca26"
             ],
             [
              1,
              "#f0f921"
             ]
            ],
            "type": "contour"
           }
          ],
          "contourcarpet": [
           {
            "colorbar": {
             "outlinewidth": 0,
             "ticks": ""
            },
            "type": "contourcarpet"
           }
          ],
          "heatmap": [
           {
            "colorbar": {
             "outlinewidth": 0,
             "ticks": ""
            },
            "colorscale": [
             [
              0,
              "#0d0887"
             ],
             [
              0.1111111111111111,
              "#46039f"
             ],
             [
              0.2222222222222222,
              "#7201a8"
             ],
             [
              0.3333333333333333,
              "#9c179e"
             ],
             [
              0.4444444444444444,
              "#bd3786"
             ],
             [
              0.5555555555555556,
              "#d8576b"
             ],
             [
              0.6666666666666666,
              "#ed7953"
             ],
             [
              0.7777777777777778,
              "#fb9f3a"
             ],
             [
              0.8888888888888888,
              "#fdca26"
             ],
             [
              1,
              "#f0f921"
             ]
            ],
            "type": "heatmap"
           }
          ],
          "histogram": [
           {
            "marker": {
             "pattern": {
              "fillmode": "overlay",
              "size": 10,
              "solidity": 0.2
             }
            },
            "type": "histogram"
           }
          ],
          "histogram2d": [
           {
            "colorbar": {
             "outlinewidth": 0,
             "ticks": ""
            },
            "colorscale": [
             [
              0,
              "#0d0887"
             ],
             [
              0.1111111111111111,
              "#46039f"
             ],
             [
              0.2222222222222222,
              "#7201a8"
             ],
             [
              0.3333333333333333,
              "#9c179e"
             ],
             [
              0.4444444444444444,
              "#bd3786"
             ],
             [
              0.5555555555555556,
              "#d8576b"
             ],
             [
              0.6666666666666666,
              "#ed7953"
             ],
             [
              0.7777777777777778,
              "#fb9f3a"
             ],
             [
              0.8888888888888888,
              "#fdca26"
             ],
             [
              1,
              "#f0f921"
             ]
            ],
            "type": "histogram2d"
           }
          ],
          "histogram2dcontour": [
           {
            "colorbar": {
             "outlinewidth": 0,
             "ticks": ""
            },
            "colorscale": [
             [
              0,
              "#0d0887"
             ],
             [
              0.1111111111111111,
              "#46039f"
             ],
             [
              0.2222222222222222,
              "#7201a8"
             ],
             [
              0.3333333333333333,
              "#9c179e"
             ],
             [
              0.4444444444444444,
              "#bd3786"
             ],
             [
              0.5555555555555556,
              "#d8576b"
             ],
             [
              0.6666666666666666,
              "#ed7953"
             ],
             [
              0.7777777777777778,
              "#fb9f3a"
             ],
             [
              0.8888888888888888,
              "#fdca26"
             ],
             [
              1,
              "#f0f921"
             ]
            ],
            "type": "histogram2dcontour"
           }
          ],
          "mesh3d": [
           {
            "colorbar": {
             "outlinewidth": 0,
             "ticks": ""
            },
            "type": "mesh3d"
           }
          ],
          "parcoords": [
           {
            "line": {
             "colorbar": {
              "outlinewidth": 0,
              "ticks": ""
             }
            },
            "type": "parcoords"
           }
          ],
          "pie": [
           {
            "automargin": true,
            "type": "pie"
           }
          ],
          "scatter": [
           {
            "fillpattern": {
             "fillmode": "overlay",
             "size": 10,
             "solidity": 0.2
            },
            "type": "scatter"
           }
          ],
          "scatter3d": [
           {
            "line": {
             "colorbar": {
              "outlinewidth": 0,
              "ticks": ""
             }
            },
            "marker": {
             "colorbar": {
              "outlinewidth": 0,
              "ticks": ""
             }
            },
            "type": "scatter3d"
           }
          ],
          "scattercarpet": [
           {
            "marker": {
             "colorbar": {
              "outlinewidth": 0,
              "ticks": ""
             }
            },
            "type": "scattercarpet"
           }
          ],
          "scattergeo": [
           {
            "marker": {
             "colorbar": {
              "outlinewidth": 0,
              "ticks": ""
             }
            },
            "type": "scattergeo"
           }
          ],
          "scattergl": [
           {
            "marker": {
             "colorbar": {
              "outlinewidth": 0,
              "ticks": ""
             }
            },
            "type": "scattergl"
           }
          ],
          "scattermap": [
           {
            "marker": {
             "colorbar": {
              "outlinewidth": 0,
              "ticks": ""
             }
            },
            "type": "scattermap"
           }
          ],
          "scattermapbox": [
           {
            "marker": {
             "colorbar": {
              "outlinewidth": 0,
              "ticks": ""
             }
            },
            "type": "scattermapbox"
           }
          ],
          "scatterpolar": [
           {
            "marker": {
             "colorbar": {
              "outlinewidth": 0,
              "ticks": ""
             }
            },
            "type": "scatterpolar"
           }
          ],
          "scatterpolargl": [
           {
            "marker": {
             "colorbar": {
              "outlinewidth": 0,
              "ticks": ""
             }
            },
            "type": "scatterpolargl"
           }
          ],
          "scatterternary": [
           {
            "marker": {
             "colorbar": {
              "outlinewidth": 0,
              "ticks": ""
             }
            },
            "type": "scatterternary"
           }
          ],
          "surface": [
           {
            "colorbar": {
             "outlinewidth": 0,
             "ticks": ""
            },
            "colorscale": [
             [
              0,
              "#0d0887"
             ],
             [
              0.1111111111111111,
              "#46039f"
             ],
             [
              0.2222222222222222,
              "#7201a8"
             ],
             [
              0.3333333333333333,
              "#9c179e"
             ],
             [
              0.4444444444444444,
              "#bd3786"
             ],
             [
              0.5555555555555556,
              "#d8576b"
             ],
             [
              0.6666666666666666,
              "#ed7953"
             ],
             [
              0.7777777777777778,
              "#fb9f3a"
             ],
             [
              0.8888888888888888,
              "#fdca26"
             ],
             [
              1,
              "#f0f921"
             ]
            ],
            "type": "surface"
           }
          ],
          "table": [
           {
            "cells": {
             "fill": {
              "color": "#EBF0F8"
             },
             "line": {
              "color": "white"
             }
            },
            "header": {
             "fill": {
              "color": "#C8D4E3"
             },
             "line": {
              "color": "white"
             }
            },
            "type": "table"
           }
          ]
         },
         "layout": {
          "annotationdefaults": {
           "arrowcolor": "#2a3f5f",
           "arrowhead": 0,
           "arrowwidth": 1
          },
          "autotypenumbers": "strict",
          "coloraxis": {
           "colorbar": {
            "outlinewidth": 0,
            "ticks": ""
           }
          },
          "colorscale": {
           "diverging": [
            [
             0,
             "#8e0152"
            ],
            [
             0.1,
             "#c51b7d"
            ],
            [
             0.2,
             "#de77ae"
            ],
            [
             0.3,
             "#f1b6da"
            ],
            [
             0.4,
             "#fde0ef"
            ],
            [
             0.5,
             "#f7f7f7"
            ],
            [
             0.6,
             "#e6f5d0"
            ],
            [
             0.7,
             "#b8e186"
            ],
            [
             0.8,
             "#7fbc41"
            ],
            [
             0.9,
             "#4d9221"
            ],
            [
             1,
             "#276419"
            ]
           ],
           "sequential": [
            [
             0,
             "#0d0887"
            ],
            [
             0.1111111111111111,
             "#46039f"
            ],
            [
             0.2222222222222222,
             "#7201a8"
            ],
            [
             0.3333333333333333,
             "#9c179e"
            ],
            [
             0.4444444444444444,
             "#bd3786"
            ],
            [
             0.5555555555555556,
             "#d8576b"
            ],
            [
             0.6666666666666666,
             "#ed7953"
            ],
            [
             0.7777777777777778,
             "#fb9f3a"
            ],
            [
             0.8888888888888888,
             "#fdca26"
            ],
            [
             1,
             "#f0f921"
            ]
           ],
           "sequentialminus": [
            [
             0,
             "#0d0887"
            ],
            [
             0.1111111111111111,
             "#46039f"
            ],
            [
             0.2222222222222222,
             "#7201a8"
            ],
            [
             0.3333333333333333,
             "#9c179e"
            ],
            [
             0.4444444444444444,
             "#bd3786"
            ],
            [
             0.5555555555555556,
             "#d8576b"
            ],
            [
             0.6666666666666666,
             "#ed7953"
            ],
            [
             0.7777777777777778,
             "#fb9f3a"
            ],
            [
             0.8888888888888888,
             "#fdca26"
            ],
            [
             1,
             "#f0f921"
            ]
           ]
          },
          "colorway": [
           "#636efa",
           "#EF553B",
           "#00cc96",
           "#ab63fa",
           "#FFA15A",
           "#19d3f3",
           "#FF6692",
           "#B6E880",
           "#FF97FF",
           "#FECB52"
          ],
          "font": {
           "color": "#2a3f5f"
          },
          "geo": {
           "bgcolor": "white",
           "lakecolor": "white",
           "landcolor": "#E5ECF6",
           "showlakes": true,
           "showland": true,
           "subunitcolor": "white"
          },
          "hoverlabel": {
           "align": "left"
          },
          "hovermode": "closest",
          "mapbox": {
           "style": "light"
          },
          "paper_bgcolor": "white",
          "plot_bgcolor": "#E5ECF6",
          "polar": {
           "angularaxis": {
            "gridcolor": "white",
            "linecolor": "white",
            "ticks": ""
           },
           "bgcolor": "#E5ECF6",
           "radialaxis": {
            "gridcolor": "white",
            "linecolor": "white",
            "ticks": ""
           }
          },
          "scene": {
           "xaxis": {
            "backgroundcolor": "#E5ECF6",
            "gridcolor": "white",
            "gridwidth": 2,
            "linecolor": "white",
            "showbackground": true,
            "ticks": "",
            "zerolinecolor": "white"
           },
           "yaxis": {
            "backgroundcolor": "#E5ECF6",
            "gridcolor": "white",
            "gridwidth": 2,
            "linecolor": "white",
            "showbackground": true,
            "ticks": "",
            "zerolinecolor": "white"
           },
           "zaxis": {
            "backgroundcolor": "#E5ECF6",
            "gridcolor": "white",
            "gridwidth": 2,
            "linecolor": "white",
            "showbackground": true,
            "ticks": "",
            "zerolinecolor": "white"
           }
          },
          "shapedefaults": {
           "line": {
            "color": "#2a3f5f"
           }
          },
          "ternary": {
           "aaxis": {
            "gridcolor": "white",
            "linecolor": "white",
            "ticks": ""
           },
           "baxis": {
            "gridcolor": "white",
            "linecolor": "white",
            "ticks": ""
           },
           "bgcolor": "#E5ECF6",
           "caxis": {
            "gridcolor": "white",
            "linecolor": "white",
            "ticks": ""
           }
          },
          "title": {
           "x": 0.05
          },
          "xaxis": {
           "automargin": true,
           "gridcolor": "white",
           "linecolor": "white",
           "ticks": "",
           "title": {
            "standoff": 15
           },
           "zerolinecolor": "white",
           "zerolinewidth": 2
          },
          "yaxis": {
           "automargin": true,
           "gridcolor": "white",
           "linecolor": "white",
           "ticks": "",
           "title": {
            "standoff": 15
           },
           "zerolinecolor": "white",
           "zerolinewidth": 2
          }
         }
        },
        "title": {
         "text": "Distribution of Streaming TV",
         "x": 0.5
        },
        "uniformtext": {
         "minsize": 8,
         "mode": "hide"
        },
        "xaxis": {
         "anchor": "y",
         "categoryarray": [
          "No",
          "Yes",
          "No internet service"
         ],
         "categoryorder": "array",
         "domain": [
          0,
          1
         ],
         "tickangle": -45,
         "title": {
          "text": "Streaming TV"
         }
        },
        "yaxis": {
         "anchor": "x",
         "domain": [
          0,
          1
         ],
         "title": {
          "text": "Count"
         }
        }
       }
      }
     },
     "metadata": {},
     "output_type": "display_data"
    },
    {
     "data": {
      "application/vnd.plotly.v1+json": {
       "config": {
        "plotlyServerURL": "https://plot.ly"
       },
       "data": [
        {
         "hovertemplate": "Streaming Movies=%{x}<br>count=%{text}<extra></extra>",
         "legendgroup": "No",
         "marker": {
          "color": "#636efa",
          "pattern": {
           "shape": ""
          }
         },
         "name": "No",
         "orientation": "v",
         "showlegend": true,
         "text": {
          "bdata": "AAAAAADCpUA=",
          "dtype": "f8"
         },
         "textposition": "outside",
         "texttemplate": "%{text}",
         "type": "bar",
         "x": [
          "No"
         ],
         "xaxis": "x",
         "y": {
          "bdata": "4Qo=",
          "dtype": "i2"
         },
         "yaxis": "y"
        },
        {
         "hovertemplate": "Streaming Movies=%{x}<br>count=%{text}<extra></extra>",
         "legendgroup": "Yes",
         "marker": {
          "color": "#EF553B",
          "pattern": {
           "shape": ""
          }
         },
         "name": "Yes",
         "orientation": "v",
         "showlegend": true,
         "text": {
          "bdata": "AAAAAABYpUA=",
          "dtype": "f8"
         },
         "textposition": "outside",
         "texttemplate": "%{text}",
         "type": "bar",
         "x": [
          "Yes"
         ],
         "xaxis": "x",
         "y": {
          "bdata": "rAo=",
          "dtype": "i2"
         },
         "yaxis": "y"
        },
        {
         "hovertemplate": "Streaming Movies=%{x}<br>count=%{text}<extra></extra>",
         "legendgroup": "No internet service",
         "marker": {
          "color": "#00cc96",
          "pattern": {
           "shape": ""
          }
         },
         "name": "No internet service",
         "orientation": "v",
         "showlegend": true,
         "text": {
          "bdata": "AAAAAADYl0A=",
          "dtype": "f8"
         },
         "textposition": "outside",
         "texttemplate": "%{text}",
         "type": "bar",
         "x": [
          "No internet service"
         ],
         "xaxis": "x",
         "y": {
          "bdata": "9gU=",
          "dtype": "i2"
         },
         "yaxis": "y"
        }
       ],
       "layout": {
        "barmode": "relative",
        "legend": {
         "title": {
          "text": "Streaming Movies"
         },
         "tracegroupgap": 0
        },
        "showlegend": true,
        "template": {
         "data": {
          "bar": [
           {
            "error_x": {
             "color": "#2a3f5f"
            },
            "error_y": {
             "color": "#2a3f5f"
            },
            "marker": {
             "line": {
              "color": "#E5ECF6",
              "width": 0.5
             },
             "pattern": {
              "fillmode": "overlay",
              "size": 10,
              "solidity": 0.2
             }
            },
            "type": "bar"
           }
          ],
          "barpolar": [
           {
            "marker": {
             "line": {
              "color": "#E5ECF6",
              "width": 0.5
             },
             "pattern": {
              "fillmode": "overlay",
              "size": 10,
              "solidity": 0.2
             }
            },
            "type": "barpolar"
           }
          ],
          "carpet": [
           {
            "aaxis": {
             "endlinecolor": "#2a3f5f",
             "gridcolor": "white",
             "linecolor": "white",
             "minorgridcolor": "white",
             "startlinecolor": "#2a3f5f"
            },
            "baxis": {
             "endlinecolor": "#2a3f5f",
             "gridcolor": "white",
             "linecolor": "white",
             "minorgridcolor": "white",
             "startlinecolor": "#2a3f5f"
            },
            "type": "carpet"
           }
          ],
          "choropleth": [
           {
            "colorbar": {
             "outlinewidth": 0,
             "ticks": ""
            },
            "type": "choropleth"
           }
          ],
          "contour": [
           {
            "colorbar": {
             "outlinewidth": 0,
             "ticks": ""
            },
            "colorscale": [
             [
              0,
              "#0d0887"
             ],
             [
              0.1111111111111111,
              "#46039f"
             ],
             [
              0.2222222222222222,
              "#7201a8"
             ],
             [
              0.3333333333333333,
              "#9c179e"
             ],
             [
              0.4444444444444444,
              "#bd3786"
             ],
             [
              0.5555555555555556,
              "#d8576b"
             ],
             [
              0.6666666666666666,
              "#ed7953"
             ],
             [
              0.7777777777777778,
              "#fb9f3a"
             ],
             [
              0.8888888888888888,
              "#fdca26"
             ],
             [
              1,
              "#f0f921"
             ]
            ],
            "type": "contour"
           }
          ],
          "contourcarpet": [
           {
            "colorbar": {
             "outlinewidth": 0,
             "ticks": ""
            },
            "type": "contourcarpet"
           }
          ],
          "heatmap": [
           {
            "colorbar": {
             "outlinewidth": 0,
             "ticks": ""
            },
            "colorscale": [
             [
              0,
              "#0d0887"
             ],
             [
              0.1111111111111111,
              "#46039f"
             ],
             [
              0.2222222222222222,
              "#7201a8"
             ],
             [
              0.3333333333333333,
              "#9c179e"
             ],
             [
              0.4444444444444444,
              "#bd3786"
             ],
             [
              0.5555555555555556,
              "#d8576b"
             ],
             [
              0.6666666666666666,
              "#ed7953"
             ],
             [
              0.7777777777777778,
              "#fb9f3a"
             ],
             [
              0.8888888888888888,
              "#fdca26"
             ],
             [
              1,
              "#f0f921"
             ]
            ],
            "type": "heatmap"
           }
          ],
          "histogram": [
           {
            "marker": {
             "pattern": {
              "fillmode": "overlay",
              "size": 10,
              "solidity": 0.2
             }
            },
            "type": "histogram"
           }
          ],
          "histogram2d": [
           {
            "colorbar": {
             "outlinewidth": 0,
             "ticks": ""
            },
            "colorscale": [
             [
              0,
              "#0d0887"
             ],
             [
              0.1111111111111111,
              "#46039f"
             ],
             [
              0.2222222222222222,
              "#7201a8"
             ],
             [
              0.3333333333333333,
              "#9c179e"
             ],
             [
              0.4444444444444444,
              "#bd3786"
             ],
             [
              0.5555555555555556,
              "#d8576b"
             ],
             [
              0.6666666666666666,
              "#ed7953"
             ],
             [
              0.7777777777777778,
              "#fb9f3a"
             ],
             [
              0.8888888888888888,
              "#fdca26"
             ],
             [
              1,
              "#f0f921"
             ]
            ],
            "type": "histogram2d"
           }
          ],
          "histogram2dcontour": [
           {
            "colorbar": {
             "outlinewidth": 0,
             "ticks": ""
            },
            "colorscale": [
             [
              0,
              "#0d0887"
             ],
             [
              0.1111111111111111,
              "#46039f"
             ],
             [
              0.2222222222222222,
              "#7201a8"
             ],
             [
              0.3333333333333333,
              "#9c179e"
             ],
             [
              0.4444444444444444,
              "#bd3786"
             ],
             [
              0.5555555555555556,
              "#d8576b"
             ],
             [
              0.6666666666666666,
              "#ed7953"
             ],
             [
              0.7777777777777778,
              "#fb9f3a"
             ],
             [
              0.8888888888888888,
              "#fdca26"
             ],
             [
              1,
              "#f0f921"
             ]
            ],
            "type": "histogram2dcontour"
           }
          ],
          "mesh3d": [
           {
            "colorbar": {
             "outlinewidth": 0,
             "ticks": ""
            },
            "type": "mesh3d"
           }
          ],
          "parcoords": [
           {
            "line": {
             "colorbar": {
              "outlinewidth": 0,
              "ticks": ""
             }
            },
            "type": "parcoords"
           }
          ],
          "pie": [
           {
            "automargin": true,
            "type": "pie"
           }
          ],
          "scatter": [
           {
            "fillpattern": {
             "fillmode": "overlay",
             "size": 10,
             "solidity": 0.2
            },
            "type": "scatter"
           }
          ],
          "scatter3d": [
           {
            "line": {
             "colorbar": {
              "outlinewidth": 0,
              "ticks": ""
             }
            },
            "marker": {
             "colorbar": {
              "outlinewidth": 0,
              "ticks": ""
             }
            },
            "type": "scatter3d"
           }
          ],
          "scattercarpet": [
           {
            "marker": {
             "colorbar": {
              "outlinewidth": 0,
              "ticks": ""
             }
            },
            "type": "scattercarpet"
           }
          ],
          "scattergeo": [
           {
            "marker": {
             "colorbar": {
              "outlinewidth": 0,
              "ticks": ""
             }
            },
            "type": "scattergeo"
           }
          ],
          "scattergl": [
           {
            "marker": {
             "colorbar": {
              "outlinewidth": 0,
              "ticks": ""
             }
            },
            "type": "scattergl"
           }
          ],
          "scattermap": [
           {
            "marker": {
             "colorbar": {
              "outlinewidth": 0,
              "ticks": ""
             }
            },
            "type": "scattermap"
           }
          ],
          "scattermapbox": [
           {
            "marker": {
             "colorbar": {
              "outlinewidth": 0,
              "ticks": ""
             }
            },
            "type": "scattermapbox"
           }
          ],
          "scatterpolar": [
           {
            "marker": {
             "colorbar": {
              "outlinewidth": 0,
              "ticks": ""
             }
            },
            "type": "scatterpolar"
           }
          ],
          "scatterpolargl": [
           {
            "marker": {
             "colorbar": {
              "outlinewidth": 0,
              "ticks": ""
             }
            },
            "type": "scatterpolargl"
           }
          ],
          "scatterternary": [
           {
            "marker": {
             "colorbar": {
              "outlinewidth": 0,
              "ticks": ""
             }
            },
            "type": "scatterternary"
           }
          ],
          "surface": [
           {
            "colorbar": {
             "outlinewidth": 0,
             "ticks": ""
            },
            "colorscale": [
             [
              0,
              "#0d0887"
             ],
             [
              0.1111111111111111,
              "#46039f"
             ],
             [
              0.2222222222222222,
              "#7201a8"
             ],
             [
              0.3333333333333333,
              "#9c179e"
             ],
             [
              0.4444444444444444,
              "#bd3786"
             ],
             [
              0.5555555555555556,
              "#d8576b"
             ],
             [
              0.6666666666666666,
              "#ed7953"
             ],
             [
              0.7777777777777778,
              "#fb9f3a"
             ],
             [
              0.8888888888888888,
              "#fdca26"
             ],
             [
              1,
              "#f0f921"
             ]
            ],
            "type": "surface"
           }
          ],
          "table": [
           {
            "cells": {
             "fill": {
              "color": "#EBF0F8"
             },
             "line": {
              "color": "white"
             }
            },
            "header": {
             "fill": {
              "color": "#C8D4E3"
             },
             "line": {
              "color": "white"
             }
            },
            "type": "table"
           }
          ]
         },
         "layout": {
          "annotationdefaults": {
           "arrowcolor": "#2a3f5f",
           "arrowhead": 0,
           "arrowwidth": 1
          },
          "autotypenumbers": "strict",
          "coloraxis": {
           "colorbar": {
            "outlinewidth": 0,
            "ticks": ""
           }
          },
          "colorscale": {
           "diverging": [
            [
             0,
             "#8e0152"
            ],
            [
             0.1,
             "#c51b7d"
            ],
            [
             0.2,
             "#de77ae"
            ],
            [
             0.3,
             "#f1b6da"
            ],
            [
             0.4,
             "#fde0ef"
            ],
            [
             0.5,
             "#f7f7f7"
            ],
            [
             0.6,
             "#e6f5d0"
            ],
            [
             0.7,
             "#b8e186"
            ],
            [
             0.8,
             "#7fbc41"
            ],
            [
             0.9,
             "#4d9221"
            ],
            [
             1,
             "#276419"
            ]
           ],
           "sequential": [
            [
             0,
             "#0d0887"
            ],
            [
             0.1111111111111111,
             "#46039f"
            ],
            [
             0.2222222222222222,
             "#7201a8"
            ],
            [
             0.3333333333333333,
             "#9c179e"
            ],
            [
             0.4444444444444444,
             "#bd3786"
            ],
            [
             0.5555555555555556,
             "#d8576b"
            ],
            [
             0.6666666666666666,
             "#ed7953"
            ],
            [
             0.7777777777777778,
             "#fb9f3a"
            ],
            [
             0.8888888888888888,
             "#fdca26"
            ],
            [
             1,
             "#f0f921"
            ]
           ],
           "sequentialminus": [
            [
             0,
             "#0d0887"
            ],
            [
             0.1111111111111111,
             "#46039f"
            ],
            [
             0.2222222222222222,
             "#7201a8"
            ],
            [
             0.3333333333333333,
             "#9c179e"
            ],
            [
             0.4444444444444444,
             "#bd3786"
            ],
            [
             0.5555555555555556,
             "#d8576b"
            ],
            [
             0.6666666666666666,
             "#ed7953"
            ],
            [
             0.7777777777777778,
             "#fb9f3a"
            ],
            [
             0.8888888888888888,
             "#fdca26"
            ],
            [
             1,
             "#f0f921"
            ]
           ]
          },
          "colorway": [
           "#636efa",
           "#EF553B",
           "#00cc96",
           "#ab63fa",
           "#FFA15A",
           "#19d3f3",
           "#FF6692",
           "#B6E880",
           "#FF97FF",
           "#FECB52"
          ],
          "font": {
           "color": "#2a3f5f"
          },
          "geo": {
           "bgcolor": "white",
           "lakecolor": "white",
           "landcolor": "#E5ECF6",
           "showlakes": true,
           "showland": true,
           "subunitcolor": "white"
          },
          "hoverlabel": {
           "align": "left"
          },
          "hovermode": "closest",
          "mapbox": {
           "style": "light"
          },
          "paper_bgcolor": "white",
          "plot_bgcolor": "#E5ECF6",
          "polar": {
           "angularaxis": {
            "gridcolor": "white",
            "linecolor": "white",
            "ticks": ""
           },
           "bgcolor": "#E5ECF6",
           "radialaxis": {
            "gridcolor": "white",
            "linecolor": "white",
            "ticks": ""
           }
          },
          "scene": {
           "xaxis": {
            "backgroundcolor": "#E5ECF6",
            "gridcolor": "white",
            "gridwidth": 2,
            "linecolor": "white",
            "showbackground": true,
            "ticks": "",
            "zerolinecolor": "white"
           },
           "yaxis": {
            "backgroundcolor": "#E5ECF6",
            "gridcolor": "white",
            "gridwidth": 2,
            "linecolor": "white",
            "showbackground": true,
            "ticks": "",
            "zerolinecolor": "white"
           },
           "zaxis": {
            "backgroundcolor": "#E5ECF6",
            "gridcolor": "white",
            "gridwidth": 2,
            "linecolor": "white",
            "showbackground": true,
            "ticks": "",
            "zerolinecolor": "white"
           }
          },
          "shapedefaults": {
           "line": {
            "color": "#2a3f5f"
           }
          },
          "ternary": {
           "aaxis": {
            "gridcolor": "white",
            "linecolor": "white",
            "ticks": ""
           },
           "baxis": {
            "gridcolor": "white",
            "linecolor": "white",
            "ticks": ""
           },
           "bgcolor": "#E5ECF6",
           "caxis": {
            "gridcolor": "white",
            "linecolor": "white",
            "ticks": ""
           }
          },
          "title": {
           "x": 0.05
          },
          "xaxis": {
           "automargin": true,
           "gridcolor": "white",
           "linecolor": "white",
           "ticks": "",
           "title": {
            "standoff": 15
           },
           "zerolinecolor": "white",
           "zerolinewidth": 2
          },
          "yaxis": {
           "automargin": true,
           "gridcolor": "white",
           "linecolor": "white",
           "ticks": "",
           "title": {
            "standoff": 15
           },
           "zerolinecolor": "white",
           "zerolinewidth": 2
          }
         }
        },
        "title": {
         "text": "Distribution of Streaming Movies",
         "x": 0.5
        },
        "uniformtext": {
         "minsize": 8,
         "mode": "hide"
        },
        "xaxis": {
         "anchor": "y",
         "categoryarray": [
          "No",
          "Yes",
          "No internet service"
         ],
         "categoryorder": "array",
         "domain": [
          0,
          1
         ],
         "tickangle": -45,
         "title": {
          "text": "Streaming Movies"
         }
        },
        "yaxis": {
         "anchor": "x",
         "domain": [
          0,
          1
         ],
         "title": {
          "text": "Count"
         }
        }
       }
      }
     },
     "metadata": {},
     "output_type": "display_data"
    },
    {
     "data": {
      "application/vnd.plotly.v1+json": {
       "config": {
        "plotlyServerURL": "https://plot.ly"
       },
       "data": [
        {
         "hovertemplate": "Contract=%{x}<br>count=%{text}<extra></extra>",
         "legendgroup": "Month-to-month",
         "marker": {
          "color": "#636efa",
          "pattern": {
           "shape": ""
          }
         },
         "name": "Month-to-month",
         "orientation": "v",
         "showlegend": true,
         "text": {
          "bdata": "AAAAAABGrkA=",
          "dtype": "f8"
         },
         "textposition": "outside",
         "texttemplate": "%{text}",
         "type": "bar",
         "x": [
          "Month-to-month"
         ],
         "xaxis": "x",
         "y": {
          "bdata": "Iw8=",
          "dtype": "i2"
         },
         "yaxis": "y"
        },
        {
         "hovertemplate": "Contract=%{x}<br>count=%{text}<extra></extra>",
         "legendgroup": "Two year",
         "marker": {
          "color": "#EF553B",
          "pattern": {
           "shape": ""
          }
         },
         "name": "Two year",
         "orientation": "v",
         "showlegend": true,
         "text": {
          "bdata": "AAAAAAB8mkA=",
          "dtype": "f8"
         },
         "textposition": "outside",
         "texttemplate": "%{text}",
         "type": "bar",
         "x": [
          "Two year"
         ],
         "xaxis": "x",
         "y": {
          "bdata": "nwY=",
          "dtype": "i2"
         },
         "yaxis": "y"
        },
        {
         "hovertemplate": "Contract=%{x}<br>count=%{text}<extra></extra>",
         "legendgroup": "One year",
         "marker": {
          "color": "#00cc96",
          "pattern": {
           "shape": ""
          }
         },
         "name": "One year",
         "orientation": "v",
         "showlegend": true,
         "text": {
          "bdata": "AAAAAAAEl0A=",
          "dtype": "f8"
         },
         "textposition": "outside",
         "texttemplate": "%{text}",
         "type": "bar",
         "x": [
          "One year"
         ],
         "xaxis": "x",
         "y": {
          "bdata": "wQU=",
          "dtype": "i2"
         },
         "yaxis": "y"
        }
       ],
       "layout": {
        "barmode": "relative",
        "legend": {
         "title": {
          "text": "Contract"
         },
         "tracegroupgap": 0
        },
        "showlegend": true,
        "template": {
         "data": {
          "bar": [
           {
            "error_x": {
             "color": "#2a3f5f"
            },
            "error_y": {
             "color": "#2a3f5f"
            },
            "marker": {
             "line": {
              "color": "#E5ECF6",
              "width": 0.5
             },
             "pattern": {
              "fillmode": "overlay",
              "size": 10,
              "solidity": 0.2
             }
            },
            "type": "bar"
           }
          ],
          "barpolar": [
           {
            "marker": {
             "line": {
              "color": "#E5ECF6",
              "width": 0.5
             },
             "pattern": {
              "fillmode": "overlay",
              "size": 10,
              "solidity": 0.2
             }
            },
            "type": "barpolar"
           }
          ],
          "carpet": [
           {
            "aaxis": {
             "endlinecolor": "#2a3f5f",
             "gridcolor": "white",
             "linecolor": "white",
             "minorgridcolor": "white",
             "startlinecolor": "#2a3f5f"
            },
            "baxis": {
             "endlinecolor": "#2a3f5f",
             "gridcolor": "white",
             "linecolor": "white",
             "minorgridcolor": "white",
             "startlinecolor": "#2a3f5f"
            },
            "type": "carpet"
           }
          ],
          "choropleth": [
           {
            "colorbar": {
             "outlinewidth": 0,
             "ticks": ""
            },
            "type": "choropleth"
           }
          ],
          "contour": [
           {
            "colorbar": {
             "outlinewidth": 0,
             "ticks": ""
            },
            "colorscale": [
             [
              0,
              "#0d0887"
             ],
             [
              0.1111111111111111,
              "#46039f"
             ],
             [
              0.2222222222222222,
              "#7201a8"
             ],
             [
              0.3333333333333333,
              "#9c179e"
             ],
             [
              0.4444444444444444,
              "#bd3786"
             ],
             [
              0.5555555555555556,
              "#d8576b"
             ],
             [
              0.6666666666666666,
              "#ed7953"
             ],
             [
              0.7777777777777778,
              "#fb9f3a"
             ],
             [
              0.8888888888888888,
              "#fdca26"
             ],
             [
              1,
              "#f0f921"
             ]
            ],
            "type": "contour"
           }
          ],
          "contourcarpet": [
           {
            "colorbar": {
             "outlinewidth": 0,
             "ticks": ""
            },
            "type": "contourcarpet"
           }
          ],
          "heatmap": [
           {
            "colorbar": {
             "outlinewidth": 0,
             "ticks": ""
            },
            "colorscale": [
             [
              0,
              "#0d0887"
             ],
             [
              0.1111111111111111,
              "#46039f"
             ],
             [
              0.2222222222222222,
              "#7201a8"
             ],
             [
              0.3333333333333333,
              "#9c179e"
             ],
             [
              0.4444444444444444,
              "#bd3786"
             ],
             [
              0.5555555555555556,
              "#d8576b"
             ],
             [
              0.6666666666666666,
              "#ed7953"
             ],
             [
              0.7777777777777778,
              "#fb9f3a"
             ],
             [
              0.8888888888888888,
              "#fdca26"
             ],
             [
              1,
              "#f0f921"
             ]
            ],
            "type": "heatmap"
           }
          ],
          "histogram": [
           {
            "marker": {
             "pattern": {
              "fillmode": "overlay",
              "size": 10,
              "solidity": 0.2
             }
            },
            "type": "histogram"
           }
          ],
          "histogram2d": [
           {
            "colorbar": {
             "outlinewidth": 0,
             "ticks": ""
            },
            "colorscale": [
             [
              0,
              "#0d0887"
             ],
             [
              0.1111111111111111,
              "#46039f"
             ],
             [
              0.2222222222222222,
              "#7201a8"
             ],
             [
              0.3333333333333333,
              "#9c179e"
             ],
             [
              0.4444444444444444,
              "#bd3786"
             ],
             [
              0.5555555555555556,
              "#d8576b"
             ],
             [
              0.6666666666666666,
              "#ed7953"
             ],
             [
              0.7777777777777778,
              "#fb9f3a"
             ],
             [
              0.8888888888888888,
              "#fdca26"
             ],
             [
              1,
              "#f0f921"
             ]
            ],
            "type": "histogram2d"
           }
          ],
          "histogram2dcontour": [
           {
            "colorbar": {
             "outlinewidth": 0,
             "ticks": ""
            },
            "colorscale": [
             [
              0,
              "#0d0887"
             ],
             [
              0.1111111111111111,
              "#46039f"
             ],
             [
              0.2222222222222222,
              "#7201a8"
             ],
             [
              0.3333333333333333,
              "#9c179e"
             ],
             [
              0.4444444444444444,
              "#bd3786"
             ],
             [
              0.5555555555555556,
              "#d8576b"
             ],
             [
              0.6666666666666666,
              "#ed7953"
             ],
             [
              0.7777777777777778,
              "#fb9f3a"
             ],
             [
              0.8888888888888888,
              "#fdca26"
             ],
             [
              1,
              "#f0f921"
             ]
            ],
            "type": "histogram2dcontour"
           }
          ],
          "mesh3d": [
           {
            "colorbar": {
             "outlinewidth": 0,
             "ticks": ""
            },
            "type": "mesh3d"
           }
          ],
          "parcoords": [
           {
            "line": {
             "colorbar": {
              "outlinewidth": 0,
              "ticks": ""
             }
            },
            "type": "parcoords"
           }
          ],
          "pie": [
           {
            "automargin": true,
            "type": "pie"
           }
          ],
          "scatter": [
           {
            "fillpattern": {
             "fillmode": "overlay",
             "size": 10,
             "solidity": 0.2
            },
            "type": "scatter"
           }
          ],
          "scatter3d": [
           {
            "line": {
             "colorbar": {
              "outlinewidth": 0,
              "ticks": ""
             }
            },
            "marker": {
             "colorbar": {
              "outlinewidth": 0,
              "ticks": ""
             }
            },
            "type": "scatter3d"
           }
          ],
          "scattercarpet": [
           {
            "marker": {
             "colorbar": {
              "outlinewidth": 0,
              "ticks": ""
             }
            },
            "type": "scattercarpet"
           }
          ],
          "scattergeo": [
           {
            "marker": {
             "colorbar": {
              "outlinewidth": 0,
              "ticks": ""
             }
            },
            "type": "scattergeo"
           }
          ],
          "scattergl": [
           {
            "marker": {
             "colorbar": {
              "outlinewidth": 0,
              "ticks": ""
             }
            },
            "type": "scattergl"
           }
          ],
          "scattermap": [
           {
            "marker": {
             "colorbar": {
              "outlinewidth": 0,
              "ticks": ""
             }
            },
            "type": "scattermap"
           }
          ],
          "scattermapbox": [
           {
            "marker": {
             "colorbar": {
              "outlinewidth": 0,
              "ticks": ""
             }
            },
            "type": "scattermapbox"
           }
          ],
          "scatterpolar": [
           {
            "marker": {
             "colorbar": {
              "outlinewidth": 0,
              "ticks": ""
             }
            },
            "type": "scatterpolar"
           }
          ],
          "scatterpolargl": [
           {
            "marker": {
             "colorbar": {
              "outlinewidth": 0,
              "ticks": ""
             }
            },
            "type": "scatterpolargl"
           }
          ],
          "scatterternary": [
           {
            "marker": {
             "colorbar": {
              "outlinewidth": 0,
              "ticks": ""
             }
            },
            "type": "scatterternary"
           }
          ],
          "surface": [
           {
            "colorbar": {
             "outlinewidth": 0,
             "ticks": ""
            },
            "colorscale": [
             [
              0,
              "#0d0887"
             ],
             [
              0.1111111111111111,
              "#46039f"
             ],
             [
              0.2222222222222222,
              "#7201a8"
             ],
             [
              0.3333333333333333,
              "#9c179e"
             ],
             [
              0.4444444444444444,
              "#bd3786"
             ],
             [
              0.5555555555555556,
              "#d8576b"
             ],
             [
              0.6666666666666666,
              "#ed7953"
             ],
             [
              0.7777777777777778,
              "#fb9f3a"
             ],
             [
              0.8888888888888888,
              "#fdca26"
             ],
             [
              1,
              "#f0f921"
             ]
            ],
            "type": "surface"
           }
          ],
          "table": [
           {
            "cells": {
             "fill": {
              "color": "#EBF0F8"
             },
             "line": {
              "color": "white"
             }
            },
            "header": {
             "fill": {
              "color": "#C8D4E3"
             },
             "line": {
              "color": "white"
             }
            },
            "type": "table"
           }
          ]
         },
         "layout": {
          "annotationdefaults": {
           "arrowcolor": "#2a3f5f",
           "arrowhead": 0,
           "arrowwidth": 1
          },
          "autotypenumbers": "strict",
          "coloraxis": {
           "colorbar": {
            "outlinewidth": 0,
            "ticks": ""
           }
          },
          "colorscale": {
           "diverging": [
            [
             0,
             "#8e0152"
            ],
            [
             0.1,
             "#c51b7d"
            ],
            [
             0.2,
             "#de77ae"
            ],
            [
             0.3,
             "#f1b6da"
            ],
            [
             0.4,
             "#fde0ef"
            ],
            [
             0.5,
             "#f7f7f7"
            ],
            [
             0.6,
             "#e6f5d0"
            ],
            [
             0.7,
             "#b8e186"
            ],
            [
             0.8,
             "#7fbc41"
            ],
            [
             0.9,
             "#4d9221"
            ],
            [
             1,
             "#276419"
            ]
           ],
           "sequential": [
            [
             0,
             "#0d0887"
            ],
            [
             0.1111111111111111,
             "#46039f"
            ],
            [
             0.2222222222222222,
             "#7201a8"
            ],
            [
             0.3333333333333333,
             "#9c179e"
            ],
            [
             0.4444444444444444,
             "#bd3786"
            ],
            [
             0.5555555555555556,
             "#d8576b"
            ],
            [
             0.6666666666666666,
             "#ed7953"
            ],
            [
             0.7777777777777778,
             "#fb9f3a"
            ],
            [
             0.8888888888888888,
             "#fdca26"
            ],
            [
             1,
             "#f0f921"
            ]
           ],
           "sequentialminus": [
            [
             0,
             "#0d0887"
            ],
            [
             0.1111111111111111,
             "#46039f"
            ],
            [
             0.2222222222222222,
             "#7201a8"
            ],
            [
             0.3333333333333333,
             "#9c179e"
            ],
            [
             0.4444444444444444,
             "#bd3786"
            ],
            [
             0.5555555555555556,
             "#d8576b"
            ],
            [
             0.6666666666666666,
             "#ed7953"
            ],
            [
             0.7777777777777778,
             "#fb9f3a"
            ],
            [
             0.8888888888888888,
             "#fdca26"
            ],
            [
             1,
             "#f0f921"
            ]
           ]
          },
          "colorway": [
           "#636efa",
           "#EF553B",
           "#00cc96",
           "#ab63fa",
           "#FFA15A",
           "#19d3f3",
           "#FF6692",
           "#B6E880",
           "#FF97FF",
           "#FECB52"
          ],
          "font": {
           "color": "#2a3f5f"
          },
          "geo": {
           "bgcolor": "white",
           "lakecolor": "white",
           "landcolor": "#E5ECF6",
           "showlakes": true,
           "showland": true,
           "subunitcolor": "white"
          },
          "hoverlabel": {
           "align": "left"
          },
          "hovermode": "closest",
          "mapbox": {
           "style": "light"
          },
          "paper_bgcolor": "white",
          "plot_bgcolor": "#E5ECF6",
          "polar": {
           "angularaxis": {
            "gridcolor": "white",
            "linecolor": "white",
            "ticks": ""
           },
           "bgcolor": "#E5ECF6",
           "radialaxis": {
            "gridcolor": "white",
            "linecolor": "white",
            "ticks": ""
           }
          },
          "scene": {
           "xaxis": {
            "backgroundcolor": "#E5ECF6",
            "gridcolor": "white",
            "gridwidth": 2,
            "linecolor": "white",
            "showbackground": true,
            "ticks": "",
            "zerolinecolor": "white"
           },
           "yaxis": {
            "backgroundcolor": "#E5ECF6",
            "gridcolor": "white",
            "gridwidth": 2,
            "linecolor": "white",
            "showbackground": true,
            "ticks": "",
            "zerolinecolor": "white"
           },
           "zaxis": {
            "backgroundcolor": "#E5ECF6",
            "gridcolor": "white",
            "gridwidth": 2,
            "linecolor": "white",
            "showbackground": true,
            "ticks": "",
            "zerolinecolor": "white"
           }
          },
          "shapedefaults": {
           "line": {
            "color": "#2a3f5f"
           }
          },
          "ternary": {
           "aaxis": {
            "gridcolor": "white",
            "linecolor": "white",
            "ticks": ""
           },
           "baxis": {
            "gridcolor": "white",
            "linecolor": "white",
            "ticks": ""
           },
           "bgcolor": "#E5ECF6",
           "caxis": {
            "gridcolor": "white",
            "linecolor": "white",
            "ticks": ""
           }
          },
          "title": {
           "x": 0.05
          },
          "xaxis": {
           "automargin": true,
           "gridcolor": "white",
           "linecolor": "white",
           "ticks": "",
           "title": {
            "standoff": 15
           },
           "zerolinecolor": "white",
           "zerolinewidth": 2
          },
          "yaxis": {
           "automargin": true,
           "gridcolor": "white",
           "linecolor": "white",
           "ticks": "",
           "title": {
            "standoff": 15
           },
           "zerolinecolor": "white",
           "zerolinewidth": 2
          }
         }
        },
        "title": {
         "text": "Distribution of Contract",
         "x": 0.5
        },
        "uniformtext": {
         "minsize": 8,
         "mode": "hide"
        },
        "xaxis": {
         "anchor": "y",
         "categoryarray": [
          "Month-to-month",
          "Two year",
          "One year"
         ],
         "categoryorder": "array",
         "domain": [
          0,
          1
         ],
         "tickangle": -45,
         "title": {
          "text": "Contract"
         }
        },
        "yaxis": {
         "anchor": "x",
         "domain": [
          0,
          1
         ],
         "title": {
          "text": "Count"
         }
        }
       }
      }
     },
     "metadata": {},
     "output_type": "display_data"
    },
    {
     "data": {
      "application/vnd.plotly.v1+json": {
       "config": {
        "plotlyServerURL": "https://plot.ly"
       },
       "data": [
        {
         "hovertemplate": "Paperless Billing=%{x}<br>count=%{text}<extra></extra>",
         "legendgroup": "Yes",
         "marker": {
          "color": "#636efa",
          "pattern": {
           "shape": ""
          }
         },
         "name": "Yes",
         "orientation": "v",
         "showlegend": true,
         "text": {
          "bdata": "AAAAAABLsEA=",
          "dtype": "f8"
         },
         "textposition": "outside",
         "texttemplate": "%{text}",
         "type": "bar",
         "x": [
          "Yes"
         ],
         "xaxis": "x",
         "y": {
          "bdata": "SxA=",
          "dtype": "i2"
         },
         "yaxis": "y"
        },
        {
         "hovertemplate": "Paperless Billing=%{x}<br>count=%{text}<extra></extra>",
         "legendgroup": "No",
         "marker": {
          "color": "#EF553B",
          "pattern": {
           "shape": ""
          }
         },
         "name": "No",
         "orientation": "v",
         "showlegend": true,
         "text": {
          "bdata": "AAAAAABwpkA=",
          "dtype": "f8"
         },
         "textposition": "outside",
         "texttemplate": "%{text}",
         "type": "bar",
         "x": [
          "No"
         ],
         "xaxis": "x",
         "y": {
          "bdata": "OAs=",
          "dtype": "i2"
         },
         "yaxis": "y"
        }
       ],
       "layout": {
        "barmode": "relative",
        "legend": {
         "title": {
          "text": "Paperless Billing"
         },
         "tracegroupgap": 0
        },
        "showlegend": true,
        "template": {
         "data": {
          "bar": [
           {
            "error_x": {
             "color": "#2a3f5f"
            },
            "error_y": {
             "color": "#2a3f5f"
            },
            "marker": {
             "line": {
              "color": "#E5ECF6",
              "width": 0.5
             },
             "pattern": {
              "fillmode": "overlay",
              "size": 10,
              "solidity": 0.2
             }
            },
            "type": "bar"
           }
          ],
          "barpolar": [
           {
            "marker": {
             "line": {
              "color": "#E5ECF6",
              "width": 0.5
             },
             "pattern": {
              "fillmode": "overlay",
              "size": 10,
              "solidity": 0.2
             }
            },
            "type": "barpolar"
           }
          ],
          "carpet": [
           {
            "aaxis": {
             "endlinecolor": "#2a3f5f",
             "gridcolor": "white",
             "linecolor": "white",
             "minorgridcolor": "white",
             "startlinecolor": "#2a3f5f"
            },
            "baxis": {
             "endlinecolor": "#2a3f5f",
             "gridcolor": "white",
             "linecolor": "white",
             "minorgridcolor": "white",
             "startlinecolor": "#2a3f5f"
            },
            "type": "carpet"
           }
          ],
          "choropleth": [
           {
            "colorbar": {
             "outlinewidth": 0,
             "ticks": ""
            },
            "type": "choropleth"
           }
          ],
          "contour": [
           {
            "colorbar": {
             "outlinewidth": 0,
             "ticks": ""
            },
            "colorscale": [
             [
              0,
              "#0d0887"
             ],
             [
              0.1111111111111111,
              "#46039f"
             ],
             [
              0.2222222222222222,
              "#7201a8"
             ],
             [
              0.3333333333333333,
              "#9c179e"
             ],
             [
              0.4444444444444444,
              "#bd3786"
             ],
             [
              0.5555555555555556,
              "#d8576b"
             ],
             [
              0.6666666666666666,
              "#ed7953"
             ],
             [
              0.7777777777777778,
              "#fb9f3a"
             ],
             [
              0.8888888888888888,
              "#fdca26"
             ],
             [
              1,
              "#f0f921"
             ]
            ],
            "type": "contour"
           }
          ],
          "contourcarpet": [
           {
            "colorbar": {
             "outlinewidth": 0,
             "ticks": ""
            },
            "type": "contourcarpet"
           }
          ],
          "heatmap": [
           {
            "colorbar": {
             "outlinewidth": 0,
             "ticks": ""
            },
            "colorscale": [
             [
              0,
              "#0d0887"
             ],
             [
              0.1111111111111111,
              "#46039f"
             ],
             [
              0.2222222222222222,
              "#7201a8"
             ],
             [
              0.3333333333333333,
              "#9c179e"
             ],
             [
              0.4444444444444444,
              "#bd3786"
             ],
             [
              0.5555555555555556,
              "#d8576b"
             ],
             [
              0.6666666666666666,
              "#ed7953"
             ],
             [
              0.7777777777777778,
              "#fb9f3a"
             ],
             [
              0.8888888888888888,
              "#fdca26"
             ],
             [
              1,
              "#f0f921"
             ]
            ],
            "type": "heatmap"
           }
          ],
          "histogram": [
           {
            "marker": {
             "pattern": {
              "fillmode": "overlay",
              "size": 10,
              "solidity": 0.2
             }
            },
            "type": "histogram"
           }
          ],
          "histogram2d": [
           {
            "colorbar": {
             "outlinewidth": 0,
             "ticks": ""
            },
            "colorscale": [
             [
              0,
              "#0d0887"
             ],
             [
              0.1111111111111111,
              "#46039f"
             ],
             [
              0.2222222222222222,
              "#7201a8"
             ],
             [
              0.3333333333333333,
              "#9c179e"
             ],
             [
              0.4444444444444444,
              "#bd3786"
             ],
             [
              0.5555555555555556,
              "#d8576b"
             ],
             [
              0.6666666666666666,
              "#ed7953"
             ],
             [
              0.7777777777777778,
              "#fb9f3a"
             ],
             [
              0.8888888888888888,
              "#fdca26"
             ],
             [
              1,
              "#f0f921"
             ]
            ],
            "type": "histogram2d"
           }
          ],
          "histogram2dcontour": [
           {
            "colorbar": {
             "outlinewidth": 0,
             "ticks": ""
            },
            "colorscale": [
             [
              0,
              "#0d0887"
             ],
             [
              0.1111111111111111,
              "#46039f"
             ],
             [
              0.2222222222222222,
              "#7201a8"
             ],
             [
              0.3333333333333333,
              "#9c179e"
             ],
             [
              0.4444444444444444,
              "#bd3786"
             ],
             [
              0.5555555555555556,
              "#d8576b"
             ],
             [
              0.6666666666666666,
              "#ed7953"
             ],
             [
              0.7777777777777778,
              "#fb9f3a"
             ],
             [
              0.8888888888888888,
              "#fdca26"
             ],
             [
              1,
              "#f0f921"
             ]
            ],
            "type": "histogram2dcontour"
           }
          ],
          "mesh3d": [
           {
            "colorbar": {
             "outlinewidth": 0,
             "ticks": ""
            },
            "type": "mesh3d"
           }
          ],
          "parcoords": [
           {
            "line": {
             "colorbar": {
              "outlinewidth": 0,
              "ticks": ""
             }
            },
            "type": "parcoords"
           }
          ],
          "pie": [
           {
            "automargin": true,
            "type": "pie"
           }
          ],
          "scatter": [
           {
            "fillpattern": {
             "fillmode": "overlay",
             "size": 10,
             "solidity": 0.2
            },
            "type": "scatter"
           }
          ],
          "scatter3d": [
           {
            "line": {
             "colorbar": {
              "outlinewidth": 0,
              "ticks": ""
             }
            },
            "marker": {
             "colorbar": {
              "outlinewidth": 0,
              "ticks": ""
             }
            },
            "type": "scatter3d"
           }
          ],
          "scattercarpet": [
           {
            "marker": {
             "colorbar": {
              "outlinewidth": 0,
              "ticks": ""
             }
            },
            "type": "scattercarpet"
           }
          ],
          "scattergeo": [
           {
            "marker": {
             "colorbar": {
              "outlinewidth": 0,
              "ticks": ""
             }
            },
            "type": "scattergeo"
           }
          ],
          "scattergl": [
           {
            "marker": {
             "colorbar": {
              "outlinewidth": 0,
              "ticks": ""
             }
            },
            "type": "scattergl"
           }
          ],
          "scattermap": [
           {
            "marker": {
             "colorbar": {
              "outlinewidth": 0,
              "ticks": ""
             }
            },
            "type": "scattermap"
           }
          ],
          "scattermapbox": [
           {
            "marker": {
             "colorbar": {
              "outlinewidth": 0,
              "ticks": ""
             }
            },
            "type": "scattermapbox"
           }
          ],
          "scatterpolar": [
           {
            "marker": {
             "colorbar": {
              "outlinewidth": 0,
              "ticks": ""
             }
            },
            "type": "scatterpolar"
           }
          ],
          "scatterpolargl": [
           {
            "marker": {
             "colorbar": {
              "outlinewidth": 0,
              "ticks": ""
             }
            },
            "type": "scatterpolargl"
           }
          ],
          "scatterternary": [
           {
            "marker": {
             "colorbar": {
              "outlinewidth": 0,
              "ticks": ""
             }
            },
            "type": "scatterternary"
           }
          ],
          "surface": [
           {
            "colorbar": {
             "outlinewidth": 0,
             "ticks": ""
            },
            "colorscale": [
             [
              0,
              "#0d0887"
             ],
             [
              0.1111111111111111,
              "#46039f"
             ],
             [
              0.2222222222222222,
              "#7201a8"
             ],
             [
              0.3333333333333333,
              "#9c179e"
             ],
             [
              0.4444444444444444,
              "#bd3786"
             ],
             [
              0.5555555555555556,
              "#d8576b"
             ],
             [
              0.6666666666666666,
              "#ed7953"
             ],
             [
              0.7777777777777778,
              "#fb9f3a"
             ],
             [
              0.8888888888888888,
              "#fdca26"
             ],
             [
              1,
              "#f0f921"
             ]
            ],
            "type": "surface"
           }
          ],
          "table": [
           {
            "cells": {
             "fill": {
              "color": "#EBF0F8"
             },
             "line": {
              "color": "white"
             }
            },
            "header": {
             "fill": {
              "color": "#C8D4E3"
             },
             "line": {
              "color": "white"
             }
            },
            "type": "table"
           }
          ]
         },
         "layout": {
          "annotationdefaults": {
           "arrowcolor": "#2a3f5f",
           "arrowhead": 0,
           "arrowwidth": 1
          },
          "autotypenumbers": "strict",
          "coloraxis": {
           "colorbar": {
            "outlinewidth": 0,
            "ticks": ""
           }
          },
          "colorscale": {
           "diverging": [
            [
             0,
             "#8e0152"
            ],
            [
             0.1,
             "#c51b7d"
            ],
            [
             0.2,
             "#de77ae"
            ],
            [
             0.3,
             "#f1b6da"
            ],
            [
             0.4,
             "#fde0ef"
            ],
            [
             0.5,
             "#f7f7f7"
            ],
            [
             0.6,
             "#e6f5d0"
            ],
            [
             0.7,
             "#b8e186"
            ],
            [
             0.8,
             "#7fbc41"
            ],
            [
             0.9,
             "#4d9221"
            ],
            [
             1,
             "#276419"
            ]
           ],
           "sequential": [
            [
             0,
             "#0d0887"
            ],
            [
             0.1111111111111111,
             "#46039f"
            ],
            [
             0.2222222222222222,
             "#7201a8"
            ],
            [
             0.3333333333333333,
             "#9c179e"
            ],
            [
             0.4444444444444444,
             "#bd3786"
            ],
            [
             0.5555555555555556,
             "#d8576b"
            ],
            [
             0.6666666666666666,
             "#ed7953"
            ],
            [
             0.7777777777777778,
             "#fb9f3a"
            ],
            [
             0.8888888888888888,
             "#fdca26"
            ],
            [
             1,
             "#f0f921"
            ]
           ],
           "sequentialminus": [
            [
             0,
             "#0d0887"
            ],
            [
             0.1111111111111111,
             "#46039f"
            ],
            [
             0.2222222222222222,
             "#7201a8"
            ],
            [
             0.3333333333333333,
             "#9c179e"
            ],
            [
             0.4444444444444444,
             "#bd3786"
            ],
            [
             0.5555555555555556,
             "#d8576b"
            ],
            [
             0.6666666666666666,
             "#ed7953"
            ],
            [
             0.7777777777777778,
             "#fb9f3a"
            ],
            [
             0.8888888888888888,
             "#fdca26"
            ],
            [
             1,
             "#f0f921"
            ]
           ]
          },
          "colorway": [
           "#636efa",
           "#EF553B",
           "#00cc96",
           "#ab63fa",
           "#FFA15A",
           "#19d3f3",
           "#FF6692",
           "#B6E880",
           "#FF97FF",
           "#FECB52"
          ],
          "font": {
           "color": "#2a3f5f"
          },
          "geo": {
           "bgcolor": "white",
           "lakecolor": "white",
           "landcolor": "#E5ECF6",
           "showlakes": true,
           "showland": true,
           "subunitcolor": "white"
          },
          "hoverlabel": {
           "align": "left"
          },
          "hovermode": "closest",
          "mapbox": {
           "style": "light"
          },
          "paper_bgcolor": "white",
          "plot_bgcolor": "#E5ECF6",
          "polar": {
           "angularaxis": {
            "gridcolor": "white",
            "linecolor": "white",
            "ticks": ""
           },
           "bgcolor": "#E5ECF6",
           "radialaxis": {
            "gridcolor": "white",
            "linecolor": "white",
            "ticks": ""
           }
          },
          "scene": {
           "xaxis": {
            "backgroundcolor": "#E5ECF6",
            "gridcolor": "white",
            "gridwidth": 2,
            "linecolor": "white",
            "showbackground": true,
            "ticks": "",
            "zerolinecolor": "white"
           },
           "yaxis": {
            "backgroundcolor": "#E5ECF6",
            "gridcolor": "white",
            "gridwidth": 2,
            "linecolor": "white",
            "showbackground": true,
            "ticks": "",
            "zerolinecolor": "white"
           },
           "zaxis": {
            "backgroundcolor": "#E5ECF6",
            "gridcolor": "white",
            "gridwidth": 2,
            "linecolor": "white",
            "showbackground": true,
            "ticks": "",
            "zerolinecolor": "white"
           }
          },
          "shapedefaults": {
           "line": {
            "color": "#2a3f5f"
           }
          },
          "ternary": {
           "aaxis": {
            "gridcolor": "white",
            "linecolor": "white",
            "ticks": ""
           },
           "baxis": {
            "gridcolor": "white",
            "linecolor": "white",
            "ticks": ""
           },
           "bgcolor": "#E5ECF6",
           "caxis": {
            "gridcolor": "white",
            "linecolor": "white",
            "ticks": ""
           }
          },
          "title": {
           "x": 0.05
          },
          "xaxis": {
           "automargin": true,
           "gridcolor": "white",
           "linecolor": "white",
           "ticks": "",
           "title": {
            "standoff": 15
           },
           "zerolinecolor": "white",
           "zerolinewidth": 2
          },
          "yaxis": {
           "automargin": true,
           "gridcolor": "white",
           "linecolor": "white",
           "ticks": "",
           "title": {
            "standoff": 15
           },
           "zerolinecolor": "white",
           "zerolinewidth": 2
          }
         }
        },
        "title": {
         "text": "Distribution of Paperless Billing",
         "x": 0.5
        },
        "uniformtext": {
         "minsize": 8,
         "mode": "hide"
        },
        "xaxis": {
         "anchor": "y",
         "categoryarray": [
          "Yes",
          "No"
         ],
         "categoryorder": "array",
         "domain": [
          0,
          1
         ],
         "tickangle": -45,
         "title": {
          "text": "Paperless Billing"
         }
        },
        "yaxis": {
         "anchor": "x",
         "domain": [
          0,
          1
         ],
         "title": {
          "text": "Count"
         }
        }
       }
      }
     },
     "metadata": {},
     "output_type": "display_data"
    },
    {
     "data": {
      "application/vnd.plotly.v1+json": {
       "config": {
        "plotlyServerURL": "https://plot.ly"
       },
       "data": [
        {
         "hovertemplate": "Payment Method=%{x}<br>count=%{text}<extra></extra>",
         "legendgroup": "Electronic check",
         "marker": {
          "color": "#636efa",
          "pattern": {
           "shape": ""
          }
         },
         "name": "Electronic check",
         "orientation": "v",
         "showlegend": true,
         "text": {
          "bdata": "AAAAAAB6okA=",
          "dtype": "f8"
         },
         "textposition": "outside",
         "texttemplate": "%{text}",
         "type": "bar",
         "x": [
          "Electronic check"
         ],
         "xaxis": "x",
         "y": {
          "bdata": "PQk=",
          "dtype": "i2"
         },
         "yaxis": "y"
        },
        {
         "hovertemplate": "Payment Method=%{x}<br>count=%{text}<extra></extra>",
         "legendgroup": "Mailed check",
         "marker": {
          "color": "#EF553B",
          "pattern": {
           "shape": ""
          }
         },
         "name": "Mailed check",
         "orientation": "v",
         "showlegend": true,
         "text": {
          "bdata": "AAAAAAAwmUA=",
          "dtype": "f8"
         },
         "textposition": "outside",
         "texttemplate": "%{text}",
         "type": "bar",
         "x": [
          "Mailed check"
         ],
         "xaxis": "x",
         "y": {
          "bdata": "TAY=",
          "dtype": "i2"
         },
         "yaxis": "y"
        },
        {
         "hovertemplate": "Payment Method=%{x}<br>count=%{text}<extra></extra>",
         "legendgroup": "Bank transfer (automatic)",
         "marker": {
          "color": "#00cc96",
          "pattern": {
           "shape": ""
          }
         },
         "name": "Bank transfer (automatic)",
         "orientation": "v",
         "showlegend": true,
         "text": {
          "bdata": "AAAAAAAgmEA=",
          "dtype": "f8"
         },
         "textposition": "outside",
         "texttemplate": "%{text}",
         "type": "bar",
         "x": [
          "Bank transfer (automatic)"
         ],
         "xaxis": "x",
         "y": {
          "bdata": "CAY=",
          "dtype": "i2"
         },
         "yaxis": "y"
        },
        {
         "hovertemplate": "Payment Method=%{x}<br>count=%{text}<extra></extra>",
         "legendgroup": "Credit card (automatic)",
         "marker": {
          "color": "#ab63fa",
          "pattern": {
           "shape": ""
          }
         },
         "name": "Credit card (automatic)",
         "orientation": "v",
         "showlegend": true,
         "text": {
          "bdata": "AAAAAADIl0A=",
          "dtype": "f8"
         },
         "textposition": "outside",
         "texttemplate": "%{text}",
         "type": "bar",
         "x": [
          "Credit card (automatic)"
         ],
         "xaxis": "x",
         "y": {
          "bdata": "8gU=",
          "dtype": "i2"
         },
         "yaxis": "y"
        }
       ],
       "layout": {
        "barmode": "relative",
        "legend": {
         "title": {
          "text": "Payment Method"
         },
         "tracegroupgap": 0
        },
        "showlegend": true,
        "template": {
         "data": {
          "bar": [
           {
            "error_x": {
             "color": "#2a3f5f"
            },
            "error_y": {
             "color": "#2a3f5f"
            },
            "marker": {
             "line": {
              "color": "#E5ECF6",
              "width": 0.5
             },
             "pattern": {
              "fillmode": "overlay",
              "size": 10,
              "solidity": 0.2
             }
            },
            "type": "bar"
           }
          ],
          "barpolar": [
           {
            "marker": {
             "line": {
              "color": "#E5ECF6",
              "width": 0.5
             },
             "pattern": {
              "fillmode": "overlay",
              "size": 10,
              "solidity": 0.2
             }
            },
            "type": "barpolar"
           }
          ],
          "carpet": [
           {
            "aaxis": {
             "endlinecolor": "#2a3f5f",
             "gridcolor": "white",
             "linecolor": "white",
             "minorgridcolor": "white",
             "startlinecolor": "#2a3f5f"
            },
            "baxis": {
             "endlinecolor": "#2a3f5f",
             "gridcolor": "white",
             "linecolor": "white",
             "minorgridcolor": "white",
             "startlinecolor": "#2a3f5f"
            },
            "type": "carpet"
           }
          ],
          "choropleth": [
           {
            "colorbar": {
             "outlinewidth": 0,
             "ticks": ""
            },
            "type": "choropleth"
           }
          ],
          "contour": [
           {
            "colorbar": {
             "outlinewidth": 0,
             "ticks": ""
            },
            "colorscale": [
             [
              0,
              "#0d0887"
             ],
             [
              0.1111111111111111,
              "#46039f"
             ],
             [
              0.2222222222222222,
              "#7201a8"
             ],
             [
              0.3333333333333333,
              "#9c179e"
             ],
             [
              0.4444444444444444,
              "#bd3786"
             ],
             [
              0.5555555555555556,
              "#d8576b"
             ],
             [
              0.6666666666666666,
              "#ed7953"
             ],
             [
              0.7777777777777778,
              "#fb9f3a"
             ],
             [
              0.8888888888888888,
              "#fdca26"
             ],
             [
              1,
              "#f0f921"
             ]
            ],
            "type": "contour"
           }
          ],
          "contourcarpet": [
           {
            "colorbar": {
             "outlinewidth": 0,
             "ticks": ""
            },
            "type": "contourcarpet"
           }
          ],
          "heatmap": [
           {
            "colorbar": {
             "outlinewidth": 0,
             "ticks": ""
            },
            "colorscale": [
             [
              0,
              "#0d0887"
             ],
             [
              0.1111111111111111,
              "#46039f"
             ],
             [
              0.2222222222222222,
              "#7201a8"
             ],
             [
              0.3333333333333333,
              "#9c179e"
             ],
             [
              0.4444444444444444,
              "#bd3786"
             ],
             [
              0.5555555555555556,
              "#d8576b"
             ],
             [
              0.6666666666666666,
              "#ed7953"
             ],
             [
              0.7777777777777778,
              "#fb9f3a"
             ],
             [
              0.8888888888888888,
              "#fdca26"
             ],
             [
              1,
              "#f0f921"
             ]
            ],
            "type": "heatmap"
           }
          ],
          "histogram": [
           {
            "marker": {
             "pattern": {
              "fillmode": "overlay",
              "size": 10,
              "solidity": 0.2
             }
            },
            "type": "histogram"
           }
          ],
          "histogram2d": [
           {
            "colorbar": {
             "outlinewidth": 0,
             "ticks": ""
            },
            "colorscale": [
             [
              0,
              "#0d0887"
             ],
             [
              0.1111111111111111,
              "#46039f"
             ],
             [
              0.2222222222222222,
              "#7201a8"
             ],
             [
              0.3333333333333333,
              "#9c179e"
             ],
             [
              0.4444444444444444,
              "#bd3786"
             ],
             [
              0.5555555555555556,
              "#d8576b"
             ],
             [
              0.6666666666666666,
              "#ed7953"
             ],
             [
              0.7777777777777778,
              "#fb9f3a"
             ],
             [
              0.8888888888888888,
              "#fdca26"
             ],
             [
              1,
              "#f0f921"
             ]
            ],
            "type": "histogram2d"
           }
          ],
          "histogram2dcontour": [
           {
            "colorbar": {
             "outlinewidth": 0,
             "ticks": ""
            },
            "colorscale": [
             [
              0,
              "#0d0887"
             ],
             [
              0.1111111111111111,
              "#46039f"
             ],
             [
              0.2222222222222222,
              "#7201a8"
             ],
             [
              0.3333333333333333,
              "#9c179e"
             ],
             [
              0.4444444444444444,
              "#bd3786"
             ],
             [
              0.5555555555555556,
              "#d8576b"
             ],
             [
              0.6666666666666666,
              "#ed7953"
             ],
             [
              0.7777777777777778,
              "#fb9f3a"
             ],
             [
              0.8888888888888888,
              "#fdca26"
             ],
             [
              1,
              "#f0f921"
             ]
            ],
            "type": "histogram2dcontour"
           }
          ],
          "mesh3d": [
           {
            "colorbar": {
             "outlinewidth": 0,
             "ticks": ""
            },
            "type": "mesh3d"
           }
          ],
          "parcoords": [
           {
            "line": {
             "colorbar": {
              "outlinewidth": 0,
              "ticks": ""
             }
            },
            "type": "parcoords"
           }
          ],
          "pie": [
           {
            "automargin": true,
            "type": "pie"
           }
          ],
          "scatter": [
           {
            "fillpattern": {
             "fillmode": "overlay",
             "size": 10,
             "solidity": 0.2
            },
            "type": "scatter"
           }
          ],
          "scatter3d": [
           {
            "line": {
             "colorbar": {
              "outlinewidth": 0,
              "ticks": ""
             }
            },
            "marker": {
             "colorbar": {
              "outlinewidth": 0,
              "ticks": ""
             }
            },
            "type": "scatter3d"
           }
          ],
          "scattercarpet": [
           {
            "marker": {
             "colorbar": {
              "outlinewidth": 0,
              "ticks": ""
             }
            },
            "type": "scattercarpet"
           }
          ],
          "scattergeo": [
           {
            "marker": {
             "colorbar": {
              "outlinewidth": 0,
              "ticks": ""
             }
            },
            "type": "scattergeo"
           }
          ],
          "scattergl": [
           {
            "marker": {
             "colorbar": {
              "outlinewidth": 0,
              "ticks": ""
             }
            },
            "type": "scattergl"
           }
          ],
          "scattermap": [
           {
            "marker": {
             "colorbar": {
              "outlinewidth": 0,
              "ticks": ""
             }
            },
            "type": "scattermap"
           }
          ],
          "scattermapbox": [
           {
            "marker": {
             "colorbar": {
              "outlinewidth": 0,
              "ticks": ""
             }
            },
            "type": "scattermapbox"
           }
          ],
          "scatterpolar": [
           {
            "marker": {
             "colorbar": {
              "outlinewidth": 0,
              "ticks": ""
             }
            },
            "type": "scatterpolar"
           }
          ],
          "scatterpolargl": [
           {
            "marker": {
             "colorbar": {
              "outlinewidth": 0,
              "ticks": ""
             }
            },
            "type": "scatterpolargl"
           }
          ],
          "scatterternary": [
           {
            "marker": {
             "colorbar": {
              "outlinewidth": 0,
              "ticks": ""
             }
            },
            "type": "scatterternary"
           }
          ],
          "surface": [
           {
            "colorbar": {
             "outlinewidth": 0,
             "ticks": ""
            },
            "colorscale": [
             [
              0,
              "#0d0887"
             ],
             [
              0.1111111111111111,
              "#46039f"
             ],
             [
              0.2222222222222222,
              "#7201a8"
             ],
             [
              0.3333333333333333,
              "#9c179e"
             ],
             [
              0.4444444444444444,
              "#bd3786"
             ],
             [
              0.5555555555555556,
              "#d8576b"
             ],
             [
              0.6666666666666666,
              "#ed7953"
             ],
             [
              0.7777777777777778,
              "#fb9f3a"
             ],
             [
              0.8888888888888888,
              "#fdca26"
             ],
             [
              1,
              "#f0f921"
             ]
            ],
            "type": "surface"
           }
          ],
          "table": [
           {
            "cells": {
             "fill": {
              "color": "#EBF0F8"
             },
             "line": {
              "color": "white"
             }
            },
            "header": {
             "fill": {
              "color": "#C8D4E3"
             },
             "line": {
              "color": "white"
             }
            },
            "type": "table"
           }
          ]
         },
         "layout": {
          "annotationdefaults": {
           "arrowcolor": "#2a3f5f",
           "arrowhead": 0,
           "arrowwidth": 1
          },
          "autotypenumbers": "strict",
          "coloraxis": {
           "colorbar": {
            "outlinewidth": 0,
            "ticks": ""
           }
          },
          "colorscale": {
           "diverging": [
            [
             0,
             "#8e0152"
            ],
            [
             0.1,
             "#c51b7d"
            ],
            [
             0.2,
             "#de77ae"
            ],
            [
             0.3,
             "#f1b6da"
            ],
            [
             0.4,
             "#fde0ef"
            ],
            [
             0.5,
             "#f7f7f7"
            ],
            [
             0.6,
             "#e6f5d0"
            ],
            [
             0.7,
             "#b8e186"
            ],
            [
             0.8,
             "#7fbc41"
            ],
            [
             0.9,
             "#4d9221"
            ],
            [
             1,
             "#276419"
            ]
           ],
           "sequential": [
            [
             0,
             "#0d0887"
            ],
            [
             0.1111111111111111,
             "#46039f"
            ],
            [
             0.2222222222222222,
             "#7201a8"
            ],
            [
             0.3333333333333333,
             "#9c179e"
            ],
            [
             0.4444444444444444,
             "#bd3786"
            ],
            [
             0.5555555555555556,
             "#d8576b"
            ],
            [
             0.6666666666666666,
             "#ed7953"
            ],
            [
             0.7777777777777778,
             "#fb9f3a"
            ],
            [
             0.8888888888888888,
             "#fdca26"
            ],
            [
             1,
             "#f0f921"
            ]
           ],
           "sequentialminus": [
            [
             0,
             "#0d0887"
            ],
            [
             0.1111111111111111,
             "#46039f"
            ],
            [
             0.2222222222222222,
             "#7201a8"
            ],
            [
             0.3333333333333333,
             "#9c179e"
            ],
            [
             0.4444444444444444,
             "#bd3786"
            ],
            [
             0.5555555555555556,
             "#d8576b"
            ],
            [
             0.6666666666666666,
             "#ed7953"
            ],
            [
             0.7777777777777778,
             "#fb9f3a"
            ],
            [
             0.8888888888888888,
             "#fdca26"
            ],
            [
             1,
             "#f0f921"
            ]
           ]
          },
          "colorway": [
           "#636efa",
           "#EF553B",
           "#00cc96",
           "#ab63fa",
           "#FFA15A",
           "#19d3f3",
           "#FF6692",
           "#B6E880",
           "#FF97FF",
           "#FECB52"
          ],
          "font": {
           "color": "#2a3f5f"
          },
          "geo": {
           "bgcolor": "white",
           "lakecolor": "white",
           "landcolor": "#E5ECF6",
           "showlakes": true,
           "showland": true,
           "subunitcolor": "white"
          },
          "hoverlabel": {
           "align": "left"
          },
          "hovermode": "closest",
          "mapbox": {
           "style": "light"
          },
          "paper_bgcolor": "white",
          "plot_bgcolor": "#E5ECF6",
          "polar": {
           "angularaxis": {
            "gridcolor": "white",
            "linecolor": "white",
            "ticks": ""
           },
           "bgcolor": "#E5ECF6",
           "radialaxis": {
            "gridcolor": "white",
            "linecolor": "white",
            "ticks": ""
           }
          },
          "scene": {
           "xaxis": {
            "backgroundcolor": "#E5ECF6",
            "gridcolor": "white",
            "gridwidth": 2,
            "linecolor": "white",
            "showbackground": true,
            "ticks": "",
            "zerolinecolor": "white"
           },
           "yaxis": {
            "backgroundcolor": "#E5ECF6",
            "gridcolor": "white",
            "gridwidth": 2,
            "linecolor": "white",
            "showbackground": true,
            "ticks": "",
            "zerolinecolor": "white"
           },
           "zaxis": {
            "backgroundcolor": "#E5ECF6",
            "gridcolor": "white",
            "gridwidth": 2,
            "linecolor": "white",
            "showbackground": true,
            "ticks": "",
            "zerolinecolor": "white"
           }
          },
          "shapedefaults": {
           "line": {
            "color": "#2a3f5f"
           }
          },
          "ternary": {
           "aaxis": {
            "gridcolor": "white",
            "linecolor": "white",
            "ticks": ""
           },
           "baxis": {
            "gridcolor": "white",
            "linecolor": "white",
            "ticks": ""
           },
           "bgcolor": "#E5ECF6",
           "caxis": {
            "gridcolor": "white",
            "linecolor": "white",
            "ticks": ""
           }
          },
          "title": {
           "x": 0.05
          },
          "xaxis": {
           "automargin": true,
           "gridcolor": "white",
           "linecolor": "white",
           "ticks": "",
           "title": {
            "standoff": 15
           },
           "zerolinecolor": "white",
           "zerolinewidth": 2
          },
          "yaxis": {
           "automargin": true,
           "gridcolor": "white",
           "linecolor": "white",
           "ticks": "",
           "title": {
            "standoff": 15
           },
           "zerolinecolor": "white",
           "zerolinewidth": 2
          }
         }
        },
        "title": {
         "text": "Distribution of Payment Method",
         "x": 0.5
        },
        "uniformtext": {
         "minsize": 8,
         "mode": "hide"
        },
        "xaxis": {
         "anchor": "y",
         "categoryarray": [
          "Electronic check",
          "Mailed check",
          "Bank transfer (automatic)",
          "Credit card (automatic)"
         ],
         "categoryorder": "array",
         "domain": [
          0,
          1
         ],
         "tickangle": -45,
         "title": {
          "text": "Payment Method"
         }
        },
        "yaxis": {
         "anchor": "x",
         "domain": [
          0,
          1
         ],
         "title": {
          "text": "Count"
         }
        }
       }
      }
     },
     "metadata": {},
     "output_type": "display_data"
    },
    {
     "data": {
      "application/vnd.plotly.v1+json": {
       "config": {
        "plotlyServerURL": "https://plot.ly"
       },
       "data": [
        {
         "hovertemplate": "Churn Label=%{x}<br>count=%{text}<extra></extra>",
         "legendgroup": "No",
         "marker": {
          "color": "#636efa",
          "pattern": {
           "shape": ""
          }
         },
         "name": "No",
         "orientation": "v",
         "showlegend": true,
         "text": {
          "bdata": "AAAAAAA2tEA=",
          "dtype": "f8"
         },
         "textposition": "outside",
         "texttemplate": "%{text}",
         "type": "bar",
         "x": [
          "No"
         ],
         "xaxis": "x",
         "y": {
          "bdata": "NhQ=",
          "dtype": "i2"
         },
         "yaxis": "y"
        },
        {
         "hovertemplate": "Churn Label=%{x}<br>count=%{text}<extra></extra>",
         "legendgroup": "Yes",
         "marker": {
          "color": "#EF553B",
          "pattern": {
           "shape": ""
          }
         },
         "name": "Yes",
         "orientation": "v",
         "showlegend": true,
         "text": {
          "bdata": "AAAAAAA0nUA=",
          "dtype": "f8"
         },
         "textposition": "outside",
         "texttemplate": "%{text}",
         "type": "bar",
         "x": [
          "Yes"
         ],
         "xaxis": "x",
         "y": {
          "bdata": "TQc=",
          "dtype": "i2"
         },
         "yaxis": "y"
        }
       ],
       "layout": {
        "barmode": "relative",
        "legend": {
         "title": {
          "text": "Churn Label"
         },
         "tracegroupgap": 0
        },
        "showlegend": true,
        "template": {
         "data": {
          "bar": [
           {
            "error_x": {
             "color": "#2a3f5f"
            },
            "error_y": {
             "color": "#2a3f5f"
            },
            "marker": {
             "line": {
              "color": "#E5ECF6",
              "width": 0.5
             },
             "pattern": {
              "fillmode": "overlay",
              "size": 10,
              "solidity": 0.2
             }
            },
            "type": "bar"
           }
          ],
          "barpolar": [
           {
            "marker": {
             "line": {
              "color": "#E5ECF6",
              "width": 0.5
             },
             "pattern": {
              "fillmode": "overlay",
              "size": 10,
              "solidity": 0.2
             }
            },
            "type": "barpolar"
           }
          ],
          "carpet": [
           {
            "aaxis": {
             "endlinecolor": "#2a3f5f",
             "gridcolor": "white",
             "linecolor": "white",
             "minorgridcolor": "white",
             "startlinecolor": "#2a3f5f"
            },
            "baxis": {
             "endlinecolor": "#2a3f5f",
             "gridcolor": "white",
             "linecolor": "white",
             "minorgridcolor": "white",
             "startlinecolor": "#2a3f5f"
            },
            "type": "carpet"
           }
          ],
          "choropleth": [
           {
            "colorbar": {
             "outlinewidth": 0,
             "ticks": ""
            },
            "type": "choropleth"
           }
          ],
          "contour": [
           {
            "colorbar": {
             "outlinewidth": 0,
             "ticks": ""
            },
            "colorscale": [
             [
              0,
              "#0d0887"
             ],
             [
              0.1111111111111111,
              "#46039f"
             ],
             [
              0.2222222222222222,
              "#7201a8"
             ],
             [
              0.3333333333333333,
              "#9c179e"
             ],
             [
              0.4444444444444444,
              "#bd3786"
             ],
             [
              0.5555555555555556,
              "#d8576b"
             ],
             [
              0.6666666666666666,
              "#ed7953"
             ],
             [
              0.7777777777777778,
              "#fb9f3a"
             ],
             [
              0.8888888888888888,
              "#fdca26"
             ],
             [
              1,
              "#f0f921"
             ]
            ],
            "type": "contour"
           }
          ],
          "contourcarpet": [
           {
            "colorbar": {
             "outlinewidth": 0,
             "ticks": ""
            },
            "type": "contourcarpet"
           }
          ],
          "heatmap": [
           {
            "colorbar": {
             "outlinewidth": 0,
             "ticks": ""
            },
            "colorscale": [
             [
              0,
              "#0d0887"
             ],
             [
              0.1111111111111111,
              "#46039f"
             ],
             [
              0.2222222222222222,
              "#7201a8"
             ],
             [
              0.3333333333333333,
              "#9c179e"
             ],
             [
              0.4444444444444444,
              "#bd3786"
             ],
             [
              0.5555555555555556,
              "#d8576b"
             ],
             [
              0.6666666666666666,
              "#ed7953"
             ],
             [
              0.7777777777777778,
              "#fb9f3a"
             ],
             [
              0.8888888888888888,
              "#fdca26"
             ],
             [
              1,
              "#f0f921"
             ]
            ],
            "type": "heatmap"
           }
          ],
          "histogram": [
           {
            "marker": {
             "pattern": {
              "fillmode": "overlay",
              "size": 10,
              "solidity": 0.2
             }
            },
            "type": "histogram"
           }
          ],
          "histogram2d": [
           {
            "colorbar": {
             "outlinewidth": 0,
             "ticks": ""
            },
            "colorscale": [
             [
              0,
              "#0d0887"
             ],
             [
              0.1111111111111111,
              "#46039f"
             ],
             [
              0.2222222222222222,
              "#7201a8"
             ],
             [
              0.3333333333333333,
              "#9c179e"
             ],
             [
              0.4444444444444444,
              "#bd3786"
             ],
             [
              0.5555555555555556,
              "#d8576b"
             ],
             [
              0.6666666666666666,
              "#ed7953"
             ],
             [
              0.7777777777777778,
              "#fb9f3a"
             ],
             [
              0.8888888888888888,
              "#fdca26"
             ],
             [
              1,
              "#f0f921"
             ]
            ],
            "type": "histogram2d"
           }
          ],
          "histogram2dcontour": [
           {
            "colorbar": {
             "outlinewidth": 0,
             "ticks": ""
            },
            "colorscale": [
             [
              0,
              "#0d0887"
             ],
             [
              0.1111111111111111,
              "#46039f"
             ],
             [
              0.2222222222222222,
              "#7201a8"
             ],
             [
              0.3333333333333333,
              "#9c179e"
             ],
             [
              0.4444444444444444,
              "#bd3786"
             ],
             [
              0.5555555555555556,
              "#d8576b"
             ],
             [
              0.6666666666666666,
              "#ed7953"
             ],
             [
              0.7777777777777778,
              "#fb9f3a"
             ],
             [
              0.8888888888888888,
              "#fdca26"
             ],
             [
              1,
              "#f0f921"
             ]
            ],
            "type": "histogram2dcontour"
           }
          ],
          "mesh3d": [
           {
            "colorbar": {
             "outlinewidth": 0,
             "ticks": ""
            },
            "type": "mesh3d"
           }
          ],
          "parcoords": [
           {
            "line": {
             "colorbar": {
              "outlinewidth": 0,
              "ticks": ""
             }
            },
            "type": "parcoords"
           }
          ],
          "pie": [
           {
            "automargin": true,
            "type": "pie"
           }
          ],
          "scatter": [
           {
            "fillpattern": {
             "fillmode": "overlay",
             "size": 10,
             "solidity": 0.2
            },
            "type": "scatter"
           }
          ],
          "scatter3d": [
           {
            "line": {
             "colorbar": {
              "outlinewidth": 0,
              "ticks": ""
             }
            },
            "marker": {
             "colorbar": {
              "outlinewidth": 0,
              "ticks": ""
             }
            },
            "type": "scatter3d"
           }
          ],
          "scattercarpet": [
           {
            "marker": {
             "colorbar": {
              "outlinewidth": 0,
              "ticks": ""
             }
            },
            "type": "scattercarpet"
           }
          ],
          "scattergeo": [
           {
            "marker": {
             "colorbar": {
              "outlinewidth": 0,
              "ticks": ""
             }
            },
            "type": "scattergeo"
           }
          ],
          "scattergl": [
           {
            "marker": {
             "colorbar": {
              "outlinewidth": 0,
              "ticks": ""
             }
            },
            "type": "scattergl"
           }
          ],
          "scattermap": [
           {
            "marker": {
             "colorbar": {
              "outlinewidth": 0,
              "ticks": ""
             }
            },
            "type": "scattermap"
           }
          ],
          "scattermapbox": [
           {
            "marker": {
             "colorbar": {
              "outlinewidth": 0,
              "ticks": ""
             }
            },
            "type": "scattermapbox"
           }
          ],
          "scatterpolar": [
           {
            "marker": {
             "colorbar": {
              "outlinewidth": 0,
              "ticks": ""
             }
            },
            "type": "scatterpolar"
           }
          ],
          "scatterpolargl": [
           {
            "marker": {
             "colorbar": {
              "outlinewidth": 0,
              "ticks": ""
             }
            },
            "type": "scatterpolargl"
           }
          ],
          "scatterternary": [
           {
            "marker": {
             "colorbar": {
              "outlinewidth": 0,
              "ticks": ""
             }
            },
            "type": "scatterternary"
           }
          ],
          "surface": [
           {
            "colorbar": {
             "outlinewidth": 0,
             "ticks": ""
            },
            "colorscale": [
             [
              0,
              "#0d0887"
             ],
             [
              0.1111111111111111,
              "#46039f"
             ],
             [
              0.2222222222222222,
              "#7201a8"
             ],
             [
              0.3333333333333333,
              "#9c179e"
             ],
             [
              0.4444444444444444,
              "#bd3786"
             ],
             [
              0.5555555555555556,
              "#d8576b"
             ],
             [
              0.6666666666666666,
              "#ed7953"
             ],
             [
              0.7777777777777778,
              "#fb9f3a"
             ],
             [
              0.8888888888888888,
              "#fdca26"
             ],
             [
              1,
              "#f0f921"
             ]
            ],
            "type": "surface"
           }
          ],
          "table": [
           {
            "cells": {
             "fill": {
              "color": "#EBF0F8"
             },
             "line": {
              "color": "white"
             }
            },
            "header": {
             "fill": {
              "color": "#C8D4E3"
             },
             "line": {
              "color": "white"
             }
            },
            "type": "table"
           }
          ]
         },
         "layout": {
          "annotationdefaults": {
           "arrowcolor": "#2a3f5f",
           "arrowhead": 0,
           "arrowwidth": 1
          },
          "autotypenumbers": "strict",
          "coloraxis": {
           "colorbar": {
            "outlinewidth": 0,
            "ticks": ""
           }
          },
          "colorscale": {
           "diverging": [
            [
             0,
             "#8e0152"
            ],
            [
             0.1,
             "#c51b7d"
            ],
            [
             0.2,
             "#de77ae"
            ],
            [
             0.3,
             "#f1b6da"
            ],
            [
             0.4,
             "#fde0ef"
            ],
            [
             0.5,
             "#f7f7f7"
            ],
            [
             0.6,
             "#e6f5d0"
            ],
            [
             0.7,
             "#b8e186"
            ],
            [
             0.8,
             "#7fbc41"
            ],
            [
             0.9,
             "#4d9221"
            ],
            [
             1,
             "#276419"
            ]
           ],
           "sequential": [
            [
             0,
             "#0d0887"
            ],
            [
             0.1111111111111111,
             "#46039f"
            ],
            [
             0.2222222222222222,
             "#7201a8"
            ],
            [
             0.3333333333333333,
             "#9c179e"
            ],
            [
             0.4444444444444444,
             "#bd3786"
            ],
            [
             0.5555555555555556,
             "#d8576b"
            ],
            [
             0.6666666666666666,
             "#ed7953"
            ],
            [
             0.7777777777777778,
             "#fb9f3a"
            ],
            [
             0.8888888888888888,
             "#fdca26"
            ],
            [
             1,
             "#f0f921"
            ]
           ],
           "sequentialminus": [
            [
             0,
             "#0d0887"
            ],
            [
             0.1111111111111111,
             "#46039f"
            ],
            [
             0.2222222222222222,
             "#7201a8"
            ],
            [
             0.3333333333333333,
             "#9c179e"
            ],
            [
             0.4444444444444444,
             "#bd3786"
            ],
            [
             0.5555555555555556,
             "#d8576b"
            ],
            [
             0.6666666666666666,
             "#ed7953"
            ],
            [
             0.7777777777777778,
             "#fb9f3a"
            ],
            [
             0.8888888888888888,
             "#fdca26"
            ],
            [
             1,
             "#f0f921"
            ]
           ]
          },
          "colorway": [
           "#636efa",
           "#EF553B",
           "#00cc96",
           "#ab63fa",
           "#FFA15A",
           "#19d3f3",
           "#FF6692",
           "#B6E880",
           "#FF97FF",
           "#FECB52"
          ],
          "font": {
           "color": "#2a3f5f"
          },
          "geo": {
           "bgcolor": "white",
           "lakecolor": "white",
           "landcolor": "#E5ECF6",
           "showlakes": true,
           "showland": true,
           "subunitcolor": "white"
          },
          "hoverlabel": {
           "align": "left"
          },
          "hovermode": "closest",
          "mapbox": {
           "style": "light"
          },
          "paper_bgcolor": "white",
          "plot_bgcolor": "#E5ECF6",
          "polar": {
           "angularaxis": {
            "gridcolor": "white",
            "linecolor": "white",
            "ticks": ""
           },
           "bgcolor": "#E5ECF6",
           "radialaxis": {
            "gridcolor": "white",
            "linecolor": "white",
            "ticks": ""
           }
          },
          "scene": {
           "xaxis": {
            "backgroundcolor": "#E5ECF6",
            "gridcolor": "white",
            "gridwidth": 2,
            "linecolor": "white",
            "showbackground": true,
            "ticks": "",
            "zerolinecolor": "white"
           },
           "yaxis": {
            "backgroundcolor": "#E5ECF6",
            "gridcolor": "white",
            "gridwidth": 2,
            "linecolor": "white",
            "showbackground": true,
            "ticks": "",
            "zerolinecolor": "white"
           },
           "zaxis": {
            "backgroundcolor": "#E5ECF6",
            "gridcolor": "white",
            "gridwidth": 2,
            "linecolor": "white",
            "showbackground": true,
            "ticks": "",
            "zerolinecolor": "white"
           }
          },
          "shapedefaults": {
           "line": {
            "color": "#2a3f5f"
           }
          },
          "ternary": {
           "aaxis": {
            "gridcolor": "white",
            "linecolor": "white",
            "ticks": ""
           },
           "baxis": {
            "gridcolor": "white",
            "linecolor": "white",
            "ticks": ""
           },
           "bgcolor": "#E5ECF6",
           "caxis": {
            "gridcolor": "white",
            "linecolor": "white",
            "ticks": ""
           }
          },
          "title": {
           "x": 0.05
          },
          "xaxis": {
           "automargin": true,
           "gridcolor": "white",
           "linecolor": "white",
           "ticks": "",
           "title": {
            "standoff": 15
           },
           "zerolinecolor": "white",
           "zerolinewidth": 2
          },
          "yaxis": {
           "automargin": true,
           "gridcolor": "white",
           "linecolor": "white",
           "ticks": "",
           "title": {
            "standoff": 15
           },
           "zerolinecolor": "white",
           "zerolinewidth": 2
          }
         }
        },
        "title": {
         "text": "Distribution of Churn Label",
         "x": 0.5
        },
        "uniformtext": {
         "minsize": 8,
         "mode": "hide"
        },
        "xaxis": {
         "anchor": "y",
         "categoryarray": [
          "No",
          "Yes"
         ],
         "categoryorder": "array",
         "domain": [
          0,
          1
         ],
         "tickangle": -45,
         "title": {
          "text": "Churn Label"
         }
        },
        "yaxis": {
         "anchor": "x",
         "domain": [
          0,
          1
         ],
         "title": {
          "text": "Count"
         }
        }
       }
      }
     },
     "metadata": {},
     "output_type": "display_data"
    }
   ],
   "source": [
    "categorical_cols = categorical_cols.drop(\"Total Charges\")\n",
    "for col in categorical_cols:\n",
    "    value_counts = df[col].value_counts().reset_index()\n",
    "    value_counts.columns = [col, 'count']\n",
    "    fig = px.bar(\n",
    "        value_counts,\n",
    "        x=col,\n",
    "        y='count',\n",
    "        title=f\"Distribution of {col}\",\n",
    "        color=col,  # color by category, not count\n",
    "        text='count'  # show count values on bars\n",
    "    )\n",
    "    \n",
    "    fig.update_traces(\n",
    "        texttemplate='%{text}', \n",
    "        textposition='outside'\n",
    "    )\n",
    "    \n",
    "    fig.update_layout(\n",
    "        xaxis_tickangle=-45,\n",
    "        showlegend=True,\n",
    "        uniformtext_minsize=8,\n",
    "        uniformtext_mode='hide',\n",
    "        yaxis_title='Count',\n",
    "        xaxis_title=col,\n",
    "        title_x=0.5\n",
    "    )\n",
    "    fig.show()"
   ]
  },
  {
   "cell_type": "markdown",
   "id": "06807f70",
   "metadata": {},
   "source": [
    "##### Note: found out that `total Charges` is treated as **object** due to *missing* values `\" \"` in it so I will convert it in the following blocks:"
   ]
  },
  {
   "cell_type": "code",
   "execution_count": 138,
   "id": "6d2c5eac",
   "metadata": {},
   "outputs": [
    {
     "data": {
      "text/plain": [
       "11"
      ]
     },
     "execution_count": 138,
     "metadata": {},
     "output_type": "execute_result"
    }
   ],
   "source": [
    "df['Total Charges'] = pd.to_numeric(df['Total Charges'], errors='coerce')\n",
    "df['Total Charges'].isna().sum()"
   ]
  },
  {
   "cell_type": "code",
   "execution_count": 139,
   "id": "ce8125ce",
   "metadata": {},
   "outputs": [
    {
     "data": {
      "application/vnd.plotly.v1+json": {
       "config": {
        "plotlyServerURL": "https://plot.ly"
       },
       "data": [
        {
         "hovertemplate": "Monthly charges x tenure months=%{x}<br>Actual total charges=%{y}<extra></extra>",
         "legendgroup": "",
         "marker": {
          "color": "#636efa",
          "opacity": 0.6,
          "size": 6,
          "symbol": "circle"
         },
         "mode": "markers",
         "name": "",
         "showlegend": false,
         "type": "scattergl",
         "x": {
          "bdata": "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",
          "dtype": "f8"
         },
         "xaxis": "x",
         "y": {
          "bdata": "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",
          "dtype": "f8"
         },
         "yaxis": "y"
        }
       ],
       "layout": {
        "legend": {
         "tracegroupgap": 0
        },
        "template": {
         "data": {
          "bar": [
           {
            "error_x": {
             "color": "#2a3f5f"
            },
            "error_y": {
             "color": "#2a3f5f"
            },
            "marker": {
             "line": {
              "color": "#E5ECF6",
              "width": 0.5
             },
             "pattern": {
              "fillmode": "overlay",
              "size": 10,
              "solidity": 0.2
             }
            },
            "type": "bar"
           }
          ],
          "barpolar": [
           {
            "marker": {
             "line": {
              "color": "#E5ECF6",
              "width": 0.5
             },
             "pattern": {
              "fillmode": "overlay",
              "size": 10,
              "solidity": 0.2
             }
            },
            "type": "barpolar"
           }
          ],
          "carpet": [
           {
            "aaxis": {
             "endlinecolor": "#2a3f5f",
             "gridcolor": "white",
             "linecolor": "white",
             "minorgridcolor": "white",
             "startlinecolor": "#2a3f5f"
            },
            "baxis": {
             "endlinecolor": "#2a3f5f",
             "gridcolor": "white",
             "linecolor": "white",
             "minorgridcolor": "white",
             "startlinecolor": "#2a3f5f"
            },
            "type": "carpet"
           }
          ],
          "choropleth": [
           {
            "colorbar": {
             "outlinewidth": 0,
             "ticks": ""
            },
            "type": "choropleth"
           }
          ],
          "contour": [
           {
            "colorbar": {
             "outlinewidth": 0,
             "ticks": ""
            },
            "colorscale": [
             [
              0,
              "#0d0887"
             ],
             [
              0.1111111111111111,
              "#46039f"
             ],
             [
              0.2222222222222222,
              "#7201a8"
             ],
             [
              0.3333333333333333,
              "#9c179e"
             ],
             [
              0.4444444444444444,
              "#bd3786"
             ],
             [
              0.5555555555555556,
              "#d8576b"
             ],
             [
              0.6666666666666666,
              "#ed7953"
             ],
             [
              0.7777777777777778,
              "#fb9f3a"
             ],
             [
              0.8888888888888888,
              "#fdca26"
             ],
             [
              1,
              "#f0f921"
             ]
            ],
            "type": "contour"
           }
          ],
          "contourcarpet": [
           {
            "colorbar": {
             "outlinewidth": 0,
             "ticks": ""
            },
            "type": "contourcarpet"
           }
          ],
          "heatmap": [
           {
            "colorbar": {
             "outlinewidth": 0,
             "ticks": ""
            },
            "colorscale": [
             [
              0,
              "#0d0887"
             ],
             [
              0.1111111111111111,
              "#46039f"
             ],
             [
              0.2222222222222222,
              "#7201a8"
             ],
             [
              0.3333333333333333,
              "#9c179e"
             ],
             [
              0.4444444444444444,
              "#bd3786"
             ],
             [
              0.5555555555555556,
              "#d8576b"
             ],
             [
              0.6666666666666666,
              "#ed7953"
             ],
             [
              0.7777777777777778,
              "#fb9f3a"
             ],
             [
              0.8888888888888888,
              "#fdca26"
             ],
             [
              1,
              "#f0f921"
             ]
            ],
            "type": "heatmap"
           }
          ],
          "histogram": [
           {
            "marker": {
             "pattern": {
              "fillmode": "overlay",
              "size": 10,
              "solidity": 0.2
             }
            },
            "type": "histogram"
           }
          ],
          "histogram2d": [
           {
            "colorbar": {
             "outlinewidth": 0,
             "ticks": ""
            },
            "colorscale": [
             [
              0,
              "#0d0887"
             ],
             [
              0.1111111111111111,
              "#46039f"
             ],
             [
              0.2222222222222222,
              "#7201a8"
             ],
             [
              0.3333333333333333,
              "#9c179e"
             ],
             [
              0.4444444444444444,
              "#bd3786"
             ],
             [
              0.5555555555555556,
              "#d8576b"
             ],
             [
              0.6666666666666666,
              "#ed7953"
             ],
             [
              0.7777777777777778,
              "#fb9f3a"
             ],
             [
              0.8888888888888888,
              "#fdca26"
             ],
             [
              1,
              "#f0f921"
             ]
            ],
            "type": "histogram2d"
           }
          ],
          "histogram2dcontour": [
           {
            "colorbar": {
             "outlinewidth": 0,
             "ticks": ""
            },
            "colorscale": [
             [
              0,
              "#0d0887"
             ],
             [
              0.1111111111111111,
              "#46039f"
             ],
             [
              0.2222222222222222,
              "#7201a8"
             ],
             [
              0.3333333333333333,
              "#9c179e"
             ],
             [
              0.4444444444444444,
              "#bd3786"
             ],
             [
              0.5555555555555556,
              "#d8576b"
             ],
             [
              0.6666666666666666,
              "#ed7953"
             ],
             [
              0.7777777777777778,
              "#fb9f3a"
             ],
             [
              0.8888888888888888,
              "#fdca26"
             ],
             [
              1,
              "#f0f921"
             ]
            ],
            "type": "histogram2dcontour"
           }
          ],
          "mesh3d": [
           {
            "colorbar": {
             "outlinewidth": 0,
             "ticks": ""
            },
            "type": "mesh3d"
           }
          ],
          "parcoords": [
           {
            "line": {
             "colorbar": {
              "outlinewidth": 0,
              "ticks": ""
             }
            },
            "type": "parcoords"
           }
          ],
          "pie": [
           {
            "automargin": true,
            "type": "pie"
           }
          ],
          "scatter": [
           {
            "fillpattern": {
             "fillmode": "overlay",
             "size": 10,
             "solidity": 0.2
            },
            "type": "scatter"
           }
          ],
          "scatter3d": [
           {
            "line": {
             "colorbar": {
              "outlinewidth": 0,
              "ticks": ""
             }
            },
            "marker": {
             "colorbar": {
              "outlinewidth": 0,
              "ticks": ""
             }
            },
            "type": "scatter3d"
           }
          ],
          "scattercarpet": [
           {
            "marker": {
             "colorbar": {
              "outlinewidth": 0,
              "ticks": ""
             }
            },
            "type": "scattercarpet"
           }
          ],
          "scattergeo": [
           {
            "marker": {
             "colorbar": {
              "outlinewidth": 0,
              "ticks": ""
             }
            },
            "type": "scattergeo"
           }
          ],
          "scattergl": [
           {
            "marker": {
             "colorbar": {
              "outlinewidth": 0,
              "ticks": ""
             }
            },
            "type": "scattergl"
           }
          ],
          "scattermap": [
           {
            "marker": {
             "colorbar": {
              "outlinewidth": 0,
              "ticks": ""
             }
            },
            "type": "scattermap"
           }
          ],
          "scattermapbox": [
           {
            "marker": {
             "colorbar": {
              "outlinewidth": 0,
              "ticks": ""
             }
            },
            "type": "scattermapbox"
           }
          ],
          "scatterpolar": [
           {
            "marker": {
             "colorbar": {
              "outlinewidth": 0,
              "ticks": ""
             }
            },
            "type": "scatterpolar"
           }
          ],
          "scatterpolargl": [
           {
            "marker": {
             "colorbar": {
              "outlinewidth": 0,
              "ticks": ""
             }
            },
            "type": "scatterpolargl"
           }
          ],
          "scatterternary": [
           {
            "marker": {
             "colorbar": {
              "outlinewidth": 0,
              "ticks": ""
             }
            },
            "type": "scatterternary"
           }
          ],
          "surface": [
           {
            "colorbar": {
             "outlinewidth": 0,
             "ticks": ""
            },
            "colorscale": [
             [
              0,
              "#0d0887"
             ],
             [
              0.1111111111111111,
              "#46039f"
             ],
             [
              0.2222222222222222,
              "#7201a8"
             ],
             [
              0.3333333333333333,
              "#9c179e"
             ],
             [
              0.4444444444444444,
              "#bd3786"
             ],
             [
              0.5555555555555556,
              "#d8576b"
             ],
             [
              0.6666666666666666,
              "#ed7953"
             ],
             [
              0.7777777777777778,
              "#fb9f3a"
             ],
             [
              0.8888888888888888,
              "#fdca26"
             ],
             [
              1,
              "#f0f921"
             ]
            ],
            "type": "surface"
           }
          ],
          "table": [
           {
            "cells": {
             "fill": {
              "color": "#EBF0F8"
             },
             "line": {
              "color": "white"
             }
            },
            "header": {
             "fill": {
              "color": "#C8D4E3"
             },
             "line": {
              "color": "white"
             }
            },
            "type": "table"
           }
          ]
         },
         "layout": {
          "annotationdefaults": {
           "arrowcolor": "#2a3f5f",
           "arrowhead": 0,
           "arrowwidth": 1
          },
          "autotypenumbers": "strict",
          "coloraxis": {
           "colorbar": {
            "outlinewidth": 0,
            "ticks": ""
           }
          },
          "colorscale": {
           "diverging": [
            [
             0,
             "#8e0152"
            ],
            [
             0.1,
             "#c51b7d"
            ],
            [
             0.2,
             "#de77ae"
            ],
            [
             0.3,
             "#f1b6da"
            ],
            [
             0.4,
             "#fde0ef"
            ],
            [
             0.5,
             "#f7f7f7"
            ],
            [
             0.6,
             "#e6f5d0"
            ],
            [
             0.7,
             "#b8e186"
            ],
            [
             0.8,
             "#7fbc41"
            ],
            [
             0.9,
             "#4d9221"
            ],
            [
             1,
             "#276419"
            ]
           ],
           "sequential": [
            [
             0,
             "#0d0887"
            ],
            [
             0.1111111111111111,
             "#46039f"
            ],
            [
             0.2222222222222222,
             "#7201a8"
            ],
            [
             0.3333333333333333,
             "#9c179e"
            ],
            [
             0.4444444444444444,
             "#bd3786"
            ],
            [
             0.5555555555555556,
             "#d8576b"
            ],
            [
             0.6666666666666666,
             "#ed7953"
            ],
            [
             0.7777777777777778,
             "#fb9f3a"
            ],
            [
             0.8888888888888888,
             "#fdca26"
            ],
            [
             1,
             "#f0f921"
            ]
           ],
           "sequentialminus": [
            [
             0,
             "#0d0887"
            ],
            [
             0.1111111111111111,
             "#46039f"
            ],
            [
             0.2222222222222222,
             "#7201a8"
            ],
            [
             0.3333333333333333,
             "#9c179e"
            ],
            [
             0.4444444444444444,
             "#bd3786"
            ],
            [
             0.5555555555555556,
             "#d8576b"
            ],
            [
             0.6666666666666666,
             "#ed7953"
            ],
            [
             0.7777777777777778,
             "#fb9f3a"
            ],
            [
             0.8888888888888888,
             "#fdca26"
            ],
            [
             1,
             "#f0f921"
            ]
           ]
          },
          "colorway": [
           "#636efa",
           "#EF553B",
           "#00cc96",
           "#ab63fa",
           "#FFA15A",
           "#19d3f3",
           "#FF6692",
           "#B6E880",
           "#FF97FF",
           "#FECB52"
          ],
          "font": {
           "color": "#2a3f5f"
          },
          "geo": {
           "bgcolor": "white",
           "lakecolor": "white",
           "landcolor": "#E5ECF6",
           "showlakes": true,
           "showland": true,
           "subunitcolor": "white"
          },
          "hoverlabel": {
           "align": "left"
          },
          "hovermode": "closest",
          "mapbox": {
           "style": "light"
          },
          "paper_bgcolor": "white",
          "plot_bgcolor": "#E5ECF6",
          "polar": {
           "angularaxis": {
            "gridcolor": "white",
            "linecolor": "white",
            "ticks": ""
           },
           "bgcolor": "#E5ECF6",
           "radialaxis": {
            "gridcolor": "white",
            "linecolor": "white",
            "ticks": ""
           }
          },
          "scene": {
           "xaxis": {
            "backgroundcolor": "#E5ECF6",
            "gridcolor": "white",
            "gridwidth": 2,
            "linecolor": "white",
            "showbackground": true,
            "ticks": "",
            "zerolinecolor": "white"
           },
           "yaxis": {
            "backgroundcolor": "#E5ECF6",
            "gridcolor": "white",
            "gridwidth": 2,
            "linecolor": "white",
            "showbackground": true,
            "ticks": "",
            "zerolinecolor": "white"
           },
           "zaxis": {
            "backgroundcolor": "#E5ECF6",
            "gridcolor": "white",
            "gridwidth": 2,
            "linecolor": "white",
            "showbackground": true,
            "ticks": "",
            "zerolinecolor": "white"
           }
          },
          "shapedefaults": {
           "line": {
            "color": "#2a3f5f"
           }
          },
          "ternary": {
           "aaxis": {
            "gridcolor": "white",
            "linecolor": "white",
            "ticks": ""
           },
           "baxis": {
            "gridcolor": "white",
            "linecolor": "white",
            "ticks": ""
           },
           "bgcolor": "#E5ECF6",
           "caxis": {
            "gridcolor": "white",
            "linecolor": "white",
            "ticks": ""
           }
          },
          "title": {
           "x": 0.05
          },
          "xaxis": {
           "automargin": true,
           "gridcolor": "white",
           "linecolor": "white",
           "ticks": "",
           "title": {
            "standoff": 15
           },
           "zerolinecolor": "white",
           "zerolinewidth": 2
          },
          "yaxis": {
           "automargin": true,
           "gridcolor": "white",
           "linecolor": "white",
           "ticks": "",
           "title": {
            "standoff": 15
           },
           "zerolinecolor": "white",
           "zerolinewidth": 2
          }
         }
        },
        "title": {
         "text": "Total = montly x tenure ?",
         "x": 0.5
        },
        "xaxis": {
         "anchor": "y",
         "domain": [
          0,
          1
         ],
         "title": {
          "text": "Monthly charges x tenure months"
         }
        },
        "yaxis": {
         "anchor": "x",
         "domain": [
          0,
          1
         ],
         "title": {
          "text": "Actual total charges"
         }
        }
       }
      }
     },
     "metadata": {},
     "output_type": "display_data"
    }
   ],
   "source": [
    "fig = px.scatter(\n",
    "    x=df['Monthly Charges'] * df['Tenure Months'],   # computed inline\n",
    "    y=df['Total Charges'],\n",
    "    title=\"Total = montly x tenure ?\",\n",
    "    opacity=0.6,\n",
    "    labels={\n",
    "        \"x\": \"Monthly charges x tenure months\",\n",
    "        \"y\": \"Actual total charges\"\n",
    "    }\n",
    ")\n",
    "\n",
    "fig.update_traces(marker=dict(size=6))\n",
    "fig.update_layout(title_x=0.5)\n",
    "fig.show()\n"
   ]
  },
  {
   "cell_type": "code",
   "execution_count": 140,
   "id": "4ad3eec9",
   "metadata": {},
   "outputs": [
    {
     "data": {
      "text/plain": [
       "0"
      ]
     },
     "execution_count": 140,
     "metadata": {},
     "output_type": "execute_result"
    }
   ],
   "source": [
    "df.loc[df['Total Charges'].isna(), 'Total Charges'] = (\n",
    "    df['Monthly Charges'] * df['Tenure Months']\n",
    ")\n",
    "df['Total Charges'].isna().sum()"
   ]
  },
  {
   "cell_type": "code",
   "execution_count": 141,
   "id": "93836b12",
   "metadata": {},
   "outputs": [
    {
     "data": {
      "application/vnd.plotly.v1+json": {
       "config": {
        "plotlyServerURL": "https://plot.ly"
       },
       "data": [
        {
         "bingroup": "x",
         "hovertemplate": "Total Charges=%{x}<br>count=%{y}<extra></extra>",
         "legendgroup": "",
         "marker": {
          "color": "#636efa",
          "line": {
           "color": "black",
           "width": 1.2
          },
          "pattern": {
           "shape": ""
          }
         },
         "name": "",
         "nbinsx": 30,
         "orientation": "v",
         "showlegend": false,
         "textposition": "outside",
         "texttemplate": "%{y}",
         "type": "histogram",
         "x": {
          "bdata": "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",
          "dtype": "f8"
         },
         "xaxis": "x",
         "yaxis": "y"
        }
       ],
       "layout": {
        "bargap": 0.1,
        "barmode": "relative",
        "legend": {
         "tracegroupgap": 0
        },
        "template": {
         "data": {
          "bar": [
           {
            "error_x": {
             "color": "#2a3f5f"
            },
            "error_y": {
             "color": "#2a3f5f"
            },
            "marker": {
             "line": {
              "color": "#E5ECF6",
              "width": 0.5
             },
             "pattern": {
              "fillmode": "overlay",
              "size": 10,
              "solidity": 0.2
             }
            },
            "type": "bar"
           }
          ],
          "barpolar": [
           {
            "marker": {
             "line": {
              "color": "#E5ECF6",
              "width": 0.5
             },
             "pattern": {
              "fillmode": "overlay",
              "size": 10,
              "solidity": 0.2
             }
            },
            "type": "barpolar"
           }
          ],
          "carpet": [
           {
            "aaxis": {
             "endlinecolor": "#2a3f5f",
             "gridcolor": "white",
             "linecolor": "white",
             "minorgridcolor": "white",
             "startlinecolor": "#2a3f5f"
            },
            "baxis": {
             "endlinecolor": "#2a3f5f",
             "gridcolor": "white",
             "linecolor": "white",
             "minorgridcolor": "white",
             "startlinecolor": "#2a3f5f"
            },
            "type": "carpet"
           }
          ],
          "choropleth": [
           {
            "colorbar": {
             "outlinewidth": 0,
             "ticks": ""
            },
            "type": "choropleth"
           }
          ],
          "contour": [
           {
            "colorbar": {
             "outlinewidth": 0,
             "ticks": ""
            },
            "colorscale": [
             [
              0,
              "#0d0887"
             ],
             [
              0.1111111111111111,
              "#46039f"
             ],
             [
              0.2222222222222222,
              "#7201a8"
             ],
             [
              0.3333333333333333,
              "#9c179e"
             ],
             [
              0.4444444444444444,
              "#bd3786"
             ],
             [
              0.5555555555555556,
              "#d8576b"
             ],
             [
              0.6666666666666666,
              "#ed7953"
             ],
             [
              0.7777777777777778,
              "#fb9f3a"
             ],
             [
              0.8888888888888888,
              "#fdca26"
             ],
             [
              1,
              "#f0f921"
             ]
            ],
            "type": "contour"
           }
          ],
          "contourcarpet": [
           {
            "colorbar": {
             "outlinewidth": 0,
             "ticks": ""
            },
            "type": "contourcarpet"
           }
          ],
          "heatmap": [
           {
            "colorbar": {
             "outlinewidth": 0,
             "ticks": ""
            },
            "colorscale": [
             [
              0,
              "#0d0887"
             ],
             [
              0.1111111111111111,
              "#46039f"
             ],
             [
              0.2222222222222222,
              "#7201a8"
             ],
             [
              0.3333333333333333,
              "#9c179e"
             ],
             [
              0.4444444444444444,
              "#bd3786"
             ],
             [
              0.5555555555555556,
              "#d8576b"
             ],
             [
              0.6666666666666666,
              "#ed7953"
             ],
             [
              0.7777777777777778,
              "#fb9f3a"
             ],
             [
              0.8888888888888888,
              "#fdca26"
             ],
             [
              1,
              "#f0f921"
             ]
            ],
            "type": "heatmap"
           }
          ],
          "histogram": [
           {
            "marker": {
             "pattern": {
              "fillmode": "overlay",
              "size": 10,
              "solidity": 0.2
             }
            },
            "type": "histogram"
           }
          ],
          "histogram2d": [
           {
            "colorbar": {
             "outlinewidth": 0,
             "ticks": ""
            },
            "colorscale": [
             [
              0,
              "#0d0887"
             ],
             [
              0.1111111111111111,
              "#46039f"
             ],
             [
              0.2222222222222222,
              "#7201a8"
             ],
             [
              0.3333333333333333,
              "#9c179e"
             ],
             [
              0.4444444444444444,
              "#bd3786"
             ],
             [
              0.5555555555555556,
              "#d8576b"
             ],
             [
              0.6666666666666666,
              "#ed7953"
             ],
             [
              0.7777777777777778,
              "#fb9f3a"
             ],
             [
              0.8888888888888888,
              "#fdca26"
             ],
             [
              1,
              "#f0f921"
             ]
            ],
            "type": "histogram2d"
           }
          ],
          "histogram2dcontour": [
           {
            "colorbar": {
             "outlinewidth": 0,
             "ticks": ""
            },
            "colorscale": [
             [
              0,
              "#0d0887"
             ],
             [
              0.1111111111111111,
              "#46039f"
             ],
             [
              0.2222222222222222,
              "#7201a8"
             ],
             [
              0.3333333333333333,
              "#9c179e"
             ],
             [
              0.4444444444444444,
              "#bd3786"
             ],
             [
              0.5555555555555556,
              "#d8576b"
             ],
             [
              0.6666666666666666,
              "#ed7953"
             ],
             [
              0.7777777777777778,
              "#fb9f3a"
             ],
             [
              0.8888888888888888,
              "#fdca26"
             ],
             [
              1,
              "#f0f921"
             ]
            ],
            "type": "histogram2dcontour"
           }
          ],
          "mesh3d": [
           {
            "colorbar": {
             "outlinewidth": 0,
             "ticks": ""
            },
            "type": "mesh3d"
           }
          ],
          "parcoords": [
           {
            "line": {
             "colorbar": {
              "outlinewidth": 0,
              "ticks": ""
             }
            },
            "type": "parcoords"
           }
          ],
          "pie": [
           {
            "automargin": true,
            "type": "pie"
           }
          ],
          "scatter": [
           {
            "fillpattern": {
             "fillmode": "overlay",
             "size": 10,
             "solidity": 0.2
            },
            "type": "scatter"
           }
          ],
          "scatter3d": [
           {
            "line": {
             "colorbar": {
              "outlinewidth": 0,
              "ticks": ""
             }
            },
            "marker": {
             "colorbar": {
              "outlinewidth": 0,
              "ticks": ""
             }
            },
            "type": "scatter3d"
           }
          ],
          "scattercarpet": [
           {
            "marker": {
             "colorbar": {
              "outlinewidth": 0,
              "ticks": ""
             }
            },
            "type": "scattercarpet"
           }
          ],
          "scattergeo": [
           {
            "marker": {
             "colorbar": {
              "outlinewidth": 0,
              "ticks": ""
             }
            },
            "type": "scattergeo"
           }
          ],
          "scattergl": [
           {
            "marker": {
             "colorbar": {
              "outlinewidth": 0,
              "ticks": ""
             }
            },
            "type": "scattergl"
           }
          ],
          "scattermap": [
           {
            "marker": {
             "colorbar": {
              "outlinewidth": 0,
              "ticks": ""
             }
            },
            "type": "scattermap"
           }
          ],
          "scattermapbox": [
           {
            "marker": {
             "colorbar": {
              "outlinewidth": 0,
              "ticks": ""
             }
            },
            "type": "scattermapbox"
           }
          ],
          "scatterpolar": [
           {
            "marker": {
             "colorbar": {
              "outlinewidth": 0,
              "ticks": ""
             }
            },
            "type": "scatterpolar"
           }
          ],
          "scatterpolargl": [
           {
            "marker": {
             "colorbar": {
              "outlinewidth": 0,
              "ticks": ""
             }
            },
            "type": "scatterpolargl"
           }
          ],
          "scatterternary": [
           {
            "marker": {
             "colorbar": {
              "outlinewidth": 0,
              "ticks": ""
             }
            },
            "type": "scatterternary"
           }
          ],
          "surface": [
           {
            "colorbar": {
             "outlinewidth": 0,
             "ticks": ""
            },
            "colorscale": [
             [
              0,
              "#0d0887"
             ],
             [
              0.1111111111111111,
              "#46039f"
             ],
             [
              0.2222222222222222,
              "#7201a8"
             ],
             [
              0.3333333333333333,
              "#9c179e"
             ],
             [
              0.4444444444444444,
              "#bd3786"
             ],
             [
              0.5555555555555556,
              "#d8576b"
             ],
             [
              0.6666666666666666,
              "#ed7953"
             ],
             [
              0.7777777777777778,
              "#fb9f3a"
             ],
             [
              0.8888888888888888,
              "#fdca26"
             ],
             [
              1,
              "#f0f921"
             ]
            ],
            "type": "surface"
           }
          ],
          "table": [
           {
            "cells": {
             "fill": {
              "color": "#EBF0F8"
             },
             "line": {
              "color": "white"
             }
            },
            "header": {
             "fill": {
              "color": "#C8D4E3"
             },
             "line": {
              "color": "white"
             }
            },
            "type": "table"
           }
          ]
         },
         "layout": {
          "annotationdefaults": {
           "arrowcolor": "#2a3f5f",
           "arrowhead": 0,
           "arrowwidth": 1
          },
          "autotypenumbers": "strict",
          "coloraxis": {
           "colorbar": {
            "outlinewidth": 0,
            "ticks": ""
           }
          },
          "colorscale": {
           "diverging": [
            [
             0,
             "#8e0152"
            ],
            [
             0.1,
             "#c51b7d"
            ],
            [
             0.2,
             "#de77ae"
            ],
            [
             0.3,
             "#f1b6da"
            ],
            [
             0.4,
             "#fde0ef"
            ],
            [
             0.5,
             "#f7f7f7"
            ],
            [
             0.6,
             "#e6f5d0"
            ],
            [
             0.7,
             "#b8e186"
            ],
            [
             0.8,
             "#7fbc41"
            ],
            [
             0.9,
             "#4d9221"
            ],
            [
             1,
             "#276419"
            ]
           ],
           "sequential": [
            [
             0,
             "#0d0887"
            ],
            [
             0.1111111111111111,
             "#46039f"
            ],
            [
             0.2222222222222222,
             "#7201a8"
            ],
            [
             0.3333333333333333,
             "#9c179e"
            ],
            [
             0.4444444444444444,
             "#bd3786"
            ],
            [
             0.5555555555555556,
             "#d8576b"
            ],
            [
             0.6666666666666666,
             "#ed7953"
            ],
            [
             0.7777777777777778,
             "#fb9f3a"
            ],
            [
             0.8888888888888888,
             "#fdca26"
            ],
            [
             1,
             "#f0f921"
            ]
           ],
           "sequentialminus": [
            [
             0,
             "#0d0887"
            ],
            [
             0.1111111111111111,
             "#46039f"
            ],
            [
             0.2222222222222222,
             "#7201a8"
            ],
            [
             0.3333333333333333,
             "#9c179e"
            ],
            [
             0.4444444444444444,
             "#bd3786"
            ],
            [
             0.5555555555555556,
             "#d8576b"
            ],
            [
             0.6666666666666666,
             "#ed7953"
            ],
            [
             0.7777777777777778,
             "#fb9f3a"
            ],
            [
             0.8888888888888888,
             "#fdca26"
            ],
            [
             1,
             "#f0f921"
            ]
           ]
          },
          "colorway": [
           "#636efa",
           "#EF553B",
           "#00cc96",
           "#ab63fa",
           "#FFA15A",
           "#19d3f3",
           "#FF6692",
           "#B6E880",
           "#FF97FF",
           "#FECB52"
          ],
          "font": {
           "color": "#2a3f5f"
          },
          "geo": {
           "bgcolor": "white",
           "lakecolor": "white",
           "landcolor": "#E5ECF6",
           "showlakes": true,
           "showland": true,
           "subunitcolor": "white"
          },
          "hoverlabel": {
           "align": "left"
          },
          "hovermode": "closest",
          "mapbox": {
           "style": "light"
          },
          "paper_bgcolor": "white",
          "plot_bgcolor": "#E5ECF6",
          "polar": {
           "angularaxis": {
            "gridcolor": "white",
            "linecolor": "white",
            "ticks": ""
           },
           "bgcolor": "#E5ECF6",
           "radialaxis": {
            "gridcolor": "white",
            "linecolor": "white",
            "ticks": ""
           }
          },
          "scene": {
           "xaxis": {
            "backgroundcolor": "#E5ECF6",
            "gridcolor": "white",
            "gridwidth": 2,
            "linecolor": "white",
            "showbackground": true,
            "ticks": "",
            "zerolinecolor": "white"
           },
           "yaxis": {
            "backgroundcolor": "#E5ECF6",
            "gridcolor": "white",
            "gridwidth": 2,
            "linecolor": "white",
            "showbackground": true,
            "ticks": "",
            "zerolinecolor": "white"
           },
           "zaxis": {
            "backgroundcolor": "#E5ECF6",
            "gridcolor": "white",
            "gridwidth": 2,
            "linecolor": "white",
            "showbackground": true,
            "ticks": "",
            "zerolinecolor": "white"
           }
          },
          "shapedefaults": {
           "line": {
            "color": "#2a3f5f"
           }
          },
          "ternary": {
           "aaxis": {
            "gridcolor": "white",
            "linecolor": "white",
            "ticks": ""
           },
           "baxis": {
            "gridcolor": "white",
            "linecolor": "white",
            "ticks": ""
           },
           "bgcolor": "#E5ECF6",
           "caxis": {
            "gridcolor": "white",
            "linecolor": "white",
            "ticks": ""
           }
          },
          "title": {
           "x": 0.05
          },
          "xaxis": {
           "automargin": true,
           "gridcolor": "white",
           "linecolor": "white",
           "ticks": "",
           "title": {
            "standoff": 15
           },
           "zerolinecolor": "white",
           "zerolinewidth": 2
          },
          "yaxis": {
           "automargin": true,
           "gridcolor": "white",
           "linecolor": "white",
           "ticks": "",
           "title": {
            "standoff": 15
           },
           "zerolinecolor": "white",
           "zerolinewidth": 2
          }
         }
        },
        "title": {
         "text": "Distribution of Total Charges",
         "x": 0.5
        },
        "xaxis": {
         "anchor": "y",
         "domain": [
          0,
          1
         ],
         "title": {
          "text": "Total Charges"
         }
        },
        "yaxis": {
         "anchor": "x",
         "domain": [
          0,
          1
         ],
         "title": {
          "text": "count"
         }
        }
       }
      }
     },
     "metadata": {},
     "output_type": "display_data"
    }
   ],
   "source": [
    "fig = px.histogram(\n",
    "    df,\n",
    "    x=\"Total Charges\",\n",
    "    nbins=30,\n",
    "    title=\"Distribution of Total Charges\",\n",
    "    histnorm=None\n",
    ")\n",
    "fig.update_traces(\n",
    "    marker_line_color='black',   \n",
    "    marker_line_width=1.2,        \n",
    "    texttemplate=\"%{y}\",         \n",
    "    textposition=\"outside\"\n",
    ")\n",
    "fig.update_layout(\n",
    "    bargap=0.1,  \n",
    "    title_x=0.5,\n",
    ")\n",
    "fig.show()"
   ]
  },
  {
   "cell_type": "code",
   "execution_count": 142,
   "id": "66cfad3b",
   "metadata": {},
   "outputs": [
    {
     "data": {
      "text/html": [
       "<div>\n",
       "<style scoped>\n",
       "    .dataframe tbody tr th:only-of-type {\n",
       "        vertical-align: middle;\n",
       "    }\n",
       "\n",
       "    .dataframe tbody tr th {\n",
       "        vertical-align: top;\n",
       "    }\n",
       "\n",
       "    .dataframe thead th {\n",
       "        text-align: right;\n",
       "    }\n",
       "</style>\n",
       "<table border=\"1\" class=\"dataframe\">\n",
       "  <thead>\n",
       "    <tr style=\"text-align: right;\">\n",
       "      <th></th>\n",
       "      <th>Gender</th>\n",
       "      <th>Senior Citizen</th>\n",
       "      <th>Partner</th>\n",
       "      <th>Dependents</th>\n",
       "      <th>Tenure Months</th>\n",
       "      <th>Phone Service</th>\n",
       "      <th>Multiple Lines</th>\n",
       "      <th>Internet Service</th>\n",
       "      <th>Online Security</th>\n",
       "      <th>Online Backup</th>\n",
       "      <th>Device Protection</th>\n",
       "      <th>Tech Support</th>\n",
       "      <th>Streaming TV</th>\n",
       "      <th>Streaming Movies</th>\n",
       "      <th>Contract</th>\n",
       "      <th>Paperless Billing</th>\n",
       "      <th>Payment Method</th>\n",
       "      <th>Monthly Charges</th>\n",
       "      <th>Total Charges</th>\n",
       "      <th>Churn Label</th>\n",
       "    </tr>\n",
       "  </thead>\n",
       "  <tbody>\n",
       "    <tr>\n",
       "      <th>0</th>\n",
       "      <td>Male</td>\n",
       "      <td>No</td>\n",
       "      <td>No</td>\n",
       "      <td>No</td>\n",
       "      <td>2</td>\n",
       "      <td>Yes</td>\n",
       "      <td>No</td>\n",
       "      <td>DSL</td>\n",
       "      <td>Yes</td>\n",
       "      <td>Yes</td>\n",
       "      <td>No</td>\n",
       "      <td>No</td>\n",
       "      <td>No</td>\n",
       "      <td>No</td>\n",
       "      <td>Month-to-month</td>\n",
       "      <td>Yes</td>\n",
       "      <td>Mailed check</td>\n",
       "      <td>53.85</td>\n",
       "      <td>108.15</td>\n",
       "      <td>Yes</td>\n",
       "    </tr>\n",
       "    <tr>\n",
       "      <th>1</th>\n",
       "      <td>Female</td>\n",
       "      <td>No</td>\n",
       "      <td>No</td>\n",
       "      <td>Yes</td>\n",
       "      <td>2</td>\n",
       "      <td>Yes</td>\n",
       "      <td>No</td>\n",
       "      <td>Fiber optic</td>\n",
       "      <td>No</td>\n",
       "      <td>No</td>\n",
       "      <td>No</td>\n",
       "      <td>No</td>\n",
       "      <td>No</td>\n",
       "      <td>No</td>\n",
       "      <td>Month-to-month</td>\n",
       "      <td>Yes</td>\n",
       "      <td>Electronic check</td>\n",
       "      <td>70.70</td>\n",
       "      <td>151.65</td>\n",
       "      <td>Yes</td>\n",
       "    </tr>\n",
       "    <tr>\n",
       "      <th>2</th>\n",
       "      <td>Female</td>\n",
       "      <td>No</td>\n",
       "      <td>No</td>\n",
       "      <td>Yes</td>\n",
       "      <td>8</td>\n",
       "      <td>Yes</td>\n",
       "      <td>Yes</td>\n",
       "      <td>Fiber optic</td>\n",
       "      <td>No</td>\n",
       "      <td>No</td>\n",
       "      <td>Yes</td>\n",
       "      <td>No</td>\n",
       "      <td>Yes</td>\n",
       "      <td>Yes</td>\n",
       "      <td>Month-to-month</td>\n",
       "      <td>Yes</td>\n",
       "      <td>Electronic check</td>\n",
       "      <td>99.65</td>\n",
       "      <td>820.50</td>\n",
       "      <td>Yes</td>\n",
       "    </tr>\n",
       "    <tr>\n",
       "      <th>3</th>\n",
       "      <td>Female</td>\n",
       "      <td>No</td>\n",
       "      <td>Yes</td>\n",
       "      <td>Yes</td>\n",
       "      <td>28</td>\n",
       "      <td>Yes</td>\n",
       "      <td>Yes</td>\n",
       "      <td>Fiber optic</td>\n",
       "      <td>No</td>\n",
       "      <td>No</td>\n",
       "      <td>Yes</td>\n",
       "      <td>Yes</td>\n",
       "      <td>Yes</td>\n",
       "      <td>Yes</td>\n",
       "      <td>Month-to-month</td>\n",
       "      <td>Yes</td>\n",
       "      <td>Electronic check</td>\n",
       "      <td>104.80</td>\n",
       "      <td>3046.05</td>\n",
       "      <td>Yes</td>\n",
       "    </tr>\n",
       "    <tr>\n",
       "      <th>4</th>\n",
       "      <td>Male</td>\n",
       "      <td>No</td>\n",
       "      <td>No</td>\n",
       "      <td>Yes</td>\n",
       "      <td>49</td>\n",
       "      <td>Yes</td>\n",
       "      <td>Yes</td>\n",
       "      <td>Fiber optic</td>\n",
       "      <td>No</td>\n",
       "      <td>Yes</td>\n",
       "      <td>Yes</td>\n",
       "      <td>No</td>\n",
       "      <td>Yes</td>\n",
       "      <td>Yes</td>\n",
       "      <td>Month-to-month</td>\n",
       "      <td>Yes</td>\n",
       "      <td>Bank transfer (automatic)</td>\n",
       "      <td>103.70</td>\n",
       "      <td>5036.30</td>\n",
       "      <td>Yes</td>\n",
       "    </tr>\n",
       "    <tr>\n",
       "      <th>...</th>\n",
       "      <td>...</td>\n",
       "      <td>...</td>\n",
       "      <td>...</td>\n",
       "      <td>...</td>\n",
       "      <td>...</td>\n",
       "      <td>...</td>\n",
       "      <td>...</td>\n",
       "      <td>...</td>\n",
       "      <td>...</td>\n",
       "      <td>...</td>\n",
       "      <td>...</td>\n",
       "      <td>...</td>\n",
       "      <td>...</td>\n",
       "      <td>...</td>\n",
       "      <td>...</td>\n",
       "      <td>...</td>\n",
       "      <td>...</td>\n",
       "      <td>...</td>\n",
       "      <td>...</td>\n",
       "      <td>...</td>\n",
       "    </tr>\n",
       "    <tr>\n",
       "      <th>7038</th>\n",
       "      <td>Female</td>\n",
       "      <td>No</td>\n",
       "      <td>No</td>\n",
       "      <td>No</td>\n",
       "      <td>72</td>\n",
       "      <td>Yes</td>\n",
       "      <td>No</td>\n",
       "      <td>No</td>\n",
       "      <td>No internet service</td>\n",
       "      <td>No internet service</td>\n",
       "      <td>No internet service</td>\n",
       "      <td>No internet service</td>\n",
       "      <td>No internet service</td>\n",
       "      <td>No internet service</td>\n",
       "      <td>Two year</td>\n",
       "      <td>Yes</td>\n",
       "      <td>Bank transfer (automatic)</td>\n",
       "      <td>21.15</td>\n",
       "      <td>1419.40</td>\n",
       "      <td>No</td>\n",
       "    </tr>\n",
       "    <tr>\n",
       "      <th>7039</th>\n",
       "      <td>Male</td>\n",
       "      <td>No</td>\n",
       "      <td>Yes</td>\n",
       "      <td>Yes</td>\n",
       "      <td>24</td>\n",
       "      <td>Yes</td>\n",
       "      <td>Yes</td>\n",
       "      <td>DSL</td>\n",
       "      <td>Yes</td>\n",
       "      <td>No</td>\n",
       "      <td>Yes</td>\n",
       "      <td>Yes</td>\n",
       "      <td>Yes</td>\n",
       "      <td>Yes</td>\n",
       "      <td>One year</td>\n",
       "      <td>Yes</td>\n",
       "      <td>Mailed check</td>\n",
       "      <td>84.80</td>\n",
       "      <td>1990.50</td>\n",
       "      <td>No</td>\n",
       "    </tr>\n",
       "    <tr>\n",
       "      <th>7040</th>\n",
       "      <td>Female</td>\n",
       "      <td>No</td>\n",
       "      <td>Yes</td>\n",
       "      <td>Yes</td>\n",
       "      <td>72</td>\n",
       "      <td>Yes</td>\n",
       "      <td>Yes</td>\n",
       "      <td>Fiber optic</td>\n",
       "      <td>No</td>\n",
       "      <td>Yes</td>\n",
       "      <td>Yes</td>\n",
       "      <td>No</td>\n",
       "      <td>Yes</td>\n",
       "      <td>Yes</td>\n",
       "      <td>One year</td>\n",
       "      <td>Yes</td>\n",
       "      <td>Credit card (automatic)</td>\n",
       "      <td>103.20</td>\n",
       "      <td>7362.90</td>\n",
       "      <td>No</td>\n",
       "    </tr>\n",
       "    <tr>\n",
       "      <th>7041</th>\n",
       "      <td>Female</td>\n",
       "      <td>No</td>\n",
       "      <td>Yes</td>\n",
       "      <td>Yes</td>\n",
       "      <td>11</td>\n",
       "      <td>No</td>\n",
       "      <td>No phone service</td>\n",
       "      <td>DSL</td>\n",
       "      <td>Yes</td>\n",
       "      <td>No</td>\n",
       "      <td>No</td>\n",
       "      <td>No</td>\n",
       "      <td>No</td>\n",
       "      <td>No</td>\n",
       "      <td>Month-to-month</td>\n",
       "      <td>Yes</td>\n",
       "      <td>Electronic check</td>\n",
       "      <td>29.60</td>\n",
       "      <td>346.45</td>\n",
       "      <td>No</td>\n",
       "    </tr>\n",
       "    <tr>\n",
       "      <th>7042</th>\n",
       "      <td>Male</td>\n",
       "      <td>No</td>\n",
       "      <td>No</td>\n",
       "      <td>No</td>\n",
       "      <td>66</td>\n",
       "      <td>Yes</td>\n",
       "      <td>No</td>\n",
       "      <td>Fiber optic</td>\n",
       "      <td>Yes</td>\n",
       "      <td>No</td>\n",
       "      <td>Yes</td>\n",
       "      <td>Yes</td>\n",
       "      <td>Yes</td>\n",
       "      <td>Yes</td>\n",
       "      <td>Two year</td>\n",
       "      <td>Yes</td>\n",
       "      <td>Bank transfer (automatic)</td>\n",
       "      <td>105.65</td>\n",
       "      <td>6844.50</td>\n",
       "      <td>No</td>\n",
       "    </tr>\n",
       "  </tbody>\n",
       "</table>\n",
       "<p>7043 rows × 20 columns</p>\n",
       "</div>"
      ],
      "text/plain": [
       "      Gender Senior Citizen Partner Dependents  Tenure Months Phone Service  \\\n",
       "0       Male             No      No         No              2           Yes   \n",
       "1     Female             No      No        Yes              2           Yes   \n",
       "2     Female             No      No        Yes              8           Yes   \n",
       "3     Female             No     Yes        Yes             28           Yes   \n",
       "4       Male             No      No        Yes             49           Yes   \n",
       "...      ...            ...     ...        ...            ...           ...   \n",
       "7038  Female             No      No         No             72           Yes   \n",
       "7039    Male             No     Yes        Yes             24           Yes   \n",
       "7040  Female             No     Yes        Yes             72           Yes   \n",
       "7041  Female             No     Yes        Yes             11            No   \n",
       "7042    Male             No      No         No             66           Yes   \n",
       "\n",
       "        Multiple Lines Internet Service      Online Security  \\\n",
       "0                   No              DSL                  Yes   \n",
       "1                   No      Fiber optic                   No   \n",
       "2                  Yes      Fiber optic                   No   \n",
       "3                  Yes      Fiber optic                   No   \n",
       "4                  Yes      Fiber optic                   No   \n",
       "...                ...              ...                  ...   \n",
       "7038                No               No  No internet service   \n",
       "7039               Yes              DSL                  Yes   \n",
       "7040               Yes      Fiber optic                   No   \n",
       "7041  No phone service              DSL                  Yes   \n",
       "7042                No      Fiber optic                  Yes   \n",
       "\n",
       "            Online Backup    Device Protection         Tech Support  \\\n",
       "0                     Yes                   No                   No   \n",
       "1                      No                   No                   No   \n",
       "2                      No                  Yes                   No   \n",
       "3                      No                  Yes                  Yes   \n",
       "4                     Yes                  Yes                   No   \n",
       "...                   ...                  ...                  ...   \n",
       "7038  No internet service  No internet service  No internet service   \n",
       "7039                   No                  Yes                  Yes   \n",
       "7040                  Yes                  Yes                   No   \n",
       "7041                   No                   No                   No   \n",
       "7042                   No                  Yes                  Yes   \n",
       "\n",
       "             Streaming TV     Streaming Movies        Contract  \\\n",
       "0                      No                   No  Month-to-month   \n",
       "1                      No                   No  Month-to-month   \n",
       "2                     Yes                  Yes  Month-to-month   \n",
       "3                     Yes                  Yes  Month-to-month   \n",
       "4                     Yes                  Yes  Month-to-month   \n",
       "...                   ...                  ...             ...   \n",
       "7038  No internet service  No internet service        Two year   \n",
       "7039                  Yes                  Yes        One year   \n",
       "7040                  Yes                  Yes        One year   \n",
       "7041                   No                   No  Month-to-month   \n",
       "7042                  Yes                  Yes        Two year   \n",
       "\n",
       "     Paperless Billing             Payment Method  Monthly Charges  \\\n",
       "0                  Yes               Mailed check            53.85   \n",
       "1                  Yes           Electronic check            70.70   \n",
       "2                  Yes           Electronic check            99.65   \n",
       "3                  Yes           Electronic check           104.80   \n",
       "4                  Yes  Bank transfer (automatic)           103.70   \n",
       "...                ...                        ...              ...   \n",
       "7038               Yes  Bank transfer (automatic)            21.15   \n",
       "7039               Yes               Mailed check            84.80   \n",
       "7040               Yes    Credit card (automatic)           103.20   \n",
       "7041               Yes           Electronic check            29.60   \n",
       "7042               Yes  Bank transfer (automatic)           105.65   \n",
       "\n",
       "      Total Charges Churn Label  \n",
       "0            108.15         Yes  \n",
       "1            151.65         Yes  \n",
       "2            820.50         Yes  \n",
       "3           3046.05         Yes  \n",
       "4           5036.30         Yes  \n",
       "...             ...         ...  \n",
       "7038        1419.40          No  \n",
       "7039        1990.50          No  \n",
       "7040        7362.90          No  \n",
       "7041         346.45          No  \n",
       "7042        6844.50          No  \n",
       "\n",
       "[7043 rows x 20 columns]"
      ]
     },
     "execution_count": 142,
     "metadata": {},
     "output_type": "execute_result"
    }
   ],
   "source": [
    "df"
   ]
  },
  {
   "cell_type": "markdown",
   "id": "3d7a70eb",
   "metadata": {},
   "source": [
    "##### Note: Next I will try to **encode** the *categorical* colums"
   ]
  },
  {
   "cell_type": "code",
   "execution_count": 143,
   "id": "699577f3",
   "metadata": {},
   "outputs": [
    {
     "name": "stdout",
     "output_type": "stream",
     "text": [
      "Index(['Gender', 'Senior Citizen', 'Partner', 'Dependents', 'Phone Service',\n",
      "       'Multiple Lines', 'Internet Service', 'Online Security',\n",
      "       'Online Backup', 'Device Protection', 'Tech Support', 'Streaming TV',\n",
      "       'Streaming Movies', 'Contract', 'Paperless Billing', 'Payment Method',\n",
      "       'Churn Label'],\n",
      "      dtype='object')\n"
     ]
    }
   ],
   "source": [
    "print(categorical_cols)"
   ]
  },
  {
   "cell_type": "code",
   "execution_count": 144,
   "id": "c0af3b9e",
   "metadata": {},
   "outputs": [],
   "source": [
    "from sklearn.preprocessing import OrdinalEncoder\n",
    "\n",
    "binary_cols = [\n",
    "    \"Gender\", \"Senior Citizen\", \"Partner\", \"Dependents\", \"Phone Service\", \"Paperless Billing\"\n",
    "]\n",
    "\n",
    "ordinal_cols = {\n",
    "    #                        0                    1         2\n",
    "    \"Multiple Lines\":    [\"No phone service\",   \"No\",      \"Yes\"],\n",
    "    \"Internet Service\":  [\"No\",                 \"DSL\",     \"Fiber optic\"],\n",
    "    \"Online Security\":   [\"No internet service\",\"No\",      \"Yes\"],\n",
    "    \"Online Backup\":     [\"No internet service\",\"No\",      \"Yes\"],\n",
    "    \"Device Protection\": [\"No internet service\",\"No\",      \"Yes\"],\n",
    "    \"Tech Support\":      [\"No internet service\",\"No\",      \"Yes\"],\n",
    "    \"Streaming TV\":      [\"No internet service\",\"No\",      \"Yes\"],\n",
    "    \"Streaming Movies\":  [\"No internet service\",\"No\",      \"Yes\"],\n",
    "    \"Contract\":          [\"Month-to-month\",     \"One year\",\"Two year\"]\n",
    "}\n",
    "\n",
    "nominal_cols = [\"Payment Method\"]\n",
    "\n",
    "for col in binary_cols:\n",
    "    df[col] = df[col].map({'No': 0, 'Yes': 1, 'Female': 0, 'Male': 1})\n",
    "\n",
    "ord_enc = OrdinalEncoder(categories=list(ordinal_cols.values()))\n",
    "df[list(ordinal_cols.keys())] = ord_enc.fit_transform(df[list(ordinal_cols.keys())])\n",
    "\n",
    "df = pd.get_dummies(df, columns=nominal_cols, drop_first=True)"
   ]
  },
  {
   "cell_type": "code",
   "execution_count": 145,
   "id": "5b1b30eb",
   "metadata": {},
   "outputs": [
    {
     "data": {
      "text/html": [
       "<div>\n",
       "<style scoped>\n",
       "    .dataframe tbody tr th:only-of-type {\n",
       "        vertical-align: middle;\n",
       "    }\n",
       "\n",
       "    .dataframe tbody tr th {\n",
       "        vertical-align: top;\n",
       "    }\n",
       "\n",
       "    .dataframe thead th {\n",
       "        text-align: right;\n",
       "    }\n",
       "</style>\n",
       "<table border=\"1\" class=\"dataframe\">\n",
       "  <thead>\n",
       "    <tr style=\"text-align: right;\">\n",
       "      <th></th>\n",
       "      <th>Gender</th>\n",
       "      <th>Senior Citizen</th>\n",
       "      <th>Partner</th>\n",
       "      <th>Dependents</th>\n",
       "      <th>Tenure Months</th>\n",
       "      <th>Phone Service</th>\n",
       "      <th>Multiple Lines</th>\n",
       "      <th>Internet Service</th>\n",
       "      <th>Online Security</th>\n",
       "      <th>Online Backup</th>\n",
       "      <th>...</th>\n",
       "      <th>Streaming TV</th>\n",
       "      <th>Streaming Movies</th>\n",
       "      <th>Contract</th>\n",
       "      <th>Paperless Billing</th>\n",
       "      <th>Monthly Charges</th>\n",
       "      <th>Total Charges</th>\n",
       "      <th>Churn Label</th>\n",
       "      <th>Payment Method_Credit card (automatic)</th>\n",
       "      <th>Payment Method_Electronic check</th>\n",
       "      <th>Payment Method_Mailed check</th>\n",
       "    </tr>\n",
       "  </thead>\n",
       "  <tbody>\n",
       "    <tr>\n",
       "      <th>0</th>\n",
       "      <td>1</td>\n",
       "      <td>0</td>\n",
       "      <td>0</td>\n",
       "      <td>0</td>\n",
       "      <td>2</td>\n",
       "      <td>1</td>\n",
       "      <td>1.0</td>\n",
       "      <td>1.0</td>\n",
       "      <td>2.0</td>\n",
       "      <td>2.0</td>\n",
       "      <td>...</td>\n",
       "      <td>1.0</td>\n",
       "      <td>1.0</td>\n",
       "      <td>0.0</td>\n",
       "      <td>1</td>\n",
       "      <td>53.85</td>\n",
       "      <td>108.15</td>\n",
       "      <td>Yes</td>\n",
       "      <td>False</td>\n",
       "      <td>False</td>\n",
       "      <td>True</td>\n",
       "    </tr>\n",
       "    <tr>\n",
       "      <th>1</th>\n",
       "      <td>0</td>\n",
       "      <td>0</td>\n",
       "      <td>0</td>\n",
       "      <td>1</td>\n",
       "      <td>2</td>\n",
       "      <td>1</td>\n",
       "      <td>1.0</td>\n",
       "      <td>2.0</td>\n",
       "      <td>1.0</td>\n",
       "      <td>1.0</td>\n",
       "      <td>...</td>\n",
       "      <td>1.0</td>\n",
       "      <td>1.0</td>\n",
       "      <td>0.0</td>\n",
       "      <td>1</td>\n",
       "      <td>70.70</td>\n",
       "      <td>151.65</td>\n",
       "      <td>Yes</td>\n",
       "      <td>False</td>\n",
       "      <td>True</td>\n",
       "      <td>False</td>\n",
       "    </tr>\n",
       "    <tr>\n",
       "      <th>2</th>\n",
       "      <td>0</td>\n",
       "      <td>0</td>\n",
       "      <td>0</td>\n",
       "      <td>1</td>\n",
       "      <td>8</td>\n",
       "      <td>1</td>\n",
       "      <td>2.0</td>\n",
       "      <td>2.0</td>\n",
       "      <td>1.0</td>\n",
       "      <td>1.0</td>\n",
       "      <td>...</td>\n",
       "      <td>2.0</td>\n",
       "      <td>2.0</td>\n",
       "      <td>0.0</td>\n",
       "      <td>1</td>\n",
       "      <td>99.65</td>\n",
       "      <td>820.50</td>\n",
       "      <td>Yes</td>\n",
       "      <td>False</td>\n",
       "      <td>True</td>\n",
       "      <td>False</td>\n",
       "    </tr>\n",
       "    <tr>\n",
       "      <th>3</th>\n",
       "      <td>0</td>\n",
       "      <td>0</td>\n",
       "      <td>1</td>\n",
       "      <td>1</td>\n",
       "      <td>28</td>\n",
       "      <td>1</td>\n",
       "      <td>2.0</td>\n",
       "      <td>2.0</td>\n",
       "      <td>1.0</td>\n",
       "      <td>1.0</td>\n",
       "      <td>...</td>\n",
       "      <td>2.0</td>\n",
       "      <td>2.0</td>\n",
       "      <td>0.0</td>\n",
       "      <td>1</td>\n",
       "      <td>104.80</td>\n",
       "      <td>3046.05</td>\n",
       "      <td>Yes</td>\n",
       "      <td>False</td>\n",
       "      <td>True</td>\n",
       "      <td>False</td>\n",
       "    </tr>\n",
       "    <tr>\n",
       "      <th>4</th>\n",
       "      <td>1</td>\n",
       "      <td>0</td>\n",
       "      <td>0</td>\n",
       "      <td>1</td>\n",
       "      <td>49</td>\n",
       "      <td>1</td>\n",
       "      <td>2.0</td>\n",
       "      <td>2.0</td>\n",
       "      <td>1.0</td>\n",
       "      <td>2.0</td>\n",
       "      <td>...</td>\n",
       "      <td>2.0</td>\n",
       "      <td>2.0</td>\n",
       "      <td>0.0</td>\n",
       "      <td>1</td>\n",
       "      <td>103.70</td>\n",
       "      <td>5036.30</td>\n",
       "      <td>Yes</td>\n",
       "      <td>False</td>\n",
       "      <td>False</td>\n",
       "      <td>False</td>\n",
       "    </tr>\n",
       "    <tr>\n",
       "      <th>...</th>\n",
       "      <td>...</td>\n",
       "      <td>...</td>\n",
       "      <td>...</td>\n",
       "      <td>...</td>\n",
       "      <td>...</td>\n",
       "      <td>...</td>\n",
       "      <td>...</td>\n",
       "      <td>...</td>\n",
       "      <td>...</td>\n",
       "      <td>...</td>\n",
       "      <td>...</td>\n",
       "      <td>...</td>\n",
       "      <td>...</td>\n",
       "      <td>...</td>\n",
       "      <td>...</td>\n",
       "      <td>...</td>\n",
       "      <td>...</td>\n",
       "      <td>...</td>\n",
       "      <td>...</td>\n",
       "      <td>...</td>\n",
       "      <td>...</td>\n",
       "    </tr>\n",
       "    <tr>\n",
       "      <th>7038</th>\n",
       "      <td>0</td>\n",
       "      <td>0</td>\n",
       "      <td>0</td>\n",
       "      <td>0</td>\n",
       "      <td>72</td>\n",
       "      <td>1</td>\n",
       "      <td>1.0</td>\n",
       "      <td>0.0</td>\n",
       "      <td>0.0</td>\n",
       "      <td>0.0</td>\n",
       "      <td>...</td>\n",
       "      <td>0.0</td>\n",
       "      <td>0.0</td>\n",
       "      <td>2.0</td>\n",
       "      <td>1</td>\n",
       "      <td>21.15</td>\n",
       "      <td>1419.40</td>\n",
       "      <td>No</td>\n",
       "      <td>False</td>\n",
       "      <td>False</td>\n",
       "      <td>False</td>\n",
       "    </tr>\n",
       "    <tr>\n",
       "      <th>7039</th>\n",
       "      <td>1</td>\n",
       "      <td>0</td>\n",
       "      <td>1</td>\n",
       "      <td>1</td>\n",
       "      <td>24</td>\n",
       "      <td>1</td>\n",
       "      <td>2.0</td>\n",
       "      <td>1.0</td>\n",
       "      <td>2.0</td>\n",
       "      <td>1.0</td>\n",
       "      <td>...</td>\n",
       "      <td>2.0</td>\n",
       "      <td>2.0</td>\n",
       "      <td>1.0</td>\n",
       "      <td>1</td>\n",
       "      <td>84.80</td>\n",
       "      <td>1990.50</td>\n",
       "      <td>No</td>\n",
       "      <td>False</td>\n",
       "      <td>False</td>\n",
       "      <td>True</td>\n",
       "    </tr>\n",
       "    <tr>\n",
       "      <th>7040</th>\n",
       "      <td>0</td>\n",
       "      <td>0</td>\n",
       "      <td>1</td>\n",
       "      <td>1</td>\n",
       "      <td>72</td>\n",
       "      <td>1</td>\n",
       "      <td>2.0</td>\n",
       "      <td>2.0</td>\n",
       "      <td>1.0</td>\n",
       "      <td>2.0</td>\n",
       "      <td>...</td>\n",
       "      <td>2.0</td>\n",
       "      <td>2.0</td>\n",
       "      <td>1.0</td>\n",
       "      <td>1</td>\n",
       "      <td>103.20</td>\n",
       "      <td>7362.90</td>\n",
       "      <td>No</td>\n",
       "      <td>True</td>\n",
       "      <td>False</td>\n",
       "      <td>False</td>\n",
       "    </tr>\n",
       "    <tr>\n",
       "      <th>7041</th>\n",
       "      <td>0</td>\n",
       "      <td>0</td>\n",
       "      <td>1</td>\n",
       "      <td>1</td>\n",
       "      <td>11</td>\n",
       "      <td>0</td>\n",
       "      <td>0.0</td>\n",
       "      <td>1.0</td>\n",
       "      <td>2.0</td>\n",
       "      <td>1.0</td>\n",
       "      <td>...</td>\n",
       "      <td>1.0</td>\n",
       "      <td>1.0</td>\n",
       "      <td>0.0</td>\n",
       "      <td>1</td>\n",
       "      <td>29.60</td>\n",
       "      <td>346.45</td>\n",
       "      <td>No</td>\n",
       "      <td>False</td>\n",
       "      <td>True</td>\n",
       "      <td>False</td>\n",
       "    </tr>\n",
       "    <tr>\n",
       "      <th>7042</th>\n",
       "      <td>1</td>\n",
       "      <td>0</td>\n",
       "      <td>0</td>\n",
       "      <td>0</td>\n",
       "      <td>66</td>\n",
       "      <td>1</td>\n",
       "      <td>1.0</td>\n",
       "      <td>2.0</td>\n",
       "      <td>2.0</td>\n",
       "      <td>1.0</td>\n",
       "      <td>...</td>\n",
       "      <td>2.0</td>\n",
       "      <td>2.0</td>\n",
       "      <td>2.0</td>\n",
       "      <td>1</td>\n",
       "      <td>105.65</td>\n",
       "      <td>6844.50</td>\n",
       "      <td>No</td>\n",
       "      <td>False</td>\n",
       "      <td>False</td>\n",
       "      <td>False</td>\n",
       "    </tr>\n",
       "  </tbody>\n",
       "</table>\n",
       "<p>7043 rows × 22 columns</p>\n",
       "</div>"
      ],
      "text/plain": [
       "      Gender  Senior Citizen  Partner  Dependents  Tenure Months  \\\n",
       "0          1               0        0           0              2   \n",
       "1          0               0        0           1              2   \n",
       "2          0               0        0           1              8   \n",
       "3          0               0        1           1             28   \n",
       "4          1               0        0           1             49   \n",
       "...      ...             ...      ...         ...            ...   \n",
       "7038       0               0        0           0             72   \n",
       "7039       1               0        1           1             24   \n",
       "7040       0               0        1           1             72   \n",
       "7041       0               0        1           1             11   \n",
       "7042       1               0        0           0             66   \n",
       "\n",
       "      Phone Service  Multiple Lines  Internet Service  Online Security  \\\n",
       "0                 1             1.0               1.0              2.0   \n",
       "1                 1             1.0               2.0              1.0   \n",
       "2                 1             2.0               2.0              1.0   \n",
       "3                 1             2.0               2.0              1.0   \n",
       "4                 1             2.0               2.0              1.0   \n",
       "...             ...             ...               ...              ...   \n",
       "7038              1             1.0               0.0              0.0   \n",
       "7039              1             2.0               1.0              2.0   \n",
       "7040              1             2.0               2.0              1.0   \n",
       "7041              0             0.0               1.0              2.0   \n",
       "7042              1             1.0               2.0              2.0   \n",
       "\n",
       "      Online Backup  ...  Streaming TV  Streaming Movies  Contract  \\\n",
       "0               2.0  ...           1.0               1.0       0.0   \n",
       "1               1.0  ...           1.0               1.0       0.0   \n",
       "2               1.0  ...           2.0               2.0       0.0   \n",
       "3               1.0  ...           2.0               2.0       0.0   \n",
       "4               2.0  ...           2.0               2.0       0.0   \n",
       "...             ...  ...           ...               ...       ...   \n",
       "7038            0.0  ...           0.0               0.0       2.0   \n",
       "7039            1.0  ...           2.0               2.0       1.0   \n",
       "7040            2.0  ...           2.0               2.0       1.0   \n",
       "7041            1.0  ...           1.0               1.0       0.0   \n",
       "7042            1.0  ...           2.0               2.0       2.0   \n",
       "\n",
       "      Paperless Billing  Monthly Charges  Total Charges  Churn Label  \\\n",
       "0                     1            53.85         108.15          Yes   \n",
       "1                     1            70.70         151.65          Yes   \n",
       "2                     1            99.65         820.50          Yes   \n",
       "3                     1           104.80        3046.05          Yes   \n",
       "4                     1           103.70        5036.30          Yes   \n",
       "...                 ...              ...            ...          ...   \n",
       "7038                  1            21.15        1419.40           No   \n",
       "7039                  1            84.80        1990.50           No   \n",
       "7040                  1           103.20        7362.90           No   \n",
       "7041                  1            29.60         346.45           No   \n",
       "7042                  1           105.65        6844.50           No   \n",
       "\n",
       "      Payment Method_Credit card (automatic) Payment Method_Electronic check  \\\n",
       "0                                      False                           False   \n",
       "1                                      False                            True   \n",
       "2                                      False                            True   \n",
       "3                                      False                            True   \n",
       "4                                      False                           False   \n",
       "...                                      ...                             ...   \n",
       "7038                                   False                           False   \n",
       "7039                                   False                           False   \n",
       "7040                                    True                           False   \n",
       "7041                                   False                            True   \n",
       "7042                                   False                           False   \n",
       "\n",
       "      Payment Method_Mailed check  \n",
       "0                            True  \n",
       "1                           False  \n",
       "2                           False  \n",
       "3                           False  \n",
       "4                           False  \n",
       "...                           ...  \n",
       "7038                        False  \n",
       "7039                         True  \n",
       "7040                        False  \n",
       "7041                        False  \n",
       "7042                        False  \n",
       "\n",
       "[7043 rows x 22 columns]"
      ]
     },
     "execution_count": 145,
     "metadata": {},
     "output_type": "execute_result"
    }
   ],
   "source": [
    "df"
   ]
  },
  {
   "cell_type": "markdown",
   "id": "6fd30e9a",
   "metadata": {},
   "source": [
    "##### Note: Next I will try to use `SMOTE` the **Balance** out the target"
   ]
  },
  {
   "cell_type": "code",
   "execution_count": null,
   "id": "54445a7f",
   "metadata": {},
   "outputs": [
    {
     "name": "stdout",
     "output_type": "stream",
     "text": [
      "Before SMOTE: {0: 4139, 1: 1495}\n",
      "After SMOTE:  {0: 4139, 1: 4139}\n"
     ]
    },
    {
     "name": "stderr",
     "output_type": "stream",
     "text": [
      "c:\\Users\\S1NdBAD\\AppData\\Local\\Programs\\Python\\Python312\\Lib\\site-packages\\joblib\\externals\\loky\\backend\\context.py:131: UserWarning:\n",
      "\n",
      "Could not find the number of physical cores for the following reason:\n",
      "[WinError 2] The system cannot find the file specified\n",
      "Returning the number of logical cores instead. You can silence this warning by setting LOKY_MAX_CPU_COUNT to the number of cores you want to use.\n",
      "\n",
      "  File \"c:\\Users\\S1NdBAD\\AppData\\Local\\Programs\\Python\\Python312\\Lib\\site-packages\\joblib\\externals\\loky\\backend\\context.py\", line 247, in _count_physical_cores\n",
      "    cpu_count_physical = _count_physical_cores_win32()\n",
      "                         ^^^^^^^^^^^^^^^^^^^^^^^^^^^^^\n",
      "  File \"c:\\Users\\S1NdBAD\\AppData\\Local\\Programs\\Python\\Python312\\Lib\\site-packages\\joblib\\externals\\loky\\backend\\context.py\", line 299, in _count_physical_cores_win32\n",
      "    cpu_info = subprocess.run(\n",
      "               ^^^^^^^^^^^^^^^\n",
      "  File \"c:\\Users\\S1NdBAD\\AppData\\Local\\Programs\\Python\\Python312\\Lib\\subprocess.py\", line 548, in run\n",
      "    with Popen(*popenargs, **kwargs) as process:\n",
      "         ^^^^^^^^^^^^^^^^^^^^^^^^^^^\n",
      "  File \"c:\\Users\\S1NdBAD\\AppData\\Local\\Programs\\Python\\Python312\\Lib\\subprocess.py\", line 1026, in __init__\n",
      "    self._execute_child(args, executable, preexec_fn, close_fds,\n",
      "  File \"c:\\Users\\S1NdBAD\\AppData\\Local\\Programs\\Python\\Python312\\Lib\\subprocess.py\", line 1538, in _execute_child\n",
      "    hp, ht, pid, tid = _winapi.CreateProcess(executable, args,\n",
      "                       ^^^^^^^^^^^^^^^^^^^^^^^^^^^^^^^^^^^^^^^\n"
     ]
    }
   ],
   "source": [
    "from sklearn.model_selection import train_test_split\n",
    "from sklearn.preprocessing import StandardScaler\n",
    "from imblearn.over_sampling import SMOTE\n",
    "\n",
    "df['Churn Label'] = df['Churn Label'].map({'No': 0, 'Yes': 1})\n",
    "\n",
    "X = df.drop(columns=['Churn Label'])\n",
    "y = df['Churn Label']\n",
    "\n",
    "X_train, X_test, y_train, y_test = train_test_split(\n",
    "    X, y, test_size=0.2, random_state=42, stratify=y\n",
    ")\n",
    "\n",
    "smote = SMOTE(random_state=42)\n",
    "X_train_sm, y_train_sm = smote.fit_resample(X_train, y_train) #type: ignore"
   ]
  },
  {
   "cell_type": "code",
   "execution_count": 151,
   "id": "02109b18",
   "metadata": {},
   "outputs": [
    {
     "data": {
      "application/vnd.plotly.v1+json": {
       "config": {
        "plotlyServerURL": "https://plot.ly"
       },
       "data": [
        {
         "hovertemplate": "Churn Label=%{x}<br>Count=%{text}<extra></extra>",
         "legendgroup": "No",
         "marker": {
          "color": "#636efa",
          "pattern": {
           "shape": ""
          }
         },
         "name": "No",
         "orientation": "v",
         "showlegend": true,
         "text": {
          "bdata": "AAAAAAArsEA=",
          "dtype": "f8"
         },
         "textposition": "outside",
         "type": "bar",
         "x": [
          "No"
         ],
         "xaxis": "x",
         "y": {
          "bdata": "KxA=",
          "dtype": "i2"
         },
         "yaxis": "y"
        },
        {
         "hovertemplate": "Churn Label=%{x}<br>Count=%{text}<extra></extra>",
         "legendgroup": "Yes",
         "marker": {
          "color": "#EF553B",
          "pattern": {
           "shape": ""
          }
         },
         "name": "Yes",
         "orientation": "v",
         "showlegend": true,
         "text": {
          "bdata": "AAAAAAArsEA=",
          "dtype": "f8"
         },
         "textposition": "outside",
         "type": "bar",
         "x": [
          "Yes"
         ],
         "xaxis": "x",
         "y": {
          "bdata": "KxA=",
          "dtype": "i2"
         },
         "yaxis": "y"
        }
       ],
       "layout": {
        "barmode": "relative",
        "legend": {
         "title": {
          "text": "Churn Label"
         },
         "tracegroupgap": 0
        },
        "showlegend": false,
        "template": {
         "data": {
          "bar": [
           {
            "error_x": {
             "color": "#2a3f5f"
            },
            "error_y": {
             "color": "#2a3f5f"
            },
            "marker": {
             "line": {
              "color": "white",
              "width": 0.5
             },
             "pattern": {
              "fillmode": "overlay",
              "size": 10,
              "solidity": 0.2
             }
            },
            "type": "bar"
           }
          ],
          "barpolar": [
           {
            "marker": {
             "line": {
              "color": "white",
              "width": 0.5
             },
             "pattern": {
              "fillmode": "overlay",
              "size": 10,
              "solidity": 0.2
             }
            },
            "type": "barpolar"
           }
          ],
          "carpet": [
           {
            "aaxis": {
             "endlinecolor": "#2a3f5f",
             "gridcolor": "#C8D4E3",
             "linecolor": "#C8D4E3",
             "minorgridcolor": "#C8D4E3",
             "startlinecolor": "#2a3f5f"
            },
            "baxis": {
             "endlinecolor": "#2a3f5f",
             "gridcolor": "#C8D4E3",
             "linecolor": "#C8D4E3",
             "minorgridcolor": "#C8D4E3",
             "startlinecolor": "#2a3f5f"
            },
            "type": "carpet"
           }
          ],
          "choropleth": [
           {
            "colorbar": {
             "outlinewidth": 0,
             "ticks": ""
            },
            "type": "choropleth"
           }
          ],
          "contour": [
           {
            "colorbar": {
             "outlinewidth": 0,
             "ticks": ""
            },
            "colorscale": [
             [
              0,
              "#0d0887"
             ],
             [
              0.1111111111111111,
              "#46039f"
             ],
             [
              0.2222222222222222,
              "#7201a8"
             ],
             [
              0.3333333333333333,
              "#9c179e"
             ],
             [
              0.4444444444444444,
              "#bd3786"
             ],
             [
              0.5555555555555556,
              "#d8576b"
             ],
             [
              0.6666666666666666,
              "#ed7953"
             ],
             [
              0.7777777777777778,
              "#fb9f3a"
             ],
             [
              0.8888888888888888,
              "#fdca26"
             ],
             [
              1,
              "#f0f921"
             ]
            ],
            "type": "contour"
           }
          ],
          "contourcarpet": [
           {
            "colorbar": {
             "outlinewidth": 0,
             "ticks": ""
            },
            "type": "contourcarpet"
           }
          ],
          "heatmap": [
           {
            "colorbar": {
             "outlinewidth": 0,
             "ticks": ""
            },
            "colorscale": [
             [
              0,
              "#0d0887"
             ],
             [
              0.1111111111111111,
              "#46039f"
             ],
             [
              0.2222222222222222,
              "#7201a8"
             ],
             [
              0.3333333333333333,
              "#9c179e"
             ],
             [
              0.4444444444444444,
              "#bd3786"
             ],
             [
              0.5555555555555556,
              "#d8576b"
             ],
             [
              0.6666666666666666,
              "#ed7953"
             ],
             [
              0.7777777777777778,
              "#fb9f3a"
             ],
             [
              0.8888888888888888,
              "#fdca26"
             ],
             [
              1,
              "#f0f921"
             ]
            ],
            "type": "heatmap"
           }
          ],
          "histogram": [
           {
            "marker": {
             "pattern": {
              "fillmode": "overlay",
              "size": 10,
              "solidity": 0.2
             }
            },
            "type": "histogram"
           }
          ],
          "histogram2d": [
           {
            "colorbar": {
             "outlinewidth": 0,
             "ticks": ""
            },
            "colorscale": [
             [
              0,
              "#0d0887"
             ],
             [
              0.1111111111111111,
              "#46039f"
             ],
             [
              0.2222222222222222,
              "#7201a8"
             ],
             [
              0.3333333333333333,
              "#9c179e"
             ],
             [
              0.4444444444444444,
              "#bd3786"
             ],
             [
              0.5555555555555556,
              "#d8576b"
             ],
             [
              0.6666666666666666,
              "#ed7953"
             ],
             [
              0.7777777777777778,
              "#fb9f3a"
             ],
             [
              0.8888888888888888,
              "#fdca26"
             ],
             [
              1,
              "#f0f921"
             ]
            ],
            "type": "histogram2d"
           }
          ],
          "histogram2dcontour": [
           {
            "colorbar": {
             "outlinewidth": 0,
             "ticks": ""
            },
            "colorscale": [
             [
              0,
              "#0d0887"
             ],
             [
              0.1111111111111111,
              "#46039f"
             ],
             [
              0.2222222222222222,
              "#7201a8"
             ],
             [
              0.3333333333333333,
              "#9c179e"
             ],
             [
              0.4444444444444444,
              "#bd3786"
             ],
             [
              0.5555555555555556,
              "#d8576b"
             ],
             [
              0.6666666666666666,
              "#ed7953"
             ],
             [
              0.7777777777777778,
              "#fb9f3a"
             ],
             [
              0.8888888888888888,
              "#fdca26"
             ],
             [
              1,
              "#f0f921"
             ]
            ],
            "type": "histogram2dcontour"
           }
          ],
          "mesh3d": [
           {
            "colorbar": {
             "outlinewidth": 0,
             "ticks": ""
            },
            "type": "mesh3d"
           }
          ],
          "parcoords": [
           {
            "line": {
             "colorbar": {
              "outlinewidth": 0,
              "ticks": ""
             }
            },
            "type": "parcoords"
           }
          ],
          "pie": [
           {
            "automargin": true,
            "type": "pie"
           }
          ],
          "scatter": [
           {
            "fillpattern": {
             "fillmode": "overlay",
             "size": 10,
             "solidity": 0.2
            },
            "type": "scatter"
           }
          ],
          "scatter3d": [
           {
            "line": {
             "colorbar": {
              "outlinewidth": 0,
              "ticks": ""
             }
            },
            "marker": {
             "colorbar": {
              "outlinewidth": 0,
              "ticks": ""
             }
            },
            "type": "scatter3d"
           }
          ],
          "scattercarpet": [
           {
            "marker": {
             "colorbar": {
              "outlinewidth": 0,
              "ticks": ""
             }
            },
            "type": "scattercarpet"
           }
          ],
          "scattergeo": [
           {
            "marker": {
             "colorbar": {
              "outlinewidth": 0,
              "ticks": ""
             }
            },
            "type": "scattergeo"
           }
          ],
          "scattergl": [
           {
            "marker": {
             "colorbar": {
              "outlinewidth": 0,
              "ticks": ""
             }
            },
            "type": "scattergl"
           }
          ],
          "scattermap": [
           {
            "marker": {
             "colorbar": {
              "outlinewidth": 0,
              "ticks": ""
             }
            },
            "type": "scattermap"
           }
          ],
          "scattermapbox": [
           {
            "marker": {
             "colorbar": {
              "outlinewidth": 0,
              "ticks": ""
             }
            },
            "type": "scattermapbox"
           }
          ],
          "scatterpolar": [
           {
            "marker": {
             "colorbar": {
              "outlinewidth": 0,
              "ticks": ""
             }
            },
            "type": "scatterpolar"
           }
          ],
          "scatterpolargl": [
           {
            "marker": {
             "colorbar": {
              "outlinewidth": 0,
              "ticks": ""
             }
            },
            "type": "scatterpolargl"
           }
          ],
          "scatterternary": [
           {
            "marker": {
             "colorbar": {
              "outlinewidth": 0,
              "ticks": ""
             }
            },
            "type": "scatterternary"
           }
          ],
          "surface": [
           {
            "colorbar": {
             "outlinewidth": 0,
             "ticks": ""
            },
            "colorscale": [
             [
              0,
              "#0d0887"
             ],
             [
              0.1111111111111111,
              "#46039f"
             ],
             [
              0.2222222222222222,
              "#7201a8"
             ],
             [
              0.3333333333333333,
              "#9c179e"
             ],
             [
              0.4444444444444444,
              "#bd3786"
             ],
             [
              0.5555555555555556,
              "#d8576b"
             ],
             [
              0.6666666666666666,
              "#ed7953"
             ],
             [
              0.7777777777777778,
              "#fb9f3a"
             ],
             [
              0.8888888888888888,
              "#fdca26"
             ],
             [
              1,
              "#f0f921"
             ]
            ],
            "type": "surface"
           }
          ],
          "table": [
           {
            "cells": {
             "fill": {
              "color": "#EBF0F8"
             },
             "line": {
              "color": "white"
             }
            },
            "header": {
             "fill": {
              "color": "#C8D4E3"
             },
             "line": {
              "color": "white"
             }
            },
            "type": "table"
           }
          ]
         },
         "layout": {
          "annotationdefaults": {
           "arrowcolor": "#2a3f5f",
           "arrowhead": 0,
           "arrowwidth": 1
          },
          "autotypenumbers": "strict",
          "coloraxis": {
           "colorbar": {
            "outlinewidth": 0,
            "ticks": ""
           }
          },
          "colorscale": {
           "diverging": [
            [
             0,
             "#8e0152"
            ],
            [
             0.1,
             "#c51b7d"
            ],
            [
             0.2,
             "#de77ae"
            ],
            [
             0.3,
             "#f1b6da"
            ],
            [
             0.4,
             "#fde0ef"
            ],
            [
             0.5,
             "#f7f7f7"
            ],
            [
             0.6,
             "#e6f5d0"
            ],
            [
             0.7,
             "#b8e186"
            ],
            [
             0.8,
             "#7fbc41"
            ],
            [
             0.9,
             "#4d9221"
            ],
            [
             1,
             "#276419"
            ]
           ],
           "sequential": [
            [
             0,
             "#0d0887"
            ],
            [
             0.1111111111111111,
             "#46039f"
            ],
            [
             0.2222222222222222,
             "#7201a8"
            ],
            [
             0.3333333333333333,
             "#9c179e"
            ],
            [
             0.4444444444444444,
             "#bd3786"
            ],
            [
             0.5555555555555556,
             "#d8576b"
            ],
            [
             0.6666666666666666,
             "#ed7953"
            ],
            [
             0.7777777777777778,
             "#fb9f3a"
            ],
            [
             0.8888888888888888,
             "#fdca26"
            ],
            [
             1,
             "#f0f921"
            ]
           ],
           "sequentialminus": [
            [
             0,
             "#0d0887"
            ],
            [
             0.1111111111111111,
             "#46039f"
            ],
            [
             0.2222222222222222,
             "#7201a8"
            ],
            [
             0.3333333333333333,
             "#9c179e"
            ],
            [
             0.4444444444444444,
             "#bd3786"
            ],
            [
             0.5555555555555556,
             "#d8576b"
            ],
            [
             0.6666666666666666,
             "#ed7953"
            ],
            [
             0.7777777777777778,
             "#fb9f3a"
            ],
            [
             0.8888888888888888,
             "#fdca26"
            ],
            [
             1,
             "#f0f921"
            ]
           ]
          },
          "colorway": [
           "#636efa",
           "#EF553B",
           "#00cc96",
           "#ab63fa",
           "#FFA15A",
           "#19d3f3",
           "#FF6692",
           "#B6E880",
           "#FF97FF",
           "#FECB52"
          ],
          "font": {
           "color": "#2a3f5f"
          },
          "geo": {
           "bgcolor": "white",
           "lakecolor": "white",
           "landcolor": "white",
           "showlakes": true,
           "showland": true,
           "subunitcolor": "#C8D4E3"
          },
          "hoverlabel": {
           "align": "left"
          },
          "hovermode": "closest",
          "mapbox": {
           "style": "light"
          },
          "paper_bgcolor": "white",
          "plot_bgcolor": "white",
          "polar": {
           "angularaxis": {
            "gridcolor": "#EBF0F8",
            "linecolor": "#EBF0F8",
            "ticks": ""
           },
           "bgcolor": "white",
           "radialaxis": {
            "gridcolor": "#EBF0F8",
            "linecolor": "#EBF0F8",
            "ticks": ""
           }
          },
          "scene": {
           "xaxis": {
            "backgroundcolor": "white",
            "gridcolor": "#DFE8F3",
            "gridwidth": 2,
            "linecolor": "#EBF0F8",
            "showbackground": true,
            "ticks": "",
            "zerolinecolor": "#EBF0F8"
           },
           "yaxis": {
            "backgroundcolor": "white",
            "gridcolor": "#DFE8F3",
            "gridwidth": 2,
            "linecolor": "#EBF0F8",
            "showbackground": true,
            "ticks": "",
            "zerolinecolor": "#EBF0F8"
           },
           "zaxis": {
            "backgroundcolor": "white",
            "gridcolor": "#DFE8F3",
            "gridwidth": 2,
            "linecolor": "#EBF0F8",
            "showbackground": true,
            "ticks": "",
            "zerolinecolor": "#EBF0F8"
           }
          },
          "shapedefaults": {
           "line": {
            "color": "#2a3f5f"
           }
          },
          "ternary": {
           "aaxis": {
            "gridcolor": "#DFE8F3",
            "linecolor": "#A2B1C6",
            "ticks": ""
           },
           "baxis": {
            "gridcolor": "#DFE8F3",
            "linecolor": "#A2B1C6",
            "ticks": ""
           },
           "bgcolor": "white",
           "caxis": {
            "gridcolor": "#DFE8F3",
            "linecolor": "#A2B1C6",
            "ticks": ""
           }
          },
          "title": {
           "x": 0.05
          },
          "xaxis": {
           "automargin": true,
           "gridcolor": "#EBF0F8",
           "linecolor": "#EBF0F8",
           "ticks": "",
           "title": {
            "standoff": 15
           },
           "zerolinecolor": "#EBF0F8",
           "zerolinewidth": 2
          },
          "yaxis": {
           "automargin": true,
           "gridcolor": "#EBF0F8",
           "linecolor": "#EBF0F8",
           "ticks": "",
           "title": {
            "standoff": 15
           },
           "zerolinecolor": "#EBF0F8",
           "zerolinewidth": 2
          }
         }
        },
        "title": {
         "text": "Churn Label Distribution After SMOTE"
        },
        "xaxis": {
         "anchor": "y",
         "categoryarray": [
          "No",
          "Yes"
         ],
         "categoryorder": "array",
         "domain": [
          0,
          1
         ],
         "title": {
          "text": "Churn Label"
         }
        },
        "yaxis": {
         "anchor": "x",
         "domain": [
          0,
          1
         ],
         "title": {
          "text": "Count"
         }
        }
       }
      }
     },
     "metadata": {},
     "output_type": "display_data"
    }
   ],
   "source": [
    "y_train_sm_labels = y_train_sm.map({0: \"No\", 1: \"Yes\"}) #type:ignore\n",
    "\n",
    "# Count occurrences\n",
    "counts = y_train_sm_labels.value_counts().reset_index()\n",
    "counts.columns = [\"Churn Label\", \"Count\"]\n",
    "\n",
    "# Plot\n",
    "fig = px.bar(\n",
    "    counts,\n",
    "    x=\"Churn Label\",\n",
    "    y=\"Count\",\n",
    "    color=\"Churn Label\",\n",
    "    text=\"Count\",\n",
    "    title=\"Churn Label Distribution After SMOTE\",\n",
    ")\n",
    "\n",
    "fig.update_traces(textposition=\"outside\")\n",
    "fig.update_layout(\n",
    "    xaxis_title=\"Churn Label\",\n",
    "    yaxis_title=\"Count\",\n",
    "    showlegend=False,\n",
    "    template=\"plotly_white\"\n",
    ")\n",
    "\n",
    "fig.show()"
   ]
  }
 ],
 "metadata": {
  "kernelspec": {
   "display_name": "Python 3",
   "language": "python",
   "name": "python3"
  },
  "language_info": {
   "codemirror_mode": {
    "name": "ipython",
    "version": 3
   },
   "file_extension": ".py",
   "mimetype": "text/x-python",
   "name": "python",
   "nbconvert_exporter": "python",
   "pygments_lexer": "ipython3",
   "version": "3.12.4"
  }
 },
 "nbformat": 4,
 "nbformat_minor": 5
}
